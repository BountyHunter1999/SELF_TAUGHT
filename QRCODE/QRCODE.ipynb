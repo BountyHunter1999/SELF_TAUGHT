{
 "cells": [
  {
   "cell_type": "code",
   "execution_count": 1,
   "metadata": {},
   "outputs": [],
   "source": [
    "# import tkinter as tk# standard Python interface to the Tk GUI toolkit\n",
    "\n",
    "# from tkinter import filedialog"
   ]
  },
  {
   "cell_type": "code",
   "execution_count": 2,
   "metadata": {},
   "outputs": [],
   "source": [
    "# root = tk.Tk()#The root window is created\n",
    "# # \"\"\"\n",
    "# # Tkinter works by starting a tcl/tk interpreter under the covers,\n",
    "# # and then translating tkinter commands into tcl/tk commands. \n",
    "# # The main window and this interpreter are intrinsically linked, \n",
    "# # and both are required for a tkinter application to work\n",
    "# # \"\"\"\n",
    "# x = filedialog.askopenfilename()\n",
    "\n",
    "# root.mainloop()#that execution of your python program halts there\n"
   ]
  },
  {
   "cell_type": "markdown",
   "metadata": {},
   "source": [
    "\"pip install qrcode\n",
    "#pillow library for image manipulation\n",
    "pip install pillow\""
   ]
  },
  {
   "cell_type": "code",
   "execution_count": null,
   "metadata": {},
   "outputs": [],
   "source": []
  },
  {
   "cell_type": "markdown",
   "metadata": {},
   "source": [
    "# FOR SIMPLE QRCODE "
   ]
  },
  {
   "cell_type": "code",
   "execution_count": 3,
   "metadata": {},
   "outputs": [],
   "source": [
    "# import  qrcode\n",
    "#quick response code 2D of bar code"
   ]
  },
  {
   "cell_type": "code",
   "execution_count": 4,
   "metadata": {},
   "outputs": [],
   "source": [
    "# image = qrcode.make(x)\n",
    "# image.save(\"qr.png\",\"PNG\")"
   ]
  },
  {
   "cell_type": "markdown",
   "metadata": {},
   "source": [
    "# ADVANCED  "
   ]
  },
  {
   "cell_type": "markdown",
   "metadata": {},
   "source": [
    "## version parameter takes an integer from 1 to 40 to control the size of the qrcode \n",
    "## smaller the number the smaller the a\\qrcode size "
   ]
  },
  {
   "cell_type": "code",
   "execution_count": 5,
   "metadata": {},
   "outputs": [],
   "source": [
    "# #ERROR_CORRECT_M, it is default 15% error can be corrected\n",
    "# #border default 5\n",
    "# qr=qrcode.QRCode(\n",
    "#     version=1 ,\n",
    "#     error_correction=qrcode.constants.ERROR_CORRECT_M,\n",
    "#     box_size=10,\n",
    "#     border=4\n",
    "#     )\n",
    "\n",
    "# data=x#data provide\n",
    "\n",
    "# qr.add_data(data)\n",
    "\n",
    "# #fit automatic false (static)\n",
    "# qr.make(fit=True)\n",
    "\n",
    "# img=qr.make_image(fill=\"black\",back_color=\"white\")\n",
    "# #black and background white\n",
    "\n",
    "# img.save(\"sad.png\")"
   ]
  },
  {
   "cell_type": "code",
   "execution_count": 6,
   "metadata": {},
   "outputs": [
    {
     "name": "stdout",
     "output_type": "stream",
     "text": [
      "QR Stands For Quick Response Code \n",
      "It can be considered as 2D dimensional representation of barcode\n",
      "PLEASE NOTE 1kb is the limit size of the QR Code\n",
      "\n",
      "Make QR CODE OF:\n",
      "1.Text\n",
      "2.Link\n",
      "1\n",
      "Provide the data here:home\n"
     ]
    }
   ],
   "source": [
    "import qrcode as qr\n",
    "\n",
    "print(\"\"\"QR Stands For Quick Response Code \n",
    "It can be considered as 2D dimensional representation of barcode\n",
    "PLEASE NOTE 1kb is the limit size of the QR Code\n",
    "\"\"\")\n",
    "\n",
    "# # import tkinter as tk\n",
    "\n",
    "# # root = tk.Tk()\n",
    "\n",
    "# # v = tk.IntVar()\n",
    "\n",
    "# # tk.Label(root, \n",
    "# #         text=\"\"\"MAKE QR CODE OF:\"\"\",\n",
    "# #         justify = tk.LEFT,\n",
    "# #         padx = 20).pack()\n",
    "# # tk.Radiobutton(root, \n",
    "# #               text=\"Text\",\n",
    "# #               padx = 20, \n",
    "# #               variable=v, \n",
    "# #               value=1).pack()\n",
    "# # tk.Radiobutton(root, \n",
    "# #               text=\"Link\",\n",
    "# #               padx = 20, \n",
    "# #               variable=v, \n",
    "# #               value=2).pack()\n",
    "\n",
    "# # root.mainloop()\n",
    "\n",
    "# v.get()\n",
    "\n",
    "x=int(input(\"\"\"Make QR CODE OF:\n",
    "1.Text\n",
    "2.Link\n",
    "\"\"\"))\n",
    "\n",
    "\n",
    "data=input(\"Provide the data here:\")\n",
    "\n",
    "img=qr.make(data)\n",
    "img.save(r\"C:\\Users\\Administrator\\Desktop\\EXPO\\lol.png\")\n",
    "# img.save(r\"C:\\Users\\User\\Desktop\\EXPO\\lol.png\")"
   ]
  },
  {
   "cell_type": "code",
   "execution_count": 7,
   "metadata": {},
   "outputs": [],
   "source": [
    "from PIL import Image\n",
    "f = Image.open(r\"C:\\Users\\Administrator\\Desktop\\EXPO\\lol.png\").show()"
   ]
  },
  {
   "cell_type": "code",
   "execution_count": null,
   "metadata": {},
   "outputs": [],
   "source": []
  }
 ],
 "metadata": {
  "kernelspec": {
   "display_name": "Python 3",
   "language": "python",
   "name": "python3"
  },
  "language_info": {
   "codemirror_mode": {
    "name": "ipython",
    "version": 3
   },
   "file_extension": ".py",
   "mimetype": "text/x-python",
   "name": "python",
   "nbconvert_exporter": "python",
   "pygments_lexer": "ipython3",
   "version": "3.7.4"
  }
 },
 "nbformat": 4,
 "nbformat_minor": 2
}
