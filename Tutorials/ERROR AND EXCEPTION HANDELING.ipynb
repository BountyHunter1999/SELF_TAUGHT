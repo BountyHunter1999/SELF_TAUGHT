{
 "cells": [
  {
   "cell_type": "code",
   "execution_count": null,
   "metadata": {},
   "outputs": [],
   "source": [
    "a1=10\n"
   ]
  },
  {
   "cell_type": "code",
   "execution_count": null,
   "metadata": {},
   "outputs": [],
   "source": [
    "a2=\"Shrish\""
   ]
  },
  {
   "cell_type": "code",
   "execution_count": null,
   "metadata": {},
   "outputs": [],
   "source": [
    "print(a1+a2)"
   ]
  },
  {
   "cell_type": "code",
   "execution_count": null,
   "metadata": {},
   "outputs": [],
   "source": [
    "try:\n",
    "    #want to attempt this code\n",
    "    #may lead to an error\n",
    "    s=a1+a2\n",
    "    #print(a1+a2)\n",
    "except:\n",
    "    #runs when we encounter an error in try\n",
    "    print(\"Only numbers are added\")"
   ]
  },
  {
   "cell_type": "markdown",
   "metadata": {},
   "source": [
    "#print(s) so here the s is just an error so it isnt even defined\n"
   ]
  },
  {
   "cell_type": "markdown",
   "metadata": {},
   "source": [
    "u can do something like this too"
   ]
  },
  {
   "cell_type": "markdown",
   "metadata": {},
   "source": [
    "make a try except else block "
   ]
  },
  {
   "cell_type": "code",
   "execution_count": null,
   "metadata": {},
   "outputs": [],
   "source": [
    "try:\n",
    "    s=101+10\n",
    "except:\n",
    "    print(\"ADD FAILED!\")\n",
    "else:\n",
    "    #runs when there is no error\n",
    "    print(f\"ADD WENT WELL {s}\")"
   ]
  },
  {
   "cell_type": "markdown",
   "metadata": {},
   "source": [
    "this isnot a syntax\n",
    "try:\n",
    "    s=10+\"a\"\n",
    "  \n",
    "else:\n",
    "    print(\"TRY DIDNT RUN\")"
   ]
  },
  {
   "cell_type": "code",
   "execution_count": null,
   "metadata": {},
   "outputs": [],
   "source": [
    "try:\n",
    "    file=open(\"ERROR\",\"r\")\n",
    "    file.write(\"ERROR 101\")\n",
    "except TypeError:\n",
    "    print(\"You got a type error man\")\n",
    "except OSError:\n",
    "    print(\"You got a OS error man i.e permission error\")\n",
    "finally:\n",
    "    print(\"Man ,I run no matter the error\")\n",
    "    \n",
    "    "
   ]
  },
  {
   "cell_type": "markdown",
   "metadata": {},
   "source": [
    "ON FUNCTIONS"
   ]
  },
  {
   "cell_type": "code",
   "execution_count": null,
   "metadata": {},
   "outputs": [],
   "source": [
    "def get_me_a_number():\n",
    "    try:\n",
    "        x=int(input(\"ENTER A NUMBER USER: \"))\n",
    "    except:\n",
    "        print(\"\\nHOW HARD IS IT TO ENTER A NUMBER DIPSHIT!!\\n\")\n",
    "    finally:\n",
    "        print(\"\\n:) You have done it\")"
   ]
  },
  {
   "cell_type": "code",
   "execution_count": null,
   "metadata": {},
   "outputs": [],
   "source": [
    "get_me_a_number()"
   ]
  },
  {
   "cell_type": "markdown",
   "metadata": {},
   "source": [
    "LETS TRY WITH LOOPS"
   ]
  },
  {
   "cell_type": "code",
   "execution_count": null,
   "metadata": {},
   "outputs": [],
   "source": [
    "def get_me_a_number():\n",
    "        while True:\n",
    "            try:\n",
    "                x=int(input(\"ENTER A NUMBER USER: \"))\n",
    "            except:\n",
    "                print(\"\\nHOW HARD IS IT TO ENTER A NUMBER DIPSHIT!!\\n\")\n",
    "                continue\n",
    "            else:\n",
    "                print(\"\\nThanks for entering the number:)\")\n",
    "                break\n",
    "            finally:\n",
    "                print(\"\\nEnd of one input\\n\")"
   ]
  },
  {
   "cell_type": "code",
   "execution_count": null,
   "metadata": {},
   "outputs": [],
   "source": [
    "get_me_a_number()"
   ]
  },
  {
   "cell_type": "code",
   "execution_count": null,
   "metadata": {},
   "outputs": [],
   "source": []
  },
  {
   "cell_type": "code",
   "execution_count": null,
   "metadata": {},
   "outputs": [],
   "source": []
  },
  {
   "cell_type": "code",
   "execution_count": null,
   "metadata": {},
   "outputs": [],
   "source": []
  },
  {
   "cell_type": "markdown",
   "metadata": {},
   "source": [
    "ITS TIME FOR SOME HOMEWORK ASSIGNMENT"
   ]
  },
  {
   "cell_type": "code",
   "execution_count": null,
   "metadata": {},
   "outputs": [],
   "source": [
    "\n",
    "for i in ['a','b','c']:\n",
    "        \n",
    "        try:\n",
    "            \n",
    "            print(i**2)\n",
    "        except:\n",
    "            \n",
    "            print(\"TypeError \")"
   ]
  },
  {
   "cell_type": "markdown",
   "metadata": {},
   "source": [
    "done"
   ]
  },
  {
   "cell_type": "code",
   "execution_count": null,
   "metadata": {},
   "outputs": [],
   "source": [
    "x = 5\n",
    "y = 0\n",
    "try:\n",
    "    z = x/y\n",
    "except:\n",
    "    print(\"Cant print infinity moron\")\n",
    "finally:\n",
    "    print(\"All done \")"
   ]
  },
  {
   "cell_type": "markdown",
   "metadata": {},
   "source": [
    "done\n"
   ]
  },
  {
   "cell_type": "code",
   "execution_count": null,
   "metadata": {},
   "outputs": [],
   "source": [
    "def ask():\n",
    "    while True:\n",
    "        try:\n",
    "            x=int(input(\"Input an integer:\"))\n",
    "        except:\n",
    "            print(\"An error occurred! Please try again!\")\n",
    "            continue\n",
    "        else:\n",
    "            print(\"Thank you, your number squared is:  {}\".format(x**2))\n",
    "            break\n",
    "    "
   ]
  },
  {
   "cell_type": "code",
   "execution_count": null,
   "metadata": {},
   "outputs": [],
   "source": [
    "ask()"
   ]
  },
  {
   "cell_type": "code",
   "execution_count": null,
   "metadata": {},
   "outputs": [],
   "source": [
    "try:\n",
    "    for i in ['a',2,'c']:\n",
    "        print(i**2)\n",
    "except:\n",
    "    print(\"An error occurred!\")"
   ]
  },
  {
   "cell_type": "code",
   "execution_count": 1,
   "metadata": {},
   "outputs": [
    {
     "data": {
      "text/plain": [
       "True"
      ]
     },
     "execution_count": 1,
     "metadata": {},
     "output_type": "execute_result"
    }
   ],
   "source": [
    "1 != 2"
   ]
  },
  {
   "cell_type": "code",
   "execution_count": 3,
   "metadata": {},
   "outputs": [
    {
     "data": {
      "text/plain": [
       "True"
      ]
     },
     "execution_count": 3,
     "metadata": {},
     "output_type": "execute_result"
    }
   ],
   "source": [
    "x=\"A\"\n",
    "type(x)!= type(2)"
   ]
  },
  {
   "cell_type": "code",
   "execution_count": 4,
   "metadata": {},
   "outputs": [],
   "source": [
    "def menu():\n",
    "    global price\n",
    "    print(\"\"\"\\t1.MEAL(VEG,CHICKEN,MUTTON)------>Rs(200,250,300)\\n\n",
    "        2.MO:MO(VEG,CHICKEN,BUFF)------->Rs(100,160,120)\\n\n",
    "        3.CHOWMIN(VEG,CHICKEN,BUFF)----->Rs(80,120,100)\\n\n",
    "        4.TEA(BLACK,MILK,GREEN)--------->Rs(40,60,100)\\n\n",
    "        5.COFFEE(BLACK,MILK)------------>Rs(100,140)\\n\n",
    "        6.WINE(RED,WHITE):PER_GLASS----->Rs(400,500)\\n\"\"\")\n",
    "    try:\n",
    "        \n",
    "        x=int(input(\"Enter Your Choice(1-6)\\n\"))\n",
    "        if type(x) != type(1):\n",
    "            raise\n",
    "    except:\n",
    "        print(\"Please choose 1-6\")\n",
    "        menu()"
   ]
  },
  {
   "cell_type": "code",
   "execution_count": 6,
   "metadata": {},
   "outputs": [
    {
     "name": "stdout",
     "output_type": "stream",
     "text": [
      "\t1.MEAL(VEG,CHICKEN,MUTTON)------>Rs(200,250,300)\n",
      "\n",
      "        2.MO:MO(VEG,CHICKEN,BUFF)------->Rs(100,160,120)\n",
      "\n",
      "        3.CHOWMIN(VEG,CHICKEN,BUFF)----->Rs(80,120,100)\n",
      "\n",
      "        4.TEA(BLACK,MILK,GREEN)--------->Rs(40,60,100)\n",
      "\n",
      "        5.COFFEE(BLACK,MILK)------------>Rs(100,140)\n",
      "\n",
      "        6.WINE(RED,WHITE):PER_GLASS----->Rs(400,500)\n",
      "\n",
      "Enter Your Choice(1-6)\n",
      "e\n",
      "Please choose 1-6\n",
      "\t1.MEAL(VEG,CHICKEN,MUTTON)------>Rs(200,250,300)\n",
      "\n",
      "        2.MO:MO(VEG,CHICKEN,BUFF)------->Rs(100,160,120)\n",
      "\n",
      "        3.CHOWMIN(VEG,CHICKEN,BUFF)----->Rs(80,120,100)\n",
      "\n",
      "        4.TEA(BLACK,MILK,GREEN)--------->Rs(40,60,100)\n",
      "\n",
      "        5.COFFEE(BLACK,MILK)------------>Rs(100,140)\n",
      "\n",
      "        6.WINE(RED,WHITE):PER_GLASS----->Rs(400,500)\n",
      "\n",
      "Enter Your Choice(1-6)\n",
      "2\n"
     ]
    }
   ],
   "source": [
    "menu()"
   ]
  },
  {
   "cell_type": "code",
   "execution_count": null,
   "metadata": {},
   "outputs": [],
   "source": []
  }
 ],
 "metadata": {
  "kernelspec": {
   "display_name": "Python 3",
   "language": "python",
   "name": "python3"
  },
  "language_info": {
   "codemirror_mode": {
    "name": "ipython",
    "version": 3
   },
   "file_extension": ".py",
   "mimetype": "text/x-python",
   "name": "python",
   "nbconvert_exporter": "python",
   "pygments_lexer": "ipython3",
   "version": "3.7.3"
  }
 },
 "nbformat": 4,
 "nbformat_minor": 2
}
