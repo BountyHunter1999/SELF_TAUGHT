{
 "cells": [
  {
   "cell_type": "code",
   "execution_count": 1,
   "metadata": {},
   "outputs": [],
   "source": [
    "class Seat():\n",
    "    def __init__(self,name,address,pn):\n",
    "        self.name=name\n",
    "        self.address=address\n",
    "        self.pn=pn\n",
    "    "
   ]
  },
  {
   "cell_type": "code",
   "execution_count": 2,
   "metadata": {},
   "outputs": [],
   "source": [
    "def name():\n",
    "    return input(\"Enter Your Name:\")\n",
    "def address():\n",
    "    return input(\"Enter Your Address:\")\n",
    "def pn():\n",
    "    return input(\"Enter Your Phone Number:\")"
   ]
  },
  {
   "cell_type": "code",
   "execution_count": null,
   "metadata": {},
   "outputs": [],
   "source": []
  },
  {
   "cell_type": "code",
   "execution_count": null,
   "metadata": {},
   "outputs": [],
   "source": []
  },
  {
   "cell_type": "code",
   "execution_count": 3,
   "metadata": {},
   "outputs": [
    {
     "name": "stdout",
     "output_type": "stream",
     "text": [
      "Enter Your Name:Shrish K. Adhikari\n",
      "Enter Your Address:Phulbari,Pokhara-11\n",
      "Enter Your Phone Number:9846856033\n"
     ]
    }
   ],
   "source": [
    "name_a1=name()\n",
    "address_a1=address()\n",
    "try:\n",
    "    pn_a1=pn()\n",
    "    if type(pn_a1) == type(1):\n",
    "        raise TypeError\n",
    "except:\n",
    "    print(\"Doesnt phone numbers contain numbers? :) \")\n",
    "    print(\"Please provide the correct number\")\n",
    "    pn_a1\n",
    "    \n",
    "    \n",
    "    \n",
    "    \n",
    "    \n",
    "    \n",
    "    \n",
    "a1 = Seat(name_a1,address_a1,pn_a1)"
   ]
  },
  {
   "cell_type": "code",
   "execution_count": null,
   "metadata": {},
   "outputs": [],
   "source": []
  },
  {
   "cell_type": "code",
   "execution_count": null,
   "metadata": {},
   "outputs": [],
   "source": []
  },
  {
   "cell_type": "code",
   "execution_count": null,
   "metadata": {},
   "outputs": [],
   "source": [
    "xa1={\"Name\":namea1 ,\"Address\":addressa1,\"PhoneNo.\":pna1}"
   ]
  },
  {
   "cell_type": "code",
   "execution_count": null,
   "metadata": {},
   "outputs": [],
   "source": [
    "l={'A':{'a1':xa1,'a2':xa2,'a3':xa3,'a4':xa4}}\n",
    "  ''' 'B':{'b1':xb1,'b2':xb2,'b3':xb3,'b4':xb4},\n",
    "   'C':{'c1':xc1,'c2':xc2,'c3':xc3,'c4':xc4},\n",
    "   'D':{'d1':xd1,'d2':xd2,'d3':xd3,'d4':xd4}}'''"
   ]
  },
  {
   "cell_type": "code",
   "execution_count": null,
   "metadata": {},
   "outputs": [],
   "source": []
  }
 ],
 "metadata": {
  "kernelspec": {
   "display_name": "Python 3",
   "language": "python",
   "name": "python3"
  },
  "language_info": {
   "codemirror_mode": {
    "name": "ipython",
    "version": 3
   },
   "file_extension": ".py",
   "mimetype": "text/x-python",
   "name": "python",
   "nbconvert_exporter": "python",
   "pygments_lexer": "ipython3",
   "version": "3.7.3"
  }
 },
 "nbformat": 4,
 "nbformat_minor": 2
}
