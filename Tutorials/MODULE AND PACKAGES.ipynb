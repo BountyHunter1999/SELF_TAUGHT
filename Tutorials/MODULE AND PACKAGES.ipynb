{
 "cells": [
  {
   "cell_type": "markdown",
   "metadata": {},
   "source": [
    "WE NEED PIP TO INSTALL OTHER PACKAGES"
   ]
  },
  {
   "cell_type": "markdown",
   "metadata": {},
   "source": [
    "pip install requests"
   ]
  },
  {
   "cell_type": "markdown",
   "metadata": {},
   "source": [
    "## "
   ]
  },
  {
   "cell_type": "code",
   "execution_count": 1,
   "metadata": {},
   "outputs": [
    {
     "name": "stdout",
     "output_type": "stream",
     "text": [
      "\n",
      "The following command must be run outside of the IPython shell:\n",
      "\n",
      "    $ pip install requests\n",
      "\n",
      "The Python package manager (pip) can only be used from outside of IPython.\n",
      "Please reissue the `pip` command in a separate terminal or command prompt.\n",
      "\n",
      "See the Python documentation for more information on how to install packages:\n",
      "\n",
      "    https://docs.python.org/3/installing/\n"
     ]
    }
   ],
   "source": [
    "pip install requests"
   ]
  },
  {
   "cell_type": "markdown",
   "metadata": {},
   "source": [
    "pip install XXXX\n",
    "#xxxx means any package name"
   ]
  },
  {
   "cell_type": "markdown",
   "metadata": {},
   "source": [
    "TO CREATE UR OWN PACKAGES"
   ]
  },
  {
   "cell_type": "markdown",
   "metadata": {},
   "source": [
    "Create folder within folers and put a _init__.py file there and the python will be able to mark it as a package \n",
    "u can import it as:\n",
    "from Main_Folder_name import module_name\n",
    "from Main_Folder_name.SubFolder import 2ndmodule_name\n",
    "\n",
    "module is simply a .py file that contains certain function\n",
    "package is the collection of module managed in folder ..\n"
   ]
  },
  {
   "cell_type": "markdown",
   "metadata": {},
   "source": [
    "##### \n",
    "What is __init__.py used for?\n",
    "Files named __init__.py are used to mark directories on disk as a Python package directories. If you have the files\n",
    "\n",
    "mydir/spam/__init__.py\n",
    "mydir/spam/module.py\n",
    "and mydir is on your path, you can import the code in module.py as:\n",
    "\n",
    "import spam.module\n",
    "or\n",
    "\n",
    "from spam import module\n",
    "If you remove the __init__.py file, Python will no longer look for submodules inside that directory, so attempts to import the module will fail.\n",
    "\n",
    "The __init__.py file is usually empty, but can be used to export selected portions of the package under more convenient names, hold convenience functions, etc. Given the example above, the contents of the __init__ module can be accessed as\n",
    "\n",
    "import spam"
   ]
  }
 ],
 "metadata": {
  "kernelspec": {
   "display_name": "Python 3",
   "language": "python",
   "name": "python3"
  },
  "language_info": {
   "codemirror_mode": {
    "name": "ipython",
    "version": 3
   },
   "file_extension": ".py",
   "mimetype": "text/x-python",
   "name": "python",
   "nbconvert_exporter": "python",
   "pygments_lexer": "ipython3",
   "version": "3.7.0"
  }
 },
 "nbformat": 4,
 "nbformat_minor": 2
}
