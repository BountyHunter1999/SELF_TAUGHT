{
 "cells": [
  {
   "cell_type": "code",
   "execution_count": null,
   "metadata": {},
   "outputs": [],
   "source": [
    "a1=10\n"
   ]
  },
  {
   "cell_type": "code",
   "execution_count": null,
   "metadata": {},
   "outputs": [],
   "source": [
    "a2=\"Shrish\""
   ]
  },
  {
   "cell_type": "code",
   "execution_count": null,
   "metadata": {},
   "outputs": [],
   "source": [
    "print(a1+a2)"
   ]
  },
  {
   "cell_type": "code",
   "execution_count": null,
   "metadata": {},
   "outputs": [],
   "source": [
    "try:\n",
    "    #want to attempt this code\n",
    "    #may lead to an error\n",
    "    s=a1+a2\n",
    "    #print(a1+a2)\n",
    "except:\n",
    "    #runs when we encounter an error in try\n",
    "    print(\"Only numbers are added\")"
   ]
  },
  {
   "cell_type": "markdown",
   "metadata": {},
   "source": [
    "#print(s) so here the s is just an error so it isnt even defined\n"
   ]
  },
  {
   "cell_type": "markdown",
   "metadata": {},
   "source": [
    "u can do something like this too"
   ]
  },
  {
   "cell_type": "markdown",
   "metadata": {},
   "source": [
    "make a try except else block "
   ]
  },
  {
   "cell_type": "code",
   "execution_count": null,
   "metadata": {},
   "outputs": [],
   "source": [
    "try:\n",
    "    s=101+10\n",
    "except:\n",
    "    print(\"ADD FAILED!\")\n",
    "else:\n",
    "    #runs when there is no error\n",
    "    print(f\"ADD WENT WELL {s}\")"
   ]
  },
  {
   "cell_type": "markdown",
   "metadata": {},
   "source": [
    "this isnot a syntax\n",
    "try:\n",
    "    s=10+\"a\"\n",
    "  \n",
    "else:\n",
    "    print(\"TRY DIDNT RUN\")"
   ]
  },
  {
   "cell_type": "code",
   "execution_count": null,
   "metadata": {},
   "outputs": [],
   "source": [
    "try:\n",
    "    file=open(\"ERROR\",\"r\")\n",
    "    file.write(\"ERROR 101\")\n",
    "except TypeError:\n",
    "    print(\"You got a type error man\")\n",
    "except OSError:\n",
    "    print(\"You got a OS error man i.e permission error\")\n",
    "finally:\n",
    "    print(\"Man ,I run no matter the error\")\n",
    "    \n",
    "    "
   ]
  },
  {
   "cell_type": "markdown",
   "metadata": {},
   "source": [
    "ON FUNCTIONS"
   ]
  },
  {
   "cell_type": "code",
   "execution_count": null,
   "metadata": {},
   "outputs": [],
   "source": [
    "def get_me_a_number():\n",
    "    try:\n",
    "        x=int(input(\"ENTER A NUMBER USER: \"))\n",
    "    except:\n",
    "        print(\"\\nHOW HARD IS IT TO ENTER A NUMBER DIPSHIT!!\\n\")\n",
    "    finally:\n",
    "        print(\"\\n:) You have done it\")"
   ]
  },
  {
   "cell_type": "code",
   "execution_count": null,
   "metadata": {},
   "outputs": [],
   "source": [
    "get_me_a_number()"
   ]
  },
  {
   "cell_type": "markdown",
   "metadata": {},
   "source": [
    "LETS TRY WITH LOOPS"
   ]
  },
  {
   "cell_type": "code",
   "execution_count": 7,
   "metadata": {},
   "outputs": [],
   "source": [
    "def get_me_a_number():\n",
    "        while True:\n",
    "            try:\n",
    "                x=int(input(\"ENTER A NUMBER USER: \"))\n",
    "            except:\n",
    "                print(\"\\nHOW HARD IS IT TO ENTER A NUMBER DIPSHIT!!\\n\")\n",
    "                continue\n",
    "            else:\n",
    "                print(\"\\nThanks for entering the number:)\")\n",
    "                break\n",
    "            finally:\n",
    "                print(\"\\nEnd of one input\\n\")"
   ]
  },
  {
   "cell_type": "code",
   "execution_count": 12,
   "metadata": {},
   "outputs": [
    {
     "name": "stdout",
     "output_type": "stream",
     "text": [
      "ENTER A NUMBER USER: 2\n",
      "\n",
      "Thanks for entering the number:)\n",
      "\n",
      "End of one input\n",
      "\n"
     ]
    }
   ],
   "source": [
    "get_me_a_number()"
   ]
  },
  {
   "cell_type": "code",
   "execution_count": null,
   "metadata": {},
   "outputs": [],
   "source": []
  },
  {
   "cell_type": "code",
   "execution_count": null,
   "metadata": {},
   "outputs": [],
   "source": []
  },
  {
   "cell_type": "code",
   "execution_count": null,
   "metadata": {},
   "outputs": [],
   "source": []
  },
  {
   "cell_type": "markdown",
   "metadata": {},
   "source": [
    "ITS TIME FOR SOME HOMEWORK ASSIGNMENT"
   ]
  },
  {
   "cell_type": "code",
   "execution_count": 16,
   "metadata": {},
   "outputs": [
    {
     "name": "stdout",
     "output_type": "stream",
     "text": [
      "TypeError \n",
      "TypeError \n",
      "TypeError \n"
     ]
    }
   ],
   "source": [
    "\n",
    "for i in ['a','b','c']:\n",
    "        \n",
    "        try:\n",
    "            \n",
    "            print(i**2)\n",
    "        except:\n",
    "            \n",
    "            print(\"TypeError \")"
   ]
  },
  {
   "cell_type": "markdown",
   "metadata": {},
   "source": [
    "done"
   ]
  },
  {
   "cell_type": "code",
   "execution_count": 18,
   "metadata": {},
   "outputs": [
    {
     "name": "stdout",
     "output_type": "stream",
     "text": [
      "Cant print infinity moron\n",
      "All done \n"
     ]
    }
   ],
   "source": [
    "x = 5\n",
    "y = 0\n",
    "try:\n",
    "    z = x/y\n",
    "except:\n",
    "    print(\"Cant print infinity moron\")\n",
    "finally:\n",
    "    print(\"All done \")"
   ]
  },
  {
   "cell_type": "markdown",
   "metadata": {},
   "source": [
    "done\n"
   ]
  },
  {
   "cell_type": "code",
   "execution_count": 7,
   "metadata": {},
   "outputs": [],
   "source": [
    "def ask():\n",
    "    while True:\n",
    "        try:\n",
    "            x=int(input(\"Input an integer:\"))\n",
    "        except:\n",
    "            print(\"An error occurred! Please try again!\")\n",
    "            continue\n",
    "        else:\n",
    "            print(\"Thank you, your number squared is:  {}\".format(x**2))\n",
    "            break\n",
    "    "
   ]
  },
  {
   "cell_type": "code",
   "execution_count": 8,
   "metadata": {},
   "outputs": [
    {
     "name": "stdout",
     "output_type": "stream",
     "text": [
      "Input an integer:3\n",
      "Thank you, your number squared is:  9\n"
     ]
    }
   ],
   "source": [
    "ask()"
   ]
  },
  {
   "cell_type": "code",
   "execution_count": 4,
   "metadata": {},
   "outputs": [
    {
     "name": "stdout",
     "output_type": "stream",
     "text": [
      "An error occurred!\n"
     ]
    }
   ],
   "source": [
    "try:\n",
    "    for i in ['a',2,'c']:\n",
    "        print(i**2)\n",
    "except:\n",
    "    print(\"An error occurred!\")"
   ]
  },
  {
   "cell_type": "code",
   "execution_count": null,
   "metadata": {},
   "outputs": [],
   "source": []
  }
 ],
 "metadata": {
  "kernelspec": {
   "display_name": "Python 3",
   "language": "python",
   "name": "python3"
  },
  "language_info": {
   "codemirror_mode": {
    "name": "ipython",
    "version": 3
   },
   "file_extension": ".py",
   "mimetype": "text/x-python",
   "name": "python",
   "nbconvert_exporter": "python",
   "pygments_lexer": "ipython3",
   "version": "3.7.0"
  }
 },
 "nbformat": 4,
 "nbformat_minor": 2
}
