{
 "cells": [
  {
   "cell_type": "code",
   "execution_count": 1,
   "metadata": {},
   "outputs": [],
   "source": [
    "import random\n",
    "suits = ('Hearts', 'Diamonds', 'Spades', 'Clubs')\n",
    "cards =(\"Ace\",\"Two\",\"Three\",\"Four\",\"Five\",\"Six\",\"Seven\",\"Eight\",\"Nine\",\"Ten\",\"Jack\",\"Queen\",\"King\")\n",
    "values ={\"Ace\":11,\"Two\":2,\"Three\":3,\"Four\":4,\"Five\":5,\"Six\":6,\"Seven\":7,\"Eight\":8,\"Nine\":9,\"Ten\":10,\"Jack\":10,\n",
    "         \"Queen\":10,\"King\":10}\n",
    "game_on=True\n",
    "player=\"Player\"\n",
    "total=0"
   ]
  },
  {
   "cell_type": "code",
   "execution_count": 2,
   "metadata": {},
   "outputs": [],
   "source": [
    "#turn=random.choice((-1,1))\n",
    "playing=True"
   ]
  },
  {
   "cell_type": "code",
   "execution_count": 3,
   "metadata": {},
   "outputs": [],
   "source": [
    "class Cards():\n",
    "    def __init__(self,suits,cards):\n",
    "        self.suits=suits\n",
    "        self.cards=cards\n",
    "    def __str__(self):\n",
    "        return(f\"{self.cards} of {self.suits}\")"
   ]
  },
  {
   "cell_type": "code",
   "execution_count": 4,
   "metadata": {},
   "outputs": [],
   "source": [
    "class Deck():\n",
    "    def __init__(self,suits,cards):\n",
    "        self.deck=[]\n",
    "        for suit in suits:\n",
    "            for card in cards:\n",
    "                self.deck.append(Cards(suit,card))\n",
    "                #Cards(suit,card) calls the __str__ of the Cards class\n",
    "    \n",
    "    def __str__(self):\n",
    "        Deck_content=\"\"\n",
    "        \n",
    "        for j in self.deck:\n",
    "            \n",
    "            Deck_content += \" \"+str(j) +\"\\n\"\n",
    "            \n",
    "        return Deck_content\n",
    "            \n",
    "    def shuffle(self):\n",
    "        #just suffle ur entire deck\n",
    "        random.shuffle(self.deck)\n",
    "    def deal(self):\n",
    "        self.shuffle()\n",
    "        dealed= self.deck.pop()\n",
    "        return dealed"
   ]
  },
  {
   "cell_type": "code",
   "execution_count": 5,
   "metadata": {},
   "outputs": [],
   "source": [
    "#print(Deck(suits,cards))\n",
    "\n",
    "#d=Deck(suits,cards)\n",
    "#x=d.deal()\n",
    "#print(x)#Ace of Hearts\n",
    "#type(x)#Cards\n",
    "#x.suits#Hearts"
   ]
  },
  {
   "cell_type": "code",
   "execution_count": 6,
   "metadata": {},
   "outputs": [],
   "source": [
    "#print(d)\n",
    "#d.shuffle()\n",
    "#print(d)"
   ]
  },
  {
   "cell_type": "code",
   "execution_count": 7,
   "metadata": {},
   "outputs": [],
   "source": [
    "#print(d.deal())\n"
   ]
  },
  {
   "cell_type": "code",
   "execution_count": 8,
   "metadata": {},
   "outputs": [],
   "source": [
    "#print(d)"
   ]
  },
  {
   "cell_type": "code",
   "execution_count": 9,
   "metadata": {},
   "outputs": [],
   "source": [
    "class Hands():\n",
    "    def __init__(self):\n",
    "        self.cards=[]\n",
    "        self.value=0\n",
    "        self.aces=0\n",
    "        self.d=[]\n",
    "    \n",
    "    def add_card(self,card):\n",
    "        self.cards.append(card)\n",
    "        #self.d[0]=card\n",
    "        self.adjust_ace(card)\n",
    "        #print(\"I survived adjust\\n\")\n",
    "        self.value=self.value+values[card.cards]\n",
    "        \n",
    "    def adjust_ace(self,card):\n",
    "        #self.cards is an attribute of this class Hands()\n",
    "        if \"Ace\" in card.cards:\n",
    "                #x is an object of Class\n",
    "                #x.cards gives the value of cards in Cards()\n",
    "                #\"Ace of Hearts\" is just the thing Cards.__str__() provides\n",
    "                #x.cards hold only the \"Ace\" i.e name of cards\n",
    "            z= True\n",
    "            \n",
    "        else:\n",
    "            z=False\n",
    "     \n",
    "        if z:\n",
    "              while True:\n",
    "                ace_value=int(input(\"Enter the ace value (1 or 11) : \"))\n",
    "                try:\n",
    "                    if not ace_value in list((1,11)):\n",
    "                        raise \n",
    "                except:\n",
    "                    print(\"\\nEnter the values 1 or 11 \\nOthers willnot work\")\n",
    "                    continue\n",
    "                else:\n",
    "                    values[\"Ace\"]=ace_value\n",
    "                    break"
   ]
  },
  {
   "cell_type": "code",
   "execution_count": null,
   "metadata": {},
   "outputs": [],
   "source": []
  },
  {
   "cell_type": "code",
   "execution_count": null,
   "metadata": {},
   "outputs": [],
   "source": []
  },
  {
   "cell_type": "code",
   "execution_count": null,
   "metadata": {},
   "outputs": [],
   "source": []
  },
  {
   "cell_type": "code",
   "execution_count": null,
   "metadata": {},
   "outputs": [],
   "source": []
  },
  {
   "cell_type": "code",
   "execution_count": null,
   "metadata": {},
   "outputs": [],
   "source": []
  },
  {
   "cell_type": "code",
   "execution_count": 10,
   "metadata": {},
   "outputs": [],
   "source": [
    "#player_hand=Hands()\n",
    "#dealer_hand=Hands()\n",
    "#type(x)"
   ]
  },
  {
   "cell_type": "code",
   "execution_count": 11,
   "metadata": {},
   "outputs": [],
   "source": [
    "#h.add_card(x)"
   ]
  },
  {
   "cell_type": "code",
   "execution_count": 12,
   "metadata": {},
   "outputs": [],
   "source": [
    "#h.value"
   ]
  },
  {
   "cell_type": "code",
   "execution_count": 13,
   "metadata": {},
   "outputs": [],
   "source": [
    "def take_bet():\n",
    "    while True:\n",
    "        global bet\n",
    "        bet=int(input(\"Enter your bet:\"))\n",
    "        try:\n",
    "            if bet>total:\n",
    "                raise\n",
    "        except:\n",
    "            print(\"You don't possess that much\\nPlease!Enter within ur capability\\n \")\n",
    "            continue\n",
    "        else:\n",
    "            print(\"\\nThank You! for placing your bet\")\n",
    "            print(\"Your Bet is {}\".format(bet))\n",
    "            break\n",
    "            \n",
    "    "
   ]
  },
  {
   "cell_type": "code",
   "execution_count": 14,
   "metadata": {},
   "outputs": [],
   "source": [
    "#take_bet()"
   ]
  },
  {
   "cell_type": "code",
   "execution_count": 15,
   "metadata": {},
   "outputs": [],
   "source": [
    "#bet"
   ]
  },
  {
   "cell_type": "code",
   "execution_count": null,
   "metadata": {},
   "outputs": [],
   "source": []
  },
  {
   "cell_type": "code",
   "execution_count": null,
   "metadata": {},
   "outputs": [],
   "source": []
  },
  {
   "cell_type": "code",
   "execution_count": null,
   "metadata": {},
   "outputs": [],
   "source": []
  },
  {
   "cell_type": "code",
   "execution_count": 16,
   "metadata": {},
   "outputs": [],
   "source": [
    "#h=Hands()"
   ]
  },
  {
   "cell_type": "code",
   "execution_count": 17,
   "metadata": {},
   "outputs": [],
   "source": [
    "#d=Deck(suits,cards)"
   ]
  },
  {
   "cell_type": "code",
   "execution_count": 18,
   "metadata": {},
   "outputs": [],
   "source": [
    "#1."
   ]
  },
  {
   "cell_type": "code",
   "execution_count": 19,
   "metadata": {},
   "outputs": [],
   "source": [
    "#2."
   ]
  },
  {
   "cell_type": "code",
   "execution_count": 20,
   "metadata": {},
   "outputs": [],
   "source": [
    "#3.h.cards"
   ]
  },
  {
   "cell_type": "code",
   "execution_count": 21,
   "metadata": {},
   "outputs": [],
   "source": [
    "def bust_check(HandsObject):\n",
    "    if HandsObject.value>21:\n",
    "        print(f\"{player} is Busted\")\n",
    "        return True\n",
    "    else:\n",
    "        return False\n",
    "#value dherai aya True janxa"
   ]
  },
  {
   "cell_type": "code",
   "execution_count": 22,
   "metadata": {},
   "outputs": [],
   "source": [
    "#h.value=0"
   ]
  },
  {
   "cell_type": "code",
   "execution_count": 23,
   "metadata": {},
   "outputs": [],
   "source": [
    "#h"
   ]
  },
  {
   "cell_type": "code",
   "execution_count": 24,
   "metadata": {},
   "outputs": [],
   "source": [
    "#h.value"
   ]
  },
  {
   "cell_type": "code",
   "execution_count": null,
   "metadata": {},
   "outputs": [],
   "source": []
  },
  {
   "cell_type": "code",
   "execution_count": 25,
   "metadata": {},
   "outputs": [],
   "source": [
    "def hit(HandsObject,DeckObject):\n",
    "    #1st lets check if they are busted\n",
    "    #2nd lets check if they are gonna hit or not\n",
    "    #3rd lets continue asking them until they bust or decide no\n",
    "    #the value of hands.value must increase too\n",
    "    #print(\"Inside HIt\")\n",
    "    global player\n",
    "    decision =\"y\"\n",
    "    while not bust_check(HandsObject):\n",
    "        #lets create something so that they can only choose y or n\n",
    "        if decision in \"yn\":\n",
    "            #runs when typed right\n",
    "            #1st run Decks deal()\n",
    "            #2nd add that to Hands add_card\n",
    "            if decision ==\"y\":\n",
    "                x=DeckObject.deal()\n",
    "                HandsObject.add_card(x)\n",
    "                print(f\"\\n\\nYour card is :{x}\")\n",
    "                print(f\"Your value:{HandsObject.value}\\n\\n\")\n",
    "                if player==\"Player\":\n",
    "                    if player_busts(HandsObject) or player_wins(HandsObject.value):\n",
    "                        break\n",
    "            else:\n",
    "                break\n",
    "        else:\n",
    "            print(\"Enter either 'y' or 'n'\\n\")   \n",
    "            \n",
    "        decision=input(\"\\nHit (y or n)\").lower() \n",
    "        #print(f\"*****{decision}*****\")"
   ]
  },
  {
   "cell_type": "code",
   "execution_count": 26,
   "metadata": {},
   "outputs": [],
   "source": [
    "#hit(player_hand,d)"
   ]
  },
  {
   "cell_type": "code",
   "execution_count": 27,
   "metadata": {},
   "outputs": [],
   "source": [
    "#hit(dealer_hand,d)"
   ]
  },
  {
   "cell_type": "code",
   "execution_count": 28,
   "metadata": {},
   "outputs": [],
   "source": [
    "#player_hand.value"
   ]
  },
  {
   "cell_type": "code",
   "execution_count": 29,
   "metadata": {},
   "outputs": [],
   "source": [
    "#dealer_hand.value"
   ]
  },
  {
   "cell_type": "code",
   "execution_count": null,
   "metadata": {},
   "outputs": [],
   "source": []
  },
  {
   "cell_type": "code",
   "execution_count": null,
   "metadata": {},
   "outputs": [],
   "source": []
  },
  {
   "cell_type": "code",
   "execution_count": null,
   "metadata": {},
   "outputs": [],
   "source": []
  },
  {
   "cell_type": "code",
   "execution_count": 30,
   "metadata": {},
   "outputs": [],
   "source": [
    "def hit_or_stand(HandsObject,DeckObject):\n",
    "    global playing # to control an upcoming while loop\n",
    "    print(\"Press 1 for Hit\")\n",
    "    print(\"Press 2 for Stand\")\n",
    "    x=input(\"1 or 2:\")\n",
    "    if x==\"1\":\n",
    "        hit(HandsObject,DeckObject)\n",
    "    else:\n",
    "        playing = False\n",
    "    \n",
    "    "
   ]
  },
  {
   "cell_type": "code",
   "execution_count": null,
   "metadata": {},
   "outputs": [],
   "source": []
  },
  {
   "cell_type": "code",
   "execution_count": 31,
   "metadata": {},
   "outputs": [],
   "source": [
    "#hit_or_stand(h,d)"
   ]
  },
  {
   "cell_type": "code",
   "execution_count": null,
   "metadata": {},
   "outputs": [],
   "source": []
  },
  {
   "cell_type": "code",
   "execution_count": null,
   "metadata": {},
   "outputs": [],
   "source": []
  },
  {
   "cell_type": "code",
   "execution_count": null,
   "metadata": {},
   "outputs": [],
   "source": []
  },
  {
   "cell_type": "code",
   "execution_count": 32,
   "metadata": {},
   "outputs": [],
   "source": [
    "\n",
    "def show_all(player_hand,dealer_hand):\n",
    "        print(\"Players Hand:\"+\" \".join(str(n) for n in player_hand.cards)+f\"\\n Total Value:{player_hand.value}\")\n",
    "        \n",
    "\n",
    "        print(\"Dealers Hand:\"+\" \".join(str(n) for n in dealer_hand.cards)+f\"\\n Total Value:{dealer_hand.value}\")\n",
    "    \n",
    "    "
   ]
  },
  {
   "cell_type": "code",
   "execution_count": 33,
   "metadata": {},
   "outputs": [],
   "source": [
    "def show_some(player_hand,dealer_hand):\n",
    "    print(\"Players Hand:\"+\" || \".join(str(n) for n in player_hand.cards))\n",
    "    print(\"Dealer Hand:\"+\"  || \".join(str(n) for n in dealer_hand.cards[1:]))\n",
    "    \n",
    "    \n",
    "    \n",
    "    "
   ]
  },
  {
   "cell_type": "code",
   "execution_count": 34,
   "metadata": {},
   "outputs": [],
   "source": [
    "#show_some(player_hand,dealer_hand)"
   ]
  },
  {
   "cell_type": "code",
   "execution_count": null,
   "metadata": {},
   "outputs": [],
   "source": []
  },
  {
   "cell_type": "code",
   "execution_count": null,
   "metadata": {},
   "outputs": [],
   "source": []
  },
  {
   "cell_type": "code",
   "execution_count": null,
   "metadata": {},
   "outputs": [],
   "source": []
  },
  {
   "cell_type": "code",
   "execution_count": null,
   "metadata": {},
   "outputs": [],
   "source": []
  },
  {
   "cell_type": "code",
   "execution_count": 35,
   "metadata": {},
   "outputs": [],
   "source": [
    "#l=[\"1\",\"2\",\"3\",\"4\"]"
   ]
  },
  {
   "cell_type": "code",
   "execution_count": 36,
   "metadata": {},
   "outputs": [],
   "source": [
    "#print(\" \".join(str(n) for n in l[1:]))"
   ]
  },
  {
   "cell_type": "code",
   "execution_count": 37,
   "metadata": {},
   "outputs": [],
   "source": [
    "class Chips():\n",
    "    def win_bet():\n",
    "        global total\n",
    "        global bet\n",
    "        total+=bet\n",
    "    def lose_bet():\n",
    "        global total\n",
    "        global bet\n",
    "        total-=bet"
   ]
  },
  {
   "cell_type": "code",
   "execution_count": 42,
   "metadata": {},
   "outputs": [],
   "source": [
    "\n",
    "def player_busts(Player_hand):\n",
    "    print(\"I am here inside player bust\")\n",
    "    if Player_hand.value>21:\n",
    "        print(\"Player is Busted\")\n",
    "        Chips.lose_bet()\n",
    "        playing =False\n",
    "        player_hand.value=21-player_hand.value\n",
    "        return True\n",
    "           \n",
    "    \n",
    "\n",
    "def player_wins(Player_hand_value,Dealer_hand_value=100):\n",
    "    if Player_hand_value == 21 or Player_hand_value>Dealer_hand_value:\n",
    "\n",
    "        print(\"Player Has Won\")\n",
    "        Chips.win_bet()\n",
    "        playing=False\n",
    "        return True\n",
    "          \n",
    "    \n",
    "    \n",
    "\n",
    "def dealer_busts(Dealer_hand):\n",
    "    if Dealer_hand.value>21:\n",
    "        print(\"Dealer is Busted\")\n",
    "        Dealer_hand_value=21-Dealer_hand_value\n",
    "        Chips.win_bet()\n",
    "        print(total)\n",
    "        return True\n",
    "        \n",
    "        \n",
    "        \n",
    "    \n",
    "        \n",
    "        \n",
    "    \n",
    "def dealer_wins(Player_hand_value,Dealer_hand_value):\n",
    "        if Dealer_hand_value == 21 or Player_hand_value<Dealer_hand_value:\n",
    "            print(\"Dealer Has Won\")\n",
    "            \n",
    "            playing=False\n",
    "            return True\n",
    "def no_one_won(Player_hand,Dealer_hand):\n",
    "    if Player_hand.value<0 and Dealer_hand.value<0:\n",
    "        print(\"NO ONE ONE:BOTH BUSTED\")\n",
    "    elif(Player_hand.value==Dealer_hand):\n",
    "        print(\"Tied(NO ONE WON)\")\n",
    "    "
   ]
  },
  {
   "cell_type": "code",
   "execution_count": 45,
   "metadata": {},
   "outputs": [
    {
     "name": "stdout",
     "output_type": "stream",
     "text": [
      "Enter the amount of chips u have:100\n",
      "WELCOME TO BLACKJACK MINI\n",
      "YOU HAVE TOTAL CHIPS:100\n",
      "Enter your bet:25\n",
      "\n",
      "Thank You! for placing your bet\n",
      "Your Bet is 25\n",
      "Enter the ace value (1 or 11) : 11\n",
      "Players Hand:Five of Diamonds || Six of Spades\n",
      "Dealer Hand:Ace of Diamonds\n",
      "\n",
      "\n",
      "\n",
      "Player turn\n",
      "\n",
      "\n",
      "\n",
      "Your hand value \\(player\\):11\n",
      "I am here inside player bust\n",
      "RUNNING THE HIT_OR STAND\n",
      "Press 1 for Hit\n",
      "Press 2 for Stand\n",
      "1 or 2:1\n",
      "\n",
      "\n",
      "Your card is :Queen of Clubs\n",
      "Your value:21\n",
      "\n",
      "\n",
      "I am here inside player bust\n",
      "Player Has Won\n",
      "OUTSIDE HIT OR STAND\n",
      "Players Hand:Five of Diamonds || Six of Spades || Queen of Clubs\n",
      "Dealer Hand:Ace of Diamonds\n",
      "\n",
      "\n",
      "\n",
      "Your hand value \\(player\\):21\n",
      "I am here inside player bust\n",
      "Player Has Won\n",
      "\n",
      "\n",
      "\n",
      "Dealer turn\n",
      "\n",
      "\n",
      "19\n",
      "Player Has Won\n",
      "Player Has Won\n"
     ]
    }
   ],
   "source": [
    "#the main game\n",
    "total=int(input(\"Enter the amount of chips u have:\"))\n",
    "while game_on:\n",
    "    print(\"WELCOME TO BLACKJACK MINI\")\n",
    "    print(f\"YOU HAVE TOTAL CHIPS:{total}\")\n",
    "    \n",
    "    #setting up the chips\n",
    "   \n",
    "    bet=0\n",
    "    take_bet()\n",
    "    \n",
    "    d=Deck(suits,cards)\n",
    "    player_hand=Hands()\n",
    "    dealer_hand=Hands()\n",
    "    \n",
    "    \n",
    "    \n",
    "    #giving player two cards\n",
    "    x=d.deal()\n",
    "    player_hand.add_card(x)\n",
    "    x=d.deal()\n",
    "    player_hand.add_card(x)\n",
    "    \n",
    "    \n",
    "    #giving dealer two cards\n",
    "    x=d.deal()\n",
    "    dealer_hand.add_card(x)\n",
    "    x=d.deal()\n",
    "    dealer_hand.add_card(x)\n",
    "\n",
    "\n",
    "    show_some(player_hand,dealer_hand)\n",
    "    print(\"\\n\\n\")\n",
    "    print(\"Player turn\\n\\n\\n\")\n",
    "    while playing:\n",
    "        print(f\"Your hand value \\(player\\):{player_hand.value}\")\n",
    "        if player_busts(player_hand) or player_wins(player_hand.value) or player_hand.value<0:\n",
    "            print(\"\\n\\n\")\n",
    "            break\n",
    "        else:\n",
    "            print(\"RUNNING THE HIT_OR STAND\")\n",
    "            hit_or_stand(player_hand,d)\n",
    "            print(\"OUTSIDE HIT OR STAND\")\n",
    "            show_some(player_hand,dealer_hand)\n",
    "        print(\"\\n\\n\")\n",
    "       \n",
    "    print(\"Dealer turn\\n\\n\")  \n",
    "    print(dealer_hand.value)\n",
    "    playing =True\n",
    "    \n",
    "    player=\"Dealer\"   \n",
    "    while playing:\n",
    "        if player_wins(player_hand.value,dealer_hand.value):\n",
    "            break \n",
    "        while dealer_hand.value<17:\n",
    "            print(\"Inside dealer under 17\")\n",
    "            x=d.deal()\n",
    "            dealer_hand.add_card(x)\n",
    "            show_all(player_hand,dealer_hand)\n",
    "            \n",
    "        if dealer_busts(dealer_hand) or dealer_wins(player_hand.value,dealer_hand.value):\n",
    "            print(\"\\n\\n\")\n",
    "            break\n",
    "        else:    \n",
    "            hit_or_stand(dealer_hand,d)\n",
    "    if player_wins(player_hand.value,dealer_hand.value):\n",
    "        break\n",
    "    if player_hand.value==dealer_hand.value:\n",
    "        print(\"NO ONE WON\")\n",
    "    while True:    \n",
    "        player=\"Player\"\n",
    "        x=input(\"Play Again 'y' or 'n':\")\n",
    "        if x in \"yn\":\n",
    "            #print(\"INSIDE THE PLAY AGAIN when no\")\n",
    "            if x ==\"n\":\n",
    "                #print(\"INSIDE THE PLAY AGAIN when no and x==n\")\n",
    "                game_on=False\n",
    "                break\n",
    "                          \n",
    "            else:\n",
    "                #print(\"INSIDE THE PLAY AGAIN when yes\")\n",
    "                break\n",
    "        else:\n",
    "            #print(\"INSIDE THE PLAY AGAIN when other input\")\n",
    "            print(\"Enter either 'y' or 'n'\")   \n",
    "\n",
    "        \n",
    "        \n",
    "    \n",
    "    \n",
    "\n"
   ]
  },
  {
   "cell_type": "code",
   "execution_count": 44,
   "metadata": {},
   "outputs": [],
   "source": [
    "game_on=True"
   ]
  },
  {
   "cell_type": "code",
   "execution_count": null,
   "metadata": {},
   "outputs": [],
   "source": [
    "player\n",
    "x=1"
   ]
  },
  {
   "cell_type": "code",
   "execution_count": null,
   "metadata": {},
   "outputs": [],
   "source": [
    "x=+2"
   ]
  },
  {
   "cell_type": "code",
   "execution_count": null,
   "metadata": {},
   "outputs": [],
   "source": [
    "x"
   ]
  },
  {
   "cell_type": "code",
   "execution_count": 46,
   "metadata": {},
   "outputs": [
    {
     "data": {
      "text/plain": [
       "200"
      ]
     },
     "execution_count": 46,
     "metadata": {},
     "output_type": "execute_result"
    }
   ],
   "source": [
    "total\n"
   ]
  },
  {
   "cell_type": "code",
   "execution_count": 4,
   "metadata": {},
   "outputs": [],
   "source": [
    "l=list(range(1,3))"
   ]
  },
  {
   "cell_type": "code",
   "execution_count": 5,
   "metadata": {},
   "outputs": [
    {
     "data": {
      "text/plain": [
       "[1, 2]"
      ]
     },
     "execution_count": 5,
     "metadata": {},
     "output_type": "execute_result"
    }
   ],
   "source": [
    "l\n"
   ]
  },
  {
   "cell_type": "code",
   "execution_count": null,
   "metadata": {},
   "outputs": [],
   "source": []
  }
 ],
 "metadata": {
  "kernelspec": {
   "display_name": "Python 3",
   "language": "python",
   "name": "python3"
  },
  "language_info": {
   "codemirror_mode": {
    "name": "ipython",
    "version": 3
   },
   "file_extension": ".py",
   "mimetype": "text/x-python",
   "name": "python",
   "nbconvert_exporter": "python",
   "pygments_lexer": "ipython3",
   "version": "3.7.3"
  }
 },
 "nbformat": 4,
 "nbformat_minor": 2
}
