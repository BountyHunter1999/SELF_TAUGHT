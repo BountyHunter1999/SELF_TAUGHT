{
 "cells": [
  {
   "cell_type": "markdown",
   "metadata": {},
   "source": [
    "\"\"\" if we performed an operation on the database other \n",
    "than sending queries, we need to commit those \n",
    "changes via the .commit() method before we close the connection\"\"\"\n",
    "conn.commit()\n",
    "conn.close()\n",
    "# after every transaction that modifies data for tables"
   ]
  },
  {
   "cell_type": "code",
   "execution_count": null,
   "metadata": {},
   "outputs": [],
   "source": [
    "\"\"\"cursor object is our interface to the database \n",
    "that allows running any SQL query on our database\"\"\"\n",
    "\n",
    "\"\"\"even of database doesnot exist it will create that and \n",
    "database object will be returned\"\"\"\n",
    "\n",
    "import sqlite3\n",
    "conn= sqlite3.connect('my_database.sqlite')\n",
    "cursor=conn.cursor()\n",
    "print(\"OPENED DATABASE SUCCESSFULLY\")"
   ]
  },
  {
   "cell_type": "markdown",
   "metadata": {},
   "source": [
    "#close the connection via .close() method\n",
    "conn.close()"
   ]
  },
  {
   "cell_type": "code",
   "execution_count": null,
   "metadata": {},
   "outputs": [],
   "source": []
  },
  {
   "cell_type": "markdown",
   "metadata": {},
   "source": [
    "CREATING A TABLE"
   ]
  },
  {
   "cell_type": "code",
   "execution_count": null,
   "metadata": {},
   "outputs": [],
   "source": [
    "cursor.execute('''CREATE TABLE SCHOOL\n",
    "    (ID INT PRIMARY KEY NOT NULL,\n",
    "    NAME     TEXT NOT NULL,\n",
    "    AGE INT NOT NULL,\n",
    "    ADDRESS CHAR(50),\n",
    "    MARKS INT);''')\n",
    "cursor.close()\n",
    "#cursor.execute executes the SQL statement\n",
    "#created a table called school abd the fields\n"
   ]
  },
  {
   "cell_type": "markdown",
   "metadata": {},
   "source": [
    "#INSERTING RECORDS IN THE TABLE"
   ]
  },
  {
   "cell_type": "code",
   "execution_count": null,
   "metadata": {},
   "outputs": [],
   "source": [
    "\n",
    "import sqlite3\n",
    "conn = sqlite3.connect('my_database.sqlite')\n",
    "cursor = conn.cursor()\n",
    "cursor.execute(\"INSERT INTO SCHOOL (ID,NAME,AGE,ADDRESS,MARKS) \\\n",
    "      VALUES (1, 'rab', 14, 'X', 200)\");\n",
    "cursor.execute(\"INSERT INTO SCHOOL (ID,NAME,AGE,ADDRESS,MARKS) \\\n",
    "      VALUES (2, 'Allen', 14, 'Y', 150 )\");\n",
    "cursor.execute(\"INSERT INTO SCHOOL (ID,NAME,AGE,ADDRESS,MARKS) \\\n",
    "      VALUES (3, 'Martha', 15, 'Z', 200 )\");\n",
    "cursor.execute(\"INSERT INTO SCHOOL (ID,NAME,AGE,ADDRESS,MARKS) \\\n",
    "      VALUES (4, 'Palak', 15, 'W', 650)\");\n",
    "conn.commit()\n",
    "conn.close()"
   ]
  },
  {
   "cell_type": "markdown",
   "metadata": {},
   "source": [
    "# SELECTING records from the TABLE"
   ]
  },
  {
   "cell_type": "code",
   "execution_count": null,
   "metadata": {},
   "outputs": [],
   "source": [
    "import sqlite3\n",
    "conn = sqlite3.connect('my_database.sqlite')\n",
    "cursor = conn.cursor()\n",
    "for row in cursor.execute(\"SELECT id, name, marks from SCHOOL\"):\n",
    "    print(\"ID = \", row[0])#(id,name,marks)\n",
    "    print(\"NAME = \", row[1])\n",
    "    print(\"MARKS = \", row[2], \"\\n\")\n",
    "conn.commit()\n",
    "conn.close()"
   ]
  },
  {
   "cell_type": "markdown",
   "metadata": {},
   "source": [
    "# UPDATING RECORDS IN THE TABLE"
   ]
  },
  {
   "cell_type": "code",
   "execution_count": null,
   "metadata": {},
   "outputs": [],
   "source": [
    "import sqlite3\n",
    "conn=sqlite3.connect(\"my_database.sqlite\")\n",
    "cursor=conn.cursor()\n",
    "cursor.execute(\"UPDATE SCHOOL set MARKS=250 where ID=3\")\n",
    "conn.commit()\n",
    "\n",
    "for row in cursor.execute(\"SELECT id, name, address, marks from SCHOOL\"):\n",
    "    print(\"ID = \", row[0])\n",
    "    print(\"NAME = \", row[1])\n",
    "    print(\"ADDRESS =\",row[2])\n",
    "    print(\"MARKS = \", row[3], \"\\n\")\n",
    "conn.commit()\n",
    "conn.close()"
   ]
  },
  {
   "cell_type": "markdown",
   "metadata": {},
   "source": [
    "# DELETE OPERATION\n"
   ]
  },
  {
   "cell_type": "code",
   "execution_count": null,
   "metadata": {},
   "outputs": [],
   "source": [
    "import sqlite3\n",
    "conn=sqlite3.connect(\"my_database.sqlite\")\n",
    "cursor=conn.cursor()\n",
    "conn.execute(\"DELETE from SCHOOL where ID=2\")\n",
    "\n",
    "conn.commit()\n",
    "\n",
    "for row in cursor.execute(\"SELECT id,name,address,marks from SCHOOL\"):\n",
    "    print(\"ID=\",row[0])\n",
    "    print(\"NAME = \", row[1])\n",
    "    print(\"ADDRESS = \", row[2])   \n",
    "    print(\"MARKS = \", row[3], \"\\n\")\n",
    "conn.commit()\n",
    "conn.close()\n",
    "    "
   ]
  },
  {
   "cell_type": "markdown",
   "metadata": {},
   "source": []
  },
  {
   "cell_type": "code",
   "execution_count": 1,
   "metadata": {},
   "outputs": [
    {
     "name": "stdout",
     "output_type": "stream",
     "text": [
      "ID =  1\n",
      "NAME =  rab\n",
      "ADDRESS = X\n",
      "MARKS =  200 \n",
      "\n",
      "ID =  3\n",
      "NAME =  Martha\n",
      "ADDRESS = Z\n",
      "MARKS =  20 \n",
      "\n",
      "ID =  4\n",
      "NAME =  Palak\n",
      "ADDRESS = W\n",
      "MARKS =  650 \n",
      "\n",
      "ID =  9\n",
      "NAME =  ROB\n",
      "ADDRESS = PHULBAR\n",
      "MARKS =  55 \n",
      "\n",
      "ID =  6\n",
      "NAME =  Rew\n",
      "ADDRESS = Z\n",
      "MARKS =  400 \n",
      "\n"
     ]
    }
   ],
   "source": [
    "x=20\n",
    "import sqlite3\n",
    "conn=sqlite3.connect(\"my_database.sqlite\")\n",
    "cursor=conn.cursor()\n",
    "cursor.execute(\"UPDATE SCHOOL set MARKS=? where ID=3\",(x,))\n",
    "conn.commit()\n",
    "\n",
    "for row in cursor.execute(\"SELECT id, name, address, marks from SCHOOL\"):\n",
    "    print(\"ID = \", row[0])\n",
    "    print(\"NAME = \", row[1])\n",
    "    print(\"ADDRESS =\",row[2])\n",
    "    print(\"MARKS = \", row[3], \"\\n\")\n",
    "conn.commit()\n",
    "conn.close()"
   ]
  },
  {
   "cell_type": "markdown",
   "metadata": {},
   "source": [
    "INSERTING VARIABLE\n",
    "sqlite uses % or ? \n",
    "mySql uses %s"
   ]
  },
  {
   "cell_type": "code",
   "execution_count": 16,
   "metadata": {},
   "outputs": [],
   "source": [
    "x1=6\n",
    "x2=\"Rew\"\n",
    "x3=20\n",
    "x4=\"Z\"\n",
    "x5=400\n",
    "import sqlite3\n",
    "conn = sqlite3.connect('my_database.sqlite')\n",
    "cursor = conn.cursor()\n",
    "cursor.execute(\"INSERT INTO SCHOOL (ID,NAME,AGE,ADDRESS,MARKS) \\\n",
    "      VALUES (?, ?, ?, ?, ?)\",(x1,x2,x3,x4,x5));\n",
    "#cursor.execute(\"INSERT INTO SCHOOL (ID,NAME,AGE,ADDRESS,MARKS) \\\n",
    "     # VALUES (6, 'rab', ?, 'X', 200)\",(x3));\n",
    "conn.commit()\n",
    "conn.close()"
   ]
  },
  {
   "cell_type": "code",
   "execution_count": 18,
   "metadata": {},
   "outputs": [
    {
     "name": "stdout",
     "output_type": "stream",
     "text": [
      "id 1\n",
      "name 14\n",
      "id 3\n",
      "name 15\n",
      "id 4\n",
      "name 15\n",
      "id 9\n",
      "name 16\n",
      "id 6\n",
      "name 20\n"
     ]
    }
   ],
   "source": [
    "import sqlite3\n",
    "conn=sqlite3.connect(\"my_database.sqlite\")\n",
    "cursor=conn.cursor()\n",
    "for row in cursor.execute(\"SELECT * FROM SCHOOL\"):\n",
    "    print(\"id\",row[0])\n",
    "    print(\"name\",row[2])\n",
    "conn.commit()\n",
    "conn.close()"
   ]
  },
  {
   "cell_type": "code",
   "execution_count": null,
   "metadata": {},
   "outputs": [],
   "source": []
  },
  {
   "cell_type": "code",
   "execution_count": 1,
   "metadata": {},
   "outputs": [
    {
     "ename": "NameError",
     "evalue": "name 'x1' is not defined",
     "output_type": "error",
     "traceback": [
      "\u001b[1;31m---------------------------------------------------------------------------\u001b[0m",
      "\u001b[1;31mNameError\u001b[0m                                 Traceback (most recent call last)",
      "\u001b[1;32m<ipython-input-1-c11bd78f41cf>\u001b[0m in \u001b[0;36m<module>\u001b[1;34m\u001b[0m\n\u001b[0;32m      4\u001b[0m \u001b[0mcursor\u001b[0m \u001b[1;33m=\u001b[0m \u001b[0mconn\u001b[0m\u001b[1;33m.\u001b[0m\u001b[0mcursor\u001b[0m\u001b[1;33m(\u001b[0m\u001b[1;33m)\u001b[0m\u001b[1;33m\u001b[0m\u001b[1;33m\u001b[0m\u001b[0m\n\u001b[0;32m      5\u001b[0m cursor.execute(\"INSERT INTO SCHOOL (ID,NAME,AGE,ADDRESS,MARKS) \\\n\u001b[1;32m----> 6\u001b[1;33m       VALUES (?, ?, ?, ?, ?)\",(x1,x2,x3,x4,x5));\n\u001b[0m\u001b[0;32m      7\u001b[0m \u001b[1;31m#cursor.execute(\"INSERT INTO SCHOOL (ID,NAME,AGE,ADDRESS,MARKS) \\\u001b[0m\u001b[1;33m\u001b[0m\u001b[1;33m\u001b[0m\u001b[1;33m\u001b[0m\u001b[0m\n\u001b[0;32m      8\u001b[0m      \u001b[1;31m# VALUES (6, 'rab', ?, 'X', 200)\",(x3));\u001b[0m\u001b[1;33m\u001b[0m\u001b[1;33m\u001b[0m\u001b[1;33m\u001b[0m\u001b[0m\n",
      "\u001b[1;31mNameError\u001b[0m: name 'x1' is not defined"
     ]
    }
   ],
   "source": [
    "x=6\n",
    "import sqlite3\n",
    "conn = sqlite3.connect('my_database.sqlite')\n",
    "cursor = conn.cursor()\n",
    "cursor.execute(\"INSERT INTO SCHOOL (ID,NAME,AGE,ADDRESS,MARKS) \\\n",
    "      VALUES (?, ?, ?, ?, ?)\",(x1,x2,x3,x4,x5));\n",
    "#cursor.execute(\"INSERT INTO SCHOOL (ID,NAME,AGE,ADDRESS,MARKS) \\\n",
    "     # VALUES (6, 'rab', ?, 'X', 200)\",(x3));\n",
    "conn.commit()\n",
    "conn.close()"
   ]
  },
  {
   "cell_type": "code",
   "execution_count": 2,
   "metadata": {},
   "outputs": [
    {
     "name": "stdout",
     "output_type": "stream",
     "text": [
      "1\n"
     ]
    }
   ],
   "source": [
    "a=1\n",
    "print(f\"\"\"{a}\"\"\")"
   ]
  },
  {
   "cell_type": "markdown",
   "metadata": {},
   "source": [
    "# DATE TIME # "
   ]
  },
  {
   "cell_type": "code",
   "execution_count": 1,
   "metadata": {},
   "outputs": [],
   "source": [
    "import sqlite3\n",
    "con = sqlite3.connect(\"demo.db\")\n",
    "cur = con.cursor()"
   ]
  },
  {
   "cell_type": "code",
   "execution_count": 14,
   "metadata": {},
   "outputs": [],
   "source": [
    "cur.execute(\"INSERT INTO datetime_text (d1,d2) VALUES(datetime('now','localtime'),datetime('now'))\")\n",
    "con.commit()"
   ]
  },
  {
   "cell_type": "code",
   "execution_count": 19,
   "metadata": {},
   "outputs": [],
   "source": [
    "con.close()"
   ]
  },
  {
   "cell_type": "code",
   "execution_count": 16,
   "metadata": {},
   "outputs": [
    {
     "name": "stdout",
     "output_type": "stream",
     "text": [
      "2019-10-09 02:57:23 2019-10-09 08:42:23\n",
      "2019-10-09 03:01:13 2019-10-09 08:46:13\n",
      "2019-10-09 08:53:54 2019-10-09 03:08:54\n",
      "2019-10-09 09:28:54 2019-10-09 03:43:54\n",
      "2019-10-10 09:40:38 2019-10-10 03:55:38\n",
      "2019-10-11 09:40:58 2019-10-11 03:55:58\n",
      "2019-10-13 09:41:18 2019-10-13 03:56:18\n"
     ]
    }
   ],
   "source": [
    "for row in cur.execute(\"SELECT * FROM datetime_text\"):\n",
    "    print(row[0]+\" \"+row[1])"
   ]
  },
  {
   "cell_type": "code",
   "execution_count": null,
   "metadata": {},
   "outputs": [],
   "source": []
  },
  {
   "cell_type": "markdown",
   "metadata": {},
   "source": [
    "### IF the below code doesnot work try using \"`\" i.e `d1`\n",
    "other option is this \n",
    "select * from mytable where `date` >= '2014-10-09' and `date` <= '2014-10-10'"
   ]
  },
  {
   "cell_type": "code",
   "execution_count": 19,
   "metadata": {},
   "outputs": [
    {
     "name": "stdout",
     "output_type": "stream",
     "text": [
      "2019-10-09 02:57:23\n",
      "2019-10-09 03:01:13\n",
      "2019-10-09 08:53:54\n",
      "2019-10-09 09:28:54\n",
      "2019-10-10 09:40:38\n",
      "2019-10-11 09:40:58\n"
     ]
    }
   ],
   "source": [
    "for row in cur.execute(\"SELECT * FROM datetime_text WHERE d1 BETWEEN '2019-10-09' AND '2019-10-13' \"):\n",
    "    print(row[0])"
   ]
  },
  {
   "cell_type": "code",
   "execution_count": null,
   "metadata": {},
   "outputs": [],
   "source": []
  },
  {
   "cell_type": "code",
   "execution_count": null,
   "metadata": {},
   "outputs": [],
   "source": []
  }
 ],
 "metadata": {
  "kernelspec": {
   "display_name": "Python 3",
   "language": "python",
   "name": "python3"
  },
  "language_info": {
   "codemirror_mode": {
    "name": "ipython",
    "version": 3
   },
   "file_extension": ".py",
   "mimetype": "text/x-python",
   "name": "python",
   "nbconvert_exporter": "python",
   "pygments_lexer": "ipython3",
   "version": "3.7.4"
  }
 },
 "nbformat": 4,
 "nbformat_minor": 2
}
