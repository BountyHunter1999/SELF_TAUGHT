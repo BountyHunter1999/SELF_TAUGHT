{
 "cells": [
  {
   "cell_type": "code",
   "execution_count": 6,
   "metadata": {},
   "outputs": [],
   "source": [
    "class Node:\n",
    "    def __init__(self,data):\n",
    "        self.data = data\n",
    "        self.next = None "
   ]
  },
  {
   "cell_type": "code",
   "execution_count": 19,
   "metadata": {},
   "outputs": [],
   "source": [
    "class Solution: \n",
    "    def insert(self,head,data):\n",
    "            p = Node(data)           \n",
    "            if head==None:\n",
    "                head=p\n",
    "            elif head.next==None:\n",
    "                head.next=p\n",
    "            else:\n",
    "                start=head\n",
    "                while(start.next!=None):\n",
    "                    start=start.next\n",
    "                start.next=p\n",
    "            return head  \n",
    "    def display(self,head):\n",
    "        current = head\n",
    "        while current:\n",
    "            print(current.data,end=' ')\n",
    "            current = current.next\n",
    "\n",
    "    def removeDuplicates(self,head):\n",
    "        #Write your code here\n",
    "        h=head#initial head \n",
    "        print(\"Before entering while head:\",head.data,\"head.next:\",head.next.data,\"\\n\\n\")\n",
    "        while head.next:\n",
    "            print(\"\\nAfter entering while head:\",head.data,\"head.next:\",head.next.data,\"h:\",h.data,\"h.next\",h.next.data,\"h.next.next\",h.next.next.data)\n",
    "            if head.data==head.next.data:\n",
    "                print(\"Entering if\")\n",
    "                head.next=head.next.next\n",
    "                print(\"\\nAfter if while head:\",head.data,\"head.next:\",head.next.data,\"h:\",h.data,\"h.next\",h.next.data,\"h.next.next\",h.next.next.data)\n",
    "            else:\n",
    "                print(\"eENtering else\")\n",
    "                head=head.next#next element ma pugam \n",
    "                print(\"\\nAfter else while head:\",head.data,\"h:\",h.data)\n",
    "        return h#changes haru vai sakyo \n",
    "    \n"
   ]
  },
  {
   "cell_type": "code",
   "execution_count": 20,
   "metadata": {},
   "outputs": [
    {
     "name": "stdout",
     "output_type": "stream",
     "text": [
      "6\n",
      "1\n",
      "2\n",
      "2\n",
      "3\n",
      "3\n",
      "4\n"
     ]
    }
   ],
   "source": [
    "mylist= Solution()\n",
    "T=int(input())\n",
    "head=None\n",
    "for i in range(T):\n",
    "    data=int(input())\n",
    "    head=mylist.insert(head,data)    \n"
   ]
  },
  {
   "cell_type": "code",
   "execution_count": 21,
   "metadata": {},
   "outputs": [
    {
     "name": "stdout",
     "output_type": "stream",
     "text": [
      "Before entering while head: 1 head.next: 2 \n",
      "\n",
      "\n",
      "\n",
      "After entering while head: 1 head.next: 2 h: 1 h.next 2 h.next.next 2\n",
      "eENtering else\n",
      "\n",
      "After else while head: 2 h: 1\n",
      "\n",
      "After entering while head: 2 head.next: 2 h: 1 h.next 2 h.next.next 2\n",
      "Entering if\n",
      "\n",
      "After if while head: 2 head.next: 3 h: 1 h.next 2 h.next.next 3\n",
      "\n",
      "After entering while head: 2 head.next: 3 h: 1 h.next 2 h.next.next 3\n",
      "eENtering else\n",
      "\n",
      "After else while head: 3 h: 1\n",
      "\n",
      "After entering while head: 3 head.next: 3 h: 1 h.next 2 h.next.next 3\n",
      "Entering if\n",
      "\n",
      "After if while head: 3 head.next: 4 h: 1 h.next 2 h.next.next 3\n",
      "\n",
      "After entering while head: 3 head.next: 4 h: 1 h.next 2 h.next.next 3\n",
      "eENtering else\n",
      "\n",
      "After else while head: 4 h: 1\n",
      "1 2 3 4 "
     ]
    }
   ],
   "source": [
    "head=mylist.removeDuplicates(head)\n",
    "mylist.display(head); "
   ]
  },
  {
   "cell_type": "code",
   "execution_count": null,
   "metadata": {},
   "outputs": [],
   "source": []
  },
  {
   "cell_type": "code",
   "execution_count": null,
   "metadata": {},
   "outputs": [],
   "source": []
  }
 ],
 "metadata": {
  "kernelspec": {
   "display_name": "Python 3",
   "language": "python",
   "name": "python3"
  },
  "language_info": {
   "codemirror_mode": {
    "name": "ipython",
    "version": 3
   },
   "file_extension": ".py",
   "mimetype": "text/x-python",
   "name": "python",
   "nbconvert_exporter": "python",
   "pygments_lexer": "ipython3",
   "version": "3.7.3"
  }
 },
 "nbformat": 4,
 "nbformat_minor": 2
}
