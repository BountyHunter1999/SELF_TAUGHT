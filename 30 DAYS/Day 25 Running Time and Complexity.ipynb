{
 "cells": [
  {
   "cell_type": "markdown",
   "metadata": {},
   "source": [
    "# this takes a huge time"
   ]
  },
  {
   "cell_type": "code",
   "execution_count": null,
   "metadata": {},
   "outputs": [],
   "source": [
    "n=int(input())\n",
    "for i in range(n):\n",
    "    l=int(input())\n",
    "    total=0\n",
    "    for j in range(1,l+1):\n",
    "        #print(\"i is :\",i,\"j is:\",j,\"TOTAL IS:\",total)\n",
    "        if l%j==0:\n",
    "            total=total+1\n",
    "            #print(\"NOW TOTAL IS(after adding:\",total,\"\\n\\n\")\n",
    "    if total >2:\n",
    "        print(\"Not prime\")\n",
    "    else:\n",
    "        print(\"Prime\")    \n",
    "            "
   ]
  },
  {
   "cell_type": "markdown",
   "metadata": {},
   "source": [
    "# Yesla 1 ra 2 lai check garana"
   ]
  },
  {
   "cell_type": "code",
   "execution_count": null,
   "metadata": {},
   "outputs": [],
   "source": [
    "def checkPrime(n):\n",
    "    num=0\n",
    "    if n==2:\n",
    "        return \"Prime\"\n",
    "    if n%2==0:\n",
    "        return \"Not prime\"\n",
    "    else:\n",
    "        for i in range(1,n+1):\n",
    "            if n%i==0:\n",
    "                num=num+1\n",
    "        if num<=1:\n",
    "            return \"Prime\"\n",
    "        else:\n",
    "            return \"Not prime\"\n",
    "                "
   ]
  },
  {
   "cell_type": "markdown",
   "metadata": {},
   "source": []
  },
  {
   "cell_type": "markdown",
   "metadata": {},
   "source": [
    "# Yesla yeslai time liyo tannai input 1000000007 huda"
   ]
  },
  {
   "cell_type": "code",
   "execution_count": null,
   "metadata": {},
   "outputs": [],
   "source": [
    "def checkPrime(n):\n",
    "    num=0\n",
    "    if n==1:\n",
    "        return \"Not prime\"\n",
    "    elif n==2:\n",
    "        return \"Prime\"\n",
    "    elif n%2==0:\n",
    "        return \"Not prime\"\n",
    "    else:\n",
    "        for i in range(3,n,2):\n",
    "            if n%i==0:\n",
    "                num=num+1\n",
    "                if num>0:\n",
    "                    return \"Not prime\"\n",
    "\n",
    "    \n",
    "        return \"Prime\"\n",
    "                "
   ]
  },
  {
   "cell_type": "code",
   "execution_count": null,
   "metadata": {},
   "outputs": [],
   "source": [
    "t=int(input())\n",
    "for i in range(t):\n",
    "    n=int(input())\n",
    "    print(checkPrime(n))"
   ]
  },
  {
   "cell_type": "markdown",
   "metadata": {},
   "source": [
    "# yeslai chito result dinxa aba "
   ]
  },
  {
   "cell_type": "code",
   "execution_count": 7,
   "metadata": {},
   "outputs": [],
   "source": [
    "from  math import sqrt\n",
    "def checkPrime(n):\n",
    "    num=0\n",
    "    if n==1:\n",
    "        return \"Not prime\"\n",
    "    elif n==2:\n",
    "        return \"Prime\"\n",
    "    elif n%2==0:\n",
    "        return \"Not prime\"\n",
    "    else:\n",
    "        d=int(sqrt(n))\n",
    "        \n",
    "        for i in range(3,d+1,2):\n",
    "            #yo la O(sqrt(n)) mero total vanako O(sqrt(n)/2) vayo aba\n",
    "                if n%i==0:\n",
    "                    num=num+1\n",
    "                    if num>0:\n",
    "                        return \"Not prime\"\n",
    "    \n",
    "    \n",
    "        return \"Prime\""
   ]
  },
  {
   "cell_type": "code",
   "execution_count": 8,
   "metadata": {},
   "outputs": [
    {
     "name": "stdout",
     "output_type": "stream",
     "text": [
      "1\n",
      "1000000007\n",
      "Prime\n"
     ]
    }
   ],
   "source": [
    "t=int(input())\n",
    "for i in range(t):\n",
    "    n=int(input())\n",
    "    print(checkPrime(n))"
   ]
  },
  {
   "cell_type": "code",
   "execution_count": 3,
   "metadata": {},
   "outputs": [
    {
     "data": {
      "text/plain": [
       "2"
      ]
     },
     "execution_count": 3,
     "metadata": {},
     "output_type": "execute_result"
    }
   ],
   "source": [
    "\n",
    "int(sqrt(4))"
   ]
  },
  {
   "cell_type": "code",
   "execution_count": null,
   "metadata": {},
   "outputs": [],
   "source": []
  }
 ],
 "metadata": {
  "kernelspec": {
   "display_name": "Python 3",
   "language": "python",
   "name": "python3"
  }
 },
 "nbformat": 4,
 "nbformat_minor": 2
}
