{
 "cells": [
  {
   "cell_type": "code",
   "execution_count": 2,
   "metadata": {},
   "outputs": [],
   "source": [
    "class Node:\n",
    "    def __init__(self,data):\n",
    "        self.right=self.left=None\n",
    "        self.data = data"
   ]
  },
  {
   "cell_type": "markdown",
   "metadata": {},
   "source": [
    "# LEFT ROOT RIGHT"
   ]
  },
  {
   "cell_type": "code",
   "execution_count": 3,
   "metadata": {},
   "outputs": [
    {
     "name": "stdout",
     "output_type": "stream",
     "text": [
      "6\n",
      "3\n",
      "2\n",
      "1\n",
      "5\n",
      "4\n",
      "7\n",
      "\n",
      "leftDepth  -1  of data 1\n",
      "\n",
      "\n",
      "rightDepth -1  of data 1\n",
      "maximum is  -1  of data 1\n",
      "\n",
      "leftDepth  0  of data 2\n",
      "\n",
      "\n",
      "rightDepth -1  of data 2\n",
      "maximum is  0  of data 2\n",
      "\n",
      "leftDepth  1  of data 3\n",
      "\n",
      "leftDepth  -1  of data 4\n",
      "\n",
      "\n",
      "rightDepth -1  of data 4\n",
      "maximum is  -1  of data 4\n",
      "\n",
      "leftDepth  0  of data 5\n",
      "\n",
      "leftDepth  -1  of data 7\n",
      "\n",
      "\n",
      "rightDepth -1  of data 7\n",
      "maximum is  -1  of data 7\n",
      "\n",
      "\n",
      "rightDepth 0  of data 5\n",
      "maximum is  0  of data 5\n",
      "\n",
      "\n",
      "rightDepth 1  of data 3\n",
      "maximum is  1  of data 3\n"
     ]
    }
   ],
   "source": [
    "class Solution:\n",
    "    def insert(self,root,data):\n",
    "        if root==None:#tyo nai root huna vayo\n",
    "            return Node(data)\n",
    "        else:\n",
    "            if data<=root.data:\n",
    "                cur=self.insert(root.left,data)#recursion vayo ani left tira gayam\n",
    "                root.left=cur\n",
    "            else:\n",
    "                cur=self.insert(root.right,data)#recursion vayo ani right tira gayam\n",
    "                root.right=cur\n",
    "        return root\n",
    "    \n",
    "    \n",
    "    #auta level pachi add hudai janxa vana recursion is the best bet\n",
    "    #yesma ma ni ht tala bata mathi hudai janxa\n",
    "    #paila left ko vauxa and right ko garna thalxa from the leaf\n",
    "    def getHeight(self,root):\n",
    "        if root:#None xa vana else ma janxa\n",
    "            leftDepth = self.getHeight(root.left)\n",
    "            print(\"\\nleftDepth \",leftDepth,\" of data\",root.data)\n",
    "            rightDepth = self.getHeight(root.right)\n",
    "            print(\"\\n\\nrightDepth\",rightDepth,\" of data\",root.data)\n",
    "            \n",
    "            print(\"maximum is \",max(leftDepth,rightDepth),\" of data\",root.data)\n",
    "            return max(leftDepth,rightDepth) + 1\n",
    "        #0 1 2  samma janxa ani tai vara 1 add vayo\n",
    "        else:\n",
    "            return -1    \n",
    "        # leaf node ko ht 0 hunxa so -1 s\\return handini\n",
    "T=int(input())\n",
    "myTree=Solution()\n",
    "root=None\n",
    "for i in range(T):\n",
    "    data=int(input())\n",
    "    root=myTree.insert(root,data)#root chai node ko object vayo\n",
    "height=myTree.getHeight(root)        \n"
   ]
  },
  {
   "cell_type": "code",
   "execution_count": 10,
   "metadata": {},
   "outputs": [
    {
     "name": "stdout",
     "output_type": "stream",
     "text": [
      "1\n"
     ]
    }
   ],
   "source": [
    "if root:\n",
    "    print(\"1\")"
   ]
  },
  {
   "cell_type": "code",
   "execution_count": null,
   "metadata": {},
   "outputs": [],
   "source": []
  }
 ],
 "metadata": {
  "kernelspec": {
   "display_name": "Python 3",
   "language": "python",
   "name": "python3"
  },
  "language_info": {
   "codemirror_mode": {
    "name": "ipython",
    "version": 3
   },
   "file_extension": ".py",
   "mimetype": "text/x-python",
   "name": "python",
   "nbconvert_exporter": "python",
   "pygments_lexer": "ipython3",
   "version": "3.7.3"
  }
 },
 "nbformat": 4,
 "nbformat_minor": 2
}
