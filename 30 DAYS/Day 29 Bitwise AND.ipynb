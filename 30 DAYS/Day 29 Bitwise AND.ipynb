{
 "cells": [
  {
   "cell_type": "code",
   "execution_count": 2,
   "metadata": {},
   "outputs": [
    {
     "data": {
      "text/plain": [
       "4"
      ]
     },
     "execution_count": 2,
     "metadata": {},
     "output_type": "execute_result"
    }
   ],
   "source": [
    "4 & 5"
   ]
  },
  {
   "cell_type": "code",
   "execution_count": 11,
   "metadata": {},
   "outputs": [
    {
     "name": "stdout",
     "output_type": "stream",
     "text": [
      "1\n",
      "5 2\n",
      "1\n"
     ]
    }
   ],
   "source": [
    "for t_itr in range(int(input())):\n",
    "    n,k = [int(s) for s in input().split()]\n",
    "    max=0\n",
    "    for i in range(n+1):\n",
    "        for j in range(n+1):\n",
    "            anded=i & j\n",
    "            if i <j and anded <k and anded >max:\n",
    "                max=anded\n",
    "    print(max)            \n",
    "\n",
    "        "
   ]
  },
  {
   "cell_type": "markdown",
   "metadata": {},
   "source": [
    "# ABOVE CODE FINISHES LATE "
   ]
  },
  {
   "cell_type": "markdown",
   "metadata": {},
   "source": [
    "# SO THE QUICKEST WAY IS"
   ]
  },
  {
   "cell_type": "markdown",
   "metadata": {},
   "source": [
    "## 1) AND operation between 2 numbers, the answer would be <= LOWEST NUMBER of those 2 numbers"
   ]
  },
  {
   "cell_type": "markdown",
   "metadata": {},
   "source": [
    "## 2)OR operation between the highest possible answer and the immediate larger number to it."
   ]
  },
  {
   "cell_type": "markdown",
   "metadata": {},
   "source": [
    "# https://www.hackerrank.com/challenges/30-bitwise-and/forum/comments/427824"
   ]
  },
  {
   "cell_type": "markdown",
   "metadata": {},
   "source": [
    "# ALGORITHM"
   ]
  },
  {
   "cell_type": "markdown",
   "metadata": {},
   "source": [
    "## 1) paila x= k || k-1\n",
    "## 2) for x <N :\n",
    "###        x & k-1 this is the answer\n",
    "         "
   ]
  },
  {
   "cell_type": "markdown",
   "metadata": {},
   "source": [
    "## 3)for x>N:\n",
    "###        y=k-1 || k-2\n",
    "###        y & k-2 this is the answer"
   ]
  },
  {
   "cell_type": "code",
   "execution_count": 16,
   "metadata": {},
   "outputs": [
    {
     "name": "stdout",
     "output_type": "stream",
     "text": [
      "3\n",
      "5 2\n",
      "1\n",
      "8 5\n",
      "4\n",
      "2 2\n",
      "0\n"
     ]
    }
   ],
   "source": [
    "for i in range(int(input())):\n",
    "    n,k =map(int,input().split())\n",
    "    print(k-1 if (k | k-1) <= n else k-2)"
   ]
  },
  {
   "cell_type": "code",
   "execution_count": null,
   "metadata": {},
   "outputs": [],
   "source": []
  }
 ],
 "metadata": {
  "kernelspec": {
   "display_name": "Python 3",
   "language": "python",
   "name": "python3"
  },
  "language_info": {
   "codemirror_mode": {
    "name": "ipython",
    "version": 3
   },
   "file_extension": ".py",
   "mimetype": "text/x-python",
   "name": "python",
   "nbconvert_exporter": "python",
   "pygments_lexer": "ipython3",
   "version": "3.7.3"
  }
 },
 "nbformat": 4,
 "nbformat_minor": 2
}
