{
 "cells": [
  {
   "cell_type": "markdown",
   "metadata": {},
   "source": [
    "# BUBBLE SORT"
   ]
  },
  {
   "cell_type": "markdown",
   "metadata": {},
   "source": [
    "## The basic theory behind BubbleSort is that you take an array of integers and iterate through it; for each element at some index  whose value is greater than the element at the index following it (i.e., index ), you must swap the two values. The act of swapping these values causes the larger, unsorted values to float to the back (like a bubble) of the data structure until they land in the correct location."
   ]
  },
  {
   "cell_type": "markdown",
   "metadata": {},
   "source": [
    "# ------------------------------------------------------------------------------------------------------------"
   ]
  },
  {
   "cell_type": "code",
   "execution_count": 4,
   "metadata": {},
   "outputs": [
    {
     "name": "stdout",
     "output_type": "stream",
     "text": [
      "3\n",
      "1 2 3\n",
      "BREAKING\n",
      "Array is sorted in 0 swaps.\n",
      "First Element: 1\n",
      "Last Element: 3\n"
     ]
    }
   ],
   "source": [
    "import sys\n",
    "\n",
    "n = int(input().strip())\n",
    "a = list(map(int, input().strip().split(' ')))\n",
    "#numSwaps no. of swaps took place\n",
    "numSwaps=0\n",
    "for i in range(n-1):\n",
    "    for j in range(n-1):\n",
    "        if a[j]>a[j+1]:\n",
    "            x=a[j]\n",
    "            a[j]=a[j+1]\n",
    "            a[j+1]=x\n",
    "            numSwaps+=1\n",
    "    #edi ek patak list bata jada sorted nai xa vana feri gai rakhna parana       \n",
    "    #yo garda omega(n) hunxa n^2 ko thau ma\n",
    "    if numSwaps==0:\n",
    "            print(\"BREAKING\")\n",
    "            break\n",
    "firstElement=a[0]\n",
    "lastElement=a[-1]\n",
    "print(\"Array is sorted in {} swaps.\".format(numSwaps))\n",
    "print(\"First Element: {}\".format(firstElement))\n",
    "print(\"Last Element: {}\".format(lastElement))\n",
    "\n"
   ]
  },
  {
   "cell_type": "markdown",
   "metadata": {},
   "source": [
    "# BIG O NOTATION-max steps"
   ]
  },
  {
   "cell_type": "markdown",
   "metadata": {},
   "source": [
    "# Order in BIG O from weakest to fastest"
   ]
  },
  {
   "cell_type": "markdown",
   "metadata": {},
   "source": [
    "## (n-1)*(n-1) steps layo \n",
    "#    n^2-2n+1 \n",
    "#    n^2 produces higher impact so\n",
    "#   1)O(n^2) this is the weakest one of the algorithms->Bubble Sort,selection sort\n",
    "#   2)O(nlog(n))->n choti half half gardai janxam ,merge sort\n",
    "#   3)O(n)->linear search\n",
    "#   4)O(log(n))->half half gardai jana ma ,binary search\n",
    "#   5)O(1)\n"
   ]
  },
  {
   "cell_type": "markdown",
   "metadata": {},
   "source": [
    " "
   ]
  },
  {
   "cell_type": "markdown",
   "metadata": {},
   "source": [
    " "
   ]
  },
  {
   "cell_type": "markdown",
   "metadata": {},
   "source": [
    " "
   ]
  },
  {
   "cell_type": "markdown",
   "metadata": {},
   "source": [
    "# OMEGA -minimum steps"
   ]
  },
  {
   "cell_type": "markdown",
   "metadata": {},
   "source": [
    "## lower bound is still n^2 "
   ]
  },
  {
   "cell_type": "markdown",
   "metadata": {},
   "source": [
    "\n",
    "## 1)Omega(n^2)->selection sort\n",
    "## 2)Omega(nlog(n))->merge sort\n",
    "## 3)Omega(n)->Bubble Sort,\n",
    "## 4)Omega(log(n))\n",
    "## 5)Omega(1)->linear search\n",
    "\n",
    "\n",
    "\n",
    "\n",
    "\n"
   ]
  },
  {
   "cell_type": "markdown",
   "metadata": {},
   "source": [
    " "
   ]
  },
  {
   "cell_type": "markdown",
   "metadata": {},
   "source": [
    " "
   ]
  },
  {
   "cell_type": "markdown",
   "metadata": {},
   "source": [
    "# THETA->if algorithm has upperbound and lower bound identical"
   ]
  },
  {
   "cell_type": "markdown",
   "metadata": {},
   "source": [
    "\n",
    "## 1)theta(n^2)->selection sort\n",
    "## 2)theta(nlog(n))->merge sort"
   ]
  },
  {
   "cell_type": "code",
   "execution_count": null,
   "metadata": {},
   "outputs": [],
   "source": []
  }
 ],
 "metadata": {
  "kernelspec": {
   "display_name": "Python 3",
   "language": "python",
   "name": "python3"
  },
  "language_info": {
   "codemirror_mode": {
    "name": "ipython",
    "version": 3
   },
   "file_extension": ".py",
   "mimetype": "text/x-python",
   "name": "python",
   "nbconvert_exporter": "python",
   "pygments_lexer": "ipython3",
   "version": "3.7.3"
  }
 },
 "nbformat": 4,
 "nbformat_minor": 2
}
