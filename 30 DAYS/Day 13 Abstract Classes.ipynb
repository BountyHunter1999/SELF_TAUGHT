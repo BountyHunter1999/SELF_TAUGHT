{
 "cells": [
  {
   "cell_type": "markdown",
   "metadata": {},
   "source": [
    "## abstractmethod(function)\n",
    "## A decorator indicating abstract methods. \n",
    "## Using this decorator requires that the class's metaclass is ABCMeta or is derived from it.\n",
    "## A class that has a metaclass derived from ABCMeta cannot be instantiated unless\n",
    "## all of its abstract methods and properties are overridden."
   ]
  },
  {
   "cell_type": "code",
   "execution_count": null,
   "metadata": {},
   "outputs": [],
   "source": [
    "from abc import ABCMeta, abstractmethod\n",
    "class Book(object, metaclass=ABCMeta):\n",
    "    def __init__(self,title,author):\n",
    "        self.title=title\n",
    "        self.author=author   \n",
    "    @abstractmethod\n",
    "    #display lai overridden na garin jaal samma Book instantiated garna mildena \n",
    "    def display(): pass\n",
    "\n",
    "\n",
    "\n"
   ]
  },
  {
   "cell_type": "markdown",
   "metadata": {},
   "source": [
    "# auta base matra create garna xa vana abstact class banauni ani tesbata subclass haru banauna \n",
    "# Parent abstract class ko instance chai create garna mildena "
   ]
  },
  {
   "cell_type": "code",
   "execution_count": null,
   "metadata": {},
   "outputs": [],
   "source": [
    "#Write MyBook class\n",
    "class MyBook(Book):\n",
    "    def __init__(self,title,author,price):\n",
    "        self.title=title\n",
    "        self.author=author\n",
    "        self.price=price\n",
    "\n",
    "    def display(self):\n",
    "        print(\"Title: {}\".format(self.title))\n",
    "        print(\"Author: {}\".format(self.author))\n",
    "        print(\"Price: {}\".format(self.price))"
   ]
  },
  {
   "cell_type": "code",
   "execution_count": null,
   "metadata": {},
   "outputs": [],
   "source": [
    "title=input()\n",
    "author=input()\n",
    "price=int(input())\n",
    "new_novel=MyBook(title,author,price)\n",
    "new_novel.display()"
   ]
  }
 ],
 "metadata": {
  "kernelspec": {
   "display_name": "Python 3",
   "language": "python",
   "name": "python3"
  },
  "language_info": {
   "codemirror_mode": {
    "name": "ipython",
    "version": 3
   },
   "file_extension": ".py",
   "mimetype": "text/x-python",
   "name": "python",
   "nbconvert_exporter": "python",
   "pygments_lexer": "ipython3",
   "version": "3.7.3"
  }
 },
 "nbformat": 4,
 "nbformat_minor": 2
}
