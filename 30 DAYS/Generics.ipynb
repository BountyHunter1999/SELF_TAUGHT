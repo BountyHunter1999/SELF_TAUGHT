{
 "cells": [
  {
   "cell_type": "markdown",
   "metadata": {},
   "source": [
    "# C++ "
   ]
  },
  {
   "cell_type": "markdown",
   "metadata": {},
   "source": [
    "#include <iostream>\n",
    "#include <vector>//for using dynamic arrays\n",
    "#include <string>\n",
    "\n",
    "using namespace std;\n",
    "\n",
    "\n",
    "template<typename T>  void printArray(vector<T> a)\n",
    " //its not going to return any values so void and then the funtion name\n",
    "    {\n",
    "        for(T element:a)//for each loop\n",
    "        //for each element in the a of type T \n",
    "\n",
    "        {\n",
    "            cout<<element<<endl;\n",
    "        }\n",
    "    }\n",
    "\n",
    "\n",
    "int main() {\n",
    "\tint n;\n",
    "\t\n",
    "\tcin >> n;\n",
    "\tvector<int> int_vector(n);\n",
    "    dynamic array vayo --- tesko dataType ---\n",
    "    \n",
    "\tfor (int i = 0; i < n; i++) {\n",
    "\t\tint value;\n",
    "\t\tcin >> value;\n",
    "\t\tint_vector[i] = value;//vector ma insertion garako\n",
    "\t}\n",
    "    //int_vector.push_back(2) gara ra pani garna milxa\n",
    "\t\n",
    "\tcin >> n;\n",
    "\tvector<string> string_vector(n);\n",
    "\tfor (int i = 0; i < n; i++) {\n",
    "\t\tstring value;\n",
    "\t\tcin >> value;\n",
    "\t\tstring_vector[i] = value;\n",
    "\t}\n",
    "\n",
    "\tprintArray<int>(int_vector);\n",
    "\tprintArray<string>(string_vector);\n",
    "\n",
    "\treturn 0;\n",
    "}"
   ]
  },
  {
   "cell_type": "code",
   "execution_count": null,
   "metadata": {},
   "outputs": [],
   "source": []
  }
 ],
 "metadata": {
  "kernelspec": {
   "display_name": "Python 3",
   "language": "python",
   "name": "python3"
  },
  "language_info": {
   "codemirror_mode": {
    "name": "ipython",
    "version": 3
   },
   "file_extension": ".py",
   "mimetype": "text/x-python",
   "name": "python",
   "nbconvert_exporter": "python",
   "pygments_lexer": "ipython3",
   "version": "3.7.3"
  }
 },
 "nbformat": 4,
 "nbformat_minor": 2
}
