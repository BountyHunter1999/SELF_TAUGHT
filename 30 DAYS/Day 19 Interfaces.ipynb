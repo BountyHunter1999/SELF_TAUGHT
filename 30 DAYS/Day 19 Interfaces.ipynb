{
 "cells": [
  {
   "cell_type": "code",
   "execution_count": 9,
   "metadata": {},
   "outputs": [],
   "source": [
    "class AdvancedArithmetic(object):\n",
    "    def divisorSum(n):\n",
    "        raise NotImplementedError#yeslai override garna paryo yo tala ko class haru ma hunai parxa\n",
    "\n",
    "class Calculator(AdvancedArithmetic):\n",
    "    def divisorSum(self, n):\n",
    "        self.mul=0\n",
    "        for i in range(1,n+1):\n",
    "            if n%i==0:\n",
    "                print(f\"self.mul={self.mul}   and i is {i}    and self.mul+i={self.mul+i}\")\n",
    "                self.mul=self.mul+i\n",
    "        return self.mul        \n",
    "\n",
    "\n",
    "        \n",
    "\n"
   ]
  },
  {
   "cell_type": "code",
   "execution_count": 10,
   "metadata": {},
   "outputs": [
    {
     "name": "stdout",
     "output_type": "stream",
     "text": [
      "6\n",
      "self.mul=0   and i is 1    and self.mul+i=1\n",
      "self.mul=1   and i is 2    and self.mul+i=3\n",
      "self.mul=3   and i is 3    and self.mul+i=6\n",
      "self.mul=6   and i is 6    and self.mul+i=12\n",
      "I implemented: AdvancedArithmetic\n",
      "12\n"
     ]
    }
   ],
   "source": [
    "\n",
    "n = int(input())\n",
    "my_calculator = Calculator()\n",
    "s = my_calculator.divisorSum(n)\n",
    "print(\"I implemented: \" + type(my_calculator).__bases__[0].__name__)\n",
    "print(s)"
   ]
  },
  {
   "cell_type": "code",
   "execution_count": null,
   "metadata": {},
   "outputs": [],
   "source": []
  }
 ],
 "metadata": {
  "kernelspec": {
   "display_name": "Python 3",
   "language": "python",
   "name": "python3"
  },
  "language_info": {
   "codemirror_mode": {
    "name": "ipython",
    "version": 3
   },
   "file_extension": ".py",
   "mimetype": "text/x-python",
   "name": "python",
   "nbconvert_exporter": "python",
   "pygments_lexer": "ipython3",
   "version": "3.7.3"
  }
 },
 "nbformat": 4,
 "nbformat_minor": 2
}
