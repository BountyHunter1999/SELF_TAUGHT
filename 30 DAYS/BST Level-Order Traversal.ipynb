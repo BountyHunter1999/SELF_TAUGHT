{
 "cells": [
  {
   "cell_type": "code",
   "execution_count": 37,
   "metadata": {},
   "outputs": [],
   "source": [
    "import sys\n",
    "\n",
    "class Node:\n",
    "    def __init__(self,data):\n",
    "        self.right=self.left=None\n",
    "        self.data = data\n",
    "class Solution:\n",
    "    def insert(self,root,data):\n",
    "        if root==None:\n",
    "            print(\"Entering root=NONE\")\n",
    "            return Node(data)\n",
    "        else:\n",
    "            if data<=root.data:\n",
    "                cur=self.insert(root.left,data)\n",
    "                root.left=cur\n",
    "            else:\n",
    "                cur=self.insert(root.right,data)\n",
    "                root.right=cur\n",
    "        return root\n",
    "\n",
    "#     def levelOrder(self,root):\n",
    "#         #Write your code here\n"
   ]
  },
  {
   "cell_type": "code",
   "execution_count": 40,
   "metadata": {},
   "outputs": [
    {
     "name": "stdout",
     "output_type": "stream",
     "text": [
      "6\n",
      "3\n",
      "Entering root=NONE\n",
      "2\n",
      "Entering root=NONE\n",
      "5\n",
      "Entering root=NONE\n",
      "1\n",
      "Entering root=NONE\n",
      "4\n",
      "Entering root=NONE\n",
      "7\n",
      "Entering root=NONE\n"
     ]
    }
   ],
   "source": [
    "T=int(input())\n",
    "myTree=Solution()\n",
    "root=None\n",
    "for i in range(T):\n",
    "    data=int(input())\n",
    "    root=myTree.insert(root,data)"
   ]
  },
  {
   "cell_type": "markdown",
   "metadata": {},
   "source": [
    "# ROOT LEFT RIGHT(PREORDER)"
   ]
  },
  {
   "cell_type": "markdown",
   "metadata": {},
   "source": [
    "# BeforeQueue   |   Node(popped)  |    Node.left   |   Node.Right  |    After queue\n",
    "#  3                       |          0                  |        0            |       0                |        3\n",
    "#  3                        |         3                   |       2             |      5                 |       5,2\n",
    "#  5,2                      |        2                    |      1              |     0                  |      1,5\n",
    "#  1,5                       |       5                     |     4               |    7                   |     7,4,1\n",
    "#  7,4,1                     |      1                      |    0                |   0                    |    7,4\n",
    "#  7,4                         |     4                       |   0                 |  0                     |   7\n",
    "#  7                             |    7                        |  0                  | 0                      |  []"
   ]
  },
  {
   "cell_type": "code",
   "execution_count": 41,
   "metadata": {},
   "outputs": [],
   "source": [
    "\n",
    "\n",
    "def levelOrder(root):\n",
    "#     suru ma root matra insert vayo \n",
    "    queue = [root] if root else []\n",
    "    \n",
    "    print(\"Size of queue before enetering while\",len(queue))\n",
    "    \n",
    "\n",
    "\n",
    "\n",
    "    \n",
    "    while queue:\n",
    "        print(\"Length is \",len(queue))\n",
    "        node = queue.pop()\n",
    "        print(node.data, end=\" \")\n",
    "        \n",
    "        \n",
    "        if node.left:print(\"going to inser left\",node.left.data)\n",
    "        #yedi node.left exist garxa vana tyo tya \n",
    "        #queue ko first ma gayara tyo node object rakhxa rakhxa\n",
    "        if node.left: queue.insert(0,node.left)\n",
    "            \n",
    "        if node.right:print(\"going to inser right\",node.right.data)   \n",
    "        #yedi node.right exist garxa vana tyo tya     \n",
    "        #queue ko first ma gayara tyo node object rakhxa rakhxa\n",
    "        if node.right: queue.insert(0,node.right)\n",
    "            \n",
    "            \n",
    "        \n",
    "        "
   ]
  },
  {
   "cell_type": "code",
   "execution_count": 42,
   "metadata": {},
   "outputs": [
    {
     "name": "stdout",
     "output_type": "stream",
     "text": [
      "Size of queue before enetering while 1\n",
      "Length is  1\n",
      "3 going to inser left 2\n",
      "going to inser right 5\n",
      "Length is  2\n",
      "2 going to inser left 1\n",
      "Length is  2\n",
      "5 going to inser left 4\n",
      "going to inser right 7\n",
      "Length is  3\n",
      "1 Length is  2\n",
      "4 Length is  1\n",
      "7 "
     ]
    }
   ],
   "source": [
    "levelOrder(root)"
   ]
  },
  {
   "cell_type": "code",
   "execution_count": 22,
   "metadata": {},
   "outputs": [
    {
     "data": {
      "text/plain": [
       "1"
      ]
     },
     "execution_count": 22,
     "metadata": {},
     "output_type": "execute_result"
    }
   ],
   "source": [
    "len(q)"
   ]
  },
  {
   "cell_type": "code",
   "execution_count": 17,
   "metadata": {},
   "outputs": [
    {
     "ename": "AttributeError",
     "evalue": "'Solution' object has no attribute 'levelOrder'",
     "output_type": "error",
     "traceback": [
      "\u001b[1;31m---------------------------------------------------------------------------\u001b[0m",
      "\u001b[1;31mAttributeError\u001b[0m                            Traceback (most recent call last)",
      "\u001b[1;32m<ipython-input-17-ad2612499e59>\u001b[0m in \u001b[0;36m<module>\u001b[1;34m\u001b[0m\n\u001b[1;32m----> 1\u001b[1;33m \u001b[0mmyTree\u001b[0m\u001b[1;33m.\u001b[0m\u001b[0mlevelOrder\u001b[0m\u001b[1;33m(\u001b[0m\u001b[0mroot\u001b[0m\u001b[1;33m)\u001b[0m\u001b[1;33m\u001b[0m\u001b[1;33m\u001b[0m\u001b[0m\n\u001b[0m",
      "\u001b[1;31mAttributeError\u001b[0m: 'Solution' object has no attribute 'levelOrder'"
     ]
    }
   ],
   "source": [
    "myTree.levelOrder(root)"
   ]
  },
  {
   "cell_type": "code",
   "execution_count": 43,
   "metadata": {},
   "outputs": [],
   "source": [
    "l=[]"
   ]
  },
  {
   "cell_type": "code",
   "execution_count": 45,
   "metadata": {},
   "outputs": [],
   "source": [
    "\n",
    "l.insert(0,2)"
   ]
  },
  {
   "cell_type": "code",
   "execution_count": 46,
   "metadata": {},
   "outputs": [
    {
     "data": {
      "text/plain": [
       "[2, 1]"
      ]
     },
     "execution_count": 46,
     "metadata": {},
     "output_type": "execute_result"
    }
   ],
   "source": [
    "l"
   ]
  },
  {
   "cell_type": "code",
   "execution_count": null,
   "metadata": {},
   "outputs": [],
   "source": []
  }
 ],
 "metadata": {
  "kernelspec": {
   "display_name": "Python 3",
   "language": "python",
   "name": "python3"
  },
  "language_info": {
   "codemirror_mode": {
    "name": "ipython",
    "version": 3
   },
   "file_extension": ".py",
   "mimetype": "text/x-python",
   "name": "python",
   "nbconvert_exporter": "python",
   "pygments_lexer": "ipython3",
   "version": "3.7.3"
  }
 },
 "nbformat": 4,
 "nbformat_minor": 2
}
