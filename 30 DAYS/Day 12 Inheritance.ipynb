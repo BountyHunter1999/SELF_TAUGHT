{
 "cells": [
  {
   "cell_type": "code",
   "execution_count": 10,
   "metadata": {},
   "outputs": [],
   "source": [
    "class Person:\n",
    "    def __init__(self, firstName, lastName, idNumber):\n",
    "        self.firstName = firstName\n",
    "        self.lastName = lastName\n",
    "        self.idNumber = idNumber\n",
    "    def printPerson(self):\n",
    "        print(\"Name:\", self.lastName + \",\", self.firstName)\n",
    "        print(\"ID:\", self.idNumber)\n",
    "\n",
    "\n",
    "\n"
   ]
  },
  {
   "cell_type": "code",
   "execution_count": 15,
   "metadata": {},
   "outputs": [],
   "source": [
    "class Student(Person):\n",
    "    #   Class Constructor\n",
    "    def __init__(self,firstName,lastName,idNumber,scores):\n",
    "        #   Parameters:\n",
    "        #   firstName - A string denoting the Person's first name.\n",
    "        #   lastName - A string denoting the Person's last name.\n",
    "        #   id - An integer denoting the Person's ID number.\n",
    "        #   scores - An array of integers denoting the Person's test scores.\n",
    "        self.firstName=firstName\n",
    "        self.lastName=lastName\n",
    "        self.idNumber=idNumber\n",
    "        self.scores=scores\n",
    "\n",
    "    \n",
    "\n",
    "    #   Function Name: calculate\n",
    "    #   Return: A character denoting the grade.\n",
    "    #\n",
    "    # Write your function here\n",
    "    def calculate(self):\n",
    "        avg=mean(scores)\n",
    "        if avg>=90 and avg<=100:\n",
    "            return 'O'\n",
    "        elif avg>=80 and avg<90:\n",
    "            return 'E'\n",
    "        elif avg>=70 and avg<80:\n",
    "            return 'A'\n",
    "        elif avg>=55 and avg<70:\n",
    "            return 'P'\n",
    "        elif avg>=40 and avg<55:\n",
    "            return 'D'\n",
    "        elif avg<40:\n",
    "            return 'T'\n",
    "        \n",
    "        "
   ]
  },
  {
   "cell_type": "code",
   "execution_count": 16,
   "metadata": {},
   "outputs": [],
   "source": [
    "from  statistics import mean"
   ]
  },
  {
   "cell_type": "code",
   "execution_count": 17,
   "metadata": {},
   "outputs": [
    {
     "name": "stdout",
     "output_type": "stream",
     "text": [
      "Shrish ADhikari 204\n",
      "22 30\n",
      "Name: ADhikari, Shrish\n",
      "ID: 204\n",
      "Grade: T\n"
     ]
    }
   ],
   "source": [
    "\n",
    "#3ta input linxa\n",
    "line = input().split()\n",
    "firstName = line[0]\n",
    "lastName = line[1]\n",
    "idNum = line[2]\n",
    "\n",
    " \n",
    "#numScores = int(input()) # not needed for Python\n",
    "#deuta number linxa\n",
    "scores = list( map(int, input().split()) )#2ta input lai int ma mapping gara ra list banauna \n",
    "s = Student(firstName, lastName, idNum, scores)\n",
    "s.printPerson()\n",
    "print(\"Grade:\", s.calculate())"
   ]
  },
  {
   "cell_type": "code",
   "execution_count": 9,
   "metadata": {},
   "outputs": [
    {
     "data": {
      "text/plain": [
       "67.5"
      ]
     },
     "execution_count": 9,
     "metadata": {},
     "output_type": "execute_result"
    }
   ],
   "source": [
    "a=[12,123]\n",
    "mean(a)"
   ]
  },
  {
   "cell_type": "code",
   "execution_count": null,
   "metadata": {},
   "outputs": [],
   "source": []
  }
 ],
 "metadata": {
  "kernelspec": {
   "display_name": "Python 3",
   "language": "python",
   "name": "python3"
  },
  "language_info": {
   "codemirror_mode": {
    "name": "ipython",
    "version": 3
   },
   "file_extension": ".py",
   "mimetype": "text/x-python",
   "name": "python",
   "nbconvert_exporter": "python",
   "pygments_lexer": "ipython3",
   "version": "3.7.3"
  }
 },
 "nbformat": 4,
 "nbformat_minor": 2
}
