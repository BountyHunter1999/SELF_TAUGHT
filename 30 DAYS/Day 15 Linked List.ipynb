{
 "cells": [
  {
   "cell_type": "markdown",
   "metadata": {},
   "source": [
    "## The function gets called with the whole linked list. \n",
    "    If the list is empty,\n",
    "    \tinsert the element as the head.\n",
    "\n",
    "    Otherwise,\n",
    "    \tcall the function with all of the elements except for the current head"
   ]
  },
  {
   "cell_type": "code",
   "execution_count": 1,
   "metadata": {},
   "outputs": [
    {
     "name": "stdout",
     "output_type": "stream",
     "text": [
      "4\n",
      "4\n",
      "0:___><__main__.Node object at 0x00000289F9A80DA0>\n",
      "6\n",
      "1:___><__main__.Node object at 0x00000289F9A80DA0>\n",
      "1\n",
      "2:___><__main__.Node object at 0x00000289F9A80DA0>\n",
      "3\n",
      "3:___><__main__.Node object at 0x00000289F9A80DA0>\n",
      "4 <__main__.Node object at 0x00000289F9994E80>\n",
      "6 <__main__.Node object at 0x00000289F9A80EF0>\n",
      "1 <__main__.Node object at 0x00000289F9994F28>\n",
      "3 None\n"
     ]
    }
   ],
   "source": [
    "class Node:\n",
    "    def __init__(self,data):\n",
    "        self.data = data\n",
    "        self.next = None \n",
    "class Solution: \n",
    "    def display(self,head):\n",
    "        current = head\n",
    "        #head is reference to the first node\n",
    "        while current:#current NONE vayasi end hunxa \n",
    "            print(current.data,end=' ')#same line print ko lagi\n",
    "            current = current.next\n",
    "#             print(current)\n",
    "\n",
    "#     def insert(self,head,data):\n",
    "#         if (head==None):\n",
    "#             head=Node(data)\n",
    "#         elif(head.next==None):\n",
    "#             head.next=Node(data)\n",
    "#         else:\n",
    "#             head=self.insert(head.next,data)  \n",
    "                   \n",
    "#         return head\n",
    "    def insert(self,head,data):\n",
    "        if (head == None):\n",
    "            #first place khali xa vana tai insert huna vayo\n",
    "            head = Node(data)\n",
    "        else: \n",
    "            #recursion garara next position ma pugiyo and that's the present head \n",
    "            head.next = self.insert(head.next, data)\n",
    "        return head\n",
    "\n",
    "    #Complete this method\n",
    "\n",
    "mylist= Solution()\n",
    "T=int(input())\n",
    "head=None\n",
    "for i in range(T):\n",
    "    data=int(input())\n",
    "    head=mylist.insert(head,data)  \n",
    "    #print(f\"{i}:___>{head}\")\n",
    "mylist.display(head); \t  "
   ]
  },
  {
   "cell_type": "code",
   "execution_count": 2,
   "metadata": {},
   "outputs": [],
   "source": [
    "while None:\n",
    "    print(1)"
   ]
  },
  {
   "cell_type": "code",
   "execution_count": null,
   "metadata": {},
   "outputs": [],
   "source": []
  }
 ],
 "metadata": {
  "kernelspec": {
   "display_name": "Python 3",
   "language": "python",
   "name": "python3"
  },
  "language_info": {
   "codemirror_mode": {
    "name": "ipython",
    "version": 3
   },
   "file_extension": ".py",
   "mimetype": "text/x-python",
   "name": "python",
   "nbconvert_exporter": "python",
   "pygments_lexer": "ipython3",
   "version": "3.7.3"
  }
 },
 "nbformat": 4,
 "nbformat_minor": 2
}
