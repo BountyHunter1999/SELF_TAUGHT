{
 "cells": [
  {
   "cell_type": "code",
   "execution_count": null,
   "metadata": {},
   "outputs": [],
   "source": [
    "# # pip install requests\n",
    "# pip install beautifulsoup4\n"
   ]
  },
  {
   "cell_type": "code",
   "execution_count": 13,
   "metadata": {},
   "outputs": [],
   "source": [
    "import requests\n",
    "from bs4 import BeautifulSoup"
   ]
  },
  {
   "cell_type": "code",
   "execution_count": 14,
   "metadata": {},
   "outputs": [],
   "source": [
    "result = requests.get(\"https://www.google.com\")"
   ]
  },
  {
   "cell_type": "markdown",
   "metadata": {},
   "source": [
    "### 200 code means content we are looking for is present 404 not present"
   ]
  },
  {
   "cell_type": "code",
   "execution_count": 15,
   "metadata": {},
   "outputs": [
    {
     "name": "stdout",
     "output_type": "stream",
     "text": [
      "200\n"
     ]
    }
   ],
   "source": [
    "print(result.status_code)"
   ]
  },
  {
   "cell_type": "code",
   "execution_count": 16,
   "metadata": {},
   "outputs": [
    {
     "name": "stdout",
     "output_type": "stream",
     "text": [
      "{'Date': 'Sun, 09 Feb 2020 12:58:07 GMT', 'Expires': '-1', 'Cache-Control': 'private, max-age=0', 'Content-Type': 'text/html; charset=ISO-8859-1', 'P3P': 'CP=\"This is not a P3P policy! See g.co/p3phelp for more info.\"', 'Content-Encoding': 'gzip', 'Server': 'gws', 'X-XSS-Protection': '0', 'X-Frame-Options': 'SAMEORIGIN', 'Set-Cookie': '1P_JAR=2020-02-09-12; expires=Tue, 10-Mar-2020 12:58:07 GMT; path=/; domain=.google.com; Secure, NID=197=YQDcod74FKVd1O37yfl5cEYiPNNhTNTdpv1LELbuZkt4qUYEmJMIBoO_p-Gv6h1v50TD0zeoQ72LE6G2-uxN8OED3mNahcp0MTRI4SSVcpqu4aEAEQo2nXRYE_ivcO5hU4Yy5OoiesKeIz53aF5hDjRaNgMeuKmrgLHWC4cOsMk; expires=Mon, 10-Aug-2020 12:58:07 GMT; path=/; domain=.google.com; HttpOnly', 'Alt-Svc': 'quic=\":443\"; ma=2592000; v=\"46,43\",h3-Q050=\":443\"; ma=2592000,h3-Q049=\":443\"; ma=2592000,h3-Q048=\":443\"; ma=2592000,h3-Q046=\":443\"; ma=2592000,h3-Q043=\":443\"; ma=2592000', 'Transfer-Encoding': 'chunked'}\n"
     ]
    }
   ],
   "source": [
    "print(result.headers)#print http headers  of the website"
   ]
  },
  {
   "cell_type": "markdown",
   "metadata": {},
   "source": [
    "extract the content of the page in a variable"
   ]
  },
  {
   "cell_type": "code",
   "execution_count": 17,
   "metadata": {},
   "outputs": [],
   "source": [
    "src = result.content"
   ]
  },
  {
   "cell_type": "code",
   "execution_count": 18,
   "metadata": {},
   "outputs": [
    {
     "data": {
      "text/plain": [
       "b'<!doctype html><html itemscope=\"\" itemtype=\"http://schema.org/WebPage\" lang=\"ne\"><head><meta content=\"text/html; charset=UTF-8\" http-equiv=\"Content-Type\"><meta content=\"/images/branding/googleg/1x/googleg_standard_color_128dp.png\" itemprop=\"image\"><title>Google</title><script nonce=\"sQ8ovmEdLDSh8CwaaNEE4g==\">(function(){window.google={kEI:\\'3wFAXryEJYSKmge7nIn4Aw\\',kEXPI:\\'0,202084,12,1151650,5663,730,32,192,5104,207,1244,1711,249,10,290,761,175,364,926,50,386,73,4,60,690,52,75,383,142,874,559,1127796,1197739,410,28,16,329074,1294,12383,4855,32692,15247,867,28684,363,8825,8384,4859,1361,4323,4968,3026,4741,3118,7910,2,1811,1976,10953,5297,2054,920,873,1215,2977,5391,315,724,11306,2883,21,317,1982,2535,2778,520,399,2277,8,2796,1593,1279,1042,1170,202,328,149,1103,840,517,1474,48,4258,109,151,52,1137,2,2063,606,1839,184,1777,520,1947,747,429,44,1009,93,328,1284,16,84,417,2426,1639,608,473,459,880,748,1039,3227,773,2072,7,1320,4279,2034,6513,2662,170,472,427,302,1721,2458,1226,1462,281,3653,1275,108,1246,210,1471,480,908,2,433,142,366,522,323,127,1276,366,2132,265,1386,565,944,1594,575,355,226,995,830,840,175,13,2,20,1696,355,636,88,29,156,625,189,58,125,388,40,165,89,373,200,623,304,512,118,118,5,241,398,1025,1,379,328,2265,195,295,690,428,36,483,501,41,41,173,6,1012,199,2,51,37,94,811,677,541,633,615,5848604,1805894,4194968,2801054,549,333,444,1,2,80,1,900,896,1,8,1,2,2551,1,748,141,795,10,553,1,4265,1,1,1,1,137,1,879,9,305,141,98,197,2,71,20,13,3,23963859,24\\',kBL:\\'TVpb\\'};google.sn=\\'webhp\\';google.kHL=\\'ne\\';})();(function(){google.lc=[];google.li=0;google.getEI=function(a){for(var b;a&&(!a.getAttribute||!(b=a.getAttribute(\"eid\")));)a=a.parentNode;return b||google.kEI};google.getLEI=function(a){for(var b=null;a&&(!a.getAttribute||!(b=a.getAttribute(\"leid\")));)a=a.parentNode;return b};google.ml=function(){return null};google.time=function(){return Date.now()};google.log=function(a,b,e,c,g){if(a=google.logUrl(a,b,e,c,g)){b=new Image;var d=google.lc,f=google.li;d[f]=b;b.onerror=b.onload=b.onabort=function(){delete d[f]};google.vel&&google.vel.lu&&google.vel.lu(a);b.src=a;google.li=f+1}};google.logUrl=function(a,b,e,c,g){var d=\"\",f=google.ls||\"\";e||-1!=b.search(\"&ei=\")||(d=\"&ei=\"+google.getEI(c),-1==b.search(\"&lei=\")&&(c=google.getLEI(c))&&(d+=\"&lei=\"+c));c=\"\";!e&&google.cshid&&-1==b.search(\"&cshid=\")&&\"slh\"!=a&&(c=\"&cshid=\"+google.cshid);a=e||\"/\"+(g||\"gen_204\")+\"?atyp=i&ct=\"+a+\"&cad=\"+b+d+f+\"&zx=\"+google.time()+c;/^http:/i.test(a)&&\"https:\"==window.location.protocol&&(google.ml(Error(\"a\"),!1,{src:a,glmm:1}),a=\"\");return a};}).call(this);(function(){google.y={};google.x=function(a,b){if(a)var c=a.id;else{do c=Math.random();while(google.y[c])}google.y[c]=[a,b];return!1};google.lm=[];google.plm=function(a){google.lm.push.apply(google.lm,a)};google.lq=[];google.load=function(a,b,c){google.lq.push([[a],b,c])};google.loadAll=function(a,b){google.lq.push([a,b])};}).call(this);google.f={};(function(){\\ndocument.documentElement.addEventListener(\"submit\",function(b){var a;if(a=b.target){var c=a.getAttribute(\"data-submitfalse\");a=\"1\"==c||\"q\"==c&&!a.elements.q.value?!0:!1}else a=!1;a&&(b.preventDefault(),b.stopPropagation())},!0);document.documentElement.addEventListener(\"click\",function(b){var a;a:{for(a=b.target;a&&a!=document.documentElement;a=a.parentElement)if(\"A\"==a.tagName){a=\"1\"==a.getAttribute(\"data-nohref\");break a}a=!1}a&&b.preventDefault()},!0);}).call(this);\\nvar a=window.location,b=a.href.indexOf(\"#\");if(0<=b){var c=a.href.substring(b+1);/(^|&)q=/.test(c)&&-1==c.indexOf(\"#\")&&a.replace(\"/search?\"+c.replace(/(^|&)fp=[^&]*/g,\"\")+\"&cad=h\")};</script><style>#gbar,#guser{font-size:13px;padding-top:1px !important;}#gbar{height:22px}#guser{padding-bottom:7px !important;text-align:right}.gbh,.gbd{border-top:1px solid #c9d7f1;font-size:1px}.gbh{height:0;position:absolute;top:24px;width:100%}@media all{.gb1{height:22px;margin-right:.5em;vertical-align:top}#gbar{float:left}}a.gb1,a.gb4{text-decoration:underline !important}a.gb1,a.gb4{color:#00c !important}.gbi .gb4{color:#dd8e27 !important}.gbf .gb4{color:#900 !important}\\n</style><style>body,td,a,p,.h{font-family:arial,sans-serif}body{margin:0;overflow-y:scroll}#gog{padding:3px 8px 0}td{line-height:.8em}.gac_m td{line-height:17px}form{margin-bottom:20px}.h{color:#36c}.q{color:#00c}.ts td{padding:0}.ts{border-collapse:collapse}em{font-weight:bold;font-style:normal}.lst{height:25px;width:496px}.gsfi,.lst{font:18px arial,sans-serif}.gsfs{font:17px arial,sans-serif}.ds{display:inline-box;display:inline-block;margin:3px 0 4px;margin-left:4px}input{font-family:inherit}a.gb1,a.gb2,a.gb3,a.gb4{color:#11c !important}body{background:#fff;color:#000}a{color:#11c;text-decoration:none}a:hover,a:active{text-decoration:underline}.fl a{color:#36c}a:visited{color:#551a8b}a.gb1,a.gb4{text-decoration:underline}a.gb3:hover{text-decoration:none}#ghead a.gb2:hover{color:#fff !important}.sblc{padding-top:5px}.sblc a{display:block;margin:2px 0;margin-left:13px;font-size:11px}.lsbb{background:#eee;border:solid 1px;border-color:#ccc #999 #999 #ccc;height:30px}.lsbb{display:block}.ftl,#fll a{display:inline-block;margin:0 12px}.lsb{background:url(/images/nav_logo229.png) 0 -261px repeat-x;border:none;color:#000;cursor:pointer;height:30px;margin:0;outline:0;font:15px arial,sans-serif;vertical-align:top}.lsb:active{background:#ccc}.lst:focus{outline:none}.tiah{width:458px}</style><script nonce=\"sQ8ovmEdLDSh8CwaaNEE4g==\"></script></head><body bgcolor=\"#fff\"><script nonce=\"sQ8ovmEdLDSh8CwaaNEE4g==\">(function(){var src=\\'/images/nav_logo229.png\\';var iesg=false;document.body.onload = function(){window.n && window.n();if (document.images){new Image().src=src;}\\nif (!iesg){document.f&&document.f.q.focus();document.gbqf&&document.gbqf.q.focus();}\\n}\\n})();</script><div id=\"mngb\"> <div id=gbar><nobr><b class=gb1>&#2326;&#2379;&#2332;</b> <a class=gb1 href=\"https://www.google.com.np/imghp?hl=ne&tab=wi\">&#2340;&#2360;&#2381;&#2348;&#2367;&#2352;</a> <a class=gb1 href=\"https://maps.google.com.np/maps?hl=ne&tab=wl\">&#2344;&#2325;&#2381;&#2360;&#2366;</a> <a class=gb1 href=\"https://mail.google.com/mail/?tab=wm\">Gmail</a> <a class=gb1 href=\"https://drive.google.com/?tab=wo\">&#2337;&#2381;&#2352;&#2366;&#2311;&#2349;</a> <a class=gb1 href=\"https://www.google.com/calendar?tab=wc\">&#2346;&#2366;&#2340;&#2381;&#2352;&#2379;</a> <a class=gb1 href=\"https://translate.google.com.np/?hl=ne&tab=wT\">&#2309;&#2344;&#2369;&#2348;&#2366;&#2342; &#2327;&#2352;&#2381;&#2344;&#2369;&#2361;&#2379;&#2360;&#2381;</a> <a class=gb1 href=\"https://www.blogger.com/?tab=wj\">&#2348;&#2381;&#2354;&#2327;&#2352;</a> <a class=gb1 style=\"text-decoration:none\" href=\"https://www.google.com.np/intl/en/about/products?tab=wh\"><u>&#2341;&#2346;</u> &raquo;</a></nobr></div><div id=guser width=100%><nobr><span id=gbn class=gbi></span><span id=gbf class=gbf></span><span id=gbe></span><a href=\"http://www.google.com.np/history/optout?hl=ne\" class=gb4>&#2357;&#2375;&#2348; &#2311;&#2340;&#2367;&#2361;&#2366;&#2360;</a> | <a  href=\"/preferences?hl=ne\" class=gb4>&#2346;&#2381;&#2352;&#2366;&#2341;&#2350;&#2367;&#2325;&#2340;&#2366;&#2361;&#2352;&#2370;</a> | <a target=_top id=gb_70 href=\"https://accounts.google.com/ServiceLogin?hl=ne&passive=true&continue=https://www.google.com/\" class=gb4>&#2360;&#2366;&#2311;&#2344; &#2311;&#2344;</a></nobr></div><div class=gbh style=left:0></div><div class=gbh style=right:0></div> </div><center><br clear=\"all\" id=\"lgpd\"><div id=\"lga\"><img alt=\"Google\" height=\"92\" src=\"/images/branding/googlelogo/1x/googlelogo_white_background_color_272x92dp.png\" style=\"padding:28px 0 14px\" width=\"272\" id=\"hplogo\"><br><br></div><form action=\"/search\" name=\"f\"><table cellpadding=\"0\" cellspacing=\"0\"><tr valign=\"top\"><td width=\"25%\">&nbsp;</td><td align=\"center\" nowrap=\"\"><input name=\"ie\" value=\"ISO-8859-1\" type=\"hidden\"><input value=\"ne\" name=\"hl\" type=\"hidden\"><input name=\"source\" type=\"hidden\" value=\"hp\"><input name=\"biw\" type=\"hidden\"><input name=\"bih\" type=\"hidden\"><div class=\"ds\" style=\"height:32px;margin:4px 0\"><div style=\"position:relative;zoom:1\"><input class=\"lst tiah\" style=\"color:#000;margin:0;padding:5px 8px 0 6px;vertical-align:top;padding-right:38px\" autocomplete=\"off\" value=\"\" title=\"Google &#2326;&#2379;&#2332;&#2368;\" maxlength=\"2048\" name=\"q\" size=\"57\"><img src=\"/textinputassistant/tia.png\" style=\"position:absolute;cursor:pointer;right:5px;top:4px;z-index:300\" data-script-url=\"/textinputassistant/11/ne_tia.js\" id=\"tsuid1\" alt=\"\" height=\"23\" width=\"27\"><script nonce=\"sQ8ovmEdLDSh8CwaaNEE4g==\">(function(){var id=\\'tsuid1\\';document.getElementById(id).onclick = function(){var s = document.createElement(\\'script\\');s.src = this.getAttribute(\\'data-script-url\\');(document.getElementById(\\'xjsc\\')||document.body).appendChild(s);};})();</script></div></div><br style=\"line-height:0\"><span class=\"ds\"><span class=\"lsbb\"><input class=\"lsb\" value=\"Google &#2326;&#2379;&#2332;&#2368;\" name=\"btnG\" type=\"submit\"></span></span><span class=\"ds\"><span class=\"lsbb\"><input class=\"lsb\" id=\"tsuid2\" value=\"&#2350; &#2349;&#2366;&#2327;&#2381;&#2351;&#2350;&#2366;&#2344;&#2368; &#2309;&#2344;&#2369;&#2349;&#2370;&#2340;&#2367; &#2327;&#2352;&#2367;&#2352;&#2361;&#2375;&#2331;&#2369;\" name=\"btnI\" type=\"submit\"><script nonce=\"sQ8ovmEdLDSh8CwaaNEE4g==\">(function(){var id=\\'tsuid2\\';document.getElementById(id).onclick = function(){if (this.form.q.value){this.checked = 1;if (this.form.iflsig)this.form.iflsig.disabled = false;}\\nelse top.location=\\'/doodles/\\';};})();</script><input value=\"AAP1E1EAAAAAXkAP71qHsr3_i3FoiiWrFZoTCipYDJmJ\" name=\"iflsig\" type=\"hidden\"></span></span></td><td class=\"fl sblc\" align=\"left\" nowrap=\"\" width=\"25%\"><a href=\"/advanced_search?hl=ne&amp;authuser=0\">&#2313;&#2344;&#2381;&#2344;&#2340; &#2326;&#2379;&#2332; </a></td></tr></table><input id=\"gbv\" name=\"gbv\" type=\"hidden\" value=\"1\"><script nonce=\"sQ8ovmEdLDSh8CwaaNEE4g==\">(function(){var a,b=\"1\";if(document&&document.getElementById)if(\"undefined\"!=typeof XMLHttpRequest)b=\"2\";else if(\"undefined\"!=typeof ActiveXObject){var c,d,e=[\"MSXML2.XMLHTTP.6.0\",\"MSXML2.XMLHTTP.3.0\",\"MSXML2.XMLHTTP\",\"Microsoft.XMLHTTP\"];for(c=0;d=e[c++];)try{new ActiveXObject(d),b=\"2\"}catch(h){}}a=b;if(\"2\"==a&&-1==location.search.indexOf(\"&gbv=2\")){var f=google.gbvu,g=document.getElementById(\"gbv\");g&&(g.value=a);f&&window.setTimeout(function(){location.href=f},0)};}).call(this);</script></form><div id=\"gac_scont\"></div><div style=\"font-size:83%;min-height:3.5em\"><br><div id=\"gws-output-pages-elements-homepage_additional_languages__als\"><style>#gws-output-pages-elements-homepage_additional_languages__als{font-size:small;margin-bottom:24px}#SIvCob{display:inline-block;line-height:28px;}#SIvCob a{padding:0 3px;}.H6sW5{display:inline-block;margin:0 2px;white-space:nowrap}.z4hgWe{display:inline-block;margin:0 2px}</style><div id=\"SIvCob\">Google &#2351;&#2368; &#2349;&#2366;&#2359;&#2366;&#2350;&#2366; &#2313;&#2346;&#2354;&#2348;&#2381;&#2343; &#2331;:  <a href=\"https://www.google.com/setprefs?sig=0_X_Nxy8F3N46yiKNOkI1eFe_TC_0%3D&amp;hl=en&amp;source=homepage&amp;sa=X&amp;ved=0ahUKEwj879jkwsTnAhUEheYKHTtOAj8Q2ZgBCAU\">English</a>  </div></div></div><span id=\"footer\"><div style=\"font-size:10pt\"><div style=\"margin:19px auto;text-align:center\" id=\"fll\"><a href=\"/intl/ne/about.html\">Google&#2325;&#2379; &#2348;&#2366;&#2352;&#2375;&#2350;&#2366; &#2360;&#2350;&#2381;&#2346;&#2370;&#2352;&#2381;&#2339;</a><a href=\"https://www.google.com/setprefdomain?prefdom=NP&amp;prev=https://www.google.com.np/&amp;sig=K_8E1hN-RHn_G4ZiC9CKo-2YITQdQ%3D\">Google.com.np</a></div></div><p style=\"color:#767676;font-size:8pt\">&copy; 2020</p></span></center><script nonce=\"sQ8ovmEdLDSh8CwaaNEE4g==\">(function(){window.google.cdo={height:0,width:0};(function(){var a=window.innerWidth,b=window.innerHeight;if(!a||!b){var c=window.document,d=\"CSS1Compat\"==c.compatMode?c.documentElement:c.body;a=d.clientWidth;b=d.clientHeight}a&&b&&(a!=google.cdo.width||b!=google.cdo.height)&&google.log(\"\",\"\",\"/client_204?&atyp=i&biw=\"+a+\"&bih=\"+b+\"&ei=\"+google.kEI);}).call(this);})();(function(){var u=\\'/xjs/_/js/k\\\\x3dxjs.hp.en.2CDWMslARUU.O/m\\\\x3dsb_he,d/am\\\\x3dgAEBNgI/d\\\\x3d1/rs\\\\x3dACT90oEcUVMNhIXYs6TxFrI1sCfVqFsnxw\\';\\nsetTimeout(function(){var b=document;var a=\"SCRIPT\";\"application/xhtml+xml\"===b.contentType&&(a=a.toLowerCase());a=b.createElement(a);a.src=u;google.timers&&google.timers.load&&google.tick&&google.tick(\"load\",\"xjsls\");document.body.appendChild(a)},0);})();(function(){window.google.xjsu=\\'/xjs/_/js/k\\\\x3dxjs.hp.en.2CDWMslARUU.O/m\\\\x3dsb_he,d/am\\\\x3dgAEBNgI/d\\\\x3d1/rs\\\\x3dACT90oEcUVMNhIXYs6TxFrI1sCfVqFsnxw\\';})();function _DumpException(e){throw e;}\\nfunction _F_installCss(c){}\\n(function(){google.spjs=false;google.snet=true;google.em=[];google.emw=false;google.pdt=0;})();(function(){var pmc=\\'{\\\\x22d\\\\x22:{},\\\\x22sb_he\\\\x22:{\\\\x22agen\\\\x22:true,\\\\x22cgen\\\\x22:true,\\\\x22client\\\\x22:\\\\x22heirloom-hp\\\\x22,\\\\x22dh\\\\x22:true,\\\\x22dhqt\\\\x22:true,\\\\x22ds\\\\x22:\\\\x22\\\\x22,\\\\x22ffql\\\\x22:\\\\x22en\\\\x22,\\\\x22fl\\\\x22:true,\\\\x22host\\\\x22:\\\\x22google.com\\\\x22,\\\\x22isbh\\\\x22:28,\\\\x22jsonp\\\\x22:true,\\\\x22msgs\\\\x22:{\\\\x22cibl\\\\x22:\\\\x22&#2360;&#2381;&#2346;&#2359;&#2381;&#2335; &#2326;&#2379;&#2332;&#2368;\\\\x22,\\\\x22dym\\\\x22:\\\\x22&#2325;&#2375; &#2340;&#2346;&#2366;&#2312;&#2306; &#2354;&#2375; &#2351;&#2379; &#2349;&#2344;&#2381;&#2344; &#2326;&#2379;&#2332;&#2381;&#2344;&#2369; &#2349;&#2319;&#2325;&#2379; &#2361;&#2379; ?\\\\x22,\\\\x22lcky\\\\x22:\\\\x22&#2350; &#2349;&#2366;&#2327;&#2381;&#2351;&#2350;&#2366;&#2344;&#2368; &#2309;&#2344;&#2369;&#2349;&#2370;&#2340;&#2367; &#2327;&#2352;&#2367;&#2352;&#2361;&#2375;&#2331;&#2369;\\\\x22,\\\\x22lml\\\\x22:\\\\x22&#2341;&#2346; &#2332;&#2366;&#2344;&#2325;&#2366;&#2352;&#2368;\\\\x22,\\\\x22oskt\\\\x22:\\\\x22&#2310;&#2327;&#2340; &#2313;&#2346;&#2325;&#2352;&#2339;&#2361;&#2352;&#2370;\\\\x22,\\\\x22psrc\\\\x22:\\\\x22&#2351;&#2379; &#2326;&#2379;&#2332;&#2368; \\\\\\\\u003Ca href\\\\x3d\\\\\\\\\\\\x22/history\\\\\\\\\\\\x22\\\\\\\\u003E &#2340;&#2346;&#2366;&#2312;&#2325;&#2379; &#2357;&#2375;&#2348; &#2311;&#2340;&#2367;&#2361;&#2366;&#2360;\\\\\\\\u003C/a\\\\\\\\u003E&#2348;&#2366;&#2335; &#2361;&#2335;&#2366;&#2311;&#2351;&#2379;\\\\x22,\\\\x22psrl\\\\x22:\\\\x22&#2361;&#2335;&#2366;&#2313;&#2344;&#2369;&#2361;&#2379;&#2360;\\\\x22,\\\\x22sbit\\\\x22:\\\\x22&#2330;&#2367;&#2340;&#2381;&#2352;&#2342;&#2381;&#2357;&#2366;&#2352;&#2366; &#2326;&#2379;&#2332;&#2381;&#2344;&#2369;&#2361;&#2379;&#2360;&#2381;\\\\x22,\\\\x22srch\\\\x22:\\\\x22Google &#2326;&#2379;&#2332;&#2368;\\\\x22},\\\\x22ovr\\\\x22:{},\\\\x22pq\\\\x22:\\\\x22\\\\x22,\\\\x22refpd\\\\x22:true,\\\\x22rfs\\\\x22:[],\\\\x22sbpl\\\\x22:16,\\\\x22sbpr\\\\x22:16,\\\\x22scd\\\\x22:10,\\\\x22stok\\\\x22:\\\\x222niaRSRJzafwpio2UhcXnglqQtg\\\\x22,\\\\x22uhde\\\\x22:false}}\\';google.pmc=JSON.parse(pmc);})();</script>        </body></html>'"
      ]
     },
     "execution_count": 18,
     "metadata": {},
     "output_type": "execute_result"
    }
   ],
   "source": [
    "src"
   ]
  },
  {
   "cell_type": "markdown",
   "metadata": {},
   "source": [
    "### beautiful soup module parse and process the source .\n",
    "\n"
   ]
  },
  {
   "cell_type": "markdown",
   "metadata": {},
   "source": [
    "### create a beautiful soup object based on the source variable src"
   ]
  },
  {
   "cell_type": "code",
   "execution_count": 19,
   "metadata": {},
   "outputs": [],
   "source": [
    "soup =BeautifulSoup(src,\"lxml\")#lxml can be ignored but must be put\n",
    "#creating a soup object created from the source so we can extractr certain type of information "
   ]
  },
  {
   "cell_type": "code",
   "execution_count": 82,
   "metadata": {},
   "outputs": [
    {
     "data": {
      "text/plain": [
       "<title>The Dormouse's story</title>"
      ]
     },
     "execution_count": 82,
     "metadata": {},
     "output_type": "execute_result"
    }
   ],
   "source": [
    "#print the title of the webpage.\n",
    "soup.title"
   ]
  },
  {
   "cell_type": "code",
   "execution_count": 83,
   "metadata": {},
   "outputs": [
    {
     "data": {
      "text/plain": [
       "\"The Dormouse's story\""
      ]
     },
     "execution_count": 83,
     "metadata": {},
     "output_type": "execute_result"
    }
   ],
   "source": [
    " #get the text without the HTML tags, we just use .text:\n",
    "soup.title.text"
   ]
  },
  {
   "cell_type": "markdown",
   "metadata": {},
   "source": [
    "# get all the links in the page along with its attributes, such as href, title, and its inner Text"
   ]
  },
  {
   "cell_type": "code",
   "execution_count": 84,
   "metadata": {},
   "outputs": [
    {
     "name": "stdout",
     "output_type": "stream",
     "text": [
      "Inner Text: Elsie\n",
      "Title: None\n",
      "href: http://example.com/elsie\n",
      "Inner Text: Lacie\n",
      "Title: None\n",
      "href: http://example.com/lacie\n",
      "Inner Text: Tillie\n",
      "Title: None\n",
      "href: http://example.com/tillie\n"
     ]
    }
   ],
   "source": [
    "for link in soup.find_all(\"a\"):\n",
    "    print(\"Inner Text: {}\".format(link.text))#string haru tag bhitra ko \n",
    "    print(\"Title: {}\".format(link.get(\"title\")))\n",
    "    print(\"href: {}\".format(link.get(\"href\")))"
   ]
  },
  {
   "cell_type": "code",
   "execution_count": null,
   "metadata": {},
   "outputs": [],
   "source": []
  },
  {
   "cell_type": "code",
   "execution_count": null,
   "metadata": {},
   "outputs": [],
   "source": []
  },
  {
   "cell_type": "code",
   "execution_count": 20,
   "metadata": {},
   "outputs": [
    {
     "data": {
      "text/plain": [
       "<!DOCTYPE html>\n",
       "<html itemscope=\"\" itemtype=\"http://schema.org/WebPage\" lang=\"ne\"><head><meta content=\"text/html; charset=utf-8\" http-equiv=\"Content-Type\"/><meta content=\"/images/branding/googleg/1x/googleg_standard_color_128dp.png\" itemprop=\"image\"/><title>Google</title><script nonce=\"sQ8ovmEdLDSh8CwaaNEE4g==\">(function(){window.google={kEI:'3wFAXryEJYSKmge7nIn4Aw',kEXPI:'0,202084,12,1151650,5663,730,32,192,5104,207,1244,1711,249,10,290,761,175,364,926,50,386,73,4,60,690,52,75,383,142,874,559,1127796,1197739,410,28,16,329074,1294,12383,4855,32692,15247,867,28684,363,8825,8384,4859,1361,4323,4968,3026,4741,3118,7910,2,1811,1976,10953,5297,2054,920,873,1215,2977,5391,315,724,11306,2883,21,317,1982,2535,2778,520,399,2277,8,2796,1593,1279,1042,1170,202,328,149,1103,840,517,1474,48,4258,109,151,52,1137,2,2063,606,1839,184,1777,520,1947,747,429,44,1009,93,328,1284,16,84,417,2426,1639,608,473,459,880,748,1039,3227,773,2072,7,1320,4279,2034,6513,2662,170,472,427,302,1721,2458,1226,1462,281,3653,1275,108,1246,210,1471,480,908,2,433,142,366,522,323,127,1276,366,2132,265,1386,565,944,1594,575,355,226,995,830,840,175,13,2,20,1696,355,636,88,29,156,625,189,58,125,388,40,165,89,373,200,623,304,512,118,118,5,241,398,1025,1,379,328,2265,195,295,690,428,36,483,501,41,41,173,6,1012,199,2,51,37,94,811,677,541,633,615,5848604,1805894,4194968,2801054,549,333,444,1,2,80,1,900,896,1,8,1,2,2551,1,748,141,795,10,553,1,4265,1,1,1,1,137,1,879,9,305,141,98,197,2,71,20,13,3,23963859,24',kBL:'TVpb'};google.sn='webhp';google.kHL='ne';})();(function(){google.lc=[];google.li=0;google.getEI=function(a){for(var b;a&&(!a.getAttribute||!(b=a.getAttribute(\"eid\")));)a=a.parentNode;return b||google.kEI};google.getLEI=function(a){for(var b=null;a&&(!a.getAttribute||!(b=a.getAttribute(\"leid\")));)a=a.parentNode;return b};google.ml=function(){return null};google.time=function(){return Date.now()};google.log=function(a,b,e,c,g){if(a=google.logUrl(a,b,e,c,g)){b=new Image;var d=google.lc,f=google.li;d[f]=b;b.onerror=b.onload=b.onabort=function(){delete d[f]};google.vel&&google.vel.lu&&google.vel.lu(a);b.src=a;google.li=f+1}};google.logUrl=function(a,b,e,c,g){var d=\"\",f=google.ls||\"\";e||-1!=b.search(\"&ei=\")||(d=\"&ei=\"+google.getEI(c),-1==b.search(\"&lei=\")&&(c=google.getLEI(c))&&(d+=\"&lei=\"+c));c=\"\";!e&&google.cshid&&-1==b.search(\"&cshid=\")&&\"slh\"!=a&&(c=\"&cshid=\"+google.cshid);a=e||\"/\"+(g||\"gen_204\")+\"?atyp=i&ct=\"+a+\"&cad=\"+b+d+f+\"&zx=\"+google.time()+c;/^http:/i.test(a)&&\"https:\"==window.location.protocol&&(google.ml(Error(\"a\"),!1,{src:a,glmm:1}),a=\"\");return a};}).call(this);(function(){google.y={};google.x=function(a,b){if(a)var c=a.id;else{do c=Math.random();while(google.y[c])}google.y[c]=[a,b];return!1};google.lm=[];google.plm=function(a){google.lm.push.apply(google.lm,a)};google.lq=[];google.load=function(a,b,c){google.lq.push([[a],b,c])};google.loadAll=function(a,b){google.lq.push([a,b])};}).call(this);google.f={};(function(){\n",
       "document.documentElement.addEventListener(\"submit\",function(b){var a;if(a=b.target){var c=a.getAttribute(\"data-submitfalse\");a=\"1\"==c||\"q\"==c&&!a.elements.q.value?!0:!1}else a=!1;a&&(b.preventDefault(),b.stopPropagation())},!0);document.documentElement.addEventListener(\"click\",function(b){var a;a:{for(a=b.target;a&&a!=document.documentElement;a=a.parentElement)if(\"A\"==a.tagName){a=\"1\"==a.getAttribute(\"data-nohref\");break a}a=!1}a&&b.preventDefault()},!0);}).call(this);\n",
       "var a=window.location,b=a.href.indexOf(\"#\");if(0<=b){var c=a.href.substring(b+1);/(^|&)q=/.test(c)&&-1==c.indexOf(\"#\")&&a.replace(\"/search?\"+c.replace(/(^|&)fp=[^&]*/g,\"\")+\"&cad=h\")};</script><style>#gbar,#guser{font-size:13px;padding-top:1px !important;}#gbar{height:22px}#guser{padding-bottom:7px !important;text-align:right}.gbh,.gbd{border-top:1px solid #c9d7f1;font-size:1px}.gbh{height:0;position:absolute;top:24px;width:100%}@media all{.gb1{height:22px;margin-right:.5em;vertical-align:top}#gbar{float:left}}a.gb1,a.gb4{text-decoration:underline !important}a.gb1,a.gb4{color:#00c !important}.gbi .gb4{color:#dd8e27 !important}.gbf .gb4{color:#900 !important}\n",
       "</style><style>body,td,a,p,.h{font-family:arial,sans-serif}body{margin:0;overflow-y:scroll}#gog{padding:3px 8px 0}td{line-height:.8em}.gac_m td{line-height:17px}form{margin-bottom:20px}.h{color:#36c}.q{color:#00c}.ts td{padding:0}.ts{border-collapse:collapse}em{font-weight:bold;font-style:normal}.lst{height:25px;width:496px}.gsfi,.lst{font:18px arial,sans-serif}.gsfs{font:17px arial,sans-serif}.ds{display:inline-box;display:inline-block;margin:3px 0 4px;margin-left:4px}input{font-family:inherit}a.gb1,a.gb2,a.gb3,a.gb4{color:#11c !important}body{background:#fff;color:#000}a{color:#11c;text-decoration:none}a:hover,a:active{text-decoration:underline}.fl a{color:#36c}a:visited{color:#551a8b}a.gb1,a.gb4{text-decoration:underline}a.gb3:hover{text-decoration:none}#ghead a.gb2:hover{color:#fff !important}.sblc{padding-top:5px}.sblc a{display:block;margin:2px 0;margin-left:13px;font-size:11px}.lsbb{background:#eee;border:solid 1px;border-color:#ccc #999 #999 #ccc;height:30px}.lsbb{display:block}.ftl,#fll a{display:inline-block;margin:0 12px}.lsb{background:url(/images/nav_logo229.png) 0 -261px repeat-x;border:none;color:#000;cursor:pointer;height:30px;margin:0;outline:0;font:15px arial,sans-serif;vertical-align:top}.lsb:active{background:#ccc}.lst:focus{outline:none}.tiah{width:458px}</style><script nonce=\"sQ8ovmEdLDSh8CwaaNEE4g==\"></script></head><body bgcolor=\"#fff\"><script nonce=\"sQ8ovmEdLDSh8CwaaNEE4g==\">(function(){var src='/images/nav_logo229.png';var iesg=false;document.body.onload = function(){window.n && window.n();if (document.images){new Image().src=src;}\n",
       "if (!iesg){document.f&&document.f.q.focus();document.gbqf&&document.gbqf.q.focus();}\n",
       "}\n",
       "})();</script><div id=\"mngb\"> <div id=\"gbar\"><nobr><b class=\"gb1\">खोज</b> <a class=\"gb1\" href=\"https://www.google.com.np/imghp?hl=ne&amp;tab=wi\">तस्बिर</a> <a class=\"gb1\" href=\"https://maps.google.com.np/maps?hl=ne&amp;tab=wl\">नक्सा</a> <a class=\"gb1\" href=\"https://mail.google.com/mail/?tab=wm\">Gmail</a> <a class=\"gb1\" href=\"https://drive.google.com/?tab=wo\">ड्राइभ</a> <a class=\"gb1\" href=\"https://www.google.com/calendar?tab=wc\">पात्रो</a> <a class=\"gb1\" href=\"https://translate.google.com.np/?hl=ne&amp;tab=wT\">अनुबाद गर्नुहोस्</a> <a class=\"gb1\" href=\"https://www.blogger.com/?tab=wj\">ब्लगर</a> <a class=\"gb1\" href=\"https://www.google.com.np/intl/en/about/products?tab=wh\" style=\"text-decoration:none\"><u>थप</u> »</a></nobr></div><div id=\"guser\" width=\"100%\"><nobr><span class=\"gbi\" id=\"gbn\"></span><span class=\"gbf\" id=\"gbf\"></span><span id=\"gbe\"></span><a class=\"gb4\" href=\"http://www.google.com.np/history/optout?hl=ne\">वेब इतिहास</a> | <a class=\"gb4\" href=\"/preferences?hl=ne\">प्राथमिकताहरू</a> | <a class=\"gb4\" href=\"https://accounts.google.com/ServiceLogin?hl=ne&amp;passive=true&amp;continue=https://www.google.com/\" id=\"gb_70\" target=\"_top\">साइन इन</a></nobr></div><div class=\"gbh\" style=\"left:0\"></div><div class=\"gbh\" style=\"right:0\"></div> </div><center><br clear=\"all\" id=\"lgpd\"/><div id=\"lga\"><img alt=\"Google\" height=\"92\" id=\"hplogo\" src=\"/images/branding/googlelogo/1x/googlelogo_white_background_color_272x92dp.png\" style=\"padding:28px 0 14px\" width=\"272\"/><br/><br/></div><form action=\"/search\" name=\"f\"><table cellpadding=\"0\" cellspacing=\"0\"><tr valign=\"top\"><td width=\"25%\"> </td><td align=\"center\" nowrap=\"\"><input name=\"ie\" type=\"hidden\" value=\"ISO-8859-1\"/><input name=\"hl\" type=\"hidden\" value=\"ne\"/><input name=\"source\" type=\"hidden\" value=\"hp\"/><input name=\"biw\" type=\"hidden\"/><input name=\"bih\" type=\"hidden\"/><div class=\"ds\" style=\"height:32px;margin:4px 0\"><div style=\"position:relative;zoom:1\"><input autocomplete=\"off\" class=\"lst tiah\" maxlength=\"2048\" name=\"q\" size=\"57\" style=\"color:#000;margin:0;padding:5px 8px 0 6px;vertical-align:top;padding-right:38px\" title=\"Google खोजी\" value=\"\"/><img alt=\"\" data-script-url=\"/textinputassistant/11/ne_tia.js\" height=\"23\" id=\"tsuid1\" src=\"/textinputassistant/tia.png\" style=\"position:absolute;cursor:pointer;right:5px;top:4px;z-index:300\" width=\"27\"/><script nonce=\"sQ8ovmEdLDSh8CwaaNEE4g==\">(function(){var id='tsuid1';document.getElementById(id).onclick = function(){var s = document.createElement('script');s.src = this.getAttribute('data-script-url');(document.getElementById('xjsc')||document.body).appendChild(s);};})();</script></div></div><br style=\"line-height:0\"/><span class=\"ds\"><span class=\"lsbb\"><input class=\"lsb\" name=\"btnG\" type=\"submit\" value=\"Google खोजी\"/></span></span><span class=\"ds\"><span class=\"lsbb\"><input class=\"lsb\" id=\"tsuid2\" name=\"btnI\" type=\"submit\" value=\"म भाग्यमानी अनुभूति गरिरहेछु\"/><script nonce=\"sQ8ovmEdLDSh8CwaaNEE4g==\">(function(){var id='tsuid2';document.getElementById(id).onclick = function(){if (this.form.q.value){this.checked = 1;if (this.form.iflsig)this.form.iflsig.disabled = false;}\n",
       "else top.location='/doodles/';};})();</script><input name=\"iflsig\" type=\"hidden\" value=\"AAP1E1EAAAAAXkAP71qHsr3_i3FoiiWrFZoTCipYDJmJ\"/></span></span></td><td align=\"left\" class=\"fl sblc\" nowrap=\"\" width=\"25%\"><a href=\"/advanced_search?hl=ne&amp;authuser=0\">उन्नत खोज </a></td></tr></table><input id=\"gbv\" name=\"gbv\" type=\"hidden\" value=\"1\"/><script nonce=\"sQ8ovmEdLDSh8CwaaNEE4g==\">(function(){var a,b=\"1\";if(document&&document.getElementById)if(\"undefined\"!=typeof XMLHttpRequest)b=\"2\";else if(\"undefined\"!=typeof ActiveXObject){var c,d,e=[\"MSXML2.XMLHTTP.6.0\",\"MSXML2.XMLHTTP.3.0\",\"MSXML2.XMLHTTP\",\"Microsoft.XMLHTTP\"];for(c=0;d=e[c++];)try{new ActiveXObject(d),b=\"2\"}catch(h){}}a=b;if(\"2\"==a&&-1==location.search.indexOf(\"&gbv=2\")){var f=google.gbvu,g=document.getElementById(\"gbv\");g&&(g.value=a);f&&window.setTimeout(function(){location.href=f},0)};}).call(this);</script></form><div id=\"gac_scont\"></div><div style=\"font-size:83%;min-height:3.5em\"><br/><div id=\"gws-output-pages-elements-homepage_additional_languages__als\"><style>#gws-output-pages-elements-homepage_additional_languages__als{font-size:small;margin-bottom:24px}#SIvCob{display:inline-block;line-height:28px;}#SIvCob a{padding:0 3px;}.H6sW5{display:inline-block;margin:0 2px;white-space:nowrap}.z4hgWe{display:inline-block;margin:0 2px}</style><div id=\"SIvCob\">Google यी भाषामा उपलब्ध छ:  <a href=\"https://www.google.com/setprefs?sig=0_X_Nxy8F3N46yiKNOkI1eFe_TC_0%3D&amp;hl=en&amp;source=homepage&amp;sa=X&amp;ved=0ahUKEwj879jkwsTnAhUEheYKHTtOAj8Q2ZgBCAU\">English</a> </div></div></div><span id=\"footer\"><div style=\"font-size:10pt\"><div id=\"fll\" style=\"margin:19px auto;text-align:center\"><a href=\"/intl/ne/about.html\">Googleको बारेमा सम्पूर्ण</a><a href=\"https://www.google.com/setprefdomain?prefdom=NP&amp;prev=https://www.google.com.np/&amp;sig=K_8E1hN-RHn_G4ZiC9CKo-2YITQdQ%3D\">Google.com.np</a></div></div><p style=\"color:#767676;font-size:8pt\">© 2020</p></span></center><script nonce=\"sQ8ovmEdLDSh8CwaaNEE4g==\">(function(){window.google.cdo={height:0,width:0};(function(){var a=window.innerWidth,b=window.innerHeight;if(!a||!b){var c=window.document,d=\"CSS1Compat\"==c.compatMode?c.documentElement:c.body;a=d.clientWidth;b=d.clientHeight}a&&b&&(a!=google.cdo.width||b!=google.cdo.height)&&google.log(\"\",\"\",\"/client_204?&atyp=i&biw=\"+a+\"&bih=\"+b+\"&ei=\"+google.kEI);}).call(this);})();(function(){var u='/xjs/_/js/k\\x3dxjs.hp.en.2CDWMslARUU.O/m\\x3dsb_he,d/am\\x3dgAEBNgI/d\\x3d1/rs\\x3dACT90oEcUVMNhIXYs6TxFrI1sCfVqFsnxw';\n",
       "setTimeout(function(){var b=document;var a=\"SCRIPT\";\"application/xhtml+xml\"===b.contentType&&(a=a.toLowerCase());a=b.createElement(a);a.src=u;google.timers&&google.timers.load&&google.tick&&google.tick(\"load\",\"xjsls\");document.body.appendChild(a)},0);})();(function(){window.google.xjsu='/xjs/_/js/k\\x3dxjs.hp.en.2CDWMslARUU.O/m\\x3dsb_he,d/am\\x3dgAEBNgI/d\\x3d1/rs\\x3dACT90oEcUVMNhIXYs6TxFrI1sCfVqFsnxw';})();function _DumpException(e){throw e;}\n",
       "function _F_installCss(c){}\n",
       "(function(){google.spjs=false;google.snet=true;google.em=[];google.emw=false;google.pdt=0;})();(function(){var pmc='{\\x22d\\x22:{},\\x22sb_he\\x22:{\\x22agen\\x22:true,\\x22cgen\\x22:true,\\x22client\\x22:\\x22heirloom-hp\\x22,\\x22dh\\x22:true,\\x22dhqt\\x22:true,\\x22ds\\x22:\\x22\\x22,\\x22ffql\\x22:\\x22en\\x22,\\x22fl\\x22:true,\\x22host\\x22:\\x22google.com\\x22,\\x22isbh\\x22:28,\\x22jsonp\\x22:true,\\x22msgs\\x22:{\\x22cibl\\x22:\\x22&#2360;&#2381;&#2346;&#2359;&#2381;&#2335; &#2326;&#2379;&#2332;&#2368;\\x22,\\x22dym\\x22:\\x22&#2325;&#2375; &#2340;&#2346;&#2366;&#2312;&#2306; &#2354;&#2375; &#2351;&#2379; &#2349;&#2344;&#2381;&#2344; &#2326;&#2379;&#2332;&#2381;&#2344;&#2369; &#2349;&#2319;&#2325;&#2379; &#2361;&#2379; ?\\x22,\\x22lcky\\x22:\\x22&#2350; &#2349;&#2366;&#2327;&#2381;&#2351;&#2350;&#2366;&#2344;&#2368; &#2309;&#2344;&#2369;&#2349;&#2370;&#2340;&#2367; &#2327;&#2352;&#2367;&#2352;&#2361;&#2375;&#2331;&#2369;\\x22,\\x22lml\\x22:\\x22&#2341;&#2346; &#2332;&#2366;&#2344;&#2325;&#2366;&#2352;&#2368;\\x22,\\x22oskt\\x22:\\x22&#2310;&#2327;&#2340; &#2313;&#2346;&#2325;&#2352;&#2339;&#2361;&#2352;&#2370;\\x22,\\x22psrc\\x22:\\x22&#2351;&#2379; &#2326;&#2379;&#2332;&#2368; \\\\u003Ca href\\x3d\\\\\\x22/history\\\\\\x22\\\\u003E &#2340;&#2346;&#2366;&#2312;&#2325;&#2379; &#2357;&#2375;&#2348; &#2311;&#2340;&#2367;&#2361;&#2366;&#2360;\\\\u003C/a\\\\u003E&#2348;&#2366;&#2335; &#2361;&#2335;&#2366;&#2311;&#2351;&#2379;\\x22,\\x22psrl\\x22:\\x22&#2361;&#2335;&#2366;&#2313;&#2344;&#2369;&#2361;&#2379;&#2360;\\x22,\\x22sbit\\x22:\\x22&#2330;&#2367;&#2340;&#2381;&#2352;&#2342;&#2381;&#2357;&#2366;&#2352;&#2366; &#2326;&#2379;&#2332;&#2381;&#2344;&#2369;&#2361;&#2379;&#2360;&#2381;\\x22,\\x22srch\\x22:\\x22Google &#2326;&#2379;&#2332;&#2368;\\x22},\\x22ovr\\x22:{},\\x22pq\\x22:\\x22\\x22,\\x22refpd\\x22:true,\\x22rfs\\x22:[],\\x22sbpl\\x22:16,\\x22sbpr\\x22:16,\\x22scd\\x22:10,\\x22stok\\x22:\\x222niaRSRJzafwpio2UhcXnglqQtg\\x22,\\x22uhde\\x22:false}}';google.pmc=JSON.parse(pmc);})();</script> </body></html>"
      ]
     },
     "execution_count": 20,
     "metadata": {},
     "output_type": "execute_result"
    }
   ],
   "source": [
    "soup"
   ]
  },
  {
   "cell_type": "markdown",
   "metadata": {},
   "source": [
    "say we want to see a list of all of the links on tha page "
   ]
  },
  {
   "cell_type": "code",
   "execution_count": 21,
   "metadata": {},
   "outputs": [
    {
     "name": "stdout",
     "output_type": "stream",
     "text": [
      "[<a class=\"gb1\" href=\"https://www.google.com.np/imghp?hl=ne&amp;tab=wi\">तस्बिर</a>, <a class=\"gb1\" href=\"https://maps.google.com.np/maps?hl=ne&amp;tab=wl\">नक्सा</a>, <a class=\"gb1\" href=\"https://mail.google.com/mail/?tab=wm\">Gmail</a>, <a class=\"gb1\" href=\"https://drive.google.com/?tab=wo\">ड्राइभ</a>, <a class=\"gb1\" href=\"https://www.google.com/calendar?tab=wc\">पात्रो</a>, <a class=\"gb1\" href=\"https://translate.google.com.np/?hl=ne&amp;tab=wT\">अनुबाद गर्नुहोस्</a>, <a class=\"gb1\" href=\"https://www.blogger.com/?tab=wj\">ब्लगर</a>, <a class=\"gb1\" href=\"https://www.google.com.np/intl/en/about/products?tab=wh\" style=\"text-decoration:none\"><u>थप</u> »</a>, <a class=\"gb4\" href=\"http://www.google.com.np/history/optout?hl=ne\">वेब इतिहास</a>, <a class=\"gb4\" href=\"/preferences?hl=ne\">प्राथमिकताहरू</a>, <a class=\"gb4\" href=\"https://accounts.google.com/ServiceLogin?hl=ne&amp;passive=true&amp;continue=https://www.google.com/\" id=\"gb_70\" target=\"_top\">साइन इन</a>, <a href=\"/advanced_search?hl=ne&amp;authuser=0\">उन्नत खोज </a>, <a href=\"https://www.google.com/setprefs?sig=0_X_Nxy8F3N46yiKNOkI1eFe_TC_0%3D&amp;hl=en&amp;source=homepage&amp;sa=X&amp;ved=0ahUKEwj879jkwsTnAhUEheYKHTtOAj8Q2ZgBCAU\">English</a>, <a href=\"/intl/ne/about.html\">Googleको बारेमा सम्पूर्ण</a>, <a href=\"https://www.google.com/setprefdomain?prefdom=NP&amp;prev=https://www.google.com.np/&amp;sig=K_8E1hN-RHn_G4ZiC9CKo-2YITQdQ%3D\">Google.com.np</a>]\n"
     ]
    }
   ],
   "source": [
    "links=soup.find_all(\"a\")#find_all provided by beautiful soup \n",
    "#find all the a tags or links \n",
    "print(links)"
   ]
  },
  {
   "cell_type": "markdown",
   "metadata": {},
   "source": [
    "### perhaps we just want to extract the link that containsthe text\n",
    "### About on the page instead of everylink .we can use the builtin \"text\" function \n",
    "### to access the text content between\n",
    "### the \\<a> \\</a>\""
   ]
  },
  {
   "cell_type": "code",
   "execution_count": 22,
   "metadata": {},
   "outputs": [
    {
     "name": "stdout",
     "output_type": "stream",
     "text": [
      "<a class=\"gb1\" href=\"https://www.google.com.np/imghp?hl=ne&amp;tab=wi\">तस्बिर</a>\n",
      "https://www.google.com.np/imghp?hl=ne&tab=wi\n"
     ]
    }
   ],
   "source": [
    "for link in links:#a tag haru bhitra ko element huna raixa\n",
    "    #print(link)\n",
    "    if \"तस्बिर\" in link.text:#tyo ending tag vanda agadi ko matra iterate hunxa aru ta attribute huna raixa\n",
    "        #every one of those element in list are the beautiful soup element \n",
    "        print(link)\n",
    "        print(link.attrs[\"href\"]) #href chai tyo a ko auta attribute ho \n",
    "        #actual thing it goes to \n",
    "        #href \n",
    "    "
   ]
  },
  {
   "cell_type": "markdown",
   "metadata": {},
   "source": [
    "# 2nd Part  "
   ]
  },
  {
   "cell_type": "code",
   "execution_count": 23,
   "metadata": {},
   "outputs": [],
   "source": [
    "import requests\n",
    "from bs4 import BeautifulSoup"
   ]
  },
  {
   "cell_type": "code",
   "execution_count": 24,
   "metadata": {},
   "outputs": [],
   "source": [
    "result =requests.get(\"https://www.whitehouse.gov/briefings-statements/\")"
   ]
  },
  {
   "cell_type": "code",
   "execution_count": 25,
   "metadata": {},
   "outputs": [
    {
     "name": "stdout",
     "output_type": "stream",
     "text": [
      "200\n"
     ]
    }
   ],
   "source": [
    "print(result.status_code)"
   ]
  },
  {
   "cell_type": "code",
   "execution_count": 26,
   "metadata": {},
   "outputs": [
    {
     "name": "stdout",
     "output_type": "stream",
     "text": [
      "{'Content-Type': 'text/html; charset=UTF-8', 'Accept-Ranges': 'bytes', 'X-Akamai-Transformed': '9 57998 0 pmb=mRUM,2', 'Vary': 'Accept-Encoding', 'Content-Encoding': 'gzip', 'Date': 'Sun, 09 Feb 2020 12:59:07 GMT', 'Content-Length': '15624', 'Connection': 'keep-alive', 'Server-Timing': 'cdn-cache; desc=HIT, edge; dur=236', 'Strict-Transport-Security': 'max-age=31536000 ; includeSubDomains ; preload', 'X-Frame-Options': 'SAMEORIGIN'}\n"
     ]
    }
   ],
   "source": [
    "print(result.headers)\n",
    "src=result.content\n"
   ]
  },
  {
   "cell_type": "code",
   "execution_count": 5,
   "metadata": {},
   "outputs": [
    {
     "data": {
      "text/plain": [
       "b'<!DOCTYPE html>\\n<html lang=\"en-US\" prefix=\"og: http://ogp.me/ns# fb: http://ogp.me/ns/fb#\" class=\"no-js\">\\n<head>\\n\\t<script>\\n\\t\\tdocument.documentElement.className = document.documentElement.className.replace(/\\\\bno-js\\\\b/, \\'js\\');\\n\\t\\tdocument.createElement(\\'picture\\');\\n\\t</script>\\n\\t<meta charset=\"UTF-8\">\\n\\t<meta http-equiv=\"x-ua-compatible\" content=\"ie=edge\"><script type=\"text/javascript\">(window.NREUM||(NREUM={})).loader_config={xpid:\"VQ4FUVdTCBAIVVFUBQEEVw==\",licenseKey:\"9360826e15\",applicationID:\"81062031\"};window.NREUM||(NREUM={}),__nr_require=function(t,n,e){function r(e){if(!n[e]){var o=n[e]={exports:{}};t[e][0].call(o.exports,function(n){var o=t[e][1][n];return r(o||n)},o,o.exports)}return n[e].exports}if(\"function\"==typeof __nr_require)return __nr_require;for(var o=0;o<e.length;o++)r(e[o]);return r}({1:[function(t,n,e){function r(t){try{s.console&&console.log(t)}catch(n){}}var o,i=t(\"ee\"),a=t(21),s={};try{o=localStorage.getItem(\"__nr_flags\").split(\",\"),console&&\"function\"==typeof console.log&&(s.console=!0,o.indexOf(\"dev\")!==-1&&(s.dev=!0),o.indexOf(\"nr_dev\")!==-1&&(s.nrDev=!0))}catch(c){}s.nrDev&&i.on(\"internal-error\",function(t){r(t.stack)}),s.dev&&i.on(\"fn-err\",function(t,n,e){r(e.stack)}),s.dev&&(r(\"NR AGENT IN DEVELOPMENT MODE\"),r(\"flags: \"+a(s,function(t,n){return t}).join(\", \")))},{}],2:[function(t,n,e){function r(t,n,e,r,s){try{p?p-=1:o(s||new UncaughtException(t,n,e),!0)}catch(f){try{i(\"ierr\",[f,c.now(),!0])}catch(d){}}return\"function\"==typeof u&&u.apply(this,a(arguments))}function UncaughtException(t,n,e){this.message=t||\"Uncaught error with no additional information\",this.sourceURL=n,this.line=e}function o(t,n){var e=n?null:c.now();i(\"err\",[t,e])}var i=t(\"handle\"),a=t(22),s=t(\"ee\"),c=t(\"loader\"),f=t(\"gos\"),u=window.onerror,d=!1,l=\"nr@seenError\",p=0;c.features.err=!0,t(1),window.onerror=r;try{throw new Error}catch(h){\"stack\"in h&&(t(9),t(8),\"addEventListener\"in window&&t(5),c.xhrWrappable&&t(10),d=!0)}s.on(\"fn-start\",function(t,n,e){d&&(p+=1)}),s.on(\"fn-err\",function(t,n,e){d&&!e[l]&&(f(e,l,function(){return!0}),this.thrown=!0,o(e))}),s.on(\"fn-end\",function(){d&&!this.thrown&&p>0&&(p-=1)}),s.on(\"internal-error\",function(t){i(\"ierr\",[t,c.now(),!0])})},{}],3:[function(t,n,e){t(\"loader\").features.ins=!0},{}],4:[function(t,n,e){function r(t){}if(window.performance&&window.performance.timing&&window.performance.getEntriesByType){var o=t(\"ee\"),i=t(\"handle\"),a=t(9),s=t(8),c=\"learResourceTimings\",f=\"addEventListener\",u=\"resourcetimingbufferfull\",d=\"bstResource\",l=\"resource\",p=\"-start\",h=\"-end\",m=\"fn\"+p,w=\"fn\"+h,v=\"bstTimer\",g=\"pushState\",y=t(\"loader\");y.features.stn=!0,t(7),\"addEventListener\"in window&&t(5);var x=NREUM.o.EV;o.on(m,function(t,n){var e=t[0];e instanceof x&&(this.bstStart=y.now())}),o.on(w,function(t,n){var e=t[0];e instanceof x&&i(\"bst\",[e,n,this.bstStart,y.now()])}),a.on(m,function(t,n,e){this.bstStart=y.now(),this.bstType=e}),a.on(w,function(t,n){i(v,[n,this.bstStart,y.now(),this.bstType])}),s.on(m,function(){this.bstStart=y.now()}),s.on(w,function(t,n){i(v,[n,this.bstStart,y.now(),\"requestAnimationFrame\"])}),o.on(g+p,function(t){this.time=y.now(),this.startPath=location.pathname+location.hash}),o.on(g+h,function(t){i(\"bstHist\",[location.pathname+location.hash,this.startPath,this.time])}),f in window.performance&&(window.performance[\"c\"+c]?window.performance[f](u,function(t){i(d,[window.performance.getEntriesByType(l)]),window.performance[\"c\"+c]()},!1):window.performance[f](\"webkit\"+u,function(t){i(d,[window.performance.getEntriesByType(l)]),window.performance[\"webkitC\"+c]()},!1)),document[f](\"scroll\",r,{passive:!0}),document[f](\"keypress\",r,!1),document[f](\"click\",r,!1)}},{}],5:[function(t,n,e){function r(t){for(var n=t;n&&!n.hasOwnProperty(u);)n=Object.getPrototypeOf(n);n&&o(n)}function o(t){s.inPlace(t,[u,d],\"-\",i)}function i(t,n){return t[1]}var a=t(\"ee\").get(\"events\"),s=t(\"wrap-function\")(a,!0),c=t(\"gos\"),f=XMLHttpRequest,u=\"addEventListener\",d=\"removeEventListener\";n.exports=a,\"getPrototypeOf\"in Object?(r(document),r(window),r(f.prototype)):f.prototype.hasOwnProperty(u)&&(o(window),o(f.prototype)),a.on(u+\"-start\",function(t,n){var e=t[1],r=c(e,\"nr@wrapped\",function(){function t(){if(\"function\"==typeof e.handleEvent)return e.handleEvent.apply(e,arguments)}var n={object:t,\"function\":e}[typeof e];return n?s(n,\"fn-\",null,n.name||\"anonymous\"):e});this.wrapped=t[1]=r}),a.on(d+\"-start\",function(t){t[1]=this.wrapped||t[1]})},{}],6:[function(t,n,e){function r(t,n,e){var r=t[n];\"function\"==typeof r&&(t[n]=function(){var t=i(arguments),n={};o.emit(e+\"before-start\",[t],n);var a;n[m]&&n[m].dt&&(a=n[m].dt);var s=r.apply(this,t);return o.emit(e+\"start\",[t,a],s),s.then(function(t){return o.emit(e+\"end\",[null,t],s),t},function(t){throw o.emit(e+\"end\",[t],s),t})})}var o=t(\"ee\").get(\"fetch\"),i=t(22),a=t(21);n.exports=o;var s=window,c=\"fetch-\",f=c+\"body-\",u=[\"arrayBuffer\",\"blob\",\"json\",\"text\",\"formData\"],d=s.Request,l=s.Response,p=s.fetch,h=\"prototype\",m=\"nr@context\";d&&l&&p&&(a(u,function(t,n){r(d[h],n,f),r(l[h],n,f)}),r(s,\"fetch\",c),o.on(c+\"end\",function(t,n){var e=this;if(n){var r=n.headers.get(\"content-length\");null!==r&&(e.rxSize=r),o.emit(c+\"done\",[null,n],e)}else o.emit(c+\"done\",[t],e)}))},{}],7:[function(t,n,e){var r=t(\"ee\").get(\"history\"),o=t(\"wrap-function\")(r);n.exports=r;var i=window.history&&window.history.constructor&&window.history.constructor.prototype,a=window.history;i&&i.pushState&&i.replaceState&&(a=i),o.inPlace(a,[\"pushState\",\"replaceState\"],\"-\")},{}],8:[function(t,n,e){var r=t(\"ee\").get(\"raf\"),o=t(\"wrap-function\")(r),i=\"equestAnimationFrame\";n.exports=r,o.inPlace(window,[\"r\"+i,\"mozR\"+i,\"webkitR\"+i,\"msR\"+i],\"raf-\"),r.on(\"raf-start\",function(t){t[0]=o(t[0],\"fn-\")})},{}],9:[function(t,n,e){function r(t,n,e){t[0]=a(t[0],\"fn-\",null,e)}function o(t,n,e){this.method=e,this.timerDuration=isNaN(t[1])?0:+t[1],t[0]=a(t[0],\"fn-\",this,e)}var i=t(\"ee\").get(\"timer\"),a=t(\"wrap-function\")(i),s=\"setTimeout\",c=\"setInterval\",f=\"clearTimeout\",u=\"-start\",d=\"-\";n.exports=i,a.inPlace(window,[s,\"setImmediate\"],s+d),a.inPlace(window,[c],c+d),a.inPlace(window,[f,\"clearImmediate\"],f+d),i.on(c+u,r),i.on(s+u,o)},{}],10:[function(t,n,e){function r(t,n){d.inPlace(n,[\"onreadystatechange\"],\"fn-\",s)}function o(){var t=this,n=u.context(t);t.readyState>3&&!n.resolved&&(n.resolved=!0,u.emit(\"xhr-resolved\",[],t)),d.inPlace(t,g,\"fn-\",s)}function i(t){y.push(t),h&&(b?b.then(a):w?w(a):(E=-E,O.data=E))}function a(){for(var t=0;t<y.length;t++)r([],y[t]);y.length&&(y=[])}function s(t,n){return n}function c(t,n){for(var e in t)n[e]=t[e];return n}t(5);var f=t(\"ee\"),u=f.get(\"xhr\"),d=t(\"wrap-function\")(u),l=NREUM.o,p=l.XHR,h=l.MO,m=l.PR,w=l.SI,v=\"readystatechange\",g=[\"onload\",\"onerror\",\"onabort\",\"onloadstart\",\"onloadend\",\"onprogress\",\"ontimeout\"],y=[];n.exports=u;var x=window.XMLHttpRequest=function(t){var n=new p(t);try{u.emit(\"new-xhr\",[n],n),n.addEventListener(v,o,!1)}catch(e){try{u.emit(\"internal-error\",[e])}catch(r){}}return n};if(c(p,x),x.prototype=p.prototype,d.inPlace(x.prototype,[\"open\",\"send\"],\"-xhr-\",s),u.on(\"send-xhr-start\",function(t,n){r(t,n),i(n)}),u.on(\"open-xhr-start\",r),h){var b=m&&m.resolve();if(!w&&!m){var E=1,O=document.createTextNode(E);new h(a).observe(O,{characterData:!0})}}else f.on(\"fn-end\",function(t){t[0]&&t[0].type===v||a()})},{}],11:[function(t,n,e){function r(t){if(!i(t))return null;var n=window.NREUM;if(!n.loader_config)return null;var e=(n.loader_config.accountID||\"\").toString()||null,r=(n.loader_config.agentID||\"\").toString()||null,s=(n.loader_config.trustKey||\"\").toString()||null;if(!e||!r)return null;var c=a.generateCatId(),f=a.generateCatId(),u=Date.now(),d=o(c,f,u,e,r,s);return{header:d,guid:c,traceId:f,timestamp:u}}function o(t,n,e,r,o,i){var a=\"btoa\"in window&&\"function\"==typeof window.btoa;if(!a)return null;var s={v:[0,1],d:{ty:\"Browser\",ac:r,ap:o,id:t,tr:n,ti:e}};return i&&r!==i&&(s.d.tk=i),btoa(JSON.stringify(s))}function i(t){var n=!1,e=!1,r={};if(\"init\"in NREUM&&\"distributed_tracing\"in NREUM.init&&(r=NREUM.init.distributed_tracing,e=!!r.enabled),e)if(t.sameOrigin)n=!0;else if(r.allowed_origins instanceof Array)for(var o=0;o<r.allowed_origins.length;o++){var i=s(r.allowed_origins[o]);if(t.hostname===i.hostname&&t.protocol===i.protocol&&t.port===i.port){n=!0;break}}return e&&n}var a=t(19),s=t(13);n.exports={generateTracePayload:r,shouldGenerateTrace:i}},{}],12:[function(t,n,e){function r(t){var n=this.params,e=this.metrics;if(!this.ended){this.ended=!0;for(var r=0;r<l;r++)t.removeEventListener(d[r],this.listener,!1);n.aborted||(e.duration=a.now()-this.startTime,this.loadCaptureCalled||4!==t.readyState?null==n.status&&(n.status=0):i(this,t),e.cbTime=this.cbTime,u.emit(\"xhr-done\",[t],t),s(\"xhr\",[n,e,this.startTime]))}}function o(t,n){var e=c(n),r=t.params;r.host=e.hostname+\":\"+e.port,r.pathname=e.pathname,t.parsedOrigin=c(n),t.sameOrigin=t.parsedOrigin.sameOrigin}function i(t,n){t.params.status=n.status;var e=w(n,t.lastSize);if(e&&(t.metrics.rxSize=e),t.sameOrigin){var r=n.getResponseHeader(\"X-NewRelic-App-Data\");r&&(t.params.cat=r.split(\", \").pop())}t.loadCaptureCalled=!0}var a=t(\"loader\");if(a.xhrWrappable){var s=t(\"handle\"),c=t(13),f=t(11).generateTracePayload,u=t(\"ee\"),d=[\"load\",\"error\",\"abort\",\"timeout\"],l=d.length,p=t(\"id\"),h=t(17),m=t(16),w=t(14),v=window.XMLHttpRequest;a.features.xhr=!0,t(10),t(6),u.on(\"new-xhr\",function(t){var n=this;n.totalCbs=0,n.called=0,n.cbTime=0,n.end=r,n.ended=!1,n.xhrGuids={},n.lastSize=null,n.loadCaptureCalled=!1,t.addEventListener(\"load\",function(e){i(n,t)},!1),h&&(h>34||h<10)||window.opera||t.addEventListener(\"progress\",function(t){n.lastSize=t.loaded},!1)}),u.on(\"open-xhr-start\",function(t){this.params={method:t[0]},o(this,t[1]),this.metrics={}}),u.on(\"open-xhr-end\",function(t,n){\"loader_config\"in NREUM&&\"xpid\"in NREUM.loader_config&&this.sameOrigin&&n.setRequestHeader(\"X-NewRelic-ID\",NREUM.loader_config.xpid);var e=f(this.parsedOrigin);e&&e.header&&(n.setRequestHeader(\"newrelic\",e.header),this.dt=e)}),u.on(\"send-xhr-start\",function(t,n){var e=this.metrics,r=t[0],o=this;if(e&&r){var i=m(r);i&&(e.txSize=i)}this.startTime=a.now(),this.listener=function(t){try{\"abort\"!==t.type||o.loadCaptureCalled||(o.params.aborted=!0),(\"load\"!==t.type||o.called===o.totalCbs&&(o.onloadCalled||\"function\"!=typeof n.onload))&&o.end(n)}catch(e){try{u.emit(\"internal-error\",[e])}catch(r){}}};for(var s=0;s<l;s++)n.addEventListener(d[s],this.listener,!1)}),u.on(\"xhr-cb-time\",function(t,n,e){this.cbTime+=t,n?this.onloadCalled=!0:this.called+=1,this.called!==this.totalCbs||!this.onloadCalled&&\"function\"==typeof e.onload||this.end(e)}),u.on(\"xhr-load-added\",function(t,n){var e=\"\"+p(t)+!!n;this.xhrGuids&&!this.xhrGuids[e]&&(this.xhrGuids[e]=!0,this.totalCbs+=1)}),u.on(\"xhr-load-removed\",function(t,n){var e=\"\"+p(t)+!!n;this.xhrGuids&&this.xhrGuids[e]&&(delete this.xhrGuids[e],this.totalCbs-=1)}),u.on(\"addEventListener-end\",function(t,n){n instanceof v&&\"load\"===t[0]&&u.emit(\"xhr-load-added\",[t[1],t[2]],n)}),u.on(\"removeEventListener-end\",function(t,n){n instanceof v&&\"load\"===t[0]&&u.emit(\"xhr-load-removed\",[t[1],t[2]],n)}),u.on(\"fn-start\",function(t,n,e){n instanceof v&&(\"onload\"===e&&(this.onload=!0),(\"load\"===(t[0]&&t[0].type)||this.onload)&&(this.xhrCbStart=a.now()))}),u.on(\"fn-end\",function(t,n){this.xhrCbStart&&u.emit(\"xhr-cb-time\",[a.now()-this.xhrCbStart,this.onload,n],n)}),u.on(\"fetch-before-start\",function(t){var n,e=t[1]||{};\"string\"==typeof t[0]?n=t[0]:t[0]&&t[0].url&&(n=t[0].url),n&&(this.parsedOrigin=c(n),this.sameOrigin=this.parsedOrigin.sameOrigin);var r=f(this.parsedOrigin);if(r&&r.header){var o=r.header;if(\"string\"==typeof t[0]){var i={};for(var a in e)i[a]=e[a];i.headers=new Headers(e.headers||{}),i.headers.set(\"newrelic\",o),this.dt=r,t.length>1?t[1]=i:t.push(i)}else t[0]&&t[0].headers&&(t[0].headers.append(\"newrelic\",o),this.dt=r)}})}},{}],13:[function(t,n,e){var r={};n.exports=function(t){if(t in r)return r[t];var n=document.createElement(\"a\"),e=window.location,o={};n.href=t,o.port=n.port;var i=n.href.split(\"://\");!o.port&&i[1]&&(o.port=i[1].split(\"/\")[0].split(\"@\").pop().split(\":\")[1]),o.port&&\"0\"!==o.port||(o.port=\"https\"===i[0]?\"443\":\"80\"),o.hostname=n.hostname||e.hostname,o.pathname=n.pathname,o.protocol=i[0],\"/\"!==o.pathname.charAt(0)&&(o.pathname=\"/\"+o.pathname);var a=!n.protocol||\":\"===n.protocol||n.protocol===e.protocol,s=n.hostname===document.domain&&n.port===e.port;return o.sameOrigin=a&&(!n.hostname||s),\"/\"===o.pathname&&(r[t]=o),o}},{}],14:[function(t,n,e){function r(t,n){var e=t.responseType;return\"json\"===e&&null!==n?n:\"arraybuffer\"===e||\"blob\"===e||\"json\"===e?o(t.response):\"text\"===e||\"document\"===e||\"\"===e||void 0===e?o(t.responseText):void 0}var o=t(16);n.exports=r},{}],15:[function(t,n,e){function r(){}function o(t,n,e){return function(){return i(t,[f.now()].concat(s(arguments)),n?null:this,e),n?void 0:this}}var i=t(\"handle\"),a=t(21),s=t(22),c=t(\"ee\").get(\"tracer\"),f=t(\"loader\"),u=NREUM;\"undefined\"==typeof window.newrelic&&(newrelic=u);var d=[\"setPageViewName\",\"setCustomAttribute\",\"setErrorHandler\",\"finished\",\"addToTrace\",\"inlineHit\",\"addRelease\"],l=\"api-\",p=l+\"ixn-\";a(d,function(t,n){u[n]=o(l+n,!0,\"api\")}),u.addPageAction=o(l+\"addPageAction\",!0),u.setCurrentRouteName=o(l+\"routeName\",!0),n.exports=newrelic,u.interaction=function(){return(new r).get()};var h=r.prototype={createTracer:function(t,n){var e={},r=this,o=\"function\"==typeof n;return i(p+\"tracer\",[f.now(),t,e],r),function(){if(c.emit((o?\"\":\"no-\")+\"fn-start\",[f.now(),r,o],e),o)try{return n.apply(this,arguments)}catch(t){throw c.emit(\"fn-err\",[arguments,this,t],e),t}finally{c.emit(\"fn-end\",[f.now()],e)}}}};a(\"actionText,setName,setAttribute,save,ignore,onEnd,getContext,end,get\".split(\",\"),function(t,n){h[n]=o(p+n)}),newrelic.noticeError=function(t,n){\"string\"==typeof t&&(t=new Error(t)),i(\"err\",[t,f.now(),!1,n])}},{}],16:[function(t,n,e){n.exports=function(t){if(\"string\"==typeof t&&t.length)return t.length;if(\"object\"==typeof t){if(\"undefined\"!=typeof ArrayBuffer&&t instanceof ArrayBuffer&&t.byteLength)return t.byteLength;if(\"undefined\"!=typeof Blob&&t instanceof Blob&&t.size)return t.size;if(!(\"undefined\"!=typeof FormData&&t instanceof FormData))try{return JSON.stringify(t).length}catch(n){return}}}},{}],17:[function(t,n,e){var r=0,o=navigator.userAgent.match(/Firefox[\\\\/\\\\s](\\\\d+\\\\.\\\\d+)/);o&&(r=+o[1]),n.exports=r},{}],18:[function(t,n,e){function r(t,n){var e=t.getEntries();e.forEach(function(t){\"first-paint\"===t.name?c(\"timing\",[\"fp\",Math.floor(t.startTime)]):\"first-contentful-paint\"===t.name&&c(\"timing\",[\"fcp\",Math.floor(t.startTime)])})}function o(t,n){var e=t.getEntries();e.length>0&&c(\"lcp\",[e[e.length-1]])}function i(t){if(t instanceof u&&!l){var n,e=Math.round(t.timeStamp);n=e>1e12?Date.now()-e:f.now()-e,l=!0,c(\"timing\",[\"fi\",e,{type:t.type,fid:n}])}}if(!(\"init\"in NREUM&&\"page_view_timing\"in NREUM.init&&\"enabled\"in NREUM.init.page_view_timing&&NREUM.init.page_view_timing.enabled===!1)){var a,s,c=t(\"handle\"),f=t(\"loader\"),u=NREUM.o.EV;if(\"PerformanceObserver\"in window&&\"function\"==typeof window.PerformanceObserver){a=new PerformanceObserver(r),s=new PerformanceObserver(o);try{a.observe({entryTypes:[\"paint\"]}),s.observe({entryTypes:[\"largest-contentful-paint\"]})}catch(d){}}if(\"addEventListener\"in document){var l=!1,p=[\"click\",\"keydown\",\"mousedown\",\"pointerdown\",\"touchstart\"];p.forEach(function(t){document.addEventListener(t,i,!1)})}}},{}],19:[function(t,n,e){function r(){function t(){return n?15&n[e++]:16*Math.random()|0}var n=null,e=0,r=window.crypto||window.msCrypto;r&&r.getRandomValues&&(n=r.getRandomValues(new Uint8Array(31)));for(var o,i=\"xxxxxxxx-xxxx-4xxx-yxxx-xxxxxxxxxxxx\",a=\"\",s=0;s<i.length;s++)o=i[s],\"x\"===o?a+=t().toString(16):\"y\"===o?(o=3&t()|8,a+=o.toString(16)):a+=o;return a}function o(){function t(){return n?15&n[e++]:16*Math.random()|0}var n=null,e=0,r=window.crypto||window.msCrypto;r&&r.getRandomValues&&Uint8Array&&(n=r.getRandomValues(new Uint8Array(31)));for(var o=[],i=0;i<16;i++)o.push(t().toString(16));return o.join(\"\")}n.exports={generateUuid:r,generateCatId:o}},{}],20:[function(t,n,e){function r(t,n){if(!o)return!1;if(t!==o)return!1;if(!n)return!0;if(!i)return!1;for(var e=i.split(\".\"),r=n.split(\".\"),a=0;a<r.length;a++)if(r[a]!==e[a])return!1;return!0}var o=null,i=null,a=/Version\\\\/(\\\\S+)\\\\s+Safari/;if(navigator.userAgent){var s=navigator.userAgent,c=s.match(a);c&&s.indexOf(\"Chrome\")===-1&&s.indexOf(\"Chromium\")===-1&&(o=\"Safari\",i=c[1])}n.exports={agent:o,version:i,match:r}},{}],21:[function(t,n,e){function r(t,n){var e=[],r=\"\",i=0;for(r in t)o.call(t,r)&&(e[i]=n(r,t[r]),i+=1);return e}var o=Object.prototype.hasOwnProperty;n.exports=r},{}],22:[function(t,n,e){function r(t,n,e){n||(n=0),\"undefined\"==typeof e&&(e=t?t.length:0);for(var r=-1,o=e-n||0,i=Array(o<0?0:o);++r<o;)i[r]=t[n+r];return i}n.exports=r},{}],23:[function(t,n,e){n.exports={exists:\"undefined\"!=typeof window.performance&&window.performance.timing&&\"undefined\"!=typeof window.performance.timing.navigationStart}},{}],ee:[function(t,n,e){function r(){}function o(t){function n(t){return t&&t instanceof r?t:t?c(t,s,i):i()}function e(e,r,o,i){if(!l.aborted||i){t&&t(e,r,o);for(var a=n(o),s=m(e),c=s.length,f=0;f<c;f++)s[f].apply(a,r);var d=u[y[e]];return d&&d.push([x,e,r,a]),a}}function p(t,n){g[t]=m(t).concat(n)}function h(t,n){var e=g[t];if(e)for(var r=0;r<e.length;r++)e[r]===n&&e.splice(r,1)}function m(t){return g[t]||[]}function w(t){return d[t]=d[t]||o(e)}function v(t,n){f(t,function(t,e){n=n||\"feature\",y[e]=n,n in u||(u[n]=[])})}var g={},y={},x={on:p,addEventListener:p,removeEventListener:h,emit:e,get:w,listeners:m,context:n,buffer:v,abort:a,aborted:!1};return x}function i(){return new r}function a(){(u.api||u.feature)&&(l.aborted=!0,u=l.backlog={})}var s=\"nr@context\",c=t(\"gos\"),f=t(21),u={},d={},l=n.exports=o();l.backlog=u},{}],gos:[function(t,n,e){function r(t,n,e){if(o.call(t,n))return t[n];var r=e();if(Object.defineProperty&&Object.keys)try{return Object.defineProperty(t,n,{value:r,writable:!0,enumerable:!1}),r}catch(i){}return t[n]=r,r}var o=Object.prototype.hasOwnProperty;n.exports=r},{}],handle:[function(t,n,e){function r(t,n,e,r){o.buffer([t],r),o.emit(t,n,e)}var o=t(\"ee\").get(\"handle\");n.exports=r,r.ee=o},{}],id:[function(t,n,e){function r(t){var n=typeof t;return!t||\"object\"!==n&&\"function\"!==n?-1:t===window?0:a(t,i,function(){return o++})}var o=1,i=\"nr@id\",a=t(\"gos\");n.exports=r},{}],loader:[function(t,n,e){function r(){if(!E++){var t=b.info=NREUM.info,n=p.getElementsByTagName(\"script\")[0];if(setTimeout(u.abort,3e4),!(t&&t.licenseKey&&t.applicationID&&n))return u.abort();f(y,function(n,e){t[n]||(t[n]=e)}),c(\"mark\",[\"onload\",a()+b.offset],null,\"api\");var e=p.createElement(\"script\");e.src=\"https://\"+t.agent,n.parentNode.insertBefore(e,n)}}function o(){\"complete\"===p.readyState&&i()}function i(){c(\"mark\",[\"domContent\",a()+b.offset],null,\"api\")}function a(){return O.exists&&performance.now?Math.round(performance.now()):(s=Math.max((new Date).getTime(),s))-b.offset}var s=(new Date).getTime(),c=t(\"handle\"),f=t(21),u=t(\"ee\"),d=t(20),l=window,p=l.document,h=\"addEventListener\",m=\"attachEvent\",w=l.XMLHttpRequest,v=w&&w.prototype;NREUM.o={ST:setTimeout,SI:l.setImmediate,CT:clearTimeout,XHR:w,REQ:l.Request,EV:l.Event,PR:l.Promise,MO:l.MutationObserver};var g=\"\"+location,y={beacon:\"bam.nr-data.net\",errorBeacon:\"bam.nr-data.net\",agent:\"js-agent.newrelic.com/nr-1167.min.js\"},x=w&&v&&v[h]&&!/CriOS/.test(navigator.userAgent),b=n.exports={offset:s,now:a,origin:g,features:{},xhrWrappable:x,userAgent:d};t(15),t(18),p[h]?(p[h](\"DOMContentLoaded\",i,!1),l[h](\"load\",r,!1)):(p[m](\"onreadystatechange\",o),l[m](\"onload\",r)),c(\"mark\",[\"firstbyte\",s],null,\"api\");var E=0,O=t(23)},{}],\"wrap-function\":[function(t,n,e){function r(t){return!(t&&t instanceof Function&&t.apply&&!t[a])}var o=t(\"ee\"),i=t(22),a=\"nr@original\",s=Object.prototype.hasOwnProperty,c=!1;n.exports=function(t,n){function e(t,n,e,o){function nrWrapper(){var r,a,s,c;try{a=this,r=i(arguments),s=\"function\"==typeof e?e(r,a):e||{}}catch(f){l([f,\"\",[r,a,o],s])}u(n+\"start\",[r,a,o],s);try{return c=t.apply(a,r)}catch(d){throw u(n+\"err\",[r,a,d],s),d}finally{u(n+\"end\",[r,a,c],s)}}return r(t)?t:(n||(n=\"\"),nrWrapper[a]=t,d(t,nrWrapper),nrWrapper)}function f(t,n,o,i){o||(o=\"\");var a,s,c,f=\"-\"===o.charAt(0);for(c=0;c<n.length;c++)s=n[c],a=t[s],r(a)||(t[s]=e(a,f?s+o:o,i,s))}function u(e,r,o){if(!c||n){var i=c;c=!0;try{t.emit(e,r,o,n)}catch(a){l([a,e,r,o])}c=i}}function d(t,n){if(Object.defineProperty&&Object.keys)try{var e=Object.keys(t);return e.forEach(function(e){Object.defineProperty(n,e,{get:function(){return t[e]},set:function(n){return t[e]=n,n}})}),n}catch(r){l([r])}for(var o in t)s.call(t,o)&&(n[o]=t[o]);return n}function l(n){try{t.emit(\"internal-error\",n)}catch(e){}}return t||(t=o),e.inPlace=f,e.flag=a,e}},{}]},{},[\"loader\",2,12,4,3]);</script>\\n\\t<meta name=\"viewport\" content=\"width=device-width, initial-scale=1\">\\n\\t<title>Briefing Statements | The White House</title>\\n\\n\\n<meta name=\"description\" content=\"Get official White House briefings, statements, and remarks from President Donald J. Trump and members of his Administration.\"/>\\n<link rel=\"canonical\" href=\"https://www.whitehouse.gov/briefings-statements/\" />\\n<link rel=\"next\" href=\"https://www.whitehouse.gov/briefings-statements/page/2/\" />\\n<meta property=\"og:locale\" content=\"en_US\" />\\n<meta property=\"og:type\" content=\"object\" />\\n<meta property=\"og:title\" content=\"Briefing Statements | The White House\" />\\n<meta property=\"og:url\" content=\"https://www.whitehouse.gov/briefings-statements/\" />\\n<meta property=\"og:site_name\" content=\"The White House\" />\\n<meta property=\"fb:app_id\" content=\"1790466490985150\" />\\n<meta property=\"og:image\" content=\"https://www.whitehouse.gov/wp-content/uploads/2017/12/wh.gov-share-img_03-1024x538.png\" />\\n<meta property=\"og:image:secure_url\" content=\"https://www.whitehouse.gov/wp-content/uploads/2017/12/wh.gov-share-img_03-1024x538.png\" />\\n<meta name=\"twitter:card\" content=\"summary_large_image\" />\\n<meta name=\"twitter:description\" content=\"Get official White House briefings, statements, and remarks from President Donald J. Trump and members of his Administration.\" />\\n<meta name=\"twitter:title\" content=\"Briefing Statements | The White House\" />\\n<meta name=\"twitter:site\" content=\"@whitehouse\" />\\n<meta name=\"twitter:image\" content=\"https://www.whitehouse.gov/wp-content/uploads/2017/12/wh.gov-share-img_03-1024x538.png\" />\\n<script type=\\'application/ld+json\\'>{\"@context\":\"http:\\\\/\\\\/schema.org\",\"@type\":\"WebSite\",\"@id\":\"#website\",\"url\":\"https:\\\\/\\\\/www.whitehouse.gov\\\\/\",\"name\":\"The White House\",\"alternateName\":\"White House\",\"potentialAction\":{\"@type\":\"SearchAction\",\"target\":\"https:\\\\/\\\\/www.whitehouse.gov\\\\/search\\\\/?s={search_term_string}\",\"query-input\":\"required name=search_term_string\"}}</script>\\n<script type=\\'application/ld+json\\'>{\"@context\":\"http:\\\\/\\\\/schema.org\",\"@type\":\"Organization\",\"url\":\"https:\\\\/\\\\/www.whitehouse.gov\\\\/briefings-statements\\\\/\",\"sameAs\":[\"https:\\\\/\\\\/facebook.com\\\\/whitehouse\",\"https:\\\\/\\\\/instagram.com\\\\/whitehouse\",\"https:\\\\/\\\\/www.youtube.com\\\\/user\\\\/whitehouse\",\"https:\\\\/\\\\/twitter.com\\\\/whitehouse\"],\"@id\":\"#organization\",\"name\":\"The White House\",\"logo\":\"https:\\\\/\\\\/www.whitehouse.gov\\\\/wp-content\\\\/uploads\\\\/2017\\\\/12\\\\/wh.gov-share-img_03.png\"}</script>\\n\\n\\n<link rel=\\'dns-prefetch\\' href=\\'//s.w.org\\' />\\n<link href=\\'https://fonts.googleapis.com\\' crossorigin rel=\\'preconnect\\' />\\n<link href=\\'https://fonts.gstatic.com\\' crossorigin rel=\\'preconnect\\' />\\n<link rel=\\'stylesheet\\' id=\\'google-fonts-css\\'  href=\\'https://fonts.googleapis.com/css?family=Merriweather:300,300i,400,400i,700,700i,900,900i|Source+Sans+Pro:300,300i,400,400i,600,600i,700,700i,900,900i&#038;subset=latin-ext\\' type=\\'text/css\\' media=\\'all\\' />\\n<link rel=\\'stylesheet\\' id=\\'site-css\\'  href=\\'https://www.whitehouse.gov/wp-content/themes/whitehouse/assets/dist/site.min.css?ver=71d13101\\' type=\\'text/css\\' media=\\'all\\' />\\n<script type=\\'text/javascript\\' src=\\'https://www.whitehouse.gov/wp-content/themes/whitehouse/assets/dist/polyfills.min.js?ver=71d13101\\'></script>\\n<script type=\\'text/javascript\\' src=\\'https://www.whitehouse.gov/wp-content/themes/whitehouse/assets/vendor/picturefill/dist/picturefill.min.js?ver=71d13101\\'></script>\\n        <script>\\n            wpsolr_globalError = [];\\n            window.onerror = function (msg, url, line, col, error) {\\n                wpsolr_globalError.push({msg: msg, url: url, line: line, error: error});\\n            };\\n        </script>\\n\\t\\t<link rel=\"icon\" type=\"image/x-icon\" href=\"/favicon.ico?ver=71d13101\">\\n<link rel=\"icon\" type=\"image/png\" sizes=\"32x32\" href=\"/favicon-32x32.png?ver=71d13101\">\\n<link rel=\"icon\" type=\"image/png\" sizes=\"16x16\" href=\"/favicon-16x16.png?ver=71d13101\">\\n<link rel=\"apple-touch-icon-precomposed\" sizes=\"180x180\" href=\"/apple-touch-icon-precomposed.png?ver=71d13101\">\\n<link rel=\"icon\" type=\"image/png\" sizes=\"256x256\" href=\"/touch-icon-256x256.png?ver=71d13101\">\\n<link rel=\"icon\" type=\"image/png\" sizes=\"192x192\" href=\"/touch-icon-192x192.png?ver=71d13101\">\\n<link rel=\"manifest\" href=\"/site.webmanifest?ver=71d13101\">\\n<link rel=\"mask-icon\" href=\"/safari-pinned-tab.svg?ver=71d13101\" color=\"#336799\">\\n<meta name=\"apple-mobile-web-app-title\" content=\"The White House\">\\n<meta name=\"application-name\" content=\"The White House\">\\n<meta name=\"msapplication-TileColor\" content=\"#0c2644\">\\n<meta name=\"theme-color\" content=\"#f5f5f5\">\\n\\t\\t<!-- Global site tag (gtag.js) - Google Analytics -->\\n\\t<script async src=\"https://www.googletagmanager.com/gtag/js?id=UA-12099831-10\"></script>\\n\\t<script>\\n\\t\\twindow.dataLayer = window.dataLayer || [];\\n\\t\\tfunction gtag(){dataLayer.push(arguments);}\\n\\t\\tgtag(\\'js\\', new Date());\\n\\n\\t\\tgtag(\\'config\\', \\'UA-12099831-10\\');\\n\\t\\twindow.gtag_id = \\'UA-12099831-10\\';\\n\\t</script>\\n\\n  <script>!function(){function o(n,i){if(n&&i)for(var r in i)i.hasOwnProperty(r)&&(void 0===n[r]?n[r]=i[r]:n[r].constructor===Object&&i[r].constructor===Object?o(n[r],i[r]):n[r]=i[r])}try{var n=decodeURIComponent(\"\");if(n.length>0&&window.JSON&&\"function\"==typeof window.JSON.parse){var i=JSON.parse(n);void 0!==window.BOOMR_config?o(window.BOOMR_config,i):window.BOOMR_config=i}}catch(r){window.console&&\"function\"==typeof window.console.error&&console.error(\"mPulse: Could not parse configuration\",r)}}();</script>\\n  <script>!function(e){var a=\"https://s.go-mpulse.net/boomerang/\",t=\"addEventListener\";if(\"False\"==\"True\")e.BOOMR_config=e.BOOMR_config||{},e.BOOMR_config.PageParams=e.BOOMR_config.PageParams||{},e.BOOMR_config.PageParams.pci=!0,a=\"https://s2.go-mpulse.net/boomerang/\";if(window.BOOMR_API_key=\"B75PJ-VWDMF-FF8GY-2P7NB-DC3RE\",function(){function n(a){e.BOOMR_onload=a&&a.timeStamp||(new Date).getTime()}if(!e.BOOMR||!e.BOOMR.version&&!e.BOOMR.snippetExecuted){e.BOOMR=e.BOOMR||{},e.BOOMR.snippetExecuted=!0;var i,o,r,_=document.createElement(\"iframe\");if(e[t])e[t](\"load\",n,!1);else if(e.attachEvent)e.attachEvent(\"onload\",n);_.src=\"javascript:void(0)\",_.title=\"\",_.role=\"presentation\",(_.frameElement||_).style.cssText=\"width:0;height:0;border:0;display:none;\",r=document.getElementsByTagName(\"script\")[0],r.parentNode.insertBefore(_,r);try{o=_.contentWindow.document}catch(O){i=document.domain,_.src=\"javascript:var d=document.open();d.domain=\\'\"+i+\"\\';void(0);\",o=_.contentWindow.document}o.open()._l=function(){var e=this.createElement(\"script\");if(i)this.domain=i;e.id=\"boomr-if-as\",e.src=a+\"B75PJ-VWDMF-FF8GY-2P7NB-DC3RE\",BOOMR_lstart=(new Date).getTime(),this.body.appendChild(e)},o.write(\"<bo\"+\\'dy onload=\"document._l();\">\\'),o.close()}}(),\"\".length>0)if(e&&\"performance\"in e&&e.performance&&\"function\"==typeof e.performance.setResourceTimingBufferSize)e.performance.setResourceTimingBufferSize();!function(){if(BOOMR=e.BOOMR||{},BOOMR.plugins=BOOMR.plugins||{},!BOOMR.plugins.AK){var a=\"\"==\"true\"?1:0,t=\"\",n=\"dmrb6ynygjwhaxsaaema-f-688d58866-clientnsv4-s.akamaihd.net\",i={\"ak.v\":25,\"ak.cp\":\"653138\",\"ak.ai\":parseInt(\"351244\",10),\"ak.ol\":\"0\",\"ak.cr\":140,\"ak.ipv\":4,\"ak.proto\":\"\",\"ak.rid\":\"97e634f\",\"ak.r\":26720,\"ak.a2\":a,\"ak.m\":\"dscb\",\"ak.n\":\"essl\",\"ak.bpcip\":\"27.34.31.0\",\"ak.cport\":41984,\"ak.gh\":\"23.194.187.221\",\"ak.quicv\":\"\",\"ak.tlsv\":\"tls1.3\",\"ak.0rtt\":\"\",\"ak.csrc\":\"-\",\"ak.acc\":\"reno\",\"ak.t\":\"1581252888\"};if(\"\"!==t)i[\"ak.ruds\"]=t;var o={i:!1,av:function(a){var t=\"http.initiator\";if(a&&(!a[t]||\"spa_hard\"===a[t]))i[\"ak.feo\"]=void 0!==e.aFeoApplied?1:0,BOOMR.addVar(i)},rv:function(){var e=[\"ak.bpcip\",\"ak.cport\",\"ak.cr\",\"ak.csrc\",\"ak.gh\",\"ak.ipv\",\"ak.m\",\"ak.n\",\"ak.ol\",\"ak.proto\",\"ak.quicv\",\"ak.tlsv\",\"ak.0rtt\",\"ak.r\",\"ak.acc\",\"ak.t\"];BOOMR.removeVar(e)}};BOOMR.plugins.AK={akVars:i,akDNSPreFetchDomain:n,init:function(){if(!o.i){var e=BOOMR.subscribe;e(\"before_beacon\",o.av,null,null),e(\"onbeacon\",o.rv,null,null),o.i=!0}return this},is_complete:function(){return!0}}}}()}(window);</script></head>\\n<body class=\"archive post-type-archive post-type-archive-briefing-statement news\">\\n<a class=\"skip-link\" href=\"#main-content\"><span>Skip to content</span></a>\\n\\n<div class=\"body-overflow\">\\n\\n<header class=\"header\">\\n\\t<div class=\"header__container\">\\n\\t\\t<div class=\"header__inner\">\\n\\t\\t\\t<button type=\"button\" class=\"header__hamburger\">\\n\\t\\t\\t\\t<b class=\"svg svg--hamburger\" data-svg-url=\"https://www.whitehouse.gov/wp-content/themes/whitehouse/assets/img/hamburger.svg\" data-img-url=\"https://www.whitehouse.gov/wp-content/themes/whitehouse/assets/img/hamburger.png\" data-icon=\"hamburger\"><svg focusable=\"false\" aria-label=\"Open Menu\" role=\"img\" xmlns=\"http://www.w3.org/2000/svg\" viewBox=\"0 0 24 14\" height=\"20\" width=\"28\"><path d=\"M.64,12H16.36c.36,0,.64.43.64,1s-.28,1-.64,1H.64C.28,14,0,13.57,0,13s.28-1,.64-1M23.1,2H.9A.94.94,0,0,1,0,1,.94.94,0,0,1,.9,0H23.1A.94.94,0,0,1,24,1a.94.94,0,0,1-.9,1M.9,8A.94.94,0,0,1,0,7,.94.94,0,0,1,.9,6H23.1A.94.94,0,0,1,24,7a.94.94,0,0,1-.9,1Z\" fill=\"#a98860\"/></svg><title>open-menu</title>\\n</b>\\t\\t\\t</button>\\n\\t\\t\\t<div class=\"header__wrap\">\\n\\t\\t\\t\\t<div class=\"header__logo\">\\n\\t\\t\\t\\t\\t<a href=\"https://www.whitehouse.gov\">\\n\\t\\t\\t\\t\\t\\t<img src=\"https://www.whitehouse.gov/wp-content/themes/whitehouse/assets/img/white-house-logo-sm-wh.png\" srcset=\"https://www.whitehouse.gov/wp-content/themes/whitehouse/assets/img/white-house-logo-sm-wh.png 1x, https://www.whitehouse.gov/wp-content/themes/whitehouse/assets/img/white-house-logo-md-wh.png 2x, https://www.whitehouse.gov/wp-content/themes/whitehouse/assets/img/white-house-logo-lg-wh.png 3x\" alt=\"\" class=\"logo--white\" />\\n\\t\\t\\t\\t\\t\\t<img src=\"https://www.whitehouse.gov/wp-content/themes/whitehouse/assets/img/white-house-logo-sm-bl.png\" srcset=\"https://www.whitehouse.gov/wp-content/themes/whitehouse/assets/img/white-house-logo-sm-bl.png 1x, https://www.whitehouse.gov/wp-content/themes/whitehouse/assets/img/white-house-logo-md-bl.png 2x, https://www.whitehouse.gov/wp-content/themes/whitehouse/assets/img/white-house-logo-lg-bl.png 3x\" alt=\"\" class=\"logo--blue\" />\\n\\t\\t\\t\\t\\t\\t\\t\\t\\t\\t\\t\\t<span class=\"visually-hidden\">White House Logo</span>\\n\\t\\t\\t\\t\\t</a>\\n\\t\\t\\t\\t</div>\\n\\n\\t\\t\\t\\t\\t\\t\\t\\t<nav class=\"nav nav--primary header__nav\"><ul class=\"nav__menu nav__menu--depth0 menu\"><li class=\"nav__menu-item nav__menu-item--depth0 menu-item menu-item-type-post_type menu-item-object-issue menu-item-692\"><a href=\"https://www.whitehouse.gov/issues/economy-jobs/\" class=\"nav__link\">Economy</a></li>\\n<li class=\"nav__menu-item nav__menu-item--depth0 menu-item menu-item-type-post_type menu-item-object-issue menu-item-693\"><a href=\"https://www.whitehouse.gov/issues/national-security-defense/\" class=\"nav__link\">National Security</a></li>\\n<li class=\"nav__menu-item nav__menu-item--depth0 menu-item menu-item-type-post_type menu-item-object-issue menu-item-16229\"><a href=\"https://www.whitehouse.gov/issues/budget-spending/\" class=\"nav__link\">Budget</a></li>\\n<li class=\"nav__menu-item nav__menu-item--depth0 menu-item menu-item-type-post_type menu-item-object-issue menu-item-16236\"><a href=\"https://www.whitehouse.gov/issues/immigration/\" class=\"nav__link\">Immigration</a></li>\\n<li class=\"nav__menu-item nav__menu-item--depth0 menu-item menu-item-type-post_type menu-item-object-page menu-item-148559\"><a href=\"https://www.whitehouse.gov/opioids/\" class=\"nav__link\">The Opioid Crisis</a></li>\\n</ul></nav>\\t\\t\\t</div>\\n\\t\\t\\t<a href=\"https://www.whitehouse.gov/search/\"  class=\"header__search\">\\n\\t\\t\\t\\t<span class=\"visually-hidden\">Search WhiteHouse.gov</span>\\n\\t\\t\\t\\t<b class=\"svg svg--search\" data-svg-url=\"https://www.whitehouse.gov/wp-content/themes/whitehouse/assets/img/search.svg\" data-img-url=\"https://www.whitehouse.gov/wp-content/themes/whitehouse/assets/img/search.png\" data-icon=\"search\"><svg focusable=\"false\" aria-label=\"Open Search\" role=\"img\" xmlns=\"http://www.w3.org/2000/svg\" viewBox=\"0 0 20 20\" height=\"20\" width=\"20\"><title>open-search</title>\\n<path fill=\"#A98860\" d=\"M20,18.7l-5.1-5.1c2.6-3.3,2.4-8.1-0.6-11.2C12.7,0.9,10.6,0,8.4,0C6.1,0,4,0.9,2.5,2.5\\n\\tC0.9,4,0,6.1,0,8.4s0.9,4.3,2.5,5.9c1.6,1.6,3.7,2.5,5.9,2.5c1.9,0,3.8-0.7,5.3-1.8l5.1,5.1L20,18.7z M8.5,15\\n\\tc-1.7,0-3.4-0.7-4.6-1.9C2.7,11.9,2,10.2,2,8.5s0.7-3.4,1.9-4.6C5.1,2.7,6.8,2,8.5,2c1.7,0,3.4,0.7,4.6,1.9c2.5,2.5,2.5,6.7,0,9.2\\n\\tC11.9,14.3,10.2,15,8.5,15z\"/>\\n</svg>\\n</b>\\t\\t\\t</a>\\n\\t\\t</div>\\n\\t</div>\\n</header>\\n<main id=\"main-content\">\\n<div class=\"page-header\">\\n\\t<div class=\"page-header__wrap\">\\n\\t\\t<h1 class=\"page-header__title\">Briefings &amp; Statements</h1>\\n\\t\\t<span class=\"divider\"><hr><hr></span>\\n\\t</div>\\n</div>\\n<div class=\"page-results\">\\n\\t<div class=\"page-results__wrap\">\\n\\t\\t<nav class=\"nav nav--news\">\\n\\t<ul class=\"nav__menu\">\\n\\t\\t<li class=\"nav__menu-item\"><a href=\"https://www.whitehouse.gov/news/\" class=\"nav__link\">All News</a></li><li class=\"nav__menu-item\"><a href=\"https://www.whitehouse.gov/remarks/\" class=\"nav__link\">Remarks</a></li><li class=\"nav__menu-item\"><a href=\"https://www.whitehouse.gov/articles/\" class=\"nav__link\">Articles</a></li><li class=\"nav__menu-item\"><a href=\"https://www.whitehouse.gov/presidential-actions/\" class=\"nav__link\">Presidential Actions</a></li><li class=\"nav__menu-item nav__menu-item--active\"><a href=\"https://www.whitehouse.gov/briefings-statements/\" class=\"nav__link\">Briefings &amp; Statements</a></li>\\t</ul>\\n</nav>\\n\\n\\t<ul class=\"filters__toggle-facets\">\\n\\t\\t<li>\\n\\t\\t\\t<button type=\"button\" class=\"filters__toggle-facets-issue\">\\n\\t\\t\\t\\t<b class=\"svg svg--filter\" data-svg-url=\"https://www.whitehouse.gov/wp-content/themes/whitehouse/assets/img/filter.svg\" data-icon=\"filter\"><svg focusable=\"false\" aria-label=\"Filter by Issue\" role=\"img\" xmlns=\"http://www.w3.org/2000/svg\" width=\"18\" height=\"14\" xmlns:xlink=\"http://www.w3.org/1999/xlink\"><defs><path id=\"a\" d=\"M553.63 457c.2 0 .37.43.37 1 0 .57-.16 1-.37 1h-9.25c-.22 0-.38-.43-.38-1 0-.57.16-1 .38-1zm-8.96-10c-.38 0-.67-.43-.67-1 0-.57.3-1 .67-1h16.66c.38 0 .67.43.67 1 0 .57-.3 1-.67 1zm0 6c-.38 0-.67-.43-.67-1 0-.57.3-1 .67-1h16.66c.38 0 .67.43.67 1 0 .57-.3 1-.67 1z\"/></defs><use fill=\"#a98860\" xlink:href=\"#a\" transform=\"translate(-544 -445)\"/></svg><title>filter-by-issue</title></b> Filter by Issue\\n\\t\\t\\t</button>\\n\\t\\t</li>\\n\\t</ul>\\n\\n\\t<nav class=\"filters__facets\">\\n\\t\\t<div class=\"wrap\">\\n\\t\\t\\t<p class=\"filters__close\"><button type=\"button\"><b class=\"svg svg--close\" data-svg-url=\"https://www.whitehouse.gov/wp-content/themes/whitehouse/assets/img/close.svg\" data-icon=\"close\"><svg focusable=\"false\" aria-label=\"Close Filter by Issue\" role=\"img\" xmlns=\"http://www.w3.org/2000/svg\" width=\"19\" height=\"18\"><path fill=\"#A98860\" d=\"M17.78 14.9l-6.73-6.43 6.5-6.64V1.8c.37-.4.36-1.04-.04-1.4-.2-.2-.47-.3-.76-.3-.27 0-.5.13-.7.32L9.56 7.07 2.64.42c-.2-.2-.48-.3-.77-.3-.27 0-.52.14-.7.33C1 .65.87.92.9 1.2c0 .26.13.5.32.68l6.9 6.64-6.7 6.88c-.2.2-.3.47-.3.76 0 .27.14.5.33.7.15.1.38.27.73.27.37 0 .6-.18.74-.3l6.7-6.88 6.72 6.42c.14.15.37.28.75.28.36 0 .58-.18.73-.3.2-.2.3-.48.3-.76-.03-.28-.14-.52-.35-.7\"/></svg><title>close-filter-by-issue</title></b>Filter by Issue</button></p>\\n\\t\\t\\t<ul class=\"filters__facets-list\">\\n\\t\\t\\t\\t\\t\\t\\t\\t\\t<li class=\"filters__facets-list-item filters__facets-list-item--active\"><span>All Issues</span></li>\\n\\t\\t\\t\\t\\n\\t\\t\\t\\t<li class=\"filters__facets-list-item\"><a href=\"https://www.whitehouse.gov/briefings-statements/?issue_filter=budget-spending\">Budget &amp; Spending</a></li><li class=\"filters__facets-list-item\"><a href=\"https://www.whitehouse.gov/briefings-statements/?issue_filter=economy-jobs\">Economy &amp; Jobs</a></li><li class=\"filters__facets-list-item\"><a href=\"https://www.whitehouse.gov/briefings-statements/?issue_filter=education\">Education</a></li><li class=\"filters__facets-list-item\"><a href=\"https://www.whitehouse.gov/briefings-statements/?issue_filter=energy-environment\">Energy &amp; Environment</a></li><li class=\"filters__facets-list-item\"><a href=\"https://www.whitehouse.gov/briefings-statements/?issue_filter=foreign-policy\">Foreign Policy</a></li><li class=\"filters__facets-list-item\"><a href=\"https://www.whitehouse.gov/briefings-statements/?issue_filter=healthcare\">Healthcare</a></li><li class=\"filters__facets-list-item\"><a href=\"https://www.whitehouse.gov/briefings-statements/?issue_filter=immigration\">Immigration</a></li><li class=\"filters__facets-list-item\"><a href=\"https://www.whitehouse.gov/briefings-statements/?issue_filter=infrastructure-technology\">Infrastructure &amp; Technology</a></li><li class=\"filters__facets-list-item\"><a href=\"https://www.whitehouse.gov/briefings-statements/?issue_filter=land-agriculture\">Land &amp; Agriculture</a></li><li class=\"filters__facets-list-item\"><a href=\"https://www.whitehouse.gov/briefings-statements/?issue_filter=law-justice\">Law &amp; Justice</a></li><li class=\"filters__facets-list-item\"><a href=\"https://www.whitehouse.gov/briefings-statements/?issue_filter=national-security-defense\">National Security &amp; Defense</a></li><li class=\"filters__facets-list-item\"><a href=\"https://www.whitehouse.gov/briefings-statements/?issue_filter=social-programs\">Social Programs</a></li><li class=\"filters__facets-list-item\"><a href=\"https://www.whitehouse.gov/briefings-statements/?issue_filter=veterans\">Veterans</a></li>\\t\\t\\t</ul>\\n\\t\\t</div>\\n\\t</nav>\\n\\n\\t\\n\\t\\t\\t<article class=\"briefing-statement briefing-statement--results\">\\n\\t<div class=\"briefing-statement__content\">\\n\\t\\t\\n\\t\\t<h2 class=\"briefing-statement__title\"><a href=\"https://www.whitehouse.gov/briefings-statements/statement-press-secretary-regarding-visit-excellency-lenin-moreno-garces-president-republic-ecuador/\">Statement from the Press Secretary Regarding the Visit of His Excellency Lenin Moreno Garc\\xc3\\xa9s, President of the Republic of Ecuador</a></h2>\\n\\n\\t\\t<div class=\"meta meta--left\">\\n\\t\\t\\t\\t\\t\\t<p class=\"meta__date\">\\n\\t\\t\\t\\t<time>Feb 7, 2020</time>\\n\\t\\t\\t</p>\\n\\t\\t</div>\\n\\t</div>\\n</article>\\n<article class=\"briefing-statement briefing-statement--results\">\\n\\t<div class=\"briefing-statement__content\">\\n\\t\\t\\t\\t\\t<p class=\"briefing-statement__type\">\\n\\t\\t\\t\\tRemarks\\t\\t\\t</p>\\n\\t\\t\\n\\t\\t<h2 class=\"briefing-statement__title\"><a href=\"https://www.whitehouse.gov/briefings-statements/remarks-president-trump-north-carolina-opportunity-now-summit-charlotte-nc/\">Remarks by President Trump at the North Carolina Opportunity Now Summit | Charlotte, NC</a></h2>\\n\\n\\t\\t<div class=\"meta meta--left\">\\n\\t\\t\\t\\t\\t\\t\\t<div class=\"meta__issue\">\\n\\t\\t\\t\\t\\t<p class=\"issue-flag issue-flag--left\">\\n\\t\\t\\t<a href=\"https://www.whitehouse.gov/issues/economy-jobs/\">\\n\\t\\t\\tEconomy &#038; Jobs\\t\\t</a>\\n\\t\\t</p>\\n\\t\\t\\t\\t</div>\\n\\t\\t\\t\\t\\t\\t<p class=\"meta__date\">\\n\\t\\t\\t\\t<time>Feb 7, 2020</time>\\n\\t\\t\\t</p>\\n\\t\\t</div>\\n\\t</div>\\n</article>\\n<article class=\"briefing-statement briefing-statement--results\">\\n\\t<div class=\"briefing-statement__content\">\\n\\t\\t\\t\\t\\t<p class=\"briefing-statement__type\">\\n\\t\\t\\t\\tStatements &amp; Releases\\t\\t\\t</p>\\n\\t\\t\\n\\t\\t<h2 class=\"briefing-statement__title\"><a href=\"https://www.whitehouse.gov/briefings-statements/statement-press-secretary-111/\">Statement from the Press Secretary</a></h2>\\n\\n\\t\\t<div class=\"meta meta--left\">\\n\\t\\t\\t\\t\\t\\t<p class=\"meta__date\">\\n\\t\\t\\t\\t<time>Feb 7, 2020</time>\\n\\t\\t\\t</p>\\n\\t\\t</div>\\n\\t</div>\\n</article>\\n<article class=\"briefing-statement briefing-statement--results\">\\n\\t<div class=\"briefing-statement__content\">\\n\\t\\t\\t\\t\\t<p class=\"briefing-statement__type\">\\n\\t\\t\\t\\tRemarks\\t\\t\\t</p>\\n\\t\\t\\n\\t\\t<h2 class=\"briefing-statement__title\"><a href=\"https://www.whitehouse.gov/briefings-statements/remarks-president-trump-marine-one-departure-82/\">Remarks by President Trump Before Marine One Departure</a></h2>\\n\\n\\t\\t<div class=\"meta meta--left\">\\n\\t\\t\\t\\t\\t\\t<p class=\"meta__date\">\\n\\t\\t\\t\\t<time>Feb 7, 2020</time>\\n\\t\\t\\t</p>\\n\\t\\t</div>\\n\\t</div>\\n</article>\\n<article class=\"briefing-statement briefing-statement--results\">\\n\\t<div class=\"briefing-statement__content\">\\n\\t\\t\\t\\t\\t<p class=\"briefing-statement__type\">\\n\\t\\t\\t\\tFact Sheets\\t\\t\\t</p>\\n\\t\\t\\n\\t\\t<h2 class=\"briefing-statement__title\"><a href=\"https://www.whitehouse.gov/briefings-statements/president-donald-j-trump-committed-creating-opportunity/\">President Donald J. Trump Is Committed To Creating Opportunity For All</a></h2>\\n\\n\\t\\t<div class=\"meta meta--left\">\\n\\t\\t\\t\\t\\t\\t\\t<div class=\"meta__issue\">\\n\\t\\t\\t\\t\\t<p class=\"issue-flag issue-flag--left\">\\n\\t\\t\\t<a href=\"https://www.whitehouse.gov/issues/economy-jobs/\">\\n\\t\\t\\tEconomy &#038; Jobs\\t\\t</a>\\n\\t\\t</p>\\n\\t\\t\\t\\t</div>\\n\\t\\t\\t\\t\\t\\t<p class=\"meta__date\">\\n\\t\\t\\t\\t<time>Feb 7, 2020</time>\\n\\t\\t\\t</p>\\n\\t\\t</div>\\n\\t</div>\\n</article>\\n<article class=\"briefing-statement briefing-statement--results\">\\n\\t<div class=\"briefing-statement__content\">\\n\\t\\t\\t\\t\\t<p class=\"briefing-statement__type\">\\n\\t\\t\\t\\tStatements &amp; Releases\\t\\t\\t</p>\\n\\t\\t\\n\\t\\t<h2 class=\"briefing-statement__title\"><a href=\"https://www.whitehouse.gov/briefings-statements/ondcp-releases-data-poppy-cultivation-potential-opium-production-afghanistan/\">ONDCP Releases Data on Poppy Cultivation and Potential Opium Production in Afghanistan</a></h2>\\n\\n\\t\\t<div class=\"meta meta--left\">\\n\\t\\t\\t\\t\\t\\t<p class=\"meta__date\">\\n\\t\\t\\t\\t<time>Feb 7, 2020</time>\\n\\t\\t\\t</p>\\n\\t\\t</div>\\n\\t</div>\\n</article>\\n<article class=\"briefing-statement briefing-statement--results\">\\n\\t<div class=\"briefing-statement__content\">\\n\\t\\t\\t\\t\\t<p class=\"briefing-statement__type\">\\n\\t\\t\\t\\tStatements &amp; Releases\\t\\t\\t</p>\\n\\t\\t\\n\\t\\t<h2 class=\"briefing-statement__title\"><a href=\"https://www.whitehouse.gov/briefings-statements/ondcp-recognizes-outstanding-counter-drug-efforts-high-intensity-drug-trafficking-areas-program/\">ONDCP Recognizes Outstanding Counter-Drug Efforts by the High Intensity Drug Trafficking Areas Program</a></h2>\\n\\n\\t\\t<div class=\"meta meta--left\">\\n\\t\\t\\t\\t\\t\\t<p class=\"meta__date\">\\n\\t\\t\\t\\t<time>Feb 7, 2020</time>\\n\\t\\t\\t</p>\\n\\t\\t</div>\\n\\t</div>\\n</article>\\n<article class=\"briefing-statement briefing-statement--results\">\\n\\t<div class=\"briefing-statement__content\">\\n\\t\\t\\t\\t\\t<p class=\"briefing-statement__type\">\\n\\t\\t\\t\\tStatements &amp; Releases\\t\\t\\t</p>\\n\\t\\t\\n\\t\\t<h2 class=\"briefing-statement__title\"><a href=\"https://www.whitehouse.gov/briefings-statements/statement-press-secretary-110/\">Statement from the Press Secretary</a></h2>\\n\\n\\t\\t<div class=\"meta meta--left\">\\n\\t\\t\\t\\t\\t\\t\\t<div class=\"meta__issue\">\\n\\t\\t\\t\\t\\t<p class=\"issue-flag issue-flag--left\">\\n\\t\\t\\t<a href=\"https://www.whitehouse.gov/issues/immigration/\">\\n\\t\\t\\tImmigration\\t\\t</a>\\n\\t\\t</p>\\n\\t\\t\\t\\t</div>\\n\\t\\t\\t\\t\\t\\t<p class=\"meta__date\">\\n\\t\\t\\t\\t<time>Feb 6, 2020</time>\\n\\t\\t\\t</p>\\n\\t\\t</div>\\n\\t</div>\\n</article>\\n<article class=\"briefing-statement briefing-statement--results\">\\n\\t<div class=\"briefing-statement__content\">\\n\\t\\t\\t\\t\\t<p class=\"briefing-statement__type\">\\n\\t\\t\\t\\tStatements &amp; Releases\\t\\t\\t</p>\\n\\t\\t\\n\\t\\t<h2 class=\"briefing-statement__title\"><a href=\"https://www.whitehouse.gov/briefings-statements/bill-announcement-80/\">Bill Announcement</a></h2>\\n\\n\\t\\t<div class=\"meta meta--left\">\\n\\t\\t\\t\\t\\t\\t\\t<div class=\"meta__issue\">\\n\\t\\t\\t\\t\\t<p class=\"issue-flag issue-flag--left\">\\n\\t\\t\\t<a href=\"https://www.whitehouse.gov/issues/law-justice/\">\\n\\t\\t\\tLaw &#038; Justice\\t\\t</a>\\n\\t\\t</p>\\n\\t\\t\\t\\t</div>\\n\\t\\t\\t\\t\\t\\t<p class=\"meta__date\">\\n\\t\\t\\t\\t<time>Feb 6, 2020</time>\\n\\t\\t\\t</p>\\n\\t\\t</div>\\n\\t</div>\\n</article>\\n<article class=\"briefing-statement briefing-statement--results\">\\n\\t<div class=\"briefing-statement__content\">\\n\\t\\t\\t\\t\\t<p class=\"briefing-statement__type\">\\n\\t\\t\\t\\tStatements &amp; Releases\\t\\t\\t</p>\\n\\t\\t\\n\\t\\t<h2 class=\"briefing-statement__title\"><a href=\"https://www.whitehouse.gov/briefings-statements/statement-from-the-president-13/\">Statement from the President</a></h2>\\n\\n\\t\\t<div class=\"meta meta--left\">\\n\\t\\t\\t\\t\\t\\t\\t<div class=\"meta__issue\">\\n\\t\\t\\t\\t\\t<p class=\"issue-flag issue-flag--left\">\\n\\t\\t\\t<a href=\"https://www.whitehouse.gov/issues/national-security-defense/\">\\n\\t\\t\\tNational Security &#038; Defense\\t\\t</a>\\n\\t\\t</p>\\n\\t\\t\\t\\t</div>\\n\\t\\t\\t\\t\\t\\t<p class=\"meta__date\">\\n\\t\\t\\t\\t<time>Feb 6, 2020</time>\\n\\t\\t\\t</p>\\n\\t\\t</div>\\n\\t</div>\\n</article>\\n\\n\\t<div class=\"pagination\">\\n\\t\\t\\t\\t\\t<span class=\"pagination__prev pagination__prev--disabled\">\\n\\t\\t\\t\\tPrevious\\n\\t\\t\\t</span>\\n\\t\\t\\n\\t\\t<span class=\"page-numbers current\">1</span>\\n<a class=\"page-numbers\" href=\"https://www.whitehouse.gov/briefings-statements/page/2/\">2</a>\\n<a class=\"page-numbers\" href=\"https://www.whitehouse.gov/briefings-statements/page/3/\">3</a>\\n<span class=\"page-numbers dots\">&hellip;</span>\\n<a class=\"page-numbers\" href=\"https://www.whitehouse.gov/briefings-statements/page/539/\">539</a>\\n\\t\\t\\t\\t\\t<a class=\"pagination__next\" href=\"https://www.whitehouse.gov/briefings-statements/page/2/\">\\n\\t\\t\\t\\tNext\\n\\t\\t\\t</a>\\n\\t\\t\\t</div>\\n\\n\\t\\t\\t</div>\\n</div>\\n\\n</main><!-- end main -->\\n\\n<footer class=\"footer\">\\n\\t<div class=\"footer__wrap\">\\n\\t\\t<div class=\"footer__logo\">\\n\\t\\t\\t<a href=\"https://www.whitehouse.gov\">\\n\\t\\t\\t\\t<img class=\"footer__img\" src=\"https://www.whitehouse.gov/wp-content/themes/whitehouse/assets/img/white-house-logo-footer-sm.png\" srcset=\"https://www.whitehouse.gov/wp-content/themes/whitehouse/assets/img/white-house-logo-footer-sm.png 1x, https://www.whitehouse.gov/wp-content/themes/whitehouse/assets/img/white-house-logo-footer-md.png 2x, https://www.whitehouse.gov/wp-content/themes/whitehouse/assets/img/white-house-logo-footer-lg.png 3x\" alt=\"White House Logo\">\\n\\t\\t\\t</a>\\n\\t\\t</div>\\n\\t\\t<div class=\"footer__site-title\">The White House</div>\\n\\t\\t<span class=\"footer__divider divider\"><hr><hr></span>\\n\\t\\t<div class=\"footer__nav\">\\n\\t\\t\\t<nav class=\"nav nav--footer\"><ul class=\"nav__menu nav__menu--depth0 menu\"><li class=\"nav__menu-item nav__menu-item--depth0 menu-item menu-item-type-post_type menu-item-object-page menu-item-17230\"><a href=\"https://www.whitehouse.gov/live/\" class=\"nav__link\">Live</a></li>\\n<li class=\"nav__menu-item nav__menu-item--depth0 menu-item menu-item-type-custom menu-item-object-custom menu-item-8288\"><a href=\"https://apply.whitehouse.gov/\" class=\"nav__link\">Jobs</a></li>\\n<li class=\"nav__menu-item nav__menu-item--depth0 menu-item menu-item-type-post_type menu-item-object-page menu-item-8093\"><a href=\"https://www.whitehouse.gov/get-involved/\" class=\"nav__link\">Get Involved</a></li>\\n<li class=\"nav__menu-item nav__menu-item--depth0 menu-item menu-item-type-post_type menu-item-object-page menu-item-8092\"><a href=\"https://www.whitehouse.gov/copyright/\" class=\"nav__link\">Copyright Policy</a></li>\\n<li class=\"nav__menu-item nav__menu-item--depth0 menu-item menu-item-type-post_type menu-item-object-page menu-item-privacy-policy menu-item-8095\"><a href=\"https://www.whitehouse.gov/privacy-policy/\" class=\"nav__link\">Privacy Policy</a></li>\\n</ul></nav>\\t\\t</div>\\n\\t</div>\\n\\t<div class=\"footer__social\">\\n\\t\\t<nav class=\"nav nav--social-links-menu\"><ul class=\"nav__menu nav__menu--depth0 menu\"><li class=\"nav__menu-item nav__menu-item--depth0 footer__social-link__twitter menu-item menu-item-type-custom menu-item-object-custom menu-item-21\"><a target=\"_blank\" rel=\"noopener noreferrer\" href=\"https://twitter.com/whitehouse\" class=\"nav__link\"><span>Twitter</span></a></li>\\n<li class=\"nav__menu-item nav__menu-item--depth0 footer__social-link__facebook menu-item menu-item-type-custom menu-item-object-custom menu-item-20\"><a target=\"_blank\" rel=\"noopener noreferrer\" href=\"https://www.facebook.com/WhiteHouse/\" class=\"nav__link\"><span>Facebook</span></a></li>\\n<li class=\"nav__menu-item nav__menu-item--depth0 footer__social-link__instagram menu-item menu-item-type-custom menu-item-object-custom menu-item-22\"><a target=\"_blank\" rel=\"noopener noreferrer\" href=\"https://www.instagram.com/whitehouse/\" class=\"nav__link\"><span>Instagram</span></a></li>\\n<li class=\"nav__menu-item nav__menu-item--depth0 footer__social-link__email menu-item menu-item-type-custom menu-item-object-custom menu-item-23\"><a href=\"/contact/\" class=\"nav__link\"><span>Contact</span></a></li>\\n</ul></nav>\\t</div>\\n</footer>\\n\\n</div><!-- end .body-overflow -->\\n\\n<section id=\"wp-footer\">\\n\\t<script type=\\'text/javascript\\' src=\\'https://www.whitehouse.gov/wp-content/themes/whitehouse/assets/vendor/jquery/dist/jquery.min.js?ver=71d13101\\'></script>\\n<script type=\\'text/javascript\\' src=\\'https://www.whitehouse.gov/wp-includes/js/clipboard.min.js?ver=5.3.2\\'></script>\\n<script type=\\'text/javascript\\' src=\\'https://www.whitehouse.gov/wp-content/themes/whitehouse/assets/vendor/bows/dist/bows.min.js?ver=71d13101\\'></script>\\n<script type=\\'text/javascript\\' src=\\'https://www.whitehouse.gov/wp-content/themes/whitehouse/assets/dist/site.min.js?ver=71d13101\\'></script>\\n<script type=\\'text/javascript\\'>\\nwindow.site = new Site();\\n</script>\\n</section><div class=\"popover\" role=\"dialog\">\\n\\t<div class=\"popover__bar\">\\n\\t\\t<button type=\"button\" class=\"popover__hamburger-toggle\">\\n\\t\\t\\t<img class=\"popover__hamburger-toggle-close\" src=\"https://www.whitehouse.gov/wp-content/themes/whitehouse/assets/img/close.svg\" alt=\"Close Menu\" width=\"20\" height=\"20\" />\\n\\t\\t\\t<img class=\"popover__hamburger-toggle-open\" src=\"https://www.whitehouse.gov/wp-content/themes/whitehouse/assets/img/hamburger.svg\" alt=\"Open Menu\" width=\"28\" height=\"20\" />\\n\\t\\t</button>\\n\\n\\t\\t<button type=\"button\" class=\"popover__search-toggle\">\\n\\t\\t\\t<img class=\"popover__search-toggle-close\" src=\"https://www.whitehouse.gov/wp-content/themes/whitehouse/assets/img/close.svg\" alt=\"Close Search\" width=\"20\" height=\"20\" />\\n\\t\\t\\t<img class=\"popover__search-toggle-open\" src=\"https://www.whitehouse.gov/wp-content/themes/whitehouse/assets/img/search.svg\" alt=\"Open Search\" width=\"20\" height=\"20\" />\\n\\t\\t</button>\\n\\t</div>\\n\\n\\t<div class=\"popover__content\">\\n\\t\\t<div class=\"popover__hamburger\">\\n\\t\\t\\t<div class=\"popover__nav\">\\n\\t\\t\\t\\t<nav class=\"nav nav--popover\"><ul class=\"nav__menu nav__menu--depth0 menu\"><li class=\"nav__menu-item nav__menu-item--depth0 nav__menu-item--has-submenu nav__menu-item--active-ancestor menu-item menu-item-type-post_type menu-item-object-page current-menu-ancestor current-menu-parent current_page_parent current_page_ancestor menu-item-has-children nav__menu-item--has-menu-5 menu-item-658\"><a href=\"https://www.whitehouse.gov/news/\" class=\"nav__link\">News</a>\\n<ul class=\"nav__menu nav__menu--depth1 sub-menu\">\\n\\t<li class=\"nav__menu-item nav__menu-item--depth1 menu-item menu-item-type-post_type menu-item-object-page menu-item-152066\"><a href=\"https://www.whitehouse.gov/remarks/\" class=\"nav__link\">Remarks</a></li>\\n\\t<li class=\"nav__menu-item nav__menu-item--depth1 nav__menu-item--active menu-item menu-item-type-post_type_archive menu-item-object-briefing-statement current-menu-item menu-item-105680\"><a href=\"https://www.whitehouse.gov/briefings-statements/\" class=\"nav__link\">Briefings &#038; Statements</a></li>\\n\\t<li class=\"nav__menu-item nav__menu-item--depth1 menu-item menu-item-type-post_type_archive menu-item-object-presidential-action menu-item-105687\"><a href=\"https://www.whitehouse.gov/presidential-actions/\" class=\"nav__link\">Presidential Actions</a></li>\\n\\t<li class=\"nav__menu-item nav__menu-item--depth1 menu-item menu-item-type-post_type menu-item-object-page current_page_parent menu-item-105701\"><a href=\"https://www.whitehouse.gov/articles/\" class=\"nav__link\">Articles</a></li>\\n\\t<li class=\"nav__menu-item nav__menu-item--depth1 menu-item menu-item-type-post_type menu-item-object-page menu-item-105694\"><a href=\"https://www.whitehouse.gov/news/\" class=\"nav__link\">All News</a></li>\\n</ul>\\n</li>\\n<li class=\"nav__menu-item nav__menu-item--depth0 nav__menu-item--has-submenu menu-item menu-item-type-post_type menu-item-object-page menu-item-has-children nav__menu-item--has-menu-6 menu-item-659\"><a href=\"https://www.whitehouse.gov/issues/\" class=\"nav__link\">Issues</a>\\n<ul class=\"nav__menu nav__menu--depth1 sub-menu\">\\n\\t<li class=\"nav__menu-item nav__menu-item--depth1 menu-item menu-item-type-post_type menu-item-object-issue menu-item-105708\"><a href=\"https://www.whitehouse.gov/issues/education/\" class=\"nav__link\">Education</a></li>\\n\\t<li class=\"nav__menu-item nav__menu-item--depth1 menu-item menu-item-type-post_type menu-item-object-issue menu-item-105715\"><a href=\"https://www.whitehouse.gov/issues/national-security-defense/\" class=\"nav__link\">National Security &#038; Defense</a></li>\\n\\t<li class=\"nav__menu-item nav__menu-item--depth1 menu-item menu-item-type-post_type menu-item-object-issue menu-item-105729\"><a href=\"https://www.whitehouse.gov/issues/budget-spending/\" class=\"nav__link\">Budget &#038; Spending</a></li>\\n\\t<li class=\"nav__menu-item nav__menu-item--depth1 menu-item menu-item-type-post_type menu-item-object-issue menu-item-105722\"><a href=\"https://www.whitehouse.gov/issues/immigration/\" class=\"nav__link\">Immigration</a></li>\\n\\t<li class=\"nav__menu-item nav__menu-item--depth1 menu-item menu-item-type-post_type menu-item-object-issue menu-item-105736\"><a href=\"https://www.whitehouse.gov/issues/healthcare/\" class=\"nav__link\">Healthcare</a></li>\\n\\t<li class=\"nav__menu-item nav__menu-item--depth1 menu-item menu-item-type-post_type menu-item-object-page menu-item-105743\"><a href=\"https://www.whitehouse.gov/issues/\" class=\"nav__link\">All Issues</a></li>\\n</ul>\\n</li>\\n<li class=\"nav__menu-item nav__menu-item--depth0 nav__menu-item--has-submenu menu-item menu-item-type-post_type menu-item-object-page menu-item-has-children nav__menu-item--has-menu-6 menu-item-795\"><a href=\"https://www.whitehouse.gov/the-trump-administration/\" class=\"nav__link\">The Administration</a>\\n<ul class=\"nav__menu nav__menu--depth1 sub-menu\">\\n\\t<li class=\"nav__menu-item nav__menu-item--depth1 menu-item menu-item-type-post_type menu-item-object-authors menu-item-105757\"><a href=\"https://www.whitehouse.gov/people/donald-j-trump/\" class=\"nav__link\">President Donald J. Trump</a></li>\\n\\t<li class=\"nav__menu-item nav__menu-item--depth1 menu-item menu-item-type-post_type menu-item-object-authors menu-item-105764\"><a href=\"https://www.whitehouse.gov/people/mike-pence/\" class=\"nav__link\">Vice President Michael R. Pence</a></li>\\n\\t<li class=\"nav__menu-item nav__menu-item--depth1 menu-item menu-item-type-post_type menu-item-object-authors menu-item-105750\"><a href=\"https://www.whitehouse.gov/people/melania-trump/\" class=\"nav__link\">First Lady Melania Trump</a></li>\\n\\t<li class=\"nav__menu-item nav__menu-item--depth1 menu-item menu-item-type-post_type menu-item-object-authors menu-item-105771\"><a href=\"https://www.whitehouse.gov/people/karen-pence/\" class=\"nav__link\">Mrs. Karen Pence</a></li>\\n\\t<li class=\"nav__menu-item nav__menu-item--depth1 menu-item menu-item-type-post_type menu-item-object-page menu-item-105778\"><a href=\"https://www.whitehouse.gov/the-trump-administration/the-cabinet/\" class=\"nav__link\">The Cabinet</a></li>\\n\\t<li class=\"nav__menu-item nav__menu-item--depth1 menu-item menu-item-type-post_type menu-item-object-page menu-item-105785\"><a href=\"https://www.whitehouse.gov/disclosures/\" class=\"nav__link\">Disclosures</a></li>\\n</ul>\\n</li>\\n<li class=\"nav__menu-item nav__menu-item--depth0 nav__menu-item--has-submenu menu-item menu-item-type-custom menu-item-object-custom menu-item-has-children nav__menu-item--has-menu-6 menu-item-105792\"><a href=\"#\" class=\"nav__link\">Executive Offices</a>\\n<ul class=\"nav__menu nav__menu--depth1 sub-menu\">\\n\\t<li class=\"nav__menu-item nav__menu-item--depth1 menu-item menu-item-type-post_type menu-item-object-eop-component menu-item-105806\"><a href=\"https://www.whitehouse.gov/cea/\" class=\"nav__link\">Council of Economic Advisers</a></li>\\n\\t<li class=\"nav__menu-item nav__menu-item--depth1 menu-item menu-item-type-post_type menu-item-object-eop-component menu-item-105799\"><a href=\"https://www.whitehouse.gov/ceq/\" class=\"nav__link\">Council on Environmental Quality</a></li>\\n\\t<li class=\"nav__menu-item nav__menu-item--depth1 menu-item menu-item-type-post_type menu-item-object-eop-component menu-item-105813\"><a href=\"https://www.whitehouse.gov/nsc/\" class=\"nav__link\">National Security Council</a></li>\\n\\t<li class=\"nav__menu-item nav__menu-item--depth1 menu-item menu-item-type-post_type menu-item-object-eop-component menu-item-106142\"><a href=\"https://www.whitehouse.gov/omb/\" class=\"nav__link\">Office of Management and Budget</a></li>\\n\\t<li class=\"nav__menu-item nav__menu-item--depth1 menu-item menu-item-type-post_type menu-item-object-eop-component menu-item-105827\"><a href=\"https://www.whitehouse.gov/ondcp/\" class=\"nav__link\">Office of National Drug Control Policy</a></li>\\n\\t<li class=\"nav__menu-item nav__menu-item--depth1 menu-item menu-item-type-post_type menu-item-object-eop-component menu-item-105834\"><a href=\"https://www.whitehouse.gov/ostp/\" class=\"nav__link\">Office of Science and Technology Policy</a></li>\\n</ul>\\n</li>\\n<li class=\"nav__menu-item nav__menu-item--depth0 nav__menu-item--has-submenu menu-item menu-item-type-post_type menu-item-object-page menu-item-has-children nav__menu-item--has-menu-5 menu-item-1548\"><a href=\"https://www.whitehouse.gov/about-the-white-house/\" class=\"nav__link\">About The White House</a>\\n<ul class=\"nav__menu nav__menu--depth1 sub-menu\">\\n\\t<li class=\"nav__menu-item nav__menu-item--depth1 menu-item menu-item-type-post_type menu-item-object-page menu-item-105848\"><a href=\"https://www.whitehouse.gov/about-the-white-house/tours-events/\" class=\"nav__link\">Tours &#038; Events</a></li>\\n\\t<li class=\"nav__menu-item nav__menu-item--depth1 menu-item menu-item-type-post_type menu-item-object-page menu-item-105855\"><a href=\"https://www.whitehouse.gov/about-the-white-house/presidents/\" class=\"nav__link\">Past Presidents</a></li>\\n\\t<li class=\"nav__menu-item nav__menu-item--depth1 menu-item menu-item-type-post_type menu-item-object-page menu-item-105862\"><a href=\"https://www.whitehouse.gov/about-the-white-house/first-ladies/\" class=\"nav__link\">Past First Ladies</a></li>\\n\\t<li class=\"nav__menu-item nav__menu-item--depth1 nav__menu-item--has-submenu menu-item menu-item-type-post_type menu-item-object-page menu-item-has-children nav__menu-item--has-menu-5 menu-item-105995\"><a href=\"https://www.whitehouse.gov/about-the-white-house/the-grounds/\" class=\"nav__link\">The Grounds</a></li>\\n\\t<li class=\"nav__menu-item nav__menu-item--depth1 nav__menu-item--has-submenu menu-item menu-item-type-post_type menu-item-object-page menu-item-has-children nav__menu-item--has-menu-7 menu-item-106079\"><a href=\"https://www.whitehouse.gov/about-the-white-house/our-government/\" class=\"nav__link\">Our Government</a></li>\\n</ul>\\n</li>\\n<li class=\"nav__menu-item nav__menu-item--depth0 nav__menu-item--has-submenu menu-item menu-item-type-post_type menu-item-object-page menu-item-has-children nav__menu-item--has-menu-3 menu-item-5738\"><a href=\"https://www.whitehouse.gov/get-involved/\" class=\"nav__link\">Get Involved</a>\\n<ul class=\"nav__menu nav__menu--depth1 sub-menu\">\\n\\t<li class=\"nav__menu-item nav__menu-item--depth1 menu-item menu-item-type-post_type menu-item-object-page menu-item-105869\"><a href=\"https://www.whitehouse.gov/get-involved/write-or-call/\" class=\"nav__link\">Write or Call the White House</a></li>\\n\\t<li class=\"nav__menu-item nav__menu-item--depth1 nav__menu-item--has-submenu menu-item menu-item-type-post_type menu-item-object-page menu-item-has-children nav__menu-item--has-menu-3 menu-item-105876\"><a href=\"https://www.whitehouse.gov/get-involved/internships/\" class=\"nav__link\">White House Internship Program</a></li>\\n\\t<li class=\"nav__menu-item nav__menu-item--depth1 nav__menu-item--has-submenu menu-item menu-item-type-post_type menu-item-object-page menu-item-has-children nav__menu-item--has-menu-4 menu-item-105904\"><a href=\"https://www.whitehouse.gov/get-involved/fellows/\" class=\"nav__link\">White House Fellows</a></li>\\n</ul>\\n</li>\\n<li class=\"nav__menu-item nav__menu-item--depth0 menu-item menu-item-type-post_type menu-item-object-page menu-item-105988\"><a href=\"https://www.whitehouse.gov/contact/\" class=\"nav__link\">Contact</a></li>\\n<li class=\"nav__menu-item nav__menu-item--depth0 menu-item menu-item-type-post_type menu-item-object-page nav__menu-item--live menu-item-105974\"><a href=\"https://www.whitehouse.gov/live/\" class=\"nav__link\"><span class=\"nav__menu-item-label\">Live</span></a></li>\\n</ul></nav>\\t\\t\\t</div>\\n\\t\\t\\t<div class=\"popover__seal\">\\n\\t\\t\\t\\t<img height=\"435\" width=\"435\" src=\"https://www.whitehouse.gov/wp-content/themes/whitehouse/assets/img/presidential-crest-gray.svg\" alt=\"Presidential Crest\" />\\n\\t\\t\\t</div>\\n\\t\\t</div>\\n\\n\\t\\t<div class=\"popover__search\">\\n\\t\\t\\t<form class=\"popover__search-form\" action=\"https://www.whitehouse.gov/search/\">\\n\\t\\t\\t\\t<label class=\"visually-hidden\" for=\"popover__search-input\">\\n\\t\\t\\t\\t\\tType Your Search\\n\\t\\t\\t\\t</label>\\n\\t\\t\\t\\t<input type=\"text\" id=\"popover__search-input\" class=\"popover__search-input\" name=\"s\" placeholder=\"Type Your Search...\" autocomplete=\"off\">\\n\\t\\t\\t\\t<button type=\"submit\" class=\"popover__search-submit\"><span>Press enter to search</span></button>\\n\\t\\t\\t</form>\\n\\t\\t</div>\\n\\t</div>\\n</div>\\n\\n<script type=\"text/javascript\">window.NREUM||(NREUM={});NREUM.info={\"beacon\":\"bam.nr-data.net\",\"licenseKey\":\"9360826e15\",\"applicationID\":\"81062031\",\"transactionName\":\"MVNbZhQFXEAEVBBfWQgZeFESDV1dSlYWVV4PQFwfBBZbVgNeClEbFUJYRgMJV10R\",\"queueTime\":0,\"applicationTime\":607,\"atts\":\"HRRYEFwfT04=\",\"errorBeacon\":\"bam.nr-data.net\",\"agent\":\"\"}</script></body>\\n</html>\\n'"
      ]
     },
     "execution_count": 5,
     "metadata": {},
     "output_type": "execute_result"
    }
   ],
   "source": [
    "src"
   ]
  },
  {
   "cell_type": "code",
   "execution_count": 30,
   "metadata": {},
   "outputs": [],
   "source": [
    "soup=BeautifulSoup(src)"
   ]
  },
  {
   "cell_type": "code",
   "execution_count": 31,
   "metadata": {},
   "outputs": [
    {
     "data": {
      "text/plain": [
       "<!DOCTYPE html>\n",
       "<html class=\"no-js\" lang=\"en-US\" prefix=\"og: http://ogp.me/ns# fb: http://ogp.me/ns/fb#\">\n",
       "<head>\n",
       "<script>\n",
       "\t\tdocument.documentElement.className = document.documentElement.className.replace(/\\bno-js\\b/, 'js');\n",
       "\t\tdocument.createElement('picture');\n",
       "\t</script>\n",
       "<meta charset=\"utf-8\"/>\n",
       "<meta content=\"ie=edge\" http-equiv=\"x-ua-compatible\"/><script type=\"text/javascript\">(window.NREUM||(NREUM={})).loader_config={xpid:\"VQ4FUVdTCBAIVVFUBQUGUw==\",licenseKey:\"9360826e15\",applicationID:\"81062415\"};window.NREUM||(NREUM={}),__nr_require=function(t,n,e){function r(e){if(!n[e]){var o=n[e]={exports:{}};t[e][0].call(o.exports,function(n){var o=t[e][1][n];return r(o||n)},o,o.exports)}return n[e].exports}if(\"function\"==typeof __nr_require)return __nr_require;for(var o=0;o<e.length;o++)r(e[o]);return r}({1:[function(t,n,e){function r(t){try{s.console&&console.log(t)}catch(n){}}var o,i=t(\"ee\"),a=t(21),s={};try{o=localStorage.getItem(\"__nr_flags\").split(\",\"),console&&\"function\"==typeof console.log&&(s.console=!0,o.indexOf(\"dev\")!==-1&&(s.dev=!0),o.indexOf(\"nr_dev\")!==-1&&(s.nrDev=!0))}catch(c){}s.nrDev&&i.on(\"internal-error\",function(t){r(t.stack)}),s.dev&&i.on(\"fn-err\",function(t,n,e){r(e.stack)}),s.dev&&(r(\"NR AGENT IN DEVELOPMENT MODE\"),r(\"flags: \"+a(s,function(t,n){return t}).join(\", \")))},{}],2:[function(t,n,e){function r(t,n,e,r,s){try{p?p-=1:o(s||new UncaughtException(t,n,e),!0)}catch(f){try{i(\"ierr\",[f,c.now(),!0])}catch(d){}}return\"function\"==typeof u&&u.apply(this,a(arguments))}function UncaughtException(t,n,e){this.message=t||\"Uncaught error with no additional information\",this.sourceURL=n,this.line=e}function o(t,n){var e=n?null:c.now();i(\"err\",[t,e])}var i=t(\"handle\"),a=t(22),s=t(\"ee\"),c=t(\"loader\"),f=t(\"gos\"),u=window.onerror,d=!1,l=\"nr@seenError\",p=0;c.features.err=!0,t(1),window.onerror=r;try{throw new Error}catch(h){\"stack\"in h&&(t(9),t(8),\"addEventListener\"in window&&t(5),c.xhrWrappable&&t(10),d=!0)}s.on(\"fn-start\",function(t,n,e){d&&(p+=1)}),s.on(\"fn-err\",function(t,n,e){d&&!e[l]&&(f(e,l,function(){return!0}),this.thrown=!0,o(e))}),s.on(\"fn-end\",function(){d&&!this.thrown&&p>0&&(p-=1)}),s.on(\"internal-error\",function(t){i(\"ierr\",[t,c.now(),!0])})},{}],3:[function(t,n,e){t(\"loader\").features.ins=!0},{}],4:[function(t,n,e){function r(t){}if(window.performance&&window.performance.timing&&window.performance.getEntriesByType){var o=t(\"ee\"),i=t(\"handle\"),a=t(9),s=t(8),c=\"learResourceTimings\",f=\"addEventListener\",u=\"resourcetimingbufferfull\",d=\"bstResource\",l=\"resource\",p=\"-start\",h=\"-end\",m=\"fn\"+p,w=\"fn\"+h,v=\"bstTimer\",g=\"pushState\",y=t(\"loader\");y.features.stn=!0,t(7),\"addEventListener\"in window&&t(5);var x=NREUM.o.EV;o.on(m,function(t,n){var e=t[0];e instanceof x&&(this.bstStart=y.now())}),o.on(w,function(t,n){var e=t[0];e instanceof x&&i(\"bst\",[e,n,this.bstStart,y.now()])}),a.on(m,function(t,n,e){this.bstStart=y.now(),this.bstType=e}),a.on(w,function(t,n){i(v,[n,this.bstStart,y.now(),this.bstType])}),s.on(m,function(){this.bstStart=y.now()}),s.on(w,function(t,n){i(v,[n,this.bstStart,y.now(),\"requestAnimationFrame\"])}),o.on(g+p,function(t){this.time=y.now(),this.startPath=location.pathname+location.hash}),o.on(g+h,function(t){i(\"bstHist\",[location.pathname+location.hash,this.startPath,this.time])}),f in window.performance&&(window.performance[\"c\"+c]?window.performance[f](u,function(t){i(d,[window.performance.getEntriesByType(l)]),window.performance[\"c\"+c]()},!1):window.performance[f](\"webkit\"+u,function(t){i(d,[window.performance.getEntriesByType(l)]),window.performance[\"webkitC\"+c]()},!1)),document[f](\"scroll\",r,{passive:!0}),document[f](\"keypress\",r,!1),document[f](\"click\",r,!1)}},{}],5:[function(t,n,e){function r(t){for(var n=t;n&&!n.hasOwnProperty(u);)n=Object.getPrototypeOf(n);n&&o(n)}function o(t){s.inPlace(t,[u,d],\"-\",i)}function i(t,n){return t[1]}var a=t(\"ee\").get(\"events\"),s=t(\"wrap-function\")(a,!0),c=t(\"gos\"),f=XMLHttpRequest,u=\"addEventListener\",d=\"removeEventListener\";n.exports=a,\"getPrototypeOf\"in Object?(r(document),r(window),r(f.prototype)):f.prototype.hasOwnProperty(u)&&(o(window),o(f.prototype)),a.on(u+\"-start\",function(t,n){var e=t[1],r=c(e,\"nr@wrapped\",function(){function t(){if(\"function\"==typeof e.handleEvent)return e.handleEvent.apply(e,arguments)}var n={object:t,\"function\":e}[typeof e];return n?s(n,\"fn-\",null,n.name||\"anonymous\"):e});this.wrapped=t[1]=r}),a.on(d+\"-start\",function(t){t[1]=this.wrapped||t[1]})},{}],6:[function(t,n,e){function r(t,n,e){var r=t[n];\"function\"==typeof r&&(t[n]=function(){var t=i(arguments),n={};o.emit(e+\"before-start\",[t],n);var a;n[m]&&n[m].dt&&(a=n[m].dt);var s=r.apply(this,t);return o.emit(e+\"start\",[t,a],s),s.then(function(t){return o.emit(e+\"end\",[null,t],s),t},function(t){throw o.emit(e+\"end\",[t],s),t})})}var o=t(\"ee\").get(\"fetch\"),i=t(22),a=t(21);n.exports=o;var s=window,c=\"fetch-\",f=c+\"body-\",u=[\"arrayBuffer\",\"blob\",\"json\",\"text\",\"formData\"],d=s.Request,l=s.Response,p=s.fetch,h=\"prototype\",m=\"nr@context\";d&&l&&p&&(a(u,function(t,n){r(d[h],n,f),r(l[h],n,f)}),r(s,\"fetch\",c),o.on(c+\"end\",function(t,n){var e=this;if(n){var r=n.headers.get(\"content-length\");null!==r&&(e.rxSize=r),o.emit(c+\"done\",[null,n],e)}else o.emit(c+\"done\",[t],e)}))},{}],7:[function(t,n,e){var r=t(\"ee\").get(\"history\"),o=t(\"wrap-function\")(r);n.exports=r;var i=window.history&&window.history.constructor&&window.history.constructor.prototype,a=window.history;i&&i.pushState&&i.replaceState&&(a=i),o.inPlace(a,[\"pushState\",\"replaceState\"],\"-\")},{}],8:[function(t,n,e){var r=t(\"ee\").get(\"raf\"),o=t(\"wrap-function\")(r),i=\"equestAnimationFrame\";n.exports=r,o.inPlace(window,[\"r\"+i,\"mozR\"+i,\"webkitR\"+i,\"msR\"+i],\"raf-\"),r.on(\"raf-start\",function(t){t[0]=o(t[0],\"fn-\")})},{}],9:[function(t,n,e){function r(t,n,e){t[0]=a(t[0],\"fn-\",null,e)}function o(t,n,e){this.method=e,this.timerDuration=isNaN(t[1])?0:+t[1],t[0]=a(t[0],\"fn-\",this,e)}var i=t(\"ee\").get(\"timer\"),a=t(\"wrap-function\")(i),s=\"setTimeout\",c=\"setInterval\",f=\"clearTimeout\",u=\"-start\",d=\"-\";n.exports=i,a.inPlace(window,[s,\"setImmediate\"],s+d),a.inPlace(window,[c],c+d),a.inPlace(window,[f,\"clearImmediate\"],f+d),i.on(c+u,r),i.on(s+u,o)},{}],10:[function(t,n,e){function r(t,n){d.inPlace(n,[\"onreadystatechange\"],\"fn-\",s)}function o(){var t=this,n=u.context(t);t.readyState>3&&!n.resolved&&(n.resolved=!0,u.emit(\"xhr-resolved\",[],t)),d.inPlace(t,g,\"fn-\",s)}function i(t){y.push(t),h&&(b?b.then(a):w?w(a):(E=-E,O.data=E))}function a(){for(var t=0;t<y.length;t++)r([],y[t]);y.length&&(y=[])}function s(t,n){return n}function c(t,n){for(var e in t)n[e]=t[e];return n}t(5);var f=t(\"ee\"),u=f.get(\"xhr\"),d=t(\"wrap-function\")(u),l=NREUM.o,p=l.XHR,h=l.MO,m=l.PR,w=l.SI,v=\"readystatechange\",g=[\"onload\",\"onerror\",\"onabort\",\"onloadstart\",\"onloadend\",\"onprogress\",\"ontimeout\"],y=[];n.exports=u;var x=window.XMLHttpRequest=function(t){var n=new p(t);try{u.emit(\"new-xhr\",[n],n),n.addEventListener(v,o,!1)}catch(e){try{u.emit(\"internal-error\",[e])}catch(r){}}return n};if(c(p,x),x.prototype=p.prototype,d.inPlace(x.prototype,[\"open\",\"send\"],\"-xhr-\",s),u.on(\"send-xhr-start\",function(t,n){r(t,n),i(n)}),u.on(\"open-xhr-start\",r),h){var b=m&&m.resolve();if(!w&&!m){var E=1,O=document.createTextNode(E);new h(a).observe(O,{characterData:!0})}}else f.on(\"fn-end\",function(t){t[0]&&t[0].type===v||a()})},{}],11:[function(t,n,e){function r(t){if(!i(t))return null;var n=window.NREUM;if(!n.loader_config)return null;var e=(n.loader_config.accountID||\"\").toString()||null,r=(n.loader_config.agentID||\"\").toString()||null,s=(n.loader_config.trustKey||\"\").toString()||null;if(!e||!r)return null;var c=a.generateCatId(),f=a.generateCatId(),u=Date.now(),d=o(c,f,u,e,r,s);return{header:d,guid:c,traceId:f,timestamp:u}}function o(t,n,e,r,o,i){var a=\"btoa\"in window&&\"function\"==typeof window.btoa;if(!a)return null;var s={v:[0,1],d:{ty:\"Browser\",ac:r,ap:o,id:t,tr:n,ti:e}};return i&&r!==i&&(s.d.tk=i),btoa(JSON.stringify(s))}function i(t){var n=!1,e=!1,r={};if(\"init\"in NREUM&&\"distributed_tracing\"in NREUM.init&&(r=NREUM.init.distributed_tracing,e=!!r.enabled),e)if(t.sameOrigin)n=!0;else if(r.allowed_origins instanceof Array)for(var o=0;o<r.allowed_origins.length;o++){var i=s(r.allowed_origins[o]);if(t.hostname===i.hostname&&t.protocol===i.protocol&&t.port===i.port){n=!0;break}}return e&&n}var a=t(19),s=t(13);n.exports={generateTracePayload:r,shouldGenerateTrace:i}},{}],12:[function(t,n,e){function r(t){var n=this.params,e=this.metrics;if(!this.ended){this.ended=!0;for(var r=0;r<l;r++)t.removeEventListener(d[r],this.listener,!1);n.aborted||(e.duration=a.now()-this.startTime,this.loadCaptureCalled||4!==t.readyState?null==n.status&&(n.status=0):i(this,t),e.cbTime=this.cbTime,u.emit(\"xhr-done\",[t],t),s(\"xhr\",[n,e,this.startTime]))}}function o(t,n){var e=c(n),r=t.params;r.host=e.hostname+\":\"+e.port,r.pathname=e.pathname,t.parsedOrigin=c(n),t.sameOrigin=t.parsedOrigin.sameOrigin}function i(t,n){t.params.status=n.status;var e=w(n,t.lastSize);if(e&&(t.metrics.rxSize=e),t.sameOrigin){var r=n.getResponseHeader(\"X-NewRelic-App-Data\");r&&(t.params.cat=r.split(\", \").pop())}t.loadCaptureCalled=!0}var a=t(\"loader\");if(a.xhrWrappable){var s=t(\"handle\"),c=t(13),f=t(11).generateTracePayload,u=t(\"ee\"),d=[\"load\",\"error\",\"abort\",\"timeout\"],l=d.length,p=t(\"id\"),h=t(17),m=t(16),w=t(14),v=window.XMLHttpRequest;a.features.xhr=!0,t(10),t(6),u.on(\"new-xhr\",function(t){var n=this;n.totalCbs=0,n.called=0,n.cbTime=0,n.end=r,n.ended=!1,n.xhrGuids={},n.lastSize=null,n.loadCaptureCalled=!1,t.addEventListener(\"load\",function(e){i(n,t)},!1),h&&(h>34||h<10)||window.opera||t.addEventListener(\"progress\",function(t){n.lastSize=t.loaded},!1)}),u.on(\"open-xhr-start\",function(t){this.params={method:t[0]},o(this,t[1]),this.metrics={}}),u.on(\"open-xhr-end\",function(t,n){\"loader_config\"in NREUM&&\"xpid\"in NREUM.loader_config&&this.sameOrigin&&n.setRequestHeader(\"X-NewRelic-ID\",NREUM.loader_config.xpid);var e=f(this.parsedOrigin);e&&e.header&&(n.setRequestHeader(\"newrelic\",e.header),this.dt=e)}),u.on(\"send-xhr-start\",function(t,n){var e=this.metrics,r=t[0],o=this;if(e&&r){var i=m(r);i&&(e.txSize=i)}this.startTime=a.now(),this.listener=function(t){try{\"abort\"!==t.type||o.loadCaptureCalled||(o.params.aborted=!0),(\"load\"!==t.type||o.called===o.totalCbs&&(o.onloadCalled||\"function\"!=typeof n.onload))&&o.end(n)}catch(e){try{u.emit(\"internal-error\",[e])}catch(r){}}};for(var s=0;s<l;s++)n.addEventListener(d[s],this.listener,!1)}),u.on(\"xhr-cb-time\",function(t,n,e){this.cbTime+=t,n?this.onloadCalled=!0:this.called+=1,this.called!==this.totalCbs||!this.onloadCalled&&\"function\"==typeof e.onload||this.end(e)}),u.on(\"xhr-load-added\",function(t,n){var e=\"\"+p(t)+!!n;this.xhrGuids&&!this.xhrGuids[e]&&(this.xhrGuids[e]=!0,this.totalCbs+=1)}),u.on(\"xhr-load-removed\",function(t,n){var e=\"\"+p(t)+!!n;this.xhrGuids&&this.xhrGuids[e]&&(delete this.xhrGuids[e],this.totalCbs-=1)}),u.on(\"addEventListener-end\",function(t,n){n instanceof v&&\"load\"===t[0]&&u.emit(\"xhr-load-added\",[t[1],t[2]],n)}),u.on(\"removeEventListener-end\",function(t,n){n instanceof v&&\"load\"===t[0]&&u.emit(\"xhr-load-removed\",[t[1],t[2]],n)}),u.on(\"fn-start\",function(t,n,e){n instanceof v&&(\"onload\"===e&&(this.onload=!0),(\"load\"===(t[0]&&t[0].type)||this.onload)&&(this.xhrCbStart=a.now()))}),u.on(\"fn-end\",function(t,n){this.xhrCbStart&&u.emit(\"xhr-cb-time\",[a.now()-this.xhrCbStart,this.onload,n],n)}),u.on(\"fetch-before-start\",function(t){var n,e=t[1]||{};\"string\"==typeof t[0]?n=t[0]:t[0]&&t[0].url&&(n=t[0].url),n&&(this.parsedOrigin=c(n),this.sameOrigin=this.parsedOrigin.sameOrigin);var r=f(this.parsedOrigin);if(r&&r.header){var o=r.header;if(\"string\"==typeof t[0]){var i={};for(var a in e)i[a]=e[a];i.headers=new Headers(e.headers||{}),i.headers.set(\"newrelic\",o),this.dt=r,t.length>1?t[1]=i:t.push(i)}else t[0]&&t[0].headers&&(t[0].headers.append(\"newrelic\",o),this.dt=r)}})}},{}],13:[function(t,n,e){var r={};n.exports=function(t){if(t in r)return r[t];var n=document.createElement(\"a\"),e=window.location,o={};n.href=t,o.port=n.port;var i=n.href.split(\"://\");!o.port&&i[1]&&(o.port=i[1].split(\"/\")[0].split(\"@\").pop().split(\":\")[1]),o.port&&\"0\"!==o.port||(o.port=\"https\"===i[0]?\"443\":\"80\"),o.hostname=n.hostname||e.hostname,o.pathname=n.pathname,o.protocol=i[0],\"/\"!==o.pathname.charAt(0)&&(o.pathname=\"/\"+o.pathname);var a=!n.protocol||\":\"===n.protocol||n.protocol===e.protocol,s=n.hostname===document.domain&&n.port===e.port;return o.sameOrigin=a&&(!n.hostname||s),\"/\"===o.pathname&&(r[t]=o),o}},{}],14:[function(t,n,e){function r(t,n){var e=t.responseType;return\"json\"===e&&null!==n?n:\"arraybuffer\"===e||\"blob\"===e||\"json\"===e?o(t.response):\"text\"===e||\"document\"===e||\"\"===e||void 0===e?o(t.responseText):void 0}var o=t(16);n.exports=r},{}],15:[function(t,n,e){function r(){}function o(t,n,e){return function(){return i(t,[f.now()].concat(s(arguments)),n?null:this,e),n?void 0:this}}var i=t(\"handle\"),a=t(21),s=t(22),c=t(\"ee\").get(\"tracer\"),f=t(\"loader\"),u=NREUM;\"undefined\"==typeof window.newrelic&&(newrelic=u);var d=[\"setPageViewName\",\"setCustomAttribute\",\"setErrorHandler\",\"finished\",\"addToTrace\",\"inlineHit\",\"addRelease\"],l=\"api-\",p=l+\"ixn-\";a(d,function(t,n){u[n]=o(l+n,!0,\"api\")}),u.addPageAction=o(l+\"addPageAction\",!0),u.setCurrentRouteName=o(l+\"routeName\",!0),n.exports=newrelic,u.interaction=function(){return(new r).get()};var h=r.prototype={createTracer:function(t,n){var e={},r=this,o=\"function\"==typeof n;return i(p+\"tracer\",[f.now(),t,e],r),function(){if(c.emit((o?\"\":\"no-\")+\"fn-start\",[f.now(),r,o],e),o)try{return n.apply(this,arguments)}catch(t){throw c.emit(\"fn-err\",[arguments,this,t],e),t}finally{c.emit(\"fn-end\",[f.now()],e)}}}};a(\"actionText,setName,setAttribute,save,ignore,onEnd,getContext,end,get\".split(\",\"),function(t,n){h[n]=o(p+n)}),newrelic.noticeError=function(t,n){\"string\"==typeof t&&(t=new Error(t)),i(\"err\",[t,f.now(),!1,n])}},{}],16:[function(t,n,e){n.exports=function(t){if(\"string\"==typeof t&&t.length)return t.length;if(\"object\"==typeof t){if(\"undefined\"!=typeof ArrayBuffer&&t instanceof ArrayBuffer&&t.byteLength)return t.byteLength;if(\"undefined\"!=typeof Blob&&t instanceof Blob&&t.size)return t.size;if(!(\"undefined\"!=typeof FormData&&t instanceof FormData))try{return JSON.stringify(t).length}catch(n){return}}}},{}],17:[function(t,n,e){var r=0,o=navigator.userAgent.match(/Firefox[\\/\\s](\\d+\\.\\d+)/);o&&(r=+o[1]),n.exports=r},{}],18:[function(t,n,e){function r(t,n){var e=t.getEntries();e.forEach(function(t){\"first-paint\"===t.name?c(\"timing\",[\"fp\",Math.floor(t.startTime)]):\"first-contentful-paint\"===t.name&&c(\"timing\",[\"fcp\",Math.floor(t.startTime)])})}function o(t,n){var e=t.getEntries();e.length>0&&c(\"lcp\",[e[e.length-1]])}function i(t){if(t instanceof u&&!l){var n,e=Math.round(t.timeStamp);n=e>1e12?Date.now()-e:f.now()-e,l=!0,c(\"timing\",[\"fi\",e,{type:t.type,fid:n}])}}if(!(\"init\"in NREUM&&\"page_view_timing\"in NREUM.init&&\"enabled\"in NREUM.init.page_view_timing&&NREUM.init.page_view_timing.enabled===!1)){var a,s,c=t(\"handle\"),f=t(\"loader\"),u=NREUM.o.EV;if(\"PerformanceObserver\"in window&&\"function\"==typeof window.PerformanceObserver){a=new PerformanceObserver(r),s=new PerformanceObserver(o);try{a.observe({entryTypes:[\"paint\"]}),s.observe({entryTypes:[\"largest-contentful-paint\"]})}catch(d){}}if(\"addEventListener\"in document){var l=!1,p=[\"click\",\"keydown\",\"mousedown\",\"pointerdown\",\"touchstart\"];p.forEach(function(t){document.addEventListener(t,i,!1)})}}},{}],19:[function(t,n,e){function r(){function t(){return n?15&n[e++]:16*Math.random()|0}var n=null,e=0,r=window.crypto||window.msCrypto;r&&r.getRandomValues&&(n=r.getRandomValues(new Uint8Array(31)));for(var o,i=\"xxxxxxxx-xxxx-4xxx-yxxx-xxxxxxxxxxxx\",a=\"\",s=0;s<i.length;s++)o=i[s],\"x\"===o?a+=t().toString(16):\"y\"===o?(o=3&t()|8,a+=o.toString(16)):a+=o;return a}function o(){function t(){return n?15&n[e++]:16*Math.random()|0}var n=null,e=0,r=window.crypto||window.msCrypto;r&&r.getRandomValues&&Uint8Array&&(n=r.getRandomValues(new Uint8Array(31)));for(var o=[],i=0;i<16;i++)o.push(t().toString(16));return o.join(\"\")}n.exports={generateUuid:r,generateCatId:o}},{}],20:[function(t,n,e){function r(t,n){if(!o)return!1;if(t!==o)return!1;if(!n)return!0;if(!i)return!1;for(var e=i.split(\".\"),r=n.split(\".\"),a=0;a<r.length;a++)if(r[a]!==e[a])return!1;return!0}var o=null,i=null,a=/Version\\/(\\S+)\\s+Safari/;if(navigator.userAgent){var s=navigator.userAgent,c=s.match(a);c&&s.indexOf(\"Chrome\")===-1&&s.indexOf(\"Chromium\")===-1&&(o=\"Safari\",i=c[1])}n.exports={agent:o,version:i,match:r}},{}],21:[function(t,n,e){function r(t,n){var e=[],r=\"\",i=0;for(r in t)o.call(t,r)&&(e[i]=n(r,t[r]),i+=1);return e}var o=Object.prototype.hasOwnProperty;n.exports=r},{}],22:[function(t,n,e){function r(t,n,e){n||(n=0),\"undefined\"==typeof e&&(e=t?t.length:0);for(var r=-1,o=e-n||0,i=Array(o<0?0:o);++r<o;)i[r]=t[n+r];return i}n.exports=r},{}],23:[function(t,n,e){n.exports={exists:\"undefined\"!=typeof window.performance&&window.performance.timing&&\"undefined\"!=typeof window.performance.timing.navigationStart}},{}],ee:[function(t,n,e){function r(){}function o(t){function n(t){return t&&t instanceof r?t:t?c(t,s,i):i()}function e(e,r,o,i){if(!l.aborted||i){t&&t(e,r,o);for(var a=n(o),s=m(e),c=s.length,f=0;f<c;f++)s[f].apply(a,r);var d=u[y[e]];return d&&d.push([x,e,r,a]),a}}function p(t,n){g[t]=m(t).concat(n)}function h(t,n){var e=g[t];if(e)for(var r=0;r<e.length;r++)e[r]===n&&e.splice(r,1)}function m(t){return g[t]||[]}function w(t){return d[t]=d[t]||o(e)}function v(t,n){f(t,function(t,e){n=n||\"feature\",y[e]=n,n in u||(u[n]=[])})}var g={},y={},x={on:p,addEventListener:p,removeEventListener:h,emit:e,get:w,listeners:m,context:n,buffer:v,abort:a,aborted:!1};return x}function i(){return new r}function a(){(u.api||u.feature)&&(l.aborted=!0,u=l.backlog={})}var s=\"nr@context\",c=t(\"gos\"),f=t(21),u={},d={},l=n.exports=o();l.backlog=u},{}],gos:[function(t,n,e){function r(t,n,e){if(o.call(t,n))return t[n];var r=e();if(Object.defineProperty&&Object.keys)try{return Object.defineProperty(t,n,{value:r,writable:!0,enumerable:!1}),r}catch(i){}return t[n]=r,r}var o=Object.prototype.hasOwnProperty;n.exports=r},{}],handle:[function(t,n,e){function r(t,n,e,r){o.buffer([t],r),o.emit(t,n,e)}var o=t(\"ee\").get(\"handle\");n.exports=r,r.ee=o},{}],id:[function(t,n,e){function r(t){var n=typeof t;return!t||\"object\"!==n&&\"function\"!==n?-1:t===window?0:a(t,i,function(){return o++})}var o=1,i=\"nr@id\",a=t(\"gos\");n.exports=r},{}],loader:[function(t,n,e){function r(){if(!E++){var t=b.info=NREUM.info,n=p.getElementsByTagName(\"script\")[0];if(setTimeout(u.abort,3e4),!(t&&t.licenseKey&&t.applicationID&&n))return u.abort();f(y,function(n,e){t[n]||(t[n]=e)}),c(\"mark\",[\"onload\",a()+b.offset],null,\"api\");var e=p.createElement(\"script\");e.src=\"https://\"+t.agent,n.parentNode.insertBefore(e,n)}}function o(){\"complete\"===p.readyState&&i()}function i(){c(\"mark\",[\"domContent\",a()+b.offset],null,\"api\")}function a(){return O.exists&&performance.now?Math.round(performance.now()):(s=Math.max((new Date).getTime(),s))-b.offset}var s=(new Date).getTime(),c=t(\"handle\"),f=t(21),u=t(\"ee\"),d=t(20),l=window,p=l.document,h=\"addEventListener\",m=\"attachEvent\",w=l.XMLHttpRequest,v=w&&w.prototype;NREUM.o={ST:setTimeout,SI:l.setImmediate,CT:clearTimeout,XHR:w,REQ:l.Request,EV:l.Event,PR:l.Promise,MO:l.MutationObserver};var g=\"\"+location,y={beacon:\"bam.nr-data.net\",errorBeacon:\"bam.nr-data.net\",agent:\"js-agent.newrelic.com/nr-1163.min.js\"},x=w&&v&&v[h]&&!/CriOS/.test(navigator.userAgent),b=n.exports={offset:s,now:a,origin:g,features:{},xhrWrappable:x,userAgent:d};t(15),t(18),p[h]?(p[h](\"DOMContentLoaded\",i,!1),l[h](\"load\",r,!1)):(p[m](\"onreadystatechange\",o),l[m](\"onload\",r)),c(\"mark\",[\"firstbyte\",s],null,\"api\");var E=0,O=t(23)},{}],\"wrap-function\":[function(t,n,e){function r(t){return!(t&&t instanceof Function&&t.apply&&!t[a])}var o=t(\"ee\"),i=t(22),a=\"nr@original\",s=Object.prototype.hasOwnProperty,c=!1;n.exports=function(t,n){function e(t,n,e,o){function nrWrapper(){var r,a,s,c;try{a=this,r=i(arguments),s=\"function\"==typeof e?e(r,a):e||{}}catch(f){l([f,\"\",[r,a,o],s])}u(n+\"start\",[r,a,o],s);try{return c=t.apply(a,r)}catch(d){throw u(n+\"err\",[r,a,d],s),d}finally{u(n+\"end\",[r,a,c],s)}}return r(t)?t:(n||(n=\"\"),nrWrapper[a]=t,d(t,nrWrapper),nrWrapper)}function f(t,n,o,i){o||(o=\"\");var a,s,c,f=\"-\"===o.charAt(0);for(c=0;c<n.length;c++)s=n[c],a=t[s],r(a)||(t[s]=e(a,f?s+o:o,i,s))}function u(e,r,o){if(!c||n){var i=c;c=!0;try{t.emit(e,r,o,n)}catch(a){l([a,e,r,o])}c=i}}function d(t,n){if(Object.defineProperty&&Object.keys)try{var e=Object.keys(t);return e.forEach(function(e){Object.defineProperty(n,e,{get:function(){return t[e]},set:function(n){return t[e]=n,n}})}),n}catch(r){l([r])}for(var o in t)s.call(t,o)&&(n[o]=t[o]);return n}function l(n){try{t.emit(\"internal-error\",n)}catch(e){}}return t||(t=o),e.inPlace=f,e.flag=a,e}},{}]},{},[\"loader\",2,12,4,3]);</script>\n",
       "<meta content=\"width=device-width, initial-scale=1\" name=\"viewport\"/>\n",
       "<title>Briefing Statements | The White House</title>\n",
       "<meta content=\"Get official White House briefings, statements, and remarks from President Donald J. Trump and members of his Administration.\" name=\"description\"/>\n",
       "<link href=\"https://www.whitehouse.gov/briefings-statements/\" rel=\"canonical\"/>\n",
       "<link href=\"https://www.whitehouse.gov/briefings-statements/page/2/\" rel=\"next\"/>\n",
       "<meta content=\"en_US\" property=\"og:locale\"/>\n",
       "<meta content=\"object\" property=\"og:type\"/>\n",
       "<meta content=\"Briefing Statements | The White House\" property=\"og:title\"/>\n",
       "<meta content=\"https://www.whitehouse.gov/briefings-statements/\" property=\"og:url\"/>\n",
       "<meta content=\"The White House\" property=\"og:site_name\"/>\n",
       "<meta content=\"1790466490985150\" property=\"fb:app_id\"/>\n",
       "<meta content=\"https://www.whitehouse.gov/wp-content/uploads/2017/12/wh.gov-share-img_03-1024x538.png\" property=\"og:image\"/>\n",
       "<meta content=\"https://www.whitehouse.gov/wp-content/uploads/2017/12/wh.gov-share-img_03-1024x538.png\" property=\"og:image:secure_url\"/>\n",
       "<meta content=\"summary_large_image\" name=\"twitter:card\"/>\n",
       "<meta content=\"Get official White House briefings, statements, and remarks from President Donald J. Trump and members of his Administration.\" name=\"twitter:description\"/>\n",
       "<meta content=\"Briefing Statements | The White House\" name=\"twitter:title\"/>\n",
       "<meta content=\"@whitehouse\" name=\"twitter:site\"/>\n",
       "<meta content=\"https://www.whitehouse.gov/wp-content/uploads/2017/12/wh.gov-share-img_03-1024x538.png\" name=\"twitter:image\"/>\n",
       "<script type=\"application/ld+json\">{\"@context\":\"http:\\/\\/schema.org\",\"@type\":\"WebSite\",\"@id\":\"#website\",\"url\":\"https:\\/\\/www.whitehouse.gov\\/\",\"name\":\"The White House\",\"alternateName\":\"White House\",\"potentialAction\":{\"@type\":\"SearchAction\",\"target\":\"https:\\/\\/www.whitehouse.gov\\/search\\/?s={search_term_string}\",\"query-input\":\"required name=search_term_string\"}}</script>\n",
       "<script type=\"application/ld+json\">{\"@context\":\"http:\\/\\/schema.org\",\"@type\":\"Organization\",\"url\":\"https:\\/\\/www.whitehouse.gov\\/briefings-statements\\/\",\"sameAs\":[\"https:\\/\\/facebook.com\\/whitehouse\",\"https:\\/\\/instagram.com\\/whitehouse\",\"https:\\/\\/www.youtube.com\\/user\\/whitehouse\",\"https:\\/\\/twitter.com\\/whitehouse\"],\"@id\":\"#organization\",\"name\":\"The White House\",\"logo\":\"https:\\/\\/www.whitehouse.gov\\/wp-content\\/uploads\\/2017\\/12\\/wh.gov-share-img_03.png\"}</script>\n",
       "<link href=\"//s.w.org\" rel=\"dns-prefetch\"/>\n",
       "<link crossorigin=\"\" href=\"https://fonts.googleapis.com\" rel=\"preconnect\"/>\n",
       "<link crossorigin=\"\" href=\"https://fonts.gstatic.com\" rel=\"preconnect\"/>\n",
       "<link href=\"https://fonts.googleapis.com/css?family=Merriweather:300,300i,400,400i,700,700i,900,900i|Source+Sans+Pro:300,300i,400,400i,600,600i,700,700i,900,900i&amp;subset=latin-ext\" id=\"google-fonts-css\" media=\"all\" rel=\"stylesheet\" type=\"text/css\"/>\n",
       "<link href=\"https://www.whitehouse.gov/wp-content/themes/whitehouse/assets/dist/site.min.css?ver=71d13101\" id=\"site-css\" media=\"all\" rel=\"stylesheet\" type=\"text/css\"/>\n",
       "<script src=\"https://www.whitehouse.gov/wp-content/themes/whitehouse/assets/dist/polyfills.min.js?ver=71d13101\" type=\"text/javascript\"></script>\n",
       "<script src=\"https://www.whitehouse.gov/wp-content/themes/whitehouse/assets/vendor/picturefill/dist/picturefill.min.js?ver=71d13101\" type=\"text/javascript\"></script>\n",
       "<script>\n",
       "            wpsolr_globalError = [];\n",
       "            window.onerror = function (msg, url, line, col, error) {\n",
       "                wpsolr_globalError.push({msg: msg, url: url, line: line, error: error});\n",
       "            };\n",
       "        </script>\n",
       "<link href=\"/favicon.ico?ver=71d13101\" rel=\"icon\" type=\"image/x-icon\"/>\n",
       "<link href=\"/favicon-32x32.png?ver=71d13101\" rel=\"icon\" sizes=\"32x32\" type=\"image/png\"/>\n",
       "<link href=\"/favicon-16x16.png?ver=71d13101\" rel=\"icon\" sizes=\"16x16\" type=\"image/png\"/>\n",
       "<link href=\"/apple-touch-icon-precomposed.png?ver=71d13101\" rel=\"apple-touch-icon-precomposed\" sizes=\"180x180\"/>\n",
       "<link href=\"/touch-icon-256x256.png?ver=71d13101\" rel=\"icon\" sizes=\"256x256\" type=\"image/png\"/>\n",
       "<link href=\"/touch-icon-192x192.png?ver=71d13101\" rel=\"icon\" sizes=\"192x192\" type=\"image/png\"/>\n",
       "<link href=\"/site.webmanifest?ver=71d13101\" rel=\"manifest\"/>\n",
       "<link color=\"#336799\" href=\"/safari-pinned-tab.svg?ver=71d13101\" rel=\"mask-icon\"/>\n",
       "<meta content=\"The White House\" name=\"apple-mobile-web-app-title\"/>\n",
       "<meta content=\"The White House\" name=\"application-name\"/>\n",
       "<meta content=\"#0c2644\" name=\"msapplication-TileColor\"/>\n",
       "<meta content=\"#f5f5f5\" name=\"theme-color\"/>\n",
       "<!-- Global site tag (gtag.js) - Google Analytics -->\n",
       "<script async=\"\" src=\"https://www.googletagmanager.com/gtag/js?id=UA-12099831-10\"></script>\n",
       "<script>\n",
       "\t\twindow.dataLayer = window.dataLayer || [];\n",
       "\t\tfunction gtag(){dataLayer.push(arguments);}\n",
       "\t\tgtag('js', new Date());\n",
       "\n",
       "\t\tgtag('config', 'UA-12099831-10');\n",
       "\t\twindow.gtag_id = 'UA-12099831-10';\n",
       "\t</script>\n",
       "<script>!function(){function o(n,i){if(n&&i)for(var r in i)i.hasOwnProperty(r)&&(void 0===n[r]?n[r]=i[r]:n[r].constructor===Object&&i[r].constructor===Object?o(n[r],i[r]):n[r]=i[r])}try{var n=decodeURIComponent(\"\");if(n.length>0&&window.JSON&&\"function\"==typeof window.JSON.parse){var i=JSON.parse(n);void 0!==window.BOOMR_config?o(window.BOOMR_config,i):window.BOOMR_config=i}}catch(r){window.console&&\"function\"==typeof window.console.error&&console.error(\"mPulse: Could not parse configuration\",r)}}();</script>\n",
       "<script>!function(e){var a=\"https://s.go-mpulse.net/boomerang/\",t=\"addEventListener\";if(\"False\"==\"True\")e.BOOMR_config=e.BOOMR_config||{},e.BOOMR_config.PageParams=e.BOOMR_config.PageParams||{},e.BOOMR_config.PageParams.pci=!0,a=\"https://s2.go-mpulse.net/boomerang/\";if(window.BOOMR_API_key=\"B75PJ-VWDMF-FF8GY-2P7NB-DC3RE\",function(){function n(a){e.BOOMR_onload=a&&a.timeStamp||(new Date).getTime()}if(!e.BOOMR||!e.BOOMR.version&&!e.BOOMR.snippetExecuted){e.BOOMR=e.BOOMR||{},e.BOOMR.snippetExecuted=!0;var i,o,r,_=document.createElement(\"iframe\");if(e[t])e[t](\"load\",n,!1);else if(e.attachEvent)e.attachEvent(\"onload\",n);_.src=\"javascript:void(0)\",_.title=\"\",_.role=\"presentation\",(_.frameElement||_).style.cssText=\"width:0;height:0;border:0;display:none;\",r=document.getElementsByTagName(\"script\")[0],r.parentNode.insertBefore(_,r);try{o=_.contentWindow.document}catch(O){i=document.domain,_.src=\"javascript:var d=document.open();d.domain='\"+i+\"';void(0);\",o=_.contentWindow.document}o.open()._l=function(){var e=this.createElement(\"script\");if(i)this.domain=i;e.id=\"boomr-if-as\",e.src=a+\"B75PJ-VWDMF-FF8GY-2P7NB-DC3RE\",BOOMR_lstart=(new Date).getTime(),this.body.appendChild(e)},o.write(\"<bo\"+'dy onload=\"document._l();\">'),o.close()}}(),\"\".length>0)if(e&&\"performance\"in e&&e.performance&&\"function\"==typeof e.performance.setResourceTimingBufferSize)e.performance.setResourceTimingBufferSize();!function(){if(BOOMR=e.BOOMR||{},BOOMR.plugins=BOOMR.plugins||{},!BOOMR.plugins.AK){var a=\"\"==\"true\"?1:0,t=\"\",n=\"dmrb6yliph7xuxsaaina-f-c246b3fba-clientnsv4-s.akamaihd.net\",i={\"ak.v\":25,\"ak.cp\":\"653138\",\"ak.ai\":parseInt(\"351244\",10),\"ak.ol\":\"0\",\"ak.cr\":100,\"ak.ipv\":4,\"ak.proto\":\"\",\"ak.rid\":\"e29bc55\",\"ak.r\":26813,\"ak.a2\":a,\"ak.m\":\"dscb\",\"ak.n\":\"essl\",\"ak.bpcip\":\"27.34.31.0\",\"ak.cport\":2645,\"ak.gh\":\"23.11.215.4\",\"ak.quicv\":\"\",\"ak.tlsv\":\"tls1.3\",\"ak.0rtt\":\"\",\"ak.csrc\":\"-\",\"ak.acc\":\"reno\",\"ak.t\":\"1581253146\"};if(\"\"!==t)i[\"ak.ruds\"]=t;var o={i:!1,av:function(a){var t=\"http.initiator\";if(a&&(!a[t]||\"spa_hard\"===a[t]))i[\"ak.feo\"]=void 0!==e.aFeoApplied?1:0,BOOMR.addVar(i)},rv:function(){var e=[\"ak.bpcip\",\"ak.cport\",\"ak.cr\",\"ak.csrc\",\"ak.gh\",\"ak.ipv\",\"ak.m\",\"ak.n\",\"ak.ol\",\"ak.proto\",\"ak.quicv\",\"ak.tlsv\",\"ak.0rtt\",\"ak.r\",\"ak.acc\",\"ak.t\"];BOOMR.removeVar(e)}};BOOMR.plugins.AK={akVars:i,akDNSPreFetchDomain:n,init:function(){if(!o.i){var e=BOOMR.subscribe;e(\"before_beacon\",o.av,null,null),e(\"onbeacon\",o.rv,null,null),o.i=!0}return this},is_complete:function(){return!0}}}}()}(window);</script></head>\n",
       "<body class=\"archive post-type-archive post-type-archive-briefing-statement news\">\n",
       "<a class=\"skip-link\" href=\"#main-content\"><span>Skip to content</span></a>\n",
       "<div class=\"body-overflow\">\n",
       "<header class=\"header\">\n",
       "<div class=\"header__container\">\n",
       "<div class=\"header__inner\">\n",
       "<button class=\"header__hamburger\" type=\"button\">\n",
       "<b class=\"svg svg--hamburger\" data-icon=\"hamburger\" data-img-url=\"https://www.whitehouse.gov/wp-content/themes/whitehouse/assets/img/hamburger.png\" data-svg-url=\"https://www.whitehouse.gov/wp-content/themes/whitehouse/assets/img/hamburger.svg\"><svg aria-label=\"Open Menu\" focusable=\"false\" height=\"20\" role=\"img\" viewbox=\"0 0 24 14\" width=\"28\" xmlns=\"http://www.w3.org/2000/svg\"><path d=\"M.64,12H16.36c.36,0,.64.43.64,1s-.28,1-.64,1H.64C.28,14,0,13.57,0,13s.28-1,.64-1M23.1,2H.9A.94.94,0,0,1,0,1,.94.94,0,0,1,.9,0H23.1A.94.94,0,0,1,24,1a.94.94,0,0,1-.9,1M.9,8A.94.94,0,0,1,0,7,.94.94,0,0,1,.9,6H23.1A.94.94,0,0,1,24,7a.94.94,0,0,1-.9,1Z\" fill=\"#a98860\"></path></svg><title>open-menu</title>\n",
       "</b> </button>\n",
       "<div class=\"header__wrap\">\n",
       "<div class=\"header__logo\">\n",
       "<a href=\"https://www.whitehouse.gov\">\n",
       "<img alt=\"\" class=\"logo--white\" src=\"https://www.whitehouse.gov/wp-content/themes/whitehouse/assets/img/white-house-logo-sm-wh.png\" srcset=\"https://www.whitehouse.gov/wp-content/themes/whitehouse/assets/img/white-house-logo-sm-wh.png 1x, https://www.whitehouse.gov/wp-content/themes/whitehouse/assets/img/white-house-logo-md-wh.png 2x, https://www.whitehouse.gov/wp-content/themes/whitehouse/assets/img/white-house-logo-lg-wh.png 3x\"/>\n",
       "<img alt=\"\" class=\"logo--blue\" src=\"https://www.whitehouse.gov/wp-content/themes/whitehouse/assets/img/white-house-logo-sm-bl.png\" srcset=\"https://www.whitehouse.gov/wp-content/themes/whitehouse/assets/img/white-house-logo-sm-bl.png 1x, https://www.whitehouse.gov/wp-content/themes/whitehouse/assets/img/white-house-logo-md-bl.png 2x, https://www.whitehouse.gov/wp-content/themes/whitehouse/assets/img/white-house-logo-lg-bl.png 3x\"/>\n",
       "<span class=\"visually-hidden\">White House Logo</span>\n",
       "</a>\n",
       "</div>\n",
       "<nav class=\"nav nav--primary header__nav\"><ul class=\"nav__menu nav__menu--depth0 menu\"><li class=\"nav__menu-item nav__menu-item--depth0 menu-item menu-item-type-post_type menu-item-object-issue menu-item-692\"><a class=\"nav__link\" href=\"https://www.whitehouse.gov/issues/economy-jobs/\">Economy</a></li>\n",
       "<li class=\"nav__menu-item nav__menu-item--depth0 menu-item menu-item-type-post_type menu-item-object-issue menu-item-693\"><a class=\"nav__link\" href=\"https://www.whitehouse.gov/issues/national-security-defense/\">National Security</a></li>\n",
       "<li class=\"nav__menu-item nav__menu-item--depth0 menu-item menu-item-type-post_type menu-item-object-issue menu-item-16229\"><a class=\"nav__link\" href=\"https://www.whitehouse.gov/issues/budget-spending/\">Budget</a></li>\n",
       "<li class=\"nav__menu-item nav__menu-item--depth0 menu-item menu-item-type-post_type menu-item-object-issue menu-item-16236\"><a class=\"nav__link\" href=\"https://www.whitehouse.gov/issues/immigration/\">Immigration</a></li>\n",
       "<li class=\"nav__menu-item nav__menu-item--depth0 menu-item menu-item-type-post_type menu-item-object-page menu-item-148559\"><a class=\"nav__link\" href=\"https://www.whitehouse.gov/opioids/\">The Opioid Crisis</a></li>\n",
       "</ul></nav> </div>\n",
       "<a class=\"header__search\" href=\"https://www.whitehouse.gov/search/\">\n",
       "<span class=\"visually-hidden\">Search WhiteHouse.gov</span>\n",
       "<b class=\"svg svg--search\" data-icon=\"search\" data-img-url=\"https://www.whitehouse.gov/wp-content/themes/whitehouse/assets/img/search.png\" data-svg-url=\"https://www.whitehouse.gov/wp-content/themes/whitehouse/assets/img/search.svg\"><svg aria-label=\"Open Search\" focusable=\"false\" height=\"20\" role=\"img\" viewbox=\"0 0 20 20\" width=\"20\" xmlns=\"http://www.w3.org/2000/svg\"><title>open-search</title>\n",
       "<path d=\"M20,18.7l-5.1-5.1c2.6-3.3,2.4-8.1-0.6-11.2C12.7,0.9,10.6,0,8.4,0C6.1,0,4,0.9,2.5,2.5\n",
       "\tC0.9,4,0,6.1,0,8.4s0.9,4.3,2.5,5.9c1.6,1.6,3.7,2.5,5.9,2.5c1.9,0,3.8-0.7,5.3-1.8l5.1,5.1L20,18.7z M8.5,15\n",
       "\tc-1.7,0-3.4-0.7-4.6-1.9C2.7,11.9,2,10.2,2,8.5s0.7-3.4,1.9-4.6C5.1,2.7,6.8,2,8.5,2c1.7,0,3.4,0.7,4.6,1.9c2.5,2.5,2.5,6.7,0,9.2\n",
       "\tC11.9,14.3,10.2,15,8.5,15z\" fill=\"#A98860\"></path>\n",
       "</svg>\n",
       "</b> </a>\n",
       "</div>\n",
       "</div>\n",
       "</header>\n",
       "<main id=\"main-content\">\n",
       "<div class=\"page-header\">\n",
       "<div class=\"page-header__wrap\">\n",
       "<h1 class=\"page-header__title\">Briefings &amp; Statements</h1>\n",
       "<span class=\"divider\"><hr/><hr/></span>\n",
       "</div>\n",
       "</div>\n",
       "<div class=\"page-results\">\n",
       "<div class=\"page-results__wrap\">\n",
       "<nav class=\"nav nav--news\">\n",
       "<ul class=\"nav__menu\">\n",
       "<li class=\"nav__menu-item\"><a class=\"nav__link\" href=\"https://www.whitehouse.gov/news/\">All News</a></li><li class=\"nav__menu-item\"><a class=\"nav__link\" href=\"https://www.whitehouse.gov/remarks/\">Remarks</a></li><li class=\"nav__menu-item\"><a class=\"nav__link\" href=\"https://www.whitehouse.gov/articles/\">Articles</a></li><li class=\"nav__menu-item\"><a class=\"nav__link\" href=\"https://www.whitehouse.gov/presidential-actions/\">Presidential Actions</a></li><li class=\"nav__menu-item nav__menu-item--active\"><a class=\"nav__link\" href=\"https://www.whitehouse.gov/briefings-statements/\">Briefings &amp; Statements</a></li> </ul>\n",
       "</nav>\n",
       "<ul class=\"filters__toggle-facets\">\n",
       "<li>\n",
       "<button class=\"filters__toggle-facets-issue\" type=\"button\">\n",
       "<b class=\"svg svg--filter\" data-icon=\"filter\" data-svg-url=\"https://www.whitehouse.gov/wp-content/themes/whitehouse/assets/img/filter.svg\"><svg aria-label=\"Filter by Issue\" focusable=\"false\" height=\"14\" role=\"img\" width=\"18\" xmlns=\"http://www.w3.org/2000/svg\" xmlns:xlink=\"http://www.w3.org/1999/xlink\"><defs><path d=\"M553.63 457c.2 0 .37.43.37 1 0 .57-.16 1-.37 1h-9.25c-.22 0-.38-.43-.38-1 0-.57.16-1 .38-1zm-8.96-10c-.38 0-.67-.43-.67-1 0-.57.3-1 .67-1h16.66c.38 0 .67.43.67 1 0 .57-.3 1-.67 1zm0 6c-.38 0-.67-.43-.67-1 0-.57.3-1 .67-1h16.66c.38 0 .67.43.67 1 0 .57-.3 1-.67 1z\" id=\"a\"></path></defs><use fill=\"#a98860\" transform=\"translate(-544 -445)\" xlink:href=\"#a\"></use></svg><title>filter-by-issue</title></b> Filter by Issue\n",
       "\t\t\t</button>\n",
       "</li>\n",
       "</ul>\n",
       "<nav class=\"filters__facets\">\n",
       "<div class=\"wrap\">\n",
       "<p class=\"filters__close\"><button type=\"button\"><b class=\"svg svg--close\" data-icon=\"close\" data-svg-url=\"https://www.whitehouse.gov/wp-content/themes/whitehouse/assets/img/close.svg\"><svg aria-label=\"Close Filter by Issue\" focusable=\"false\" height=\"18\" role=\"img\" width=\"19\" xmlns=\"http://www.w3.org/2000/svg\"><path d=\"M17.78 14.9l-6.73-6.43 6.5-6.64V1.8c.37-.4.36-1.04-.04-1.4-.2-.2-.47-.3-.76-.3-.27 0-.5.13-.7.32L9.56 7.07 2.64.42c-.2-.2-.48-.3-.77-.3-.27 0-.52.14-.7.33C1 .65.87.92.9 1.2c0 .26.13.5.32.68l6.9 6.64-6.7 6.88c-.2.2-.3.47-.3.76 0 .27.14.5.33.7.15.1.38.27.73.27.37 0 .6-.18.74-.3l6.7-6.88 6.72 6.42c.14.15.37.28.75.28.36 0 .58-.18.73-.3.2-.2.3-.48.3-.76-.03-.28-.14-.52-.35-.7\" fill=\"#A98860\"></path></svg><title>close-filter-by-issue</title></b>Filter by Issue</button></p>\n",
       "<ul class=\"filters__facets-list\">\n",
       "<li class=\"filters__facets-list-item filters__facets-list-item--active\"><span>All Issues</span></li>\n",
       "<li class=\"filters__facets-list-item\"><a href=\"https://www.whitehouse.gov/briefings-statements/?issue_filter=budget-spending\">Budget &amp; Spending</a></li><li class=\"filters__facets-list-item\"><a href=\"https://www.whitehouse.gov/briefings-statements/?issue_filter=economy-jobs\">Economy &amp; Jobs</a></li><li class=\"filters__facets-list-item\"><a href=\"https://www.whitehouse.gov/briefings-statements/?issue_filter=education\">Education</a></li><li class=\"filters__facets-list-item\"><a href=\"https://www.whitehouse.gov/briefings-statements/?issue_filter=energy-environment\">Energy &amp; Environment</a></li><li class=\"filters__facets-list-item\"><a href=\"https://www.whitehouse.gov/briefings-statements/?issue_filter=foreign-policy\">Foreign Policy</a></li><li class=\"filters__facets-list-item\"><a href=\"https://www.whitehouse.gov/briefings-statements/?issue_filter=healthcare\">Healthcare</a></li><li class=\"filters__facets-list-item\"><a href=\"https://www.whitehouse.gov/briefings-statements/?issue_filter=immigration\">Immigration</a></li><li class=\"filters__facets-list-item\"><a href=\"https://www.whitehouse.gov/briefings-statements/?issue_filter=infrastructure-technology\">Infrastructure &amp; Technology</a></li><li class=\"filters__facets-list-item\"><a href=\"https://www.whitehouse.gov/briefings-statements/?issue_filter=land-agriculture\">Land &amp; Agriculture</a></li><li class=\"filters__facets-list-item\"><a href=\"https://www.whitehouse.gov/briefings-statements/?issue_filter=law-justice\">Law &amp; Justice</a></li><li class=\"filters__facets-list-item\"><a href=\"https://www.whitehouse.gov/briefings-statements/?issue_filter=national-security-defense\">National Security &amp; Defense</a></li><li class=\"filters__facets-list-item\"><a href=\"https://www.whitehouse.gov/briefings-statements/?issue_filter=social-programs\">Social Programs</a></li><li class=\"filters__facets-list-item\"><a href=\"https://www.whitehouse.gov/briefings-statements/?issue_filter=veterans\">Veterans</a></li> </ul>\n",
       "</div>\n",
       "</nav>\n",
       "<article class=\"briefing-statement briefing-statement--results\">\n",
       "<div class=\"briefing-statement__content\">\n",
       "<h2 class=\"briefing-statement__title\"><a href=\"https://www.whitehouse.gov/briefings-statements/statement-press-secretary-regarding-visit-excellency-lenin-moreno-garces-president-republic-ecuador/\">Statement from the Press Secretary Regarding the Visit of His Excellency Lenin Moreno Garcés, President of the Republic of Ecuador</a></h2>\n",
       "<div class=\"meta meta--left\">\n",
       "<p class=\"meta__date\">\n",
       "<time>Feb 7, 2020</time>\n",
       "</p>\n",
       "</div>\n",
       "</div>\n",
       "</article>\n",
       "<article class=\"briefing-statement briefing-statement--results\">\n",
       "<div class=\"briefing-statement__content\">\n",
       "<p class=\"briefing-statement__type\">\n",
       "\t\t\t\tRemarks\t\t\t</p>\n",
       "<h2 class=\"briefing-statement__title\"><a href=\"https://www.whitehouse.gov/briefings-statements/remarks-president-trump-north-carolina-opportunity-now-summit-charlotte-nc/\">Remarks by President Trump at the North Carolina Opportunity Now Summit | Charlotte, NC</a></h2>\n",
       "<div class=\"meta meta--left\">\n",
       "<div class=\"meta__issue\">\n",
       "<p class=\"issue-flag issue-flag--left\">\n",
       "<a href=\"https://www.whitehouse.gov/issues/economy-jobs/\">\n",
       "\t\t\tEconomy &amp; Jobs\t\t</a>\n",
       "</p>\n",
       "</div>\n",
       "<p class=\"meta__date\">\n",
       "<time>Feb 7, 2020</time>\n",
       "</p>\n",
       "</div>\n",
       "</div>\n",
       "</article>\n",
       "<article class=\"briefing-statement briefing-statement--results\">\n",
       "<div class=\"briefing-statement__content\">\n",
       "<p class=\"briefing-statement__type\">\n",
       "\t\t\t\tStatements &amp; Releases\t\t\t</p>\n",
       "<h2 class=\"briefing-statement__title\"><a href=\"https://www.whitehouse.gov/briefings-statements/statement-press-secretary-111/\">Statement from the Press Secretary</a></h2>\n",
       "<div class=\"meta meta--left\">\n",
       "<p class=\"meta__date\">\n",
       "<time>Feb 7, 2020</time>\n",
       "</p>\n",
       "</div>\n",
       "</div>\n",
       "</article>\n",
       "<article class=\"briefing-statement briefing-statement--results\">\n",
       "<div class=\"briefing-statement__content\">\n",
       "<p class=\"briefing-statement__type\">\n",
       "\t\t\t\tRemarks\t\t\t</p>\n",
       "<h2 class=\"briefing-statement__title\"><a href=\"https://www.whitehouse.gov/briefings-statements/remarks-president-trump-marine-one-departure-82/\">Remarks by President Trump Before Marine One Departure</a></h2>\n",
       "<div class=\"meta meta--left\">\n",
       "<p class=\"meta__date\">\n",
       "<time>Feb 7, 2020</time>\n",
       "</p>\n",
       "</div>\n",
       "</div>\n",
       "</article>\n",
       "<article class=\"briefing-statement briefing-statement--results\">\n",
       "<div class=\"briefing-statement__content\">\n",
       "<p class=\"briefing-statement__type\">\n",
       "\t\t\t\tFact Sheets\t\t\t</p>\n",
       "<h2 class=\"briefing-statement__title\"><a href=\"https://www.whitehouse.gov/briefings-statements/president-donald-j-trump-committed-creating-opportunity/\">President Donald J. Trump Is Committed To Creating Opportunity For All</a></h2>\n",
       "<div class=\"meta meta--left\">\n",
       "<div class=\"meta__issue\">\n",
       "<p class=\"issue-flag issue-flag--left\">\n",
       "<a href=\"https://www.whitehouse.gov/issues/economy-jobs/\">\n",
       "\t\t\tEconomy &amp; Jobs\t\t</a>\n",
       "</p>\n",
       "</div>\n",
       "<p class=\"meta__date\">\n",
       "<time>Feb 7, 2020</time>\n",
       "</p>\n",
       "</div>\n",
       "</div>\n",
       "</article>\n",
       "<article class=\"briefing-statement briefing-statement--results\">\n",
       "<div class=\"briefing-statement__content\">\n",
       "<p class=\"briefing-statement__type\">\n",
       "\t\t\t\tStatements &amp; Releases\t\t\t</p>\n",
       "<h2 class=\"briefing-statement__title\"><a href=\"https://www.whitehouse.gov/briefings-statements/ondcp-releases-data-poppy-cultivation-potential-opium-production-afghanistan/\">ONDCP Releases Data on Poppy Cultivation and Potential Opium Production in Afghanistan</a></h2>\n",
       "<div class=\"meta meta--left\">\n",
       "<p class=\"meta__date\">\n",
       "<time>Feb 7, 2020</time>\n",
       "</p>\n",
       "</div>\n",
       "</div>\n",
       "</article>\n",
       "<article class=\"briefing-statement briefing-statement--results\">\n",
       "<div class=\"briefing-statement__content\">\n",
       "<p class=\"briefing-statement__type\">\n",
       "\t\t\t\tStatements &amp; Releases\t\t\t</p>\n",
       "<h2 class=\"briefing-statement__title\"><a href=\"https://www.whitehouse.gov/briefings-statements/ondcp-recognizes-outstanding-counter-drug-efforts-high-intensity-drug-trafficking-areas-program/\">ONDCP Recognizes Outstanding Counter-Drug Efforts by the High Intensity Drug Trafficking Areas Program</a></h2>\n",
       "<div class=\"meta meta--left\">\n",
       "<p class=\"meta__date\">\n",
       "<time>Feb 7, 2020</time>\n",
       "</p>\n",
       "</div>\n",
       "</div>\n",
       "</article>\n",
       "<article class=\"briefing-statement briefing-statement--results\">\n",
       "<div class=\"briefing-statement__content\">\n",
       "<p class=\"briefing-statement__type\">\n",
       "\t\t\t\tStatements &amp; Releases\t\t\t</p>\n",
       "<h2 class=\"briefing-statement__title\"><a href=\"https://www.whitehouse.gov/briefings-statements/statement-press-secretary-110/\">Statement from the Press Secretary</a></h2>\n",
       "<div class=\"meta meta--left\">\n",
       "<div class=\"meta__issue\">\n",
       "<p class=\"issue-flag issue-flag--left\">\n",
       "<a href=\"https://www.whitehouse.gov/issues/immigration/\">\n",
       "\t\t\tImmigration\t\t</a>\n",
       "</p>\n",
       "</div>\n",
       "<p class=\"meta__date\">\n",
       "<time>Feb 6, 2020</time>\n",
       "</p>\n",
       "</div>\n",
       "</div>\n",
       "</article>\n",
       "<article class=\"briefing-statement briefing-statement--results\">\n",
       "<div class=\"briefing-statement__content\">\n",
       "<p class=\"briefing-statement__type\">\n",
       "\t\t\t\tStatements &amp; Releases\t\t\t</p>\n",
       "<h2 class=\"briefing-statement__title\"><a href=\"https://www.whitehouse.gov/briefings-statements/bill-announcement-80/\">Bill Announcement</a></h2>\n",
       "<div class=\"meta meta--left\">\n",
       "<div class=\"meta__issue\">\n",
       "<p class=\"issue-flag issue-flag--left\">\n",
       "<a href=\"https://www.whitehouse.gov/issues/law-justice/\">\n",
       "\t\t\tLaw &amp; Justice\t\t</a>\n",
       "</p>\n",
       "</div>\n",
       "<p class=\"meta__date\">\n",
       "<time>Feb 6, 2020</time>\n",
       "</p>\n",
       "</div>\n",
       "</div>\n",
       "</article>\n",
       "<article class=\"briefing-statement briefing-statement--results\">\n",
       "<div class=\"briefing-statement__content\">\n",
       "<p class=\"briefing-statement__type\">\n",
       "\t\t\t\tStatements &amp; Releases\t\t\t</p>\n",
       "<h2 class=\"briefing-statement__title\"><a href=\"https://www.whitehouse.gov/briefings-statements/statement-from-the-president-13/\">Statement from the President</a></h2>\n",
       "<div class=\"meta meta--left\">\n",
       "<div class=\"meta__issue\">\n",
       "<p class=\"issue-flag issue-flag--left\">\n",
       "<a href=\"https://www.whitehouse.gov/issues/national-security-defense/\">\n",
       "\t\t\tNational Security &amp; Defense\t\t</a>\n",
       "</p>\n",
       "</div>\n",
       "<p class=\"meta__date\">\n",
       "<time>Feb 6, 2020</time>\n",
       "</p>\n",
       "</div>\n",
       "</div>\n",
       "</article>\n",
       "<div class=\"pagination\">\n",
       "<span class=\"pagination__prev pagination__prev--disabled\">\n",
       "\t\t\t\tPrevious\n",
       "\t\t\t</span>\n",
       "<span class=\"page-numbers current\">1</span>\n",
       "<a class=\"page-numbers\" href=\"https://www.whitehouse.gov/briefings-statements/page/2/\">2</a>\n",
       "<a class=\"page-numbers\" href=\"https://www.whitehouse.gov/briefings-statements/page/3/\">3</a>\n",
       "<span class=\"page-numbers dots\">…</span>\n",
       "<a class=\"page-numbers\" href=\"https://www.whitehouse.gov/briefings-statements/page/5/\">5</a>\n",
       "<a class=\"pagination__next\" href=\"https://www.whitehouse.gov/briefings-statements/page/2/\">\n",
       "\t\t\t\tNext\n",
       "\t\t\t</a>\n",
       "</div>\n",
       "</div>\n",
       "</div>\n",
       "</main><!-- end main -->\n",
       "<footer class=\"footer\">\n",
       "<div class=\"footer__wrap\">\n",
       "<div class=\"footer__logo\">\n",
       "<a href=\"https://www.whitehouse.gov\">\n",
       "<img alt=\"White House Logo\" class=\"footer__img\" src=\"https://www.whitehouse.gov/wp-content/themes/whitehouse/assets/img/white-house-logo-footer-sm.png\" srcset=\"https://www.whitehouse.gov/wp-content/themes/whitehouse/assets/img/white-house-logo-footer-sm.png 1x, https://www.whitehouse.gov/wp-content/themes/whitehouse/assets/img/white-house-logo-footer-md.png 2x, https://www.whitehouse.gov/wp-content/themes/whitehouse/assets/img/white-house-logo-footer-lg.png 3x\"/>\n",
       "</a>\n",
       "</div>\n",
       "<div class=\"footer__site-title\">The White House</div>\n",
       "<span class=\"footer__divider divider\"><hr/><hr/></span>\n",
       "<div class=\"footer__nav\">\n",
       "<nav class=\"nav nav--footer\"><ul class=\"nav__menu nav__menu--depth0 menu\"><li class=\"nav__menu-item nav__menu-item--depth0 menu-item menu-item-type-post_type menu-item-object-page menu-item-17230\"><a class=\"nav__link\" href=\"https://www.whitehouse.gov/live/\">Live</a></li>\n",
       "<li class=\"nav__menu-item nav__menu-item--depth0 menu-item menu-item-type-custom menu-item-object-custom menu-item-8288\"><a class=\"nav__link\" href=\"https://apply.whitehouse.gov/\">Jobs</a></li>\n",
       "<li class=\"nav__menu-item nav__menu-item--depth0 menu-item menu-item-type-post_type menu-item-object-page menu-item-8093\"><a class=\"nav__link\" href=\"https://www.whitehouse.gov/get-involved/\">Get Involved</a></li>\n",
       "<li class=\"nav__menu-item nav__menu-item--depth0 menu-item menu-item-type-post_type menu-item-object-page menu-item-8092\"><a class=\"nav__link\" href=\"https://www.whitehouse.gov/copyright/\">Copyright Policy</a></li>\n",
       "<li class=\"nav__menu-item nav__menu-item--depth0 menu-item menu-item-type-post_type menu-item-object-page menu-item-privacy-policy menu-item-8095\"><a class=\"nav__link\" href=\"https://www.whitehouse.gov/privacy-policy/\">Privacy Policy</a></li>\n",
       "</ul></nav> </div>\n",
       "</div>\n",
       "<div class=\"footer__social\">\n",
       "<nav class=\"nav nav--social-links-menu\"><ul class=\"nav__menu nav__menu--depth0 menu\"><li class=\"nav__menu-item nav__menu-item--depth0 footer__social-link__twitter menu-item menu-item-type-custom menu-item-object-custom menu-item-21\"><a class=\"nav__link\" href=\"https://twitter.com/whitehouse\" rel=\"noopener noreferrer\" target=\"_blank\"><span>Twitter</span></a></li>\n",
       "<li class=\"nav__menu-item nav__menu-item--depth0 footer__social-link__facebook menu-item menu-item-type-custom menu-item-object-custom menu-item-20\"><a class=\"nav__link\" href=\"https://www.facebook.com/WhiteHouse/\" rel=\"noopener noreferrer\" target=\"_blank\"><span>Facebook</span></a></li>\n",
       "<li class=\"nav__menu-item nav__menu-item--depth0 footer__social-link__instagram menu-item menu-item-type-custom menu-item-object-custom menu-item-22\"><a class=\"nav__link\" href=\"https://www.instagram.com/whitehouse/\" rel=\"noopener noreferrer\" target=\"_blank\"><span>Instagram</span></a></li>\n",
       "<li class=\"nav__menu-item nav__menu-item--depth0 footer__social-link__email menu-item menu-item-type-custom menu-item-object-custom menu-item-23\"><a class=\"nav__link\" href=\"/contact/\"><span>Contact</span></a></li>\n",
       "</ul></nav> </div>\n",
       "</footer>\n",
       "</div><!-- end .body-overflow -->\n",
       "<section id=\"wp-footer\">\n",
       "<script src=\"https://www.whitehouse.gov/wp-content/themes/whitehouse/assets/vendor/jquery/dist/jquery.min.js?ver=71d13101\" type=\"text/javascript\"></script>\n",
       "<script src=\"https://www.whitehouse.gov/wp-includes/js/clipboard.min.js?ver=5.3.2\" type=\"text/javascript\"></script>\n",
       "<script src=\"https://www.whitehouse.gov/wp-content/themes/whitehouse/assets/vendor/bows/dist/bows.min.js?ver=71d13101\" type=\"text/javascript\"></script>\n",
       "<script src=\"https://www.whitehouse.gov/wp-content/themes/whitehouse/assets/dist/site.min.js?ver=71d13101\" type=\"text/javascript\"></script>\n",
       "<script type=\"text/javascript\">\n",
       "window.site = new Site();\n",
       "</script>\n",
       "</section><div class=\"popover\" role=\"dialog\">\n",
       "<div class=\"popover__bar\">\n",
       "<button class=\"popover__hamburger-toggle\" type=\"button\">\n",
       "<img alt=\"Close Menu\" class=\"popover__hamburger-toggle-close\" height=\"20\" src=\"https://www.whitehouse.gov/wp-content/themes/whitehouse/assets/img/close.svg\" width=\"20\"/>\n",
       "<img alt=\"Open Menu\" class=\"popover__hamburger-toggle-open\" height=\"20\" src=\"https://www.whitehouse.gov/wp-content/themes/whitehouse/assets/img/hamburger.svg\" width=\"28\"/>\n",
       "</button>\n",
       "<button class=\"popover__search-toggle\" type=\"button\">\n",
       "<img alt=\"Close Search\" class=\"popover__search-toggle-close\" height=\"20\" src=\"https://www.whitehouse.gov/wp-content/themes/whitehouse/assets/img/close.svg\" width=\"20\"/>\n",
       "<img alt=\"Open Search\" class=\"popover__search-toggle-open\" height=\"20\" src=\"https://www.whitehouse.gov/wp-content/themes/whitehouse/assets/img/search.svg\" width=\"20\"/>\n",
       "</button>\n",
       "</div>\n",
       "<div class=\"popover__content\">\n",
       "<div class=\"popover__hamburger\">\n",
       "<div class=\"popover__nav\">\n",
       "<nav class=\"nav nav--popover\"><ul class=\"nav__menu nav__menu--depth0 menu\"><li class=\"nav__menu-item nav__menu-item--depth0 nav__menu-item--has-submenu nav__menu-item--active-ancestor menu-item menu-item-type-post_type menu-item-object-page current-menu-ancestor current-menu-parent current_page_parent current_page_ancestor menu-item-has-children nav__menu-item--has-menu-5 menu-item-658\"><a class=\"nav__link\" href=\"https://www.whitehouse.gov/news/\">News</a>\n",
       "<ul class=\"nav__menu nav__menu--depth1 sub-menu\">\n",
       "<li class=\"nav__menu-item nav__menu-item--depth1 menu-item menu-item-type-post_type menu-item-object-page menu-item-152066\"><a class=\"nav__link\" href=\"https://www.whitehouse.gov/remarks/\">Remarks</a></li>\n",
       "<li class=\"nav__menu-item nav__menu-item--depth1 nav__menu-item--active menu-item menu-item-type-post_type_archive menu-item-object-briefing-statement current-menu-item menu-item-105680\"><a class=\"nav__link\" href=\"https://www.whitehouse.gov/briefings-statements/\">Briefings &amp; Statements</a></li>\n",
       "<li class=\"nav__menu-item nav__menu-item--depth1 menu-item menu-item-type-post_type_archive menu-item-object-presidential-action menu-item-105687\"><a class=\"nav__link\" href=\"https://www.whitehouse.gov/presidential-actions/\">Presidential Actions</a></li>\n",
       "<li class=\"nav__menu-item nav__menu-item--depth1 menu-item menu-item-type-post_type menu-item-object-page current_page_parent menu-item-105701\"><a class=\"nav__link\" href=\"https://www.whitehouse.gov/articles/\">Articles</a></li>\n",
       "<li class=\"nav__menu-item nav__menu-item--depth1 menu-item menu-item-type-post_type menu-item-object-page menu-item-105694\"><a class=\"nav__link\" href=\"https://www.whitehouse.gov/news/\">All News</a></li>\n",
       "</ul>\n",
       "</li>\n",
       "<li class=\"nav__menu-item nav__menu-item--depth0 nav__menu-item--has-submenu menu-item menu-item-type-post_type menu-item-object-page menu-item-has-children nav__menu-item--has-menu-6 menu-item-659\"><a class=\"nav__link\" href=\"https://www.whitehouse.gov/issues/\">Issues</a>\n",
       "<ul class=\"nav__menu nav__menu--depth1 sub-menu\">\n",
       "<li class=\"nav__menu-item nav__menu-item--depth1 menu-item menu-item-type-post_type menu-item-object-issue menu-item-105708\"><a class=\"nav__link\" href=\"https://www.whitehouse.gov/issues/education/\">Education</a></li>\n",
       "<li class=\"nav__menu-item nav__menu-item--depth1 menu-item menu-item-type-post_type menu-item-object-issue menu-item-105715\"><a class=\"nav__link\" href=\"https://www.whitehouse.gov/issues/national-security-defense/\">National Security &amp; Defense</a></li>\n",
       "<li class=\"nav__menu-item nav__menu-item--depth1 menu-item menu-item-type-post_type menu-item-object-issue menu-item-105729\"><a class=\"nav__link\" href=\"https://www.whitehouse.gov/issues/budget-spending/\">Budget &amp; Spending</a></li>\n",
       "<li class=\"nav__menu-item nav__menu-item--depth1 menu-item menu-item-type-post_type menu-item-object-issue menu-item-105722\"><a class=\"nav__link\" href=\"https://www.whitehouse.gov/issues/immigration/\">Immigration</a></li>\n",
       "<li class=\"nav__menu-item nav__menu-item--depth1 menu-item menu-item-type-post_type menu-item-object-issue menu-item-105736\"><a class=\"nav__link\" href=\"https://www.whitehouse.gov/issues/healthcare/\">Healthcare</a></li>\n",
       "<li class=\"nav__menu-item nav__menu-item--depth1 menu-item menu-item-type-post_type menu-item-object-page menu-item-105743\"><a class=\"nav__link\" href=\"https://www.whitehouse.gov/issues/\">All Issues</a></li>\n",
       "</ul>\n",
       "</li>\n",
       "<li class=\"nav__menu-item nav__menu-item--depth0 nav__menu-item--has-submenu menu-item menu-item-type-post_type menu-item-object-page menu-item-has-children nav__menu-item--has-menu-6 menu-item-795\"><a class=\"nav__link\" href=\"https://www.whitehouse.gov/the-trump-administration/\">The Administration</a>\n",
       "<ul class=\"nav__menu nav__menu--depth1 sub-menu\">\n",
       "<li class=\"nav__menu-item nav__menu-item--depth1 menu-item menu-item-type-post_type menu-item-object-authors menu-item-105757\"><a class=\"nav__link\" href=\"https://www.whitehouse.gov/people/donald-j-trump/\">President Donald J. Trump</a></li>\n",
       "<li class=\"nav__menu-item nav__menu-item--depth1 menu-item menu-item-type-post_type menu-item-object-authors menu-item-105764\"><a class=\"nav__link\" href=\"https://www.whitehouse.gov/people/mike-pence/\">Vice President Michael R. Pence</a></li>\n",
       "<li class=\"nav__menu-item nav__menu-item--depth1 menu-item menu-item-type-post_type menu-item-object-authors menu-item-105750\"><a class=\"nav__link\" href=\"https://www.whitehouse.gov/people/melania-trump/\">First Lady Melania Trump</a></li>\n",
       "<li class=\"nav__menu-item nav__menu-item--depth1 menu-item menu-item-type-post_type menu-item-object-authors menu-item-105771\"><a class=\"nav__link\" href=\"https://www.whitehouse.gov/people/karen-pence/\">Mrs. Karen Pence</a></li>\n",
       "<li class=\"nav__menu-item nav__menu-item--depth1 menu-item menu-item-type-post_type menu-item-object-page menu-item-105778\"><a class=\"nav__link\" href=\"https://www.whitehouse.gov/the-trump-administration/the-cabinet/\">The Cabinet</a></li>\n",
       "<li class=\"nav__menu-item nav__menu-item--depth1 menu-item menu-item-type-post_type menu-item-object-page menu-item-105785\"><a class=\"nav__link\" href=\"https://www.whitehouse.gov/disclosures/\">Disclosures</a></li>\n",
       "</ul>\n",
       "</li>\n",
       "<li class=\"nav__menu-item nav__menu-item--depth0 nav__menu-item--has-submenu menu-item menu-item-type-custom menu-item-object-custom menu-item-has-children nav__menu-item--has-menu-6 menu-item-105792\"><a class=\"nav__link\" href=\"#\">Executive Offices</a>\n",
       "<ul class=\"nav__menu nav__menu--depth1 sub-menu\">\n",
       "<li class=\"nav__menu-item nav__menu-item--depth1 menu-item menu-item-type-post_type menu-item-object-eop-component menu-item-105806\"><a class=\"nav__link\" href=\"https://www.whitehouse.gov/cea/\">Council of Economic Advisers</a></li>\n",
       "<li class=\"nav__menu-item nav__menu-item--depth1 menu-item menu-item-type-post_type menu-item-object-eop-component menu-item-105799\"><a class=\"nav__link\" href=\"https://www.whitehouse.gov/ceq/\">Council on Environmental Quality</a></li>\n",
       "<li class=\"nav__menu-item nav__menu-item--depth1 menu-item menu-item-type-post_type menu-item-object-eop-component menu-item-105813\"><a class=\"nav__link\" href=\"https://www.whitehouse.gov/nsc/\">National Security Council</a></li>\n",
       "<li class=\"nav__menu-item nav__menu-item--depth1 menu-item menu-item-type-post_type menu-item-object-eop-component menu-item-106142\"><a class=\"nav__link\" href=\"https://www.whitehouse.gov/omb/\">Office of Management and Budget</a></li>\n",
       "<li class=\"nav__menu-item nav__menu-item--depth1 menu-item menu-item-type-post_type menu-item-object-eop-component menu-item-105827\"><a class=\"nav__link\" href=\"https://www.whitehouse.gov/ondcp/\">Office of National Drug Control Policy</a></li>\n",
       "<li class=\"nav__menu-item nav__menu-item--depth1 menu-item menu-item-type-post_type menu-item-object-eop-component menu-item-105834\"><a class=\"nav__link\" href=\"https://www.whitehouse.gov/ostp/\">Office of Science and Technology Policy</a></li>\n",
       "</ul>\n",
       "</li>\n",
       "<li class=\"nav__menu-item nav__menu-item--depth0 nav__menu-item--has-submenu menu-item menu-item-type-post_type menu-item-object-page menu-item-has-children nav__menu-item--has-menu-5 menu-item-1548\"><a class=\"nav__link\" href=\"https://www.whitehouse.gov/about-the-white-house/\">About The White House</a>\n",
       "<ul class=\"nav__menu nav__menu--depth1 sub-menu\">\n",
       "<li class=\"nav__menu-item nav__menu-item--depth1 menu-item menu-item-type-post_type menu-item-object-page menu-item-105848\"><a class=\"nav__link\" href=\"https://www.whitehouse.gov/about-the-white-house/tours-events/\">Tours &amp; Events</a></li>\n",
       "<li class=\"nav__menu-item nav__menu-item--depth1 menu-item menu-item-type-post_type menu-item-object-page menu-item-105855\"><a class=\"nav__link\" href=\"https://www.whitehouse.gov/about-the-white-house/presidents/\">Past Presidents</a></li>\n",
       "<li class=\"nav__menu-item nav__menu-item--depth1 menu-item menu-item-type-post_type menu-item-object-page menu-item-105862\"><a class=\"nav__link\" href=\"https://www.whitehouse.gov/about-the-white-house/first-ladies/\">Past First Ladies</a></li>\n",
       "<li class=\"nav__menu-item nav__menu-item--depth1 nav__menu-item--has-submenu menu-item menu-item-type-post_type menu-item-object-page menu-item-has-children nav__menu-item--has-menu-5 menu-item-105995\"><a class=\"nav__link\" href=\"https://www.whitehouse.gov/about-the-white-house/the-grounds/\">The Grounds</a></li>\n",
       "<li class=\"nav__menu-item nav__menu-item--depth1 nav__menu-item--has-submenu menu-item menu-item-type-post_type menu-item-object-page menu-item-has-children nav__menu-item--has-menu-7 menu-item-106079\"><a class=\"nav__link\" href=\"https://www.whitehouse.gov/about-the-white-house/our-government/\">Our Government</a></li>\n",
       "</ul>\n",
       "</li>\n",
       "<li class=\"nav__menu-item nav__menu-item--depth0 nav__menu-item--has-submenu menu-item menu-item-type-post_type menu-item-object-page menu-item-has-children nav__menu-item--has-menu-3 menu-item-5738\"><a class=\"nav__link\" href=\"https://www.whitehouse.gov/get-involved/\">Get Involved</a>\n",
       "<ul class=\"nav__menu nav__menu--depth1 sub-menu\">\n",
       "<li class=\"nav__menu-item nav__menu-item--depth1 menu-item menu-item-type-post_type menu-item-object-page menu-item-105869\"><a class=\"nav__link\" href=\"https://www.whitehouse.gov/get-involved/write-or-call/\">Write or Call the White House</a></li>\n",
       "<li class=\"nav__menu-item nav__menu-item--depth1 nav__menu-item--has-submenu menu-item menu-item-type-post_type menu-item-object-page menu-item-has-children nav__menu-item--has-menu-3 menu-item-105876\"><a class=\"nav__link\" href=\"https://www.whitehouse.gov/get-involved/internships/\">White House Internship Program</a></li>\n",
       "<li class=\"nav__menu-item nav__menu-item--depth1 nav__menu-item--has-submenu menu-item menu-item-type-post_type menu-item-object-page menu-item-has-children nav__menu-item--has-menu-4 menu-item-105904\"><a class=\"nav__link\" href=\"https://www.whitehouse.gov/get-involved/fellows/\">White House Fellows</a></li>\n",
       "</ul>\n",
       "</li>\n",
       "<li class=\"nav__menu-item nav__menu-item--depth0 menu-item menu-item-type-post_type menu-item-object-page menu-item-105988\"><a class=\"nav__link\" href=\"https://www.whitehouse.gov/contact/\">Contact</a></li>\n",
       "<li class=\"nav__menu-item nav__menu-item--depth0 menu-item menu-item-type-post_type menu-item-object-page nav__menu-item--live menu-item-105974\"><a class=\"nav__link\" href=\"https://www.whitehouse.gov/live/\"><span class=\"nav__menu-item-label\">Live</span></a></li>\n",
       "</ul></nav> </div>\n",
       "<div class=\"popover__seal\">\n",
       "<img alt=\"Presidential Crest\" height=\"435\" src=\"https://www.whitehouse.gov/wp-content/themes/whitehouse/assets/img/presidential-crest-gray.svg\" width=\"435\"/>\n",
       "</div>\n",
       "</div>\n",
       "<div class=\"popover__search\">\n",
       "<form action=\"https://www.whitehouse.gov/search/\" class=\"popover__search-form\">\n",
       "<label class=\"visually-hidden\" for=\"popover__search-input\">\n",
       "\t\t\t\t\tType Your Search\n",
       "\t\t\t\t</label>\n",
       "<input autocomplete=\"off\" class=\"popover__search-input\" id=\"popover__search-input\" name=\"s\" placeholder=\"Type Your Search...\" type=\"text\"/>\n",
       "<button class=\"popover__search-submit\" type=\"submit\"><span>Press enter to search</span></button>\n",
       "</form>\n",
       "</div>\n",
       "</div>\n",
       "</div>\n",
       "<script type=\"text/javascript\">window.NREUM||(NREUM={});NREUM.info={\"beacon\":\"bam.nr-data.net\",\"licenseKey\":\"9360826e15\",\"applicationID\":\"81062415\",\"transactionName\":\"MVNbZhQFXEAEVBBfWQgZeFESDV1dSlYWVV4PQFwfBBZbVgNeClEbFUJYRgMJV10R\",\"queueTime\":0,\"applicationTime\":588,\"atts\":\"HRRYEFwfT04=\",\"errorBeacon\":\"bam.nr-data.net\",\"agent\":\"\"}</script></body>\n",
       "</html>"
      ]
     },
     "execution_count": 31,
     "metadata": {},
     "output_type": "execute_result"
    }
   ],
   "source": [
    "soup"
   ]
  },
  {
   "cell_type": "code",
   "execution_count": 32,
   "metadata": {},
   "outputs": [],
   "source": [
    "#all of the links are in between h2 tags\n",
    "#go to links and inspect them thats how i found it\n",
    "urls = []"
   ]
  },
  {
   "cell_type": "code",
   "execution_count": 33,
   "metadata": {},
   "outputs": [],
   "source": [
    "#ani tyo h2 tag  ko bhitra 1 tags xa\n",
    "links=soup.find_all(\"h2\")"
   ]
  },
  {
   "cell_type": "code",
   "execution_count": 34,
   "metadata": {},
   "outputs": [
    {
     "data": {
      "text/plain": [
       "[<h2 class=\"briefing-statement__title\"><a href=\"https://www.whitehouse.gov/briefings-statements/statement-press-secretary-regarding-visit-excellency-lenin-moreno-garces-president-republic-ecuador/\">Statement from the Press Secretary Regarding the Visit of His Excellency Lenin Moreno Garcés, President of the Republic of Ecuador</a></h2>,\n",
       " <h2 class=\"briefing-statement__title\"><a href=\"https://www.whitehouse.gov/briefings-statements/remarks-president-trump-north-carolina-opportunity-now-summit-charlotte-nc/\">Remarks by President Trump at the North Carolina Opportunity Now Summit | Charlotte, NC</a></h2>,\n",
       " <h2 class=\"briefing-statement__title\"><a href=\"https://www.whitehouse.gov/briefings-statements/statement-press-secretary-111/\">Statement from the Press Secretary</a></h2>,\n",
       " <h2 class=\"briefing-statement__title\"><a href=\"https://www.whitehouse.gov/briefings-statements/remarks-president-trump-marine-one-departure-82/\">Remarks by President Trump Before Marine One Departure</a></h2>,\n",
       " <h2 class=\"briefing-statement__title\"><a href=\"https://www.whitehouse.gov/briefings-statements/president-donald-j-trump-committed-creating-opportunity/\">President Donald J. Trump Is Committed To Creating Opportunity For All</a></h2>,\n",
       " <h2 class=\"briefing-statement__title\"><a href=\"https://www.whitehouse.gov/briefings-statements/ondcp-releases-data-poppy-cultivation-potential-opium-production-afghanistan/\">ONDCP Releases Data on Poppy Cultivation and Potential Opium Production in Afghanistan</a></h2>,\n",
       " <h2 class=\"briefing-statement__title\"><a href=\"https://www.whitehouse.gov/briefings-statements/ondcp-recognizes-outstanding-counter-drug-efforts-high-intensity-drug-trafficking-areas-program/\">ONDCP Recognizes Outstanding Counter-Drug Efforts by the High Intensity Drug Trafficking Areas Program</a></h2>,\n",
       " <h2 class=\"briefing-statement__title\"><a href=\"https://www.whitehouse.gov/briefings-statements/statement-press-secretary-110/\">Statement from the Press Secretary</a></h2>,\n",
       " <h2 class=\"briefing-statement__title\"><a href=\"https://www.whitehouse.gov/briefings-statements/bill-announcement-80/\">Bill Announcement</a></h2>,\n",
       " <h2 class=\"briefing-statement__title\"><a href=\"https://www.whitehouse.gov/briefings-statements/statement-from-the-president-13/\">Statement from the President</a></h2>]"
      ]
     },
     "execution_count": 34,
     "metadata": {},
     "output_type": "execute_result"
    }
   ],
   "source": [
    "links"
   ]
  },
  {
   "cell_type": "code",
   "execution_count": 35,
   "metadata": {},
   "outputs": [],
   "source": [
    "#findall la list banauxa tesko ko bhitra h2 tag ma ghumyo\n",
    "for h2_tag in soup.find_all(\"h2\"):#findall will return a list with all the element\n",
    "    #now we can get the a tag\n",
    "    a_tag=h2_tag.find(\"a\")#find will return the first element with that tag\n",
    "    urls.append(a_tag.attrs[\"href\"])"
   ]
  },
  {
   "cell_type": "code",
   "execution_count": 36,
   "metadata": {},
   "outputs": [
    {
     "name": "stdout",
     "output_type": "stream",
     "text": [
      "['https://www.whitehouse.gov/briefings-statements/statement-press-secretary-regarding-visit-excellency-lenin-moreno-garces-president-republic-ecuador/', 'https://www.whitehouse.gov/briefings-statements/remarks-president-trump-north-carolina-opportunity-now-summit-charlotte-nc/', 'https://www.whitehouse.gov/briefings-statements/statement-press-secretary-111/', 'https://www.whitehouse.gov/briefings-statements/remarks-president-trump-marine-one-departure-82/', 'https://www.whitehouse.gov/briefings-statements/president-donald-j-trump-committed-creating-opportunity/', 'https://www.whitehouse.gov/briefings-statements/ondcp-releases-data-poppy-cultivation-potential-opium-production-afghanistan/', 'https://www.whitehouse.gov/briefings-statements/ondcp-recognizes-outstanding-counter-drug-efforts-high-intensity-drug-trafficking-areas-program/', 'https://www.whitehouse.gov/briefings-statements/statement-press-secretary-110/', 'https://www.whitehouse.gov/briefings-statements/bill-announcement-80/', 'https://www.whitehouse.gov/briefings-statements/statement-from-the-president-13/']\n"
     ]
    }
   ],
   "source": [
    "print(urls)"
   ]
  },
  {
   "cell_type": "markdown",
   "metadata": {},
   "source": [
    "# OBJECTS IN BEAUTIFUL SOUP "
   ]
  },
  {
   "cell_type": "markdown",
   "metadata": {},
   "source": [
    "use those objects to extract content from resources we are interested"
   ]
  },
  {
   "cell_type": "code",
   "execution_count": 37,
   "metadata": {},
   "outputs": [],
   "source": [
    "from bs4 import BeautifulSoup"
   ]
  },
  {
   "cell_type": "markdown",
   "metadata": {},
   "source": [
    "### auta html file ligam aba "
   ]
  },
  {
   "cell_type": "code",
   "execution_count": 40,
   "metadata": {},
   "outputs": [],
   "source": [
    "\n",
    "# To keep things simple and also reproducible, consider the following HTML code\n",
    "html_doc = \"\"\"\n",
    "<html><head><title>The Dormouse's story</title></head>\n",
    "<body>\n",
    "<p class=\"title\"><b>The Dormouse's story</b></p>\n",
    "<p class=\"story\">Once upon a time there were three little sisters; their names:\n",
    "<a href=\"http://example.com/elsie\" class=\"sister\" id=\"link1\">Elsie</a>,\n",
    "<a href=\"http://example.com/lacie\" class=\"sister\" id=\"link2\">Lacie</a> and\n",
    "<a href=\"http://example.com/tillie\" class=\"sister\" id=\"link3\">Tillie</a>;\n",
    "and they lived at the bottom of a well.</p>\n",
    "<p class=\"story\">...</p>\n",
    "<b class=\"boldest\">Extremely bold</b>\n",
    "<blockquote class=\"boldest\">Extremely bold</blockquote>\n",
    "<b id=\"1\">Test 1</b>\n",
    "<b another-attribute=\"1\" id=\"verybold\">Test 2</b>\n",
    "\"\"\"\n",
    "#describes a simple html webpage"
   ]
  },
  {
   "cell_type": "code",
   "execution_count": 41,
   "metadata": {},
   "outputs": [],
   "source": [
    "#we are going to write this content into a file\n",
    "with open(\"index.html\",\"w\") as f:\n",
    "    f.write(html_doc)"
   ]
  },
  {
   "cell_type": "code",
   "execution_count": 44,
   "metadata": {},
   "outputs": [],
   "source": [
    "\n",
    "soup = BeautifulSoup(html_doc,\"lxml\")#parse the html content"
   ]
  },
  {
   "cell_type": "code",
   "execution_count": 85,
   "metadata": {},
   "outputs": [
    {
     "name": "stdout",
     "output_type": "stream",
     "text": [
      "<html>\n",
      " <head>\n",
      "  <title>\n",
      "   The Dormouse's story\n",
      "  </title>\n",
      " </head>\n",
      " <body>\n",
      "  <p class=\"title\">\n",
      "   <blockquote>\n",
      "    The Dormouse's story\n",
      "   </blockquote>\n",
      "  </p>\n",
      "  <p class=\"story\">\n",
      "   Once upon a time there were three little sisters; their names:\n",
      "   <a class=\"sister\" href=\"http://example.com/elsie\" id=\"link1\">\n",
      "    Elsie\n",
      "   </a>\n",
      "   ,\n",
      "   <a class=\"sister\" href=\"http://example.com/lacie\" id=\"link2\">\n",
      "    Lacie\n",
      "   </a>\n",
      "   and\n",
      "   <a class=\"sister\" href=\"http://example.com/tillie\" id=\"link3\">\n",
      "    Tillie\n",
      "   </a>\n",
      "   ;\n",
      "and they lived at the bottom of a well.\n",
      "  </p>\n",
      "  <p class=\"story\">\n",
      "   ...\n",
      "  </p>\n",
      "  <blockquote class=\"boldest\">\n",
      "   Extremely bold\n",
      "  </blockquote>\n",
      "  <blockquote class=\"boldest\">\n",
      "   Extremely bold\n",
      "  </blockquote>\n",
      "  <b id=\"1\">\n",
      "   Test 1\n",
      "  </b>\n",
      "  <b another-attribute=\"2\">\n",
      "   This is another string\n",
      "  </b>\n",
      " </body>\n",
      "</html>\n"
     ]
    }
   ],
   "source": [
    "#print out nicely formatted html :\n",
    "print(soup.prettify())"
   ]
  },
  {
   "cell_type": "markdown",
   "metadata": {},
   "source": [
    "# tags"
   ]
  },
  {
   "cell_type": "markdown",
   "metadata": {},
   "source": [
    "\n",
    "## 1) bold tag"
   ]
  },
  {
   "cell_type": "code",
   "execution_count": 53,
   "metadata": {},
   "outputs": [
    {
     "name": "stdout",
     "output_type": "stream",
     "text": [
      "<b>The Dormouse's story</b>\n",
      "<b>The Dormouse's story</b>\n",
      "[<b>The Dormouse's story</b>, <b class=\"boldest\">Extremely bold</b>, <b id=\"1\">Test 1</b>, <b another-attribute=\"1\" id=\"verybold\">Test 2</b>]\n"
     ]
    }
   ],
   "source": [
    "print(soup.b)#give us the first occurence of a bold tag \n",
    "#find also does the same\n",
    "print(soup.find(\"b\"))\n",
    "\n",
    "#to return all \n",
    "print(soup.find_all(\"b\"))"
   ]
  },
  {
   "cell_type": "code",
   "execution_count": 49,
   "metadata": {},
   "outputs": [
    {
     "name": "stdout",
     "output_type": "stream",
     "text": [
      "<p class=\"title\"><b>The Dormouse's story</b></p>\n"
     ]
    }
   ],
   "source": [
    "print(soup.p)#gives the first occurence of p tag"
   ]
  },
  {
   "cell_type": "markdown",
   "metadata": {},
   "source": [
    "# NAME "
   ]
  },
  {
   "cell_type": "markdown",
   "metadata": {},
   "source": [
    "## this goves the name fo the tag"
   ]
  },
  {
   "cell_type": "code",
   "execution_count": 55,
   "metadata": {},
   "outputs": [
    {
     "name": "stdout",
     "output_type": "stream",
     "text": [
      "b\n"
     ]
    }
   ],
   "source": [
    "print(soup.b.name)"
   ]
  },
  {
   "cell_type": "markdown",
   "metadata": {},
   "source": [
    "##  we can alter the name and have that reflected in source"
   ]
  },
  {
   "cell_type": "code",
   "execution_count": 59,
   "metadata": {},
   "outputs": [
    {
     "name": "stdout",
     "output_type": "stream",
     "text": [
      "<b class=\"boldest\">Extremely bold</b>\n",
      "<blockquote class=\"boldest\">Extremely bold</blockquote>\n"
     ]
    }
   ],
   "source": [
    "tag=soup.b\n",
    "print(tag)\n",
    "tag.name=\"blockquote\"#altered \n",
    "print(tag)"
   ]
  },
  {
   "cell_type": "markdown",
   "metadata": {},
   "source": [
    "# ATTRIBUTES "
   ]
  },
  {
   "cell_type": "code",
   "execution_count": 60,
   "metadata": {},
   "outputs": [
    {
     "ename": "IndexError",
     "evalue": "list index out of range",
     "output_type": "error",
     "traceback": [
      "\u001b[1;31m---------------------------------------------------------------------------\u001b[0m",
      "\u001b[1;31mIndexError\u001b[0m                                Traceback (most recent call last)",
      "\u001b[1;32m<ipython-input-60-c7b636d19f24>\u001b[0m in \u001b[0;36m<module>\u001b[1;34m\u001b[0m\n\u001b[1;32m----> 1\u001b[1;33m \u001b[0mtag\u001b[0m\u001b[1;33m=\u001b[0m\u001b[0msoup\u001b[0m\u001b[1;33m.\u001b[0m\u001b[0mfind_all\u001b[0m\u001b[1;33m(\u001b[0m\u001b[1;34m\"b\"\u001b[0m\u001b[1;33m)\u001b[0m\u001b[1;33m[\u001b[0m\u001b[1;36m2\u001b[0m\u001b[1;33m]\u001b[0m\u001b[1;33m\u001b[0m\u001b[1;33m\u001b[0m\u001b[0m\n\u001b[0m",
      "\u001b[1;31mIndexError\u001b[0m: list index out of range"
     ]
    }
   ],
   "source": [
    "tag=soup.find_all(\"b\")[2]"
   ]
  },
  {
   "cell_type": "code",
   "execution_count": 66,
   "metadata": {},
   "outputs": [
    {
     "name": "stdout",
     "output_type": "stream",
     "text": [
      "<b another-attribute=\"1\" id=\"verybold\">Test 2</b>\n"
     ]
    }
   ],
   "source": [
    "tag = soup.find_all(\"b\")[1]\n",
    "print(tag)"
   ]
  },
  {
   "cell_type": "markdown",
   "metadata": {},
   "source": [
    "### this specific tag has the attribute \"id\" which can be accessed as "
   ]
  },
  {
   "cell_type": "code",
   "execution_count": 68,
   "metadata": {},
   "outputs": [
    {
     "name": "stdout",
     "output_type": "stream",
     "text": [
      "verybold\n"
     ]
    }
   ],
   "source": [
    "print(tag[\"id\"])"
   ]
  },
  {
   "cell_type": "code",
   "execution_count": 69,
   "metadata": {},
   "outputs": [
    {
     "name": "stdout",
     "output_type": "stream",
     "text": [
      "1\n"
     ]
    }
   ],
   "source": [
    "print(tag[\"another-attribute\"])"
   ]
  },
  {
   "cell_type": "markdown",
   "metadata": {},
   "source": [
    "#### if we want to see all attributes we can access them as dictinory object "
   ]
  },
  {
   "cell_type": "code",
   "execution_count": 71,
   "metadata": {},
   "outputs": [
    {
     "name": "stdout",
     "output_type": "stream",
     "text": [
      "{'another-attribute': '1', 'id': 'verybold'}\n"
     ]
    }
   ],
   "source": [
    "print(tag.attrs)#key is the name of attribute and value is value "
   ]
  },
  {
   "cell_type": "markdown",
   "metadata": {},
   "source": [
    "###  these values are also mutable i.e changeable"
   ]
  },
  {
   "cell_type": "code",
   "execution_count": 72,
   "metadata": {},
   "outputs": [
    {
     "name": "stdout",
     "output_type": "stream",
     "text": [
      "<b another-attribute=\"1\" id=\"verybold\">Test 2</b>\n"
     ]
    }
   ],
   "source": [
    "print(tag)"
   ]
  },
  {
   "cell_type": "code",
   "execution_count": 73,
   "metadata": {},
   "outputs": [],
   "source": [
    "tag[\"another-attribute\"]=2"
   ]
  },
  {
   "cell_type": "code",
   "execution_count": 74,
   "metadata": {},
   "outputs": [
    {
     "name": "stdout",
     "output_type": "stream",
     "text": [
      "<b another-attribute=\"2\" id=\"verybold\">Test 2</b>\n"
     ]
    }
   ],
   "source": [
    "print(tag)"
   ]
  },
  {
   "cell_type": "markdown",
   "metadata": {},
   "source": [
    "### we can also use del command for lists to remove attributes "
   ]
  },
  {
   "cell_type": "code",
   "execution_count": 75,
   "metadata": {},
   "outputs": [],
   "source": [
    "del tag[\"id\"]"
   ]
  },
  {
   "cell_type": "code",
   "execution_count": 76,
   "metadata": {},
   "outputs": [
    {
     "data": {
      "text/plain": [
       "<b another-attribute=\"2\">Test 2</b>"
      ]
     },
     "execution_count": 76,
     "metadata": {},
     "output_type": "execute_result"
    }
   ],
   "source": [
    "tag"
   ]
  },
  {
   "cell_type": "markdown",
   "metadata": {},
   "source": [
    "# NAVIGATE THE STRING "
   ]
  },
  {
   "cell_type": "code",
   "execution_count": 77,
   "metadata": {},
   "outputs": [
    {
     "data": {
      "text/plain": [
       "'Test 2'"
      ]
     },
     "execution_count": 77,
     "metadata": {},
     "output_type": "execute_result"
    }
   ],
   "source": [
    "#content  between the tags \n",
    "tag.string"
   ]
  },
  {
   "cell_type": "code",
   "execution_count": 80,
   "metadata": {},
   "outputs": [
    {
     "data": {
      "text/plain": [
       "'This is another string'"
      ]
     },
     "execution_count": 80,
     "metadata": {},
     "output_type": "execute_result"
    }
   ],
   "source": [
    "#we can also alter the string content between\n",
    "tag.string.replace_with(\"This is another string\")\n",
    "tag.string"
   ]
  },
  {
   "cell_type": "code",
   "execution_count": null,
   "metadata": {},
   "outputs": [],
   "source": []
  }
 ],
 "metadata": {
  "kernelspec": {
   "display_name": "Python 3",
   "language": "python",
   "name": "python3"
  },
  "language_info": {
   "codemirror_mode": {
    "name": "ipython",
    "version": 3
   },
   "file_extension": ".py",
   "mimetype": "text/x-python",
   "name": "python",
   "nbconvert_exporter": "python",
   "pygments_lexer": "ipython3",
   "version": "3.7.4"
  }
 },
 "nbformat": 4,
 "nbformat_minor": 2
}
