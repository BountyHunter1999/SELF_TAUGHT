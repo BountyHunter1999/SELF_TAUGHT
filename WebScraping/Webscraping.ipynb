{
 "cells": [
  {
   "cell_type": "code",
   "execution_count": 2,
   "metadata": {},
   "outputs": [],
   "source": [
    "import requests\n",
    "from bs4 import BeautifulSoup"
   ]
  },
  {
   "cell_type": "code",
   "execution_count": 24,
   "metadata": {},
   "outputs": [],
   "source": [
    "result= requests.get(\"https://hz9ap21u7a.execute-api.us-east-1.amazonaws.com/dev/nandolytics/record\")"
   ]
  },
  {
   "cell_type": "code",
   "execution_count": 27,
   "metadata": {},
   "outputs": [
    {
     "data": {
      "text/plain": [
       "502"
      ]
     },
     "execution_count": 27,
     "metadata": {},
     "output_type": "execute_result"
    }
   ],
   "source": [
    "result.status_code\n"
   ]
  },
  {
   "cell_type": "code",
   "execution_count": 25,
   "metadata": {},
   "outputs": [
    {
     "data": {
      "text/plain": [
       "'{\"message\": \"Internal server error\"}'"
      ]
     },
     "execution_count": 25,
     "metadata": {},
     "output_type": "execute_result"
    }
   ],
   "source": [
    "result.text"
   ]
  },
  {
   "cell_type": "code",
   "execution_count": 26,
   "metadata": {},
   "outputs": [
    {
     "data": {
      "text/plain": [
       "{'Content-Type': 'application/json', 'Content-Length': '36', 'Connection': 'keep-alive', 'Date': 'Sun, 09 Feb 2020 14:26:02 GMT', 'x-amzn-RequestId': 'b971de16-2df6-4433-8e22-676be44d8b7b', 'x-amzn-ErrorType': 'InternalServerErrorException', 'x-amz-apigw-id': 'HohzCGGooAMFhig=', 'X-Cache': 'Error from cloudfront', 'Via': '1.1 9663e7fd5bee9534cc141c9a3da8dd89.cloudfront.net (CloudFront)', 'X-Amz-Cf-Pop': 'SIN52-C2', 'X-Amz-Cf-Id': 'yG_ZylWCJYDFDkR2CthVyQrnNBygY3HzQZ4ISTzB4G9Ts-QiMFqtTA=='}"
      ]
     },
     "execution_count": 26,
     "metadata": {},
     "output_type": "execute_result"
    }
   ],
   "source": [
    "result.status_code\n",
    "result.headers\n"
   ]
  },
  {
   "cell_type": "code",
   "execution_count": 22,
   "metadata": {},
   "outputs": [],
   "source": [
    "src=result.content\n",
    "soup = BeautifulSoup(src)\n"
   ]
  },
  {
   "cell_type": "code",
   "execution_count": 23,
   "metadata": {},
   "outputs": [
    {
     "data": {
      "text/plain": [
       "<html xmlns=\"http://www.w3.org/1999/xhtml\">\n",
       "<head>\n",
       "<title> दैनिक मूल्य सूची </title>\n",
       "<meta content=\"fdgdf\" name=\"description\"/>\n",
       "<meta content=\"dgfdgfdg\" name=\"keywords\"/>\n",
       "<link href=\"http://kalimatimarket.gov.np/images/public/logo.png\" rel=\"shortcut icon\"/>\n",
       "<meta content=\"text/html; charset=utf-8\" http-equiv=\"Content-Type\"/>\n",
       "<link href=\"http://kalimatimarket.gov.np/css/public/style.css\" rel=\"stylesheet\" type=\"text/css\"/>\n",
       "<link href=\"http://kalimatimarket.gov.np/css/public/menu.css\" rel=\"stylesheet\" type=\"text/css\"/>\n",
       "<link href=\"http://code.jquery.com/ui/1.10.3/themes/smoothness/jquery-ui.css\" rel=\"stylesheet\"/>\n",
       "<script src=\"http://code.jquery.com/jquery-1.9.1.js\"></script>\n",
       "<script src=\"http://code.jquery.com/ui/1.10.3/jquery-ui.js\"></script>\n",
       "<script src=\"http://kalimatimarket.gov.np/js/jquery-validate.js\"></script>\n",
       "</head>\n",
       "<body>\n",
       "<div id=\"pagecontainer\">\n",
       "<table style=\"width:100%\">\n",
       "<tbody>\n",
       "<tr>\n",
       "<td><strong><span style=\"color:#008080\"> </span><span style=\"font-size:12px\"><a href=\"http://kalimatimarket.gov.np/home/language/EN\"><span style=\"color:#008080\">English</span></a><span style=\"color:#008080\"> | </span><a href=\"http://kalimatimarket.gov.np/home/language/NP\"><span style=\"color:#008080\">नेपाली</span></a></span></strong></td>\n",
       "<td> </td>\n",
       "<td style=\"text-align:right\"> </td>\n",
       "</tr>\n",
       "<tr>\n",
       "<td><img alt=\"\" src=\"http://kalimatimarket.gov.np/upload/medium/media_13839.png\" style=\"float:left; height:98px; width:100px\"/></td>\n",
       "<td>\n",
       "<table border=\"0\" cellpadding=\"0\" cellspacing=\"0\" style=\"height:85px; width:845px\">\n",
       "<tbody>\n",
       "<tr>\n",
       "<td><span style=\"color:#FF0000\"><strong>Government of Nepal</strong></span></td>\n",
       "</tr>\n",
       "<tr>\n",
       "<td><span style=\"font-size:22px\"><span style=\"color:#FF0000\"><strong>Ministry of Agriculture and Livestock Development</strong></span></span></td>\n",
       "</tr>\n",
       "<tr>\n",
       "<td><span style=\"color:#006699\"><span style=\"font-size:28px\"><strong>Kalimati Fruits and Vegetable Market Development Board</strong></span></span></td>\n",
       "</tr>\n",
       "</tbody>\n",
       "</table>\n",
       "<p> </p>\n",
       "</td>\n",
       "<td><img alt=\"\" src=\"http://kalimatimarket.gov.np/upload/medium/media_32546.png\" style=\"float:right; height:99px; width:100px\"/></td>\n",
       "</tr>\n",
       "</tbody>\n",
       "</table>\n",
       "<!-- Menu -->\n",
       "<div id=\"cssmenu\">\n",
       "<ul>\n",
       "</ul>\n",
       "</div>\n",
       "<!-- Menu End-->\n",
       "<!-- Contant part-->\n",
       "<script>\n",
       "\t$(document).ready(function(){\n",
       "\t$('#price').validate();\n",
       "\t});\n",
       "\t\n",
       "\t$(function() {\n",
       "\t$( \"#datepicker\" ).datepicker();\n",
       "\t});\n",
       "\t\n",
       "\tfunction dlypriceview(){\n",
       "\t\t//alert('test');\n",
       "\t\tvar cdate=$('#datepicker').val();\n",
       "\t\tvar pricetype=$('#pricetype').val();\n",
       "\t\tvar vardata= 'cdate=' + cdate + '&pricetype=' + pricetype;\n",
       "\t\t$.ajax({\n",
       "\t\t\turl: 'http://kalimatimarket.gov.np/priceinfo/dlypricebulletin',\n",
       "\t\t\ttype:\"POST\",\n",
       "\t\t\tdata:vardata,\n",
       "\t\t\tsuccess : function(response){\n",
       "\t\t\t$('#pricelist').html(response);\n",
       "\t\t\t\t}\n",
       "\t\t});\n",
       "\t\t\n",
       "\t\t}\n",
       "</script>\n",
       "<h1>दैनिक मूल्य सूची</h1><hr/>\n",
       "<form action=\"\" id=\"price\" method=\"post\" name=\"price\">\n",
       "<table>\n",
       "<tr><td>मिति : </td>\n",
       "<td><input class=\"required\" id=\"datepicker\" name=\"date\" type=\"text\"/></td>\n",
       "<td> मूल्यको किसिम : </td>\n",
       "<td><select class=\"required\" id=\"pricetype\" name=\"pricetype\">\n",
       "<option value=\"W\">थोक</option><option value=\"R\">खुद्रा</option></select></td>\n",
       "<td><input name=\"view\" onclick=\"dlypriceview()\" type=\"button\" value=\"हेर्नुहोस्\"/></td></tr>\n",
       "</table>\n",
       "</form>\n",
       "<div id=\"pricelist\">\n",
       "</div>\n",
       "<!-- End Contant part-->\n",
       "</div>\n",
       "<footer>\n",
       "<table border=\"0\" cellpadding=\"1\" cellspacing=\"1\" style=\"width:100%\">\n",
       "<tbody>\n",
       "<tr>\n",
       "<td colspan=\"3\" style=\"text-align:center\"><span style=\"font-size:14px\"><strong><span style=\"font-family:arial,helvetica,sans-serif\"><a href=\"http://kalimatimarket.gov.np\"><span style=\"color:#008080\">Home </span></a><span style=\"color:#008080\">| </span><a href=\"http://kalimatimarket.gov.np/pages/listnotice\"><span style=\"color:#008080\">Notices </span></a><span style=\"color:#008080\">| </span><a href=\"http://kalimatimarket.gov.np/upload/medium/org.pdf\" style=\"color: red;\"><span style=\"color:#008080\">Organization Structure</span></a><span style=\"color:#008080\"> | </span><a href=\"http://kalimatimarket.gov.np/upload/medium/citizen charter.pdf\"><span style=\"color:#008080\">Citizen Charter</span></a><span style=\"color:#008080\"> | </span><a href=\"http://kalimatimarket.gov.np/contact-us\"><span style=\"color:#008080\">Contact Us</span></a><span style=\"color:#008080\"> </span><span style=\"color:#008080\">| </span><a href=\"http://kalimatimarket.gov.np/feedback\"><span style=\"color:#008080\">FeedBack</span></a></span></strong></span></td>\n",
       "</tr>\n",
       "<tr>\n",
       "<td>\n",
       "<p><span style=\"color:#4B0082\"><span style=\"font-size:12px\"><strong>Kalimati-13, Kathmandu | </strong></span><strong>Tel : 5123086</strong></span></p>\n",
       "</td>\n",
       "<td style=\"text-align:center\"><span style=\"color:#4B0082\"><span style=\"font-size:12px\"><strong>©Copyright to Kalimati Fruits and Vegetable Market Development Board</strong></span></span></td>\n",
       "<td style=\"text-align:right\">\n",
       "<p><strong><span style=\"color:#4B0082\">Powered by: </span><a href=\"http://www.comptech.com.np\"><span style=\"color:#4B0082\">Comptech.com.np</span></a><span style=\"color:#4B0082\"> </span></strong></p>\n",
       "</td>\n",
       "</tr>\n",
       "</tbody>\n",
       "</table>\n",
       "<p> </p>\n",
       "</footer>\n",
       "</body>\n",
       "</html>"
      ]
     },
     "execution_count": 23,
     "metadata": {},
     "output_type": "execute_result"
    }
   ],
   "source": [
    "soup\n"
   ]
  },
  {
   "cell_type": "code",
   "execution_count": null,
   "metadata": {},
   "outputs": [],
   "source": []
  },
  {
   "cell_type": "code",
   "execution_count": null,
   "metadata": {},
   "outputs": [],
   "source": []
  },
  {
   "cell_type": "code",
   "execution_count": null,
   "metadata": {},
   "outputs": [],
   "source": []
  },
  {
   "cell_type": "code",
   "execution_count": null,
   "metadata": {},
   "outputs": [],
   "source": []
  },
  {
   "cell_type": "code",
   "execution_count": null,
   "metadata": {},
   "outputs": [],
   "source": []
  },
  {
   "cell_type": "markdown",
   "metadata": {},
   "source": [
    "# MAKING A GET REQUEST "
   ]
  },
  {
   "cell_type": "code",
   "execution_count": 28,
   "metadata": {},
   "outputs": [
    {
     "ename": "IndexError",
     "evalue": "list index out of range",
     "output_type": "error",
     "traceback": [
      "\u001b[1;31m---------------------------------------------------------------------------\u001b[0m",
      "\u001b[1;31mIndexError\u001b[0m                                Traceback (most recent call last)",
      "\u001b[1;32m<ipython-input-28-f0a19d802ca5>\u001b[0m in \u001b[0;36m<module>\u001b[1;34m\u001b[0m\n\u001b[0;32m     20\u001b[0m \u001b[1;31m# extracting latitude, longitude and formatted address\u001b[0m\u001b[1;33m\u001b[0m\u001b[1;33m\u001b[0m\u001b[1;33m\u001b[0m\u001b[0m\n\u001b[0;32m     21\u001b[0m \u001b[1;31m# of the first matching location\u001b[0m\u001b[1;33m\u001b[0m\u001b[1;33m\u001b[0m\u001b[1;33m\u001b[0m\u001b[0m\n\u001b[1;32m---> 22\u001b[1;33m \u001b[0mlatitude\u001b[0m \u001b[1;33m=\u001b[0m \u001b[0mdata\u001b[0m\u001b[1;33m[\u001b[0m\u001b[1;34m'results'\u001b[0m\u001b[1;33m]\u001b[0m\u001b[1;33m[\u001b[0m\u001b[1;36m0\u001b[0m\u001b[1;33m]\u001b[0m\u001b[1;33m[\u001b[0m\u001b[1;34m'geometry'\u001b[0m\u001b[1;33m]\u001b[0m\u001b[1;33m[\u001b[0m\u001b[1;34m'location'\u001b[0m\u001b[1;33m]\u001b[0m\u001b[1;33m[\u001b[0m\u001b[1;34m'lat'\u001b[0m\u001b[1;33m]\u001b[0m\u001b[1;33m\u001b[0m\u001b[1;33m\u001b[0m\u001b[0m\n\u001b[0m\u001b[0;32m     23\u001b[0m \u001b[0mlongitude\u001b[0m \u001b[1;33m=\u001b[0m \u001b[0mdata\u001b[0m\u001b[1;33m[\u001b[0m\u001b[1;34m'results'\u001b[0m\u001b[1;33m]\u001b[0m\u001b[1;33m[\u001b[0m\u001b[1;36m0\u001b[0m\u001b[1;33m]\u001b[0m\u001b[1;33m[\u001b[0m\u001b[1;34m'geometry'\u001b[0m\u001b[1;33m]\u001b[0m\u001b[1;33m[\u001b[0m\u001b[1;34m'location'\u001b[0m\u001b[1;33m]\u001b[0m\u001b[1;33m[\u001b[0m\u001b[1;34m'lng'\u001b[0m\u001b[1;33m]\u001b[0m\u001b[1;33m\u001b[0m\u001b[1;33m\u001b[0m\u001b[0m\n\u001b[0;32m     24\u001b[0m \u001b[0mformatted_address\u001b[0m \u001b[1;33m=\u001b[0m \u001b[0mdata\u001b[0m\u001b[1;33m[\u001b[0m\u001b[1;34m'results'\u001b[0m\u001b[1;33m]\u001b[0m\u001b[1;33m[\u001b[0m\u001b[1;36m0\u001b[0m\u001b[1;33m]\u001b[0m\u001b[1;33m[\u001b[0m\u001b[1;34m'formatted_address'\u001b[0m\u001b[1;33m]\u001b[0m\u001b[1;33m\u001b[0m\u001b[1;33m\u001b[0m\u001b[0m\n",
      "\u001b[1;31mIndexError\u001b[0m: list index out of range"
     ]
    }
   ],
   "source": [
    "# importing the requests library \n",
    "import requests \n",
    "  \n",
    "# api-endpoint \n",
    "URL = \"http://maps.googleapis.com/maps/api/geocode/json\"\n",
    "  \n",
    "# location given here \n",
    "location = \"delhi technological university\"\n",
    "  \n",
    "# defining a params dict for the parameters to be sent to the API \n",
    "PARAMS = {'address':location} \n",
    "  \n",
    "# sending get request and saving the response as response object \n",
    "r = requests.get(url = URL, params = PARAMS) \n",
    "  \n",
    "# extracting data in json format \n",
    "data = r.json() \n",
    "  \n",
    "  \n",
    "# extracting latitude, longitude and formatted address  \n",
    "# of the first matching location \n",
    "latitude = data['results'][0]['geometry']['location']['lat'] \n",
    "longitude = data['results'][0]['geometry']['location']['lng'] \n",
    "formatted_address = data['results'][0]['formatted_address'] \n",
    "  \n",
    "# printing the output \n",
    "print(\"Latitude:%s\\nLongitude:%s\\nFormatted Address:%s\"\n",
    "      %(latitude, longitude,formatted_address)) \n"
   ]
  },
  {
   "cell_type": "code",
   "execution_count": null,
   "metadata": {},
   "outputs": [],
   "source": []
  }
 ],
 "metadata": {
  "kernelspec": {
   "display_name": "Python 3",
   "language": "python",
   "name": "python3"
  },
  "language_info": {
   "codemirror_mode": {
    "name": "ipython",
    "version": 3
   },
   "file_extension": ".py",
   "mimetype": "text/x-python",
   "name": "python",
   "nbconvert_exporter": "python",
   "pygments_lexer": "ipython3",
   "version": "3.7.4"
  }
 },
 "nbformat": 4,
 "nbformat_minor": 2
}
