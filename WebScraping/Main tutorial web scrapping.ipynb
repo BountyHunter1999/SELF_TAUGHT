{
 "cells": [
  {
   "cell_type": "code",
   "execution_count": 1,
   "metadata": {},
   "outputs": [],
   "source": [
    "from urllib.request import urlopen as uReq\n",
    "#calling package urllib and calling request module from that urlopen"
   ]
  },
  {
   "cell_type": "markdown",
   "metadata": {},
   "source": [
    "good way to parse html page"
   ]
  },
  {
   "cell_type": "code",
   "execution_count": 2,
   "metadata": {},
   "outputs": [],
   "source": [
    "from bs4 import BeautifulSoup as soup"
   ]
  },
  {
   "cell_type": "code",
   "execution_count": 3,
   "metadata": {},
   "outputs": [],
   "source": [
    "my_url=\"https://www.newegg.com/Video-Cards-Video-Devices/Category/ID-38?Tpk=graphics%20card\""
   ]
  },
  {
   "cell_type": "code",
   "execution_count": 4,
   "metadata": {},
   "outputs": [],
   "source": [
    "#open up connection ,grabbing the page\n",
    "uClient=uReq(my_url)#grab the webpage and download it basically"
   ]
  },
  {
   "cell_type": "code",
   "execution_count": 5,
   "metadata": {},
   "outputs": [],
   "source": [
    "page_html=uClient.read()"
   ]
  },
  {
   "cell_type": "code",
   "execution_count": 6,
   "metadata": {},
   "outputs": [],
   "source": [
    "#close the connection\n",
    "uClient.close()"
   ]
  },
  {
   "cell_type": "code",
   "execution_count": 7,
   "metadata": {},
   "outputs": [],
   "source": [
    "#html parser\n",
    "page_soup=soup(page_html,\"html.parser\")#parse it as and html parse file"
   ]
  },
  {
   "cell_type": "code",
   "execution_count": 8,
   "metadata": {},
   "outputs": [
    {
     "data": {
      "text/plain": [
       "<h1 class=\"page-title-text\">Video Cards &amp; Video Devices</h1>"
      ]
     },
     "execution_count": 8,
     "metadata": {},
     "output_type": "execute_result"
    }
   ],
   "source": [
    "page_soup.h1           "
   ]
  },
  {
   "cell_type": "code",
   "execution_count": 9,
   "metadata": {},
   "outputs": [
    {
     "data": {
      "text/plain": [
       "<p>Newegg.com - A great place to buy computers, computer parts, electronics, software, accessories, and DVDs online. With great prices, fast shipping, and top-rated customer service - Newegg shopping upgraded ™</p>"
      ]
     },
     "execution_count": 9,
     "metadata": {},
     "output_type": "execute_result"
    }
   ],
   "source": [
    "page_soup.p"
   ]
  },
  {
   "cell_type": "code",
   "execution_count": 10,
   "metadata": {},
   "outputs": [],
   "source": [
    "containers=page_soup.findAll(\"div\",{\"class\":{\"item-container\"}})\n",
    "#grabs each product"
   ]
  },
  {
   "cell_type": "code",
   "execution_count": 45,
   "metadata": {},
   "outputs": [
    {
     "data": {
      "text/plain": [
       "<div class=\"item-container\">\n",
       "<!--product image-->\n",
       "<a class=\"item-img\" href=\"https://www.newegg.com/evga-geforce-rtx-2070-super-08g-p4-3071-kr/p/N82E16814487456?Item=N82E16814487456\">\n",
       "<div class=\"item-badges\">\n",
       "</div>\n",
       "<img alt=\"EVGA GeForce RTX 2070 SUPER BLACK GAMING, 08G-P4-3071-KR, 8GB GDDR6\" class=\"lazy-img\" data-effect=\"fadeIn\" data-src=\"//c1.neweggimages.com/NeweggImage/ProductImageCompressAll300/14-487-456-V12.jpg\" src=\"//c1.neweggimages.com/WebResource/Themes/2005/Nest/blank.gif\" title=\"EVGA GeForce RTX 2070 SUPER BLACK GAMING, 08G-P4-3071-KR, 8GB GDDR6\">\n",
       "</img></a>\n",
       "<div class=\"item-info\">\n",
       "<!--brand info-->\n",
       "<div class=\"item-branding\">\n",
       "<a class=\"item-brand\" href=\"https://www.newegg.com/EVGA/BrandStore/ID-1402\">\n",
       "<img alt=\"EVGA\" class=\"lazy-img\" data-effect=\"fadeIn\" data-src=\"//c1.neweggimages.com/Brandimage_70x28//Brand1402.gif\" src=\"//c1.neweggimages.com/WebResource/Themes/2005/Nest/blank.gif\" title=\"EVGA\">\n",
       "</img></a>\n",
       "<!--rating info-->\n",
       "<a class=\"item-rating\" href=\"https://www.newegg.com/evga-geforce-rtx-2070-super-08g-p4-3071-kr/p/N82E16814487456?Item=N82E16814487456&amp;SortField=0&amp;SummaryType=0&amp;PageSize=10&amp;SelectedRating=-1&amp;VideoOnlyMark=False&amp;IsFeedbackTab=true#scrollFullInfo\" title=\"Rating + 4\"><i class=\"rating rating-4\"></i><span class=\"item-rating-num\">(51)</span></a>\n",
       "</div>\n",
       "<!--description info-->\n",
       "<a class=\"item-title\" href=\"https://www.newegg.com/evga-geforce-rtx-2070-super-08g-p4-3071-kr/p/N82E16814487456?Item=N82E16814487456\" title=\"View Details\">EVGA GeForce RTX 2070 SUPER BLACK GAMING, 08G-P4-3071-KR</a>\n",
       "<!--promption info-->\n",
       "<p class=\"item-promo\"><i class=\"item-promo-icon\"></i>+ $20 off w/ promo code VGAPCJP857, limited offer</p>\n",
       "<!--feature-->\n",
       "<ul class=\"item-features\">\n",
       "<li><strong>Max Resolution:</strong> 7680 x 4320</li><li><strong>DisplayPort:</strong> 3 x DisplayPort 1.4</li><li><strong>HDMI:</strong> 1 x HDMI 2.0b</li><li><strong>Card Dimensions (L x H):</strong> 10.62\" x 4.38\"</li>\n",
       "<li><strong>Model #: </strong>08G-P4-3071-KR</li>\n",
       "<li><strong>Item #: </strong>N82E16814487456</li>\n",
       "</ul>\n",
       "<div class=\"item-action\">\n",
       "<!--price-->\n",
       "<ul class=\"price\">\n",
       "<li class=\"price-was\">\n",
       "</li>\n",
       "<li class=\"price-map\">\n",
       "</li>\n",
       "<li class=\"price-current\">\n",
       "<span class=\"price-current-label\">\n",
       "</span>$<strong>509</strong><sup>.99</sup> <a class=\"price-current-num\" href=\"https://www.newegg.com/evga-geforce-rtx-2070-super-08g-p4-3071-kr/p/N82E16814487456?Item=N82E16814487456&amp;buyingoptions=New\">(15 Offers)</a>\n",
       "<span class=\"price-current-range\">\n",
       "<abbr title=\"to\">–</abbr>\n",
       "</span>\n",
       "</li>\n",
       "<li class=\"price-save\">\n",
       "<span class=\"price-save-endtime price-save-endtime-current\"></span>\n",
       "<span class=\"price-save-endtime price-save-endtime-another\" style=\"display:none;\"></span>\n",
       "</li>\n",
       "<li class=\"price-note\">\n",
       "<span class=\"price-note-dollar\" data-price=\"$489.99\">$489.99</span>\n",
       "<span class=\"price-note-label\"> after </span>\n",
       "<span class=\"price-note-dollar\">$20.00</span>\n",
       "<span class=\"price-note-label\"> rebate card</span>\n",
       "</li>\n",
       "<li class=\"price-ship\">\n",
       "        $3.99 Shipping\n",
       "    </li>\n",
       "</ul>\n",
       "<!--egg point-->\n",
       "<!--financing-->\n",
       "<!--button-->\n",
       "<div class=\"item-operate hidden-action-button\">\n",
       "<div class=\"item-button-area\">\n",
       "<button class=\"btn btn-mini\" onclick=\"Javascript:Biz.ProductList.Item.add('https://www.newegg.com/evga-geforce-rtx-2070-super-08g-p4-3071-kr/p/N82E16814487456?Item=N82E16814487456');\" title=\"View Details\" type=\"button\">View Details <i class=\"fa fa-caret-right\"></i>\n",
       "</button>\n",
       "</div>\n",
       "<!--compare-->\n",
       "<div class=\"item-compare-box\">\n",
       "<label class=\"form-checkbox\">\n",
       "<input autocomplete=\"off\" name=\"CompareItem\" neg-itemnumber=\"14-487-456\" type=\"checkbox\" value=\"CompareItem_14-487-456\"/>\n",
       "<span class=\"form-checkbox-title\">Compare</span>\n",
       "</label>\n",
       "</div>\n",
       "<script type=\"text/javascript\">\n",
       "                            \n",
       "                                Biz.Product.CompareConfig2019.compareItems.push(\"14-487-456\");\n",
       "                                var itemThumbs = new Object();\n",
       "                                itemThumbs.subCategoryId = 48;\n",
       "                                itemThumbs.subCategoryDescription = \"Desktop Graphics Cards\";\n",
       "                                itemThumbs.itemNumber = \"14-487-456\";\n",
       "                                itemThumbs.imageUrl = \"//c1.neweggimages.com/ProductImageCompressAll35/14-487-456-V12.jpg\";\n",
       "                                itemThumbs.description = \"EVGA GeForce RTX 2070 SUPER BLACK GAMING, 08G-P4-3071-KR\";\n",
       "                                itemThumbs.productUrl = \"/evga-geforce-rtx-2070-super-08g-p4-3071-kr/p/N82E16814487456?Item=N82E16814487456\";\n",
       "                                Biz.Product.CompareConfig2019.Thumbs.push(itemThumbs);\n",
       "                            \n",
       "                    </script>\n",
       "</div>\n",
       "<!--ExtendWarranty PopUp-->\n",
       "<input class=\"open-popup\" id=\"ew_N82E16814487456\" type=\"hidden\">\n",
       "<input class=\"open-popup\" id=\"ew_MainItemFailedAddToCart_N82E16814487456\" type=\"hidden\">\n",
       "</input></input></div>\n",
       "</div>\n",
       "<div class=\"item-stock\" id=\"stock_14-487-456\">\n",
       "</div>\n",
       "</div>"
      ]
     },
     "execution_count": 45,
     "metadata": {},
     "output_type": "execute_result"
    }
   ],
   "source": [
    "containers[0]"
   ]
  },
  {
   "cell_type": "markdown",
   "metadata": {},
   "source": [
    "containers[0]\n",
    "we want to grab image \n",
    "names\n",
    "scrap the product\n",
    "shipping \n",
    "\n"
   ]
  },
  {
   "cell_type": "code",
   "execution_count": 48,
   "metadata": {},
   "outputs": [],
   "source": [
    "contain = containers[0]#for a single grpahics card\n",
    "\n",
    "\n"
   ]
  },
  {
   "cell_type": "code",
   "execution_count": 60,
   "metadata": {},
   "outputs": [],
   "source": [
    "c=contain.find(\"a\",class_=\"item-brand\").img[\"alt\"]"
   ]
  },
  {
   "cell_type": "code",
   "execution_count": 61,
   "metadata": {},
   "outputs": [
    {
     "data": {
      "text/plain": [
       "'EVGA'"
      ]
     },
     "execution_count": 61,
     "metadata": {},
     "output_type": "execute_result"
    }
   ],
   "source": [
    "c"
   ]
  },
  {
   "cell_type": "code",
   "execution_count": 59,
   "metadata": {},
   "outputs": [
    {
     "data": {
      "text/plain": [
       "'EVGA'"
      ]
     },
     "execution_count": 59,
     "metadata": {},
     "output_type": "execute_result"
    }
   ],
   "source": [
    "c[\"alt\"]"
   ]
  },
  {
   "cell_type": "code",
   "execution_count": null,
   "metadata": {},
   "outputs": [],
   "source": []
  },
  {
   "cell_type": "code",
   "execution_count": null,
   "metadata": {},
   "outputs": [],
   "source": []
  },
  {
   "cell_type": "code",
   "execution_count": 13,
   "metadata": {},
   "outputs": [],
   "source": [
    "container = containers[0]#for a single grpahics card"
   ]
  },
  {
   "cell_type": "code",
   "execution_count": 14,
   "metadata": {},
   "outputs": [
    {
     "data": {
      "text/plain": [
       "<a class=\"item-img\" href=\"https://www.newegg.com/evga-geforce-rtx-2070-super-08g-p4-3071-kr/p/N82E16814487456?Item=N82E16814487456\">\n",
       "<div class=\"item-badges\">\n",
       "</div>\n",
       "<img alt=\"EVGA GeForce RTX 2070 SUPER BLACK GAMING, 08G-P4-3071-KR, 8GB GDDR6\" class=\"lazy-img\" data-effect=\"fadeIn\" data-src=\"//c1.neweggimages.com/NeweggImage/ProductImageCompressAll300/14-487-456-V12.jpg\" src=\"//c1.neweggimages.com/WebResource/Themes/2005/Nest/blank.gif\" title=\"EVGA GeForce RTX 2070 SUPER BLACK GAMING, 08G-P4-3071-KR, 8GB GDDR6\">\n",
       "</img></a>"
      ]
     },
     "execution_count": 14,
     "metadata": {},
     "output_type": "execute_result"
    }
   ],
   "source": [
    "container.a #brings me item image\n"
   ]
  },
  {
   "cell_type": "code",
   "execution_count": 15,
   "metadata": {},
   "outputs": [
    {
     "data": {
      "text/plain": [
       "<img alt=\"EVGA GeForce RTX 2070 SUPER BLACK GAMING, 08G-P4-3071-KR, 8GB GDDR6\" class=\"lazy-img\" data-effect=\"fadeIn\" data-src=\"//c1.neweggimages.com/NeweggImage/ProductImageCompressAll300/14-487-456-V12.jpg\" src=\"//c1.neweggimages.com/WebResource/Themes/2005/Nest/blank.gif\" title=\"EVGA GeForce RTX 2070 SUPER BLACK GAMING, 08G-P4-3071-KR, 8GB GDDR6\">\n",
       "</img>"
      ]
     },
     "execution_count": 15,
     "metadata": {},
     "output_type": "execute_result"
    }
   ],
   "source": [
    "#from here we need the name of the graphics card so just do it!!!\n",
    "container.img"
   ]
  },
  {
   "cell_type": "code",
   "execution_count": 16,
   "metadata": {},
   "outputs": [
    {
     "data": {
      "text/plain": [
       "'EVGA GeForce RTX 2070 SUPER BLACK GAMING, 08G-P4-3071-KR, 8GB GDDR6'"
      ]
     },
     "execution_count": 16,
     "metadata": {},
     "output_type": "execute_result"
    }
   ],
   "source": [
    "#now we need the title\n",
    "container.img[\"title\"]#grab and attribute as in dictinory"
   ]
  },
  {
   "cell_type": "markdown",
   "metadata": {},
   "source": [
    "now lets loop this "
   ]
  },
  {
   "cell_type": "code",
   "execution_count": 17,
   "metadata": {},
   "outputs": [],
   "source": [
    "title_container=container.findAll(\"a\",{\"class\":\"item-title\"})"
   ]
  },
  {
   "cell_type": "code",
   "execution_count": 18,
   "metadata": {},
   "outputs": [
    {
     "data": {
      "text/plain": [
       "'EVGA GeForce RTX 2070 SUPER BLACK GAMING, 08G-P4-3071-KR'"
      ]
     },
     "execution_count": 18,
     "metadata": {},
     "output_type": "execute_result"
    }
   ],
   "source": [
    "title_container[0].text"
   ]
  },
  {
   "cell_type": "code",
   "execution_count": null,
   "metadata": {},
   "outputs": [],
   "source": []
  },
  {
   "cell_type": "code",
   "execution_count": 19,
   "metadata": {},
   "outputs": [],
   "source": [
    " shipping_container=container.findAll(\"li\",{\"class\":\"price-ship\"})"
   ]
  },
  {
   "cell_type": "code",
   "execution_count": 20,
   "metadata": {},
   "outputs": [
    {
     "data": {
      "text/plain": [
       "<li class=\"price-ship\">\n",
       "        $3.99 Shipping\n",
       "    </li>"
      ]
     },
     "execution_count": 20,
     "metadata": {},
     "output_type": "execute_result"
    }
   ],
   "source": [
    "shipping_container[0]"
   ]
  },
  {
   "cell_type": "code",
   "execution_count": 21,
   "metadata": {},
   "outputs": [
    {
     "data": {
      "text/plain": [
       "'\\r\\n        $3.99 Shipping\\r\\n    '"
      ]
     },
     "execution_count": 21,
     "metadata": {},
     "output_type": "execute_result"
    }
   ],
   "source": [
    "shipping_container[0].text"
   ]
  },
  {
   "cell_type": "code",
   "execution_count": 22,
   "metadata": {},
   "outputs": [
    {
     "data": {
      "text/plain": [
       "'$3.99 Shipping'"
      ]
     },
     "execution_count": 22,
     "metadata": {},
     "output_type": "execute_result"
    }
   ],
   "source": [
    "#i just want the text\n",
    "shipping_container[0].text.strip()#removes whitespace before after and others"
   ]
  },
  {
   "cell_type": "code",
   "execution_count": null,
   "metadata": {},
   "outputs": [],
   "source": []
  },
  {
   "cell_type": "code",
   "execution_count": null,
   "metadata": {},
   "outputs": [],
   "source": []
  },
  {
   "cell_type": "code",
   "execution_count": null,
   "metadata": {},
   "outputs": [],
   "source": []
  },
  {
   "cell_type": "code",
   "execution_count": null,
   "metadata": {},
   "outputs": [],
   "source": []
  },
  {
   "cell_type": "code",
   "execution_count": 68,
   "metadata": {},
   "outputs": [
    {
     "data": {
      "text/plain": [
       "30"
      ]
     },
     "execution_count": 68,
     "metadata": {},
     "output_type": "execute_result"
    }
   ],
   "source": [
    "filename=\"products.csv\"\n",
    "f=open(filename,\"w\")\n",
    "header=\"brand, product_name, shipping\\n\"\n",
    "f.write(header)"
   ]
  },
  {
   "cell_type": "code",
   "execution_count": 69,
   "metadata": {},
   "outputs": [
    {
     "name": "stdout",
     "output_type": "stream",
     "text": [
      "brand: EVGA\n",
      "product_name: EVGA GeForce RTX 2070 SUPER BLACK GAMING, 08G-P4-3071-KR\n",
      "shipping: $3.99 Shipping\n",
      "\n",
      "\n",
      "\n",
      "brand: GIGABYTE\n",
      "product_name: GIGABYTE Radeon RX 5700 XT GAMING OC 8G Graphics Card, GV-R57XTGAMING OC-8GD\n",
      "shipping: Free Shipping\n",
      "\n",
      "\n",
      "\n",
      "brand: MSI\n",
      "product_name: MSI GeForce GTX 1660 DirectX 12 GTX 1660 VENTUS XS 6G OC Video Card\n",
      "shipping: Free Shipping\n",
      "\n",
      "\n",
      "\n",
      "brand: ASUS\n",
      "product_name: ASUS ROG Strix GeForce RTX 2080 Ti DirectX 12 ROG-STRIX-RTX2080TI-11G-GAMING Video Card\n",
      "shipping: Free Shipping\n",
      "\n",
      "\n",
      "\n",
      "brand: EVGA\n",
      "product_name: EVGA GeForce RTX 2060 SUPER SC ULTRA GAMING, 08G-P4-3067-KR\n",
      "shipping: $3.99 Shipping\n",
      "\n",
      "\n",
      "\n",
      "brand: XFX\n",
      "product_name: XFX Radeon RX 570 DirectX 12 RX-570P8DFD6 Video Card\n",
      "shipping: $3.99 Shipping\n",
      "\n",
      "\n",
      "\n",
      "brand: Sapphire Tech\n",
      "product_name: Sapphire PULSE Radeon RX 580 8GB GDDR5 PCI-E Dual HDMI / DVI-D / Dual DP OC w/ Backplate (UEFI), 100411P8GOCL\n",
      "shipping: Free Shipping\n",
      "\n",
      "\n",
      "\n",
      "brand: MSI\n",
      "product_name: MSI Radeon RX 5700 DirectX 12 RX 5700 EVOKE OC Video Card\n",
      "shipping: Free Shipping\n",
      "\n",
      "\n",
      "\n",
      "brand: XFX\n",
      "product_name: XFX RADEON RX 590 FATBOY Core Edition 8GB 1580MHz DDR5 3xDP HDMI DVI PCI Express 3.0 Graphics Card RX-590P8DLD6\n",
      "shipping: $3.99 Shipping\n",
      "\n",
      "\n",
      "\n",
      "brand: GIGABYTE\n",
      "product_name: GIGABYTE GeForce RTX 2080 Super GAMING OC 8G (Rev 2.0) Graphics Card, GV-N208SGAMING OC-8GC\n",
      "shipping: Free Shipping\n",
      "\n",
      "\n",
      "\n",
      "brand: ASRock\n",
      "product_name: ASRock Phantom Gaming X Radeon RX Vega 56 DirectX 12 RX VEGA 56 8G Video Card\n",
      "shipping: Free Shipping\n",
      "\n",
      "\n",
      "\n",
      "brand: EVGA\n",
      "product_name: EVGA GeForce RTX 2080 Ti DirectX 12 11G-P4-2384-KR XC HYBRID GAMING, 11GB GDDR6, HYBRID & RGB LED\n",
      "shipping: Free Shipping\n",
      "\n",
      "\n",
      "\n"
     ]
    }
   ],
   "source": [
    "for container in containers:\n",
    "    brand =container.find(\"a\",class_=\"item-brand\").img[\"alt\"]\n",
    "    #lets grab other files too\n",
    "    \n",
    "    #lets grab name of the graphics card\n",
    "    #but there are many a tags \n",
    "    title_container=container.findAll(\"a\",{\"class\":\"item-title\"})\n",
    "    product_name=title_container[0].text\n",
    "    \n",
    "    #lets get the shipping tag\n",
    "    shipping_container=container.findAll(\"li\",{\"class\":\"price-ship\"})\n",
    "    shipping=shipping_container[0].text.strip()\n",
    "    \n",
    "\n",
    "\n",
    "        #comma separeated ho so , lai replace garna paryo \n",
    "    f.write(brand+\",\"+product_name.replace(\",\",\"|\")+\",\"+shipping+\"\\n\")\n",
    "    \n",
    "    \n",
    "    print(\"brand:\",brand)\n",
    "    print(\"product_name:\",product_name)\n",
    "    print(\"shipping:\",shipping)\n",
    "    print(\"\\n\"*2)\n",
    "    \n",
    "    \n",
    "    \n",
    "    \n",
    "    "
   ]
  },
  {
   "cell_type": "code",
   "execution_count": 25,
   "metadata": {},
   "outputs": [
    {
     "data": {
      "text/plain": [
       "'EVGA GeForce RTX 2080 Ti DirectX 12 11G-P4-2384-KR 11GB 352-Bit GDDR6 PCI Express 3.0 HDCP Ready XC HYBRID GAMING, 11GB GDDR6, HYBRID & RGB LED'"
      ]
     },
     "execution_count": 25,
     "metadata": {},
     "output_type": "execute_result"
    }
   ],
   "source": [
    "brand"
   ]
  },
  {
   "cell_type": "code",
   "execution_count": 26,
   "metadata": {},
   "outputs": [
    {
     "data": {
      "text/plain": [
       "'EVGA GeForce RTX 2080 Ti DirectX 12 11G-P4-2384-KR XC HYBRID GAMING, 11GB GDDR6, HYBRID & RGB LED'"
      ]
     },
     "execution_count": 26,
     "metadata": {},
     "output_type": "execute_result"
    }
   ],
   "source": [
    "product_name"
   ]
  },
  {
   "cell_type": "code",
   "execution_count": 27,
   "metadata": {},
   "outputs": [
    {
     "data": {
      "text/plain": [
       "'Free Shipping'"
      ]
     },
     "execution_count": 27,
     "metadata": {},
     "output_type": "execute_result"
    }
   ],
   "source": [
    "shipping"
   ]
  },
  {
   "cell_type": "code",
   "execution_count": 28,
   "metadata": {},
   "outputs": [],
   "source": [
    "#now lets create a csv file"
   ]
  },
  {
   "cell_type": "code",
   "execution_count": 65,
   "metadata": {},
   "outputs": [],
   "source": [
    "# filename=\"products.csv\"\n",
    "# with open(filename,\"w\") as f:\n",
    "#     header=\"brand, product_name, shipping\\n\"\n",
    "#     f.write(header)\n",
    "#     #comma separeated ho so , lai replace garna paryo \n",
    "#     f.write(brand+\",\"+product_name.replace(\",\",\"|\"+\",\"+shipping+ \"\\n\")"
   ]
  },
  {
   "cell_type": "code",
   "execution_count": 66,
   "metadata": {},
   "outputs": [],
   "source": [
    "f.close()"
   ]
  },
  {
   "cell_type": "code",
   "execution_count": 1,
   "metadata": {},
   "outputs": [],
   "source": [
    "import requests\n",
    "url = \"http://kalimatimarket.gov.np/priceinfo/dlypricebulletin\"\n",
    "obj = {\"cdate\": \"01/01/2020\",'pricetype': \"Wholesale\"}\n",
    "x = requests.post(url,data=obj)\n"
   ]
  },
  {
   "cell_type": "code",
   "execution_count": 3,
   "metadata": {},
   "outputs": [
    {
     "name": "stdout",
     "output_type": "stream",
     "text": [
      "<center><table border='1'> <tr><td align='center'><table ><tr><td colspan='5' align='center'><b> दैनिक खुद्रा मूल्य विवरण</b></td></tr><tr><td colspan='5' align='center'>&#2346;&#2380;&#2359; &nbsp;&#2407;&#2412;, &#2408;&#2406;&#2413;&#2412;</span></tr><tr class='trc'><td> कृषि उपज</td><td>ईकाइ</td><td>न्यूनतम</td><td>अधिकतम</td><td>औसत</td></tr></table></td></tr></table></center>\r\n",
      "\r\n",
      "\r\n",
      "\n"
     ]
    }
   ],
   "source": [
    "print(x.text)"
   ]
  },
  {
   "cell_type": "code",
   "execution_count": null,
   "metadata": {},
   "outputs": [],
   "source": []
  }
 ],
 "metadata": {
  "kernelspec": {
   "display_name": "Python 3",
   "language": "python",
   "name": "python3"
  },
  "language_info": {
   "codemirror_mode": {
    "name": "ipython",
    "version": 3
   },
   "file_extension": ".py",
   "mimetype": "text/x-python",
   "name": "python",
   "nbconvert_exporter": "python",
   "pygments_lexer": "ipython3",
   "version": "3.7.4"
  }
 },
 "nbformat": 4,
 "nbformat_minor": 2
}
