{
 "cells": [
  {
   "cell_type": "code",
   "execution_count": 4,
   "metadata": {},
   "outputs": [
    {
     "name": "stdout",
     "output_type": "stream",
     "text": [
      "Collecting word2number\n",
      "  Downloading word2number-1.1.zip (9.7 kB)\n",
      "Building wheels for collected packages: word2number\n",
      "  Building wheel for word2number (setup.py): started\n",
      "  Building wheel for word2number (setup.py): finished with status 'done'\n",
      "  Created wheel for word2number: filename=word2number-1.1-py3-none-any.whl size=5591 sha256=358a215e8e08c6299fd3f8473eeb3f1698a1951e45e0dcb4258fd10004a73706\n",
      "  Stored in directory: c:\\users\\administrator\\appdata\\local\\pip\\cache\\wheels\\4b\\c3\\77\\a5f48aeb0d3efb7cd5ad61cbd3da30bbf9ffc9662b07c9f879\n",
      "Successfully built word2number\n",
      "Installing collected packages: word2number\n",
      "Successfully installed word2number-1.1\n",
      "Note: you may need to restart the kernel to use updated packages.\n"
     ]
    }
   ],
   "source": [
    "pip install word2number"
   ]
  },
  {
   "cell_type": "markdown",
   "metadata": {},
   "source": [
    "pip install selenium pandas"
   ]
  },
  {
   "cell_type": "code",
   "execution_count": null,
   "metadata": {},
   "outputs": [],
   "source": [
    "from selenium.webdriver import Chrome\n",
    "import pandas as pd\n",
    "\n",
    "webdriver =r\"C:\\Users\\Administrator\\Desktop\\EXTRA\\chromedriver\"\n",
    "\n",
    "driver = Chrome(webdriver)"
   ]
  },
  {
   "cell_type": "code",
   "execution_count": null,
   "metadata": {},
   "outputs": [],
   "source": [
    "driver.get(\"http://www.google.com\")\n"
   ]
  },
  {
   "cell_type": "code",
   "execution_count": null,
   "metadata": {},
   "outputs": [],
   "source": [
    "element = driver.find_element_by_xpath('//*[@id=\"tsf\"]/div[2]/div[1]/div[1]/div/div[2]/input')"
   ]
  },
  {
   "cell_type": "code",
   "execution_count": null,
   "metadata": {},
   "outputs": [],
   "source": [
    "element.send_keys(\"some text\")"
   ]
  },
  {
   "cell_type": "code",
   "execution_count": null,
   "metadata": {},
   "outputs": [],
   "source": [
    "from selenium.webdriver.common.keys import Keys"
   ]
  },
  {
   "cell_type": "code",
   "execution_count": null,
   "metadata": {},
   "outputs": [],
   "source": [
    "element.send_keys(\" and some\", Keys.ARROW_DOWN)"
   ]
  },
  {
   "cell_type": "markdown",
   "metadata": {},
   "source": [
    "## lets click botton"
   ]
  },
  {
   "cell_type": "code",
   "execution_count": null,
   "metadata": {},
   "outputs": [],
   "source": [
    "elementClick=driver.find_element_by_xpath('//*[@id=\"tsf\"]/div[2]/div[1]/div[3]/center/input[1]')"
   ]
  },
  {
   "cell_type": "code",
   "execution_count": null,
   "metadata": {},
   "outputs": [],
   "source": [
    "elementClick.click()"
   ]
  },
  {
   "cell_type": "code",
   "execution_count": null,
   "metadata": {},
   "outputs": [],
   "source": []
  },
  {
   "cell_type": "code",
   "execution_count": null,
   "metadata": {},
   "outputs": [],
   "source": []
  },
  {
   "cell_type": "code",
   "execution_count": null,
   "metadata": {},
   "outputs": [],
   "source": []
  },
  {
   "cell_type": "code",
   "execution_count": null,
   "metadata": {},
   "outputs": [],
   "source": []
  },
  {
   "cell_type": "code",
   "execution_count": null,
   "metadata": {},
   "outputs": [],
   "source": []
  },
  {
   "cell_type": "markdown",
   "metadata": {},
   "source": [
    "# FOR MAIN PROJECT "
   ]
  },
  {
   "cell_type": "code",
   "execution_count": 87,
   "metadata": {},
   "outputs": [
    {
     "name": "stdout",
     "output_type": "stream",
     "text": [
      "ITEM:गोलभेडा ठूलो(नेपाली)\t Weight=के.जी.\t MinPrice=४०\t MaxPrice=४५\t AvgPrice=४२\n",
      "\n",
      "\n",
      "ITEM:अालु रातो\t Weight=के.जी.\t MinPrice=३०\t MaxPrice=३३\t AvgPrice=३२\n",
      "\n",
      "\n",
      "ITEM:प्याज सुकेको भारतीय\t Weight=के.जी.\t MinPrice=७५\t MaxPrice=७८\t AvgPrice=७६\n",
      "\n",
      "\n",
      "ITEM:बन्दा(लोकल)\t Weight=के.जी.\t MinPrice=२५\t MaxPrice=२८\t AvgPrice=२६\n",
      "\n",
      "\n",
      "ITEM:काउली तरार्इ\t Weight=के.जी.\t MinPrice=१८\t MaxPrice=२०\t AvgPrice=१९\n",
      "\n",
      "\n",
      "ITEM:मूला सेतो(लोकल)\t Weight=के.जी.\t MinPrice=२५\t MaxPrice=३०\t AvgPrice=२८\n",
      "\n",
      "\n",
      "ITEM:भन्टा डल्लो\t Weight=के.जी.\t MinPrice=२५\t MaxPrice=३०\t AvgPrice=२८\n",
      "\n",
      "\n",
      "ITEM:मटरकोशा\t Weight=के.जी.\t MinPrice=७०\t MaxPrice=७५\t AvgPrice=७२\n",
      "\n",
      "\n",
      "ITEM:टाटे सिमी\t Weight=के.जी.\t MinPrice=३५\t MaxPrice=४०\t AvgPrice=३८\n",
      "\n",
      "\n",
      "ITEM:लौका\t Weight=के.जी.\t MinPrice=३५\t MaxPrice=४०\t AvgPrice=३८\n",
      "\n",
      "\n",
      "ITEM:फर्सी हरियो(लाम्चो)\t Weight=के.जी.\t MinPrice=३०\t MaxPrice=३५\t AvgPrice=३३\n",
      "\n",
      "\n",
      "ITEM:बरेला\t Weight=के.जी.\t MinPrice=४०\t MaxPrice=४५\t AvgPrice=४२\n",
      "\n",
      "\n",
      "ITEM:रायो साग\t Weight=के.जी.\t MinPrice=३५\t MaxPrice=४०\t AvgPrice=३८\n",
      "\n",
      "\n",
      "ITEM:चमसूरको साग\t Weight=के.जी.\t MinPrice=५०\t MaxPrice=५५\t AvgPrice=५३\n",
      "\n",
      "\n",
      "ITEM:प्याज हरियो\t Weight=के.जी.\t MinPrice=७०\t MaxPrice=८०\t AvgPrice=७५\n",
      "\n",
      "\n",
      "ITEM:तरुल\t Weight=के.जी.\t MinPrice=३५\t MaxPrice=४०\t AvgPrice=३८\n",
      "\n",
      "\n",
      "ITEM:ब्रोकाउली\t Weight=के.जी.\t MinPrice=३५\t MaxPrice=४०\t AvgPrice=३८\n",
      "\n",
      "\n",
      "ITEM:जिरीको साग\t Weight=के.जी.\t MinPrice=१००\t MaxPrice=११०\t AvgPrice=१०५\n",
      "\n",
      "\n",
      "ITEM:सेलरी\t Weight=के.जी.\t MinPrice=१००\t MaxPrice=११०\t AvgPrice=१०५\n",
      "\n",
      "\n",
      "ITEM:सौफको साग\t Weight=के.जी.\t MinPrice=५०\t MaxPrice=५५\t AvgPrice=५३\n",
      "\n",
      "\n",
      "ITEM:गान्टे मूला\t Weight=के.जी.\t MinPrice=४०\t MaxPrice=४५\t AvgPrice=४३\n",
      "\n",
      "\n",
      "ITEM:तामा\t Weight=के.जी.\t MinPrice=१२०\t MaxPrice=१३०\t AvgPrice=१२५\n",
      "\n",
      "\n",
      "ITEM:गुन्दुक\t Weight=के.जी.\t MinPrice=१५०\t MaxPrice=१६०\t AvgPrice=१५५\n",
      "\n",
      "\n",
      "ITEM:केरा\t Weight=दर्जन\t MinPrice=४०\t MaxPrice=४५\t AvgPrice=४३\n",
      "\n",
      "\n",
      "ITEM:अनार\t Weight=के.जी.\t MinPrice=१५०\t MaxPrice=१६०\t AvgPrice=१५५\n",
      "\n",
      "\n",
      "ITEM:तरबुजा(हरियो)\t Weight=के.जी.\t MinPrice=४०\t MaxPrice=४५\t AvgPrice=४३\n",
      "\n",
      "\n",
      "ITEM:भुर्इ कटहर\t Weight=प्रति गोटा\t MinPrice=९०\t MaxPrice=१००\t AvgPrice=९५\n",
      "\n",
      "\n",
      "ITEM:निबुवा\t Weight=के.जी.\t MinPrice=३५\t MaxPrice=४०\t AvgPrice=३८\n",
      "\n",
      "\n",
      "ITEM:मेवा(नेपाली)\t Weight=के.जी.\t MinPrice=७०\t MaxPrice=८०\t AvgPrice=७५\n",
      "\n",
      "\n",
      "ITEM:अदुवा\t Weight=के.जी.\t MinPrice=४०\t MaxPrice=४५\t AvgPrice=४२\n",
      "\n",
      "\n",
      "ITEM:खु्र्सानी हरियो\t Weight=के.जी.\t MinPrice=५५\t MaxPrice=६०\t AvgPrice=५८\n",
      "\n",
      "\n",
      "ITEM:लसुन हरियो\t Weight=के.जी.\t MinPrice=९०\t MaxPrice=१००\t AvgPrice=९५\n",
      "\n",
      "\n",
      "ITEM:लसुन सुकेको चाइनिज\t Weight=के.जी.\t MinPrice=१५०\t MaxPrice=१६०\t AvgPrice=१५५\n",
      "\n",
      "\n",
      "ITEM:माछा ताजा\t Weight=के.जी.\t MinPrice=२४०\t MaxPrice=२५०\t AvgPrice=२४५\n",
      "\n",
      "\n"
     ]
    }
   ],
   "source": [
    "from selenium.webdriver import Chrome\n",
    "import pandas as pd\n",
    "from bs4 import BeautifulSoup\n",
    "import time\n",
    "\n",
    "webdriver =r\"C:\\Users\\Administrator\\Desktop\\EXTRA\\chromedriver\"\n",
    "\n",
    "driver = Chrome(webdriver)\n",
    "\n",
    "driver.get(\"http://kalimatimarket.gov.np/daily-price-information\")\n",
    "\n",
    "\n",
    "dateTime=driver.find_element_by_xpath('//*[@id=\"datepicker\"]')\n",
    "\n",
    "# dateTime.submit()\n",
    "\n",
    "dateTime.send_keys(\"01/02/2018\")\n",
    "\n",
    "driver.find_element_by_name(\"view\").click()\n",
    "\n",
    "# <input type=\"button\" value=\"हेर्नुहोस्\" name=\"view\" onclick=\"dlypriceview()\">\n",
    "\n",
    "\n",
    "time.sleep(5)\n",
    "sauce=driver.page_source\n",
    "\n",
    "\n",
    "\n",
    "soup=BeautifulSoup(sauce,\"html.parser\")\n",
    "\n",
    "# soup\n",
    "\n",
    "x=soup.findAll(\"table\")\n",
    "\n",
    "# x[3].text\n",
    "\n",
    "# # import pandas as pd\n",
    "# x[3].findAll(\"tr\",class_=\"row1\")[0].findAll(\"td\")[2:]\n",
    "\n",
    "# f=open(\"products.csv\",\"w\")\n",
    "\n",
    "# f.write(\"Item,Weight,MinimumPrice,MaximumPrice,AveragePrice\\n\")\n",
    "\n",
    "\n",
    "# f.close()\n",
    "\n",
    "for i in x[3].findAll(\"tr\",class_=\"row1\"):\n",
    "    g=i.findAll(\"td\")\n",
    "    print(f\"ITEM:{g[0].text}\\t Weight={g[1].text}\\t MinPrice={g[2].text}\\t MaxPrice={g[3].text}\\t AvgPrice={g[4].text}\")\n",
    "#     print(i.findAll(\"td\")[2])\n",
    "#     for j in i.findAll(\"td\") :\n",
    "#         print(g+1)\n",
    "#         print(\"ITEM:\",j.text)\n",
    "# #         f.write(j.text,end=\",\")\n",
    "#     break\n",
    "    \n",
    "    print(\"\\n\")\n",
    "    \n",
    "    "
   ]
  },
  {
   "cell_type": "code",
   "execution_count": null,
   "metadata": {},
   "outputs": [],
   "source": [
    "dfs = pd.DataFrame(sauce,header=0)"
   ]
  },
  {
   "cell_type": "code",
   "execution_count": null,
   "metadata": {},
   "outputs": [],
   "source": [
    "dfs"
   ]
  },
  {
   "cell_type": "code",
   "execution_count": null,
   "metadata": {},
   "outputs": [],
   "source": [
    "import pandas as pd\n",
    "\n",
    "# dfs=pd.read_html(sauce,header=1)\n",
    "\n",
    "# dfs\n",
    "\n",
    "# for df in dfs:\n",
    "#     print(df)"
   ]
  },
  {
   "cell_type": "code",
   "execution_count": null,
   "metadata": {},
   "outputs": [],
   "source": []
  },
  {
   "cell_type": "code",
   "execution_count": 55,
   "metadata": {},
   "outputs": [
    {
     "name": "stdout",
     "output_type": "stream",
     "text": [
      "<center><table border='1'> <tr><td align='center'><table ><tr><td colspan='5' align='center'><b> दैनिक खुद्रा मूल्य विवरण</b></td></tr><tr><td colspan='5' align='center'>&#2346;&#2380;&#2359; &nbsp;&#2407;&#2413;, &#2408;&#2406;&#2413;&#2411;</span></tr><tr class='trc'><td> कृषि उपज</td><td>ईकाइ</td><td>न्यूनतम</td><td>अधिकतम</td><td>औसत</td></tr></table></td></tr></table></center>\r\n",
      "\r\n",
      "\r\n",
      "\n"
     ]
    }
   ],
   "source": [
    "import requests\n",
    "url = \"http://kalimatimarket.gov.np/priceinfo/dlypricebulletin\"\n",
    "obj = {\"cdate\": \"01/01/2019\",'pricetype': \"Wholesale\"}\n",
    "x = requests.post(url,data=obj)\n",
    "print(x.text)"
   ]
  },
  {
   "cell_type": "code",
   "execution_count": 90,
   "metadata": {},
   "outputs": [
    {
     "ename": "TypeError",
     "evalue": "execute_script() missing 1 required positional argument: 'script'",
     "output_type": "error",
     "traceback": [
      "\u001b[1;31m---------------------------------------------------------------------------\u001b[0m",
      "\u001b[1;31mTypeError\u001b[0m                                 Traceback (most recent call last)",
      "\u001b[1;32m<ipython-input-90-33520fb01303>\u001b[0m in \u001b[0;36m<module>\u001b[1;34m\u001b[0m\n\u001b[1;32m----> 1\u001b[1;33m \u001b[0mChrome\u001b[0m\u001b[1;33m.\u001b[0m\u001b[0mexecute_script\u001b[0m\u001b[1;33m(\u001b[0m\u001b[1;34m'dlypriceview()'\u001b[0m\u001b[1;33m)\u001b[0m\u001b[1;33m\u001b[0m\u001b[1;33m\u001b[0m\u001b[0m\n\u001b[0m",
      "\u001b[1;31mTypeError\u001b[0m: execute_script() missing 1 required positional argument: 'script'"
     ]
    }
   ],
   "source": [
    "Chrome.execute_script('dlypriceview()')"
   ]
  },
  {
   "cell_type": "code",
   "execution_count": null,
   "metadata": {},
   "outputs": [],
   "source": []
  }
 ],
 "metadata": {
  "kernelspec": {
   "display_name": "Python 3",
   "language": "python",
   "name": "python3"
  },
  "language_info": {
   "codemirror_mode": {
    "name": "ipython",
    "version": 3
   },
   "file_extension": ".py",
   "mimetype": "text/x-python",
   "name": "python",
   "nbconvert_exporter": "python",
   "pygments_lexer": "ipython3",
   "version": "3.7.4"
  }
 },
 "nbformat": 4,
 "nbformat_minor": 2
}
