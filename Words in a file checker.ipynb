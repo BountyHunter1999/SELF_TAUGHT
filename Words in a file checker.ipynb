{
 "cells": [
  {
   "cell_type": "code",
   "execution_count": 59,
   "metadata": {},
   "outputs": [],
   "source": [
    "s=set()"
   ]
  },
  {
   "cell_type": "code",
   "execution_count": 60,
   "metadata": {},
   "outputs": [],
   "source": [
    "def check(word):\n",
    "    if word.lower() in s:\n",
    "        return True\n",
    "    else:\n",
    "        return False\n",
    "    "
   ]
  },
  {
   "cell_type": "code",
   "execution_count": 90,
   "metadata": {},
   "outputs": [],
   "source": [
    "def load(dictionary):\n",
    "    with open(dictionary,\"r\") as f:\n",
    "        for line in f:#iterate over every word in the file\n",
    "            #every word in the file ends with a new line\n",
    "            for l in line.split():\n",
    "#                 print(l.rstrip(\"\\n\"))\n",
    "                s.add(l)#remove  \\n from end of the every line \n",
    "         \n",
    "        return True\n"
   ]
  },
  {
   "cell_type": "code",
   "execution_count": 91,
   "metadata": {},
   "outputs": [
    {
     "data": {
      "text/plain": [
       "True"
      ]
     },
     "execution_count": 91,
     "metadata": {},
     "output_type": "execute_result"
    }
   ],
   "source": [
    "load(\"done.txt\")"
   ]
  },
  {
   "cell_type": "code",
   "execution_count": 92,
   "metadata": {},
   "outputs": [
    {
     "data": {
      "text/plain": [
       "{'',\n",
       " '\\n',\n",
       " ' ',\n",
       " 'T',\n",
       " 'This',\n",
       " 'a',\n",
       " 'all',\n",
       " 'and',\n",
       " 'are',\n",
       " 'b',\n",
       " 'be',\n",
       " 'c',\n",
       " 'can',\n",
       " 'ccan',\n",
       " 'd',\n",
       " 'demo',\n",
       " 'done',\n",
       " 'e',\n",
       " 'f',\n",
       " 'file',\n",
       " 'g',\n",
       " 'get',\n",
       " 'h',\n",
       " 'how',\n",
       " 'i',\n",
       " 'in',\n",
       " 'included',\n",
       " 'into',\n",
       " 'is',\n",
       " 'it',\n",
       " 'k',\n",
       " 'l',\n",
       " 'm',\n",
       " 'make',\n",
       " 'n',\n",
       " 'o',\n",
       " 'of',\n",
       " 'ok',\n",
       " 'open',\n",
       " 'p',\n",
       " 'problem',\n",
       " 'r',\n",
       " 'rstrip',\n",
       " 's',\n",
       " 'see',\n",
       " 'set',\n",
       " 'string',\n",
       " 't',\n",
       " 'the',\n",
       " 'there',\n",
       " 'to',\n",
       " 'u',\n",
       " 'used',\n",
       " 'w',\n",
       " 'we',\n",
       " 'what',\n",
       " 'words'}"
      ]
     },
     "execution_count": 92,
     "metadata": {},
     "output_type": "execute_result"
    }
   ],
   "source": [
    "s"
   ]
  },
  {
   "cell_type": "code",
   "execution_count": 87,
   "metadata": {},
   "outputs": [],
   "source": [
    "def size():\n",
    "    return len(s)"
   ]
  },
  {
   "cell_type": "code",
   "execution_count": 88,
   "metadata": {},
   "outputs": [
    {
     "data": {
      "text/plain": [
       "57"
      ]
     },
     "execution_count": 88,
     "metadata": {},
     "output_type": "execute_result"
    }
   ],
   "source": [
    "size()"
   ]
  },
  {
   "cell_type": "code",
   "execution_count": 79,
   "metadata": {},
   "outputs": [],
   "source": [
    "def unload():#freeing all of the memory is done for u by python\n",
    "    return True"
   ]
  },
  {
   "cell_type": "code",
   "execution_count": 86,
   "metadata": {},
   "outputs": [
    {
     "data": {
      "text/plain": [
       "True"
      ]
     },
     "execution_count": 86,
     "metadata": {},
     "output_type": "execute_result"
    }
   ],
   "source": [
    "load(\"done.txt\")"
   ]
  },
  {
   "cell_type": "code",
   "execution_count": 89,
   "metadata": {},
   "outputs": [
    {
     "data": {
      "text/plain": [
       "True"
      ]
     },
     "execution_count": 89,
     "metadata": {},
     "output_type": "execute_result"
    }
   ],
   "source": [
    "check(\"ok\")"
   ]
  },
  {
   "cell_type": "code",
   "execution_count": 44,
   "metadata": {},
   "outputs": [
    {
     "name": "stdout",
     "output_type": "stream",
     "text": [
      "File not exist\n"
     ]
    }
   ],
   "source": [
    "import os\n",
    "\n",
    "if os.path.isfile('dict.txt'):\n",
    "    print (\"File exist\")\n",
    "else:\n",
    "    print (\"File not exist\")\n",
    "cwd = os.getcwd()    #get current working directory\n",
    "files = os.listdir(cwd)    #shows files in that directory "
   ]
  },
  {
   "cell_type": "code",
   "execution_count": 45,
   "metadata": {},
   "outputs": [
    {
     "name": "stdout",
     "output_type": "stream",
     "text": [
      "['.ipynb_checkpoints', 'done.txt', 'out.bmp', 'Python.ipynb', 'Untitled.ipynb']\n"
     ]
    }
   ],
   "source": [
    "print(files)"
   ]
  },
  {
   "cell_type": "code",
   "execution_count": null,
   "metadata": {},
   "outputs": [],
   "source": []
  }
 ],
 "metadata": {
  "kernelspec": {
   "display_name": "Python 3",
   "language": "python",
   "name": "python3"
  },
  "language_info": {
   "codemirror_mode": {
    "name": "ipython",
    "version": 3
   },
   "file_extension": ".py",
   "mimetype": "text/x-python",
   "name": "python",
   "nbconvert_exporter": "python",
   "pygments_lexer": "ipython3",
   "version": "3.7.4"
  }
 },
 "nbformat": 4,
 "nbformat_minor": 2
}
