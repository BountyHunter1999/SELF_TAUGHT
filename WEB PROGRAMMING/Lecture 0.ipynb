{
 "cells": [
  {
   "cell_type": "markdown",
   "metadata": {},
   "source": [
    "# INSTALL GIT"
   ]
  },
  {
   "cell_type": "markdown",
   "metadata": {},
   "source": [
    "conda install -c anaconda git"
   ]
  },
  {
   "cell_type": "markdown",
   "metadata": {},
   "source": [
    "# UPDATE CONDA"
   ]
  },
  {
   "cell_type": "markdown",
   "metadata": {},
   "source": [
    "conda update -n base -c defaults conda\n"
   ]
  },
  {
   "cell_type": "markdown",
   "metadata": {},
   "source": [
    "# git clone"
   ]
  },
  {
   "cell_type": "markdown",
   "metadata": {},
   "source": [
    "git clone https://github.com/BountyHunter1999/SELF_TAUGHT.git"
   ]
  },
  {
   "cell_type": "markdown",
   "metadata": {},
   "source": [
    "git clone {ssh link}\n",
    "cd folder name\n",
    "subl {htmlName}"
   ]
  },
  {
   "cell_type": "markdown",
   "metadata": {},
   "source": [
    "# git add "
   ]
  },
  {
   "cell_type": "markdown",
   "metadata": {},
   "source": [
    "#these are files we want to save next time we commit\n",
    "git add hello.html\n",
    "\n"
   ]
  },
  {
   "cell_type": "markdown",
   "metadata": {},
   "source": [
    "## git config --global user.email \"adhikari.shrish1@gmail.com\""
   ]
  },
  {
   "cell_type": "markdown",
   "metadata": {},
   "source": [
    "# git commit"
   ]
  },
  {
   "cell_type": "code",
   "execution_count": 11,
   "metadata": {},
   "outputs": [],
   "source": [
    "##git commit -m \"message\"\n",
    "##-m means meassage \n",
    "## \"some english meesage what makes it differ from previous\""
   ]
  },
  {
   "cell_type": "markdown",
   "metadata": {},
   "source": [
    "# git status "
   ]
  },
  {
   "cell_type": "code",
   "execution_count": 12,
   "metadata": {},
   "outputs": [],
   "source": [
    "#what currently going on in the repository\n"
   ]
  },
  {
   "cell_type": "markdown",
   "metadata": {},
   "source": [
    "# git push"
   ]
  },
  {
   "cell_type": "code",
   "execution_count": 13,
   "metadata": {},
   "outputs": [],
   "source": [
    "#we made changes locally\n",
    "# send those changes to github\n",
    "# push our code from local computer to the repository stored somewhere in the internet\n"
   ]
  },
  {
   "cell_type": "markdown",
   "metadata": {},
   "source": [
    "# git pull"
   ]
  },
  {
   "cell_type": "code",
   "execution_count": 15,
   "metadata": {},
   "outputs": [],
   "source": [
    "#reverse of push \n",
    "#we want to download the latest version of the repository\n",
    "#hami sanga vako chai update hunxa aba"
   ]
  },
  {
   "cell_type": "markdown",
   "metadata": {},
   "source": [
    "# MERGE CONFLICT\n",
    "### mero repository online bata change vayo ani maila locally ni change gara \n",
    "#### maila change gara ani  add and commit gara\n",
    "#### online ni change vayo\n",
    "#### aba pull garda auxa \n",
    "## GIT DOESNT KNOW WHICH CHANGE I WANT\n"
   ]
  },
  {
   "cell_type": "code",
   "execution_count": 17,
   "metadata": {},
   "outputs": [
    {
     "data": {
      "text/plain": [
       "'    HELLO,WORLD!\\n    \\n<<<<<<< HEAD\\n    LOCALLY #yo hamro change locally\\n=======\\n    Yo #remote changes \\n>>>>>>> 3e4e0bd95bc382f094e5cb259f84075f031cf566 #conflicting commit\\n    HELLO AGAIN '"
      ]
     },
     "execution_count": 17,
     "metadata": {},
     "output_type": "execute_result"
    }
   ],
   "source": [
    "\"\"\"    HELLO,WORLD!\n",
    "    \n",
    "<<<<<<< HEAD\n",
    "    LOCALLY #yo hamro change locally\n",
    "=======\n",
    "    Yo #remote changes \n",
    ">>>>>>> 3e4e0bd95bc382f094e5cb259f84075f031cf566 #conflicting commit\n",
    "    HELLO AGAIN \"\"\"\n",
    "#remove << == >> and unnecessary  update"
   ]
  },
  {
   "cell_type": "code",
   "execution_count": 19,
   "metadata": {},
   "outputs": [],
   "source": [
    "#now add and commit the changes"
   ]
  },
  {
   "cell_type": "markdown",
   "metadata": {},
   "source": [
    "# Git log "
   ]
  },
  {
   "cell_type": "code",
   "execution_count": 21,
   "metadata": {},
   "outputs": [],
   "source": [
    "# list of all the commits ,who made the commit ,when it was made \n",
    "# and the message we provided\n",
    "# q to exit from log"
   ]
  },
  {
   "cell_type": "markdown",
   "metadata": {},
   "source": [
    "# git reset "
   ]
  },
  {
   "cell_type": "code",
   "execution_count": 22,
   "metadata": {},
   "outputs": [
    {
     "ename": "SyntaxError",
     "evalue": "invalid syntax (<ipython-input-22-40ac32fbcc2e>, line 2)",
     "output_type": "error",
     "traceback": [
      "\u001b[1;36m  File \u001b[1;32m\"<ipython-input-22-40ac32fbcc2e>\"\u001b[1;36m, line \u001b[1;32m2\u001b[0m\n\u001b[1;33m    - git reset --hard <commitHash>\u001b[0m\n\u001b[1;37m              ^\u001b[0m\n\u001b[1;31mSyntaxError\u001b[0m\u001b[1;31m:\u001b[0m invalid syntax\n"
     ]
    }
   ],
   "source": [
    "# # if we want to go back to the things were before \n",
    "# - git reset --hard <commitHash>\n",
    "# - git reset --hard origin/master#version of repository that was the origin "
   ]
  },
  {
   "cell_type": "markdown",
   "metadata": {},
   "source": [
    "# git reflog "
   ]
  },
  {
   "cell_type": "code",
   "execution_count": 24,
   "metadata": {},
   "outputs": [],
   "source": [
    "# log of all the references the git has kept track of\n"
   ]
  },
  {
   "cell_type": "code",
   "execution_count": null,
   "metadata": {},
   "outputs": [],
   "source": []
  }
 ],
 "metadata": {
  "kernelspec": {
   "display_name": "Python 3",
   "language": "python",
   "name": "python3"
  },
  "language_info": {
   "codemirror_mode": {
    "name": "ipython",
    "version": 3
   },
   "file_extension": ".py",
   "mimetype": "text/x-python",
   "name": "python",
   "nbconvert_exporter": "python",
   "pygments_lexer": "ipython3",
   "version": "3.7.4"
  }
 },
 "nbformat": 4,
 "nbformat_minor": 2
}
